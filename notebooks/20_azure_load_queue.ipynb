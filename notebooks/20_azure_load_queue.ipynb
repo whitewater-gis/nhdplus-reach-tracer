{
 "cells": [
  {
   "cell_type": "code",
   "execution_count": 2,
   "metadata": {},
   "outputs": [],
   "source": [
    "from arcgis.gis import GIS\n",
    "from azure.storage.queue import QueueService\n",
    "import json\n",
    "import logging\n",
    "from base64 import b64encode\n",
    "\n",
    "import sys\n",
    "sys.path.append('../src')\n",
    "sys.path.append('../')\n",
    "\n",
    "from reach_tools import ReachFeatureLayer\n",
    "import config\n",
    "\n",
    "# set up logger\n",
    "logger = logging.getLogger('azure')\n",
    "logger.setLevel('INFO')\n",
    "\n",
    "# create the connection to the GIS to get access\n",
    "gis = GIS(username=config.arcgis_username, password=config.arcgis_password)\n",
    "logger.info(f'Connected to GIS at {gis.url}')\n",
    "\n",
    "# create a layer instance to query and get all existing features\n",
    "lyr_centroid = ReachFeatureLayer(config.url_reach_centroid, gis)\n",
    "logger.info(f'Successfully created {lyr_centroid.properties.name} layer.')\n",
    "\n",
    "# creat a connection to the Azure Queue\n",
    "queue = QueueService(connection_string=config.azure_queue_conn_str)\n",
    "logger.info(f'Successfully connected to the {config.azure_queue_update_name} Queue')\n",
    "\n",
    "# query the feature service to get all existing features - notably the reach ids\n",
    "reach_id_fs = lyr_centroid.query(out_fields='reach_id', return_geometry=False)\n",
    "logger.info(f'Retrieved {len(reach_id_fs.features)} from the {lyr_centroid.properties.name} layer.')\n",
    "\n",
    "# iterate the features and load up the queue with each respective feature\n",
    "for idx, feature in enumerate(reach_id_fs.features):\n",
    "    \n",
    "    # convert the feature json to a string\n",
    "    feature_str = json.dumps(feature.as_dict)\n",
    "    feature_b64 = b64encode(feature_str.encode('utf-8'))\n",
    "    \n",
    "    # push the feature to the queue\n",
    "    queue.put_message(config.azure_queue_update_name, feature_b64.decode('utf-8'))\n",
    "             \n",
    "logger.info(f'Successfully loaded {idx+1} features into the {config.azure_queue_update_name} Queue.')"
   ]
  },
  {
   "cell_type": "code",
   "execution_count": null,
   "metadata": {},
   "outputs": [],
   "source": []
  }
 ],
 "metadata": {
  "kernelspec": {
   "display_name": "Python 3",
   "language": "python",
   "name": "python3"
  },
  "language_info": {
   "codemirror_mode": {
    "name": "ipython",
    "version": 3
   },
   "file_extension": ".py",
   "mimetype": "text/x-python",
   "name": "python",
   "nbconvert_exporter": "python",
   "pygments_lexer": "ipython3",
   "version": "3.6.5"
  }
 },
 "nbformat": 4,
 "nbformat_minor": 2
}

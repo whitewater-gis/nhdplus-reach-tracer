{
 "cells": [
  {
   "cell_type": "code",
   "execution_count": 1,
   "metadata": {},
   "outputs": [],
   "source": [
    "from arcgis.gis import GIS\n",
    "from azure.storage.queue import QueueService\n",
    "import json\n",
    "\n",
    "import sys\n",
    "sys.path.append('../src')\n",
    "sys.path.append('../')\n",
    "\n",
    "from reach_tools import ReachFeatureLayer\n",
    "import config"
   ]
  },
  {
   "cell_type": "code",
   "execution_count": 2,
   "metadata": {},
   "outputs": [],
   "source": [
    "queue_conn_str = 'DefaultEndpointsProtocol=https;AccountName=whitewaterstor;AccountKey=KGSpleClj9AXohX0/uuYCe94cmwExJqfO0nUML7Ijb2eaWqcX1vRfws0+JiJQK+IpSkslWiznznXxoSrhM+yyg==;EndpointSuffix=core.windows.net'\n",
    "update_queue_name = 'reach-update-queue'"
   ]
  },
  {
   "cell_type": "code",
   "execution_count": 3,
   "metadata": {},
   "outputs": [
    {
     "name": "stdout",
     "output_type": "stream",
     "text": [
      "CPU times: user 22 s, sys: 1.73 s, total: 23.7 s\n",
      "Wall time: 1min 53s\n"
     ]
    }
   ],
   "source": [
    "%%time\n",
    "# create the connection to the GIS to get access\n",
    "gis = GIS(username=config.arcgis_username, password=config.arcgis_password)\n",
    "\n",
    "# create a layer instance to query and get all existing features\n",
    "lyr_centroid = ReachFeatureLayer(config.url_reach_centroid, gis)\n",
    "\n",
    "# creat a connection to the Azure Queue\n",
    "queue = QueueService(connection_string=queue_conn_str)\n",
    "\n",
    "# query the feature service to get all existing features - notably the reach ids\n",
    "reach_id_fs = lyr_centroid.query(out_fields='reach_id', return_geometry=False)\n",
    "\n",
    "# iterate the features and load up the queue with each respective feature\n",
    "for feature in reach_id_fs.features:\n",
    "    \n",
    "    # convert the feature json to a string\n",
    "    feature_str = json.dumps(feature.as_dict)\n",
    "    \n",
    "    # push the feature to the queue\n",
    "    queue.put_message(update_queue_name, feature_str)"
   ]
  },
  {
   "cell_type": "code",
   "execution_count": null,
   "metadata": {},
   "outputs": [],
   "source": []
  }
 ],
 "metadata": {
  "kernelspec": {
   "display_name": "Python 3",
   "language": "python",
   "name": "python3"
  },
  "language_info": {
   "codemirror_mode": {
    "name": "ipython",
    "version": 3
   },
   "file_extension": ".py",
   "mimetype": "text/x-python",
   "name": "python",
   "nbconvert_exporter": "python",
   "pygments_lexer": "ipython3",
   "version": "3.6.7"
  }
 },
 "nbformat": 4,
 "nbformat_minor": 2
}

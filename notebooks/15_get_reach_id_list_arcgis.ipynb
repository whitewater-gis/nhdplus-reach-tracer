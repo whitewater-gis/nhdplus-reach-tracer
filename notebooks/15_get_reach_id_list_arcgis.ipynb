{
 "cells": [
  {
   "cell_type": "code",
   "execution_count": 5,
   "metadata": {},
   "outputs": [
    {
     "name": "stdout",
     "output_type": "stream",
     "text": [
      "The autoreload extension is already loaded. To reload it, use:\n",
      "  %reload_ext autoreload\n"
     ]
    }
   ],
   "source": [
    "from arcgis.gis import GIS, Item\n",
    "import os\n",
    "from multiprocessing import Process, Queue\n",
    "\n",
    "from dotenv import load_dotenv, find_dotenv\n",
    "load_dotenv(find_dotenv())\n",
    "\n",
    "import sys\n",
    "sys.path.append('../src')\n",
    "sys.path.append('../')\n",
    "\n",
    "import reach_tools\n",
    "import hydrology\n",
    "import config\n",
    "\n",
    "gis = GIS(username=config.arcgis_username, password=config.arcgis_password)\n",
    "\n",
    "url_reach_line = config.url_reach_line\n",
    "url_reach_centroid = config.url_reach_centroid\n",
    "url_reach_points = config.url_reach_points\n",
    "\n",
    "lyr_reach_line = reach_tools.ReachFeatureLayer(url_reach_line, gis)\n",
    "lyr_reach_centroid = reach_tools.ReachFeatureLayer(url_reach_centroid, gis)\n",
    "lyr_reach_points = reach_tools.ReachPointFeatureLayer(url_reach_points, gis)\n",
    "\n",
    "%load_ext autoreload\n",
    "%autoreload 2"
   ]
  },
  {
   "cell_type": "code",
   "execution_count": 7,
   "metadata": {},
   "outputs": [
    {
     "data": {
      "text/plain": [
       "<FeatureSet> 5764 features"
      ]
     },
     "execution_count": 7,
     "metadata": {},
     "output_type": "execute_result"
    }
   ],
   "source": [
    "fs = lyr_reach_centroid.query(out_fields=['reach_id'], return_geometry=False)\n",
    "fs"
   ]
  },
  {
   "cell_type": "code",
   "execution_count": 24,
   "metadata": {},
   "outputs": [
    {
     "data": {
      "text/plain": [
       "['1011',\n",
       " '1012',\n",
       " '1013',\n",
       " '1014',\n",
       " '1015',\n",
       " '1016',\n",
       " '1017',\n",
       " '1018',\n",
       " '1019',\n",
       " '1020',\n",
       " '1021',\n",
       " '1022',\n",
       " '1023',\n",
       " '1024',\n",
       " '1025',\n",
       " '1026',\n",
       " '1027',\n",
       " '1028',\n",
       " '1029',\n",
       " '1030',\n",
       " '1031',\n",
       " '1032',\n",
       " '1033',\n",
       " '1034',\n",
       " '1035',\n",
       " '1036',\n",
       " '1037',\n",
       " '1038',\n",
       " '1039',\n",
       " '1040',\n",
       " '1041',\n",
       " '1042',\n",
       " '1043',\n",
       " '1044',\n",
       " '1045',\n",
       " '1046',\n",
       " '1047',\n",
       " '1048',\n",
       " '1049',\n",
       " '1050',\n",
       " '1051',\n",
       " '1052',\n",
       " '1054',\n",
       " '1055',\n",
       " '1056',\n",
       " '1057',\n",
       " '1058',\n",
       " '1059',\n",
       " '1060',\n",
       " '1061',\n",
       " '1062',\n",
       " '1063',\n",
       " '1064',\n",
       " '1065',\n",
       " '1066',\n",
       " '1067',\n",
       " '1068',\n",
       " '1069',\n",
       " '1070',\n",
       " '1071',\n",
       " '1072',\n",
       " '1073',\n",
       " '1074',\n",
       " '1075',\n",
       " '1076',\n",
       " '1077',\n",
       " '1078',\n",
       " '1079',\n",
       " '1080',\n",
       " '1081',\n",
       " '1082',\n",
       " '1083',\n",
       " '1084',\n",
       " '1085',\n",
       " '1086',\n",
       " '1087',\n",
       " '1088',\n",
       " '1089',\n",
       " '1090',\n",
       " '1091',\n",
       " '1092',\n",
       " '1093',\n",
       " '1094',\n",
       " '1095',\n",
       " '1096',\n",
       " '1097',\n",
       " '1099',\n",
       " '1100',\n",
       " '1101',\n",
       " '1102',\n",
       " '1103',\n",
       " '1104',\n",
       " '1105',\n",
       " '1106',\n",
       " '1107',\n",
       " '1108',\n",
       " '1109',\n",
       " '1110',\n",
       " '1111',\n",
       " '1112']"
      ]
     },
     "execution_count": 24,
     "metadata": {},
     "output_type": "execute_result"
    }
   ],
   "source": [
    "reach_id_lst= [f.attributes['reach_id'] for f in fs.features]\n",
    "reach_id_lst[1000:1100]"
   ]
  },
  {
   "cell_type": "code",
   "execution_count": null,
   "metadata": {},
   "outputs": [],
   "source": []
  }
 ],
 "metadata": {
  "kernelspec": {
   "display_name": "Python 3",
   "language": "python",
   "name": "python3"
  },
  "language_info": {
   "codemirror_mode": {
    "name": "ipython",
    "version": 3
   },
   "file_extension": ".py",
   "mimetype": "text/x-python",
   "name": "python",
   "nbconvert_exporter": "python",
   "pygments_lexer": "ipython3",
   "version": "3.6.8"
  }
 },
 "nbformat": 4,
 "nbformat_minor": 2
}

{
 "cells": [
  {
   "cell_type": "code",
   "execution_count": 1,
   "metadata": {},
   "outputs": [],
   "source": [
    "from arcgis.gis import GIS, Item\n",
    "import os\n",
    "from multiprocessing import Process, Queue\n",
    "\n",
    "from dotenv import load_dotenv, find_dotenv\n",
    "load_dotenv(find_dotenv())\n",
    "\n",
    "import sys\n",
    "sys.path.append('../src')\n",
    "sys.path.append('../')\n",
    "\n",
    "import reach_tools\n",
    "import hydrology\n",
    "import config\n",
    "\n",
    "gis = GIS(username=config.arcgis_username, password=config.arcgis_password)\n",
    "\n",
    "url_reach_line = config.url_reach_line\n",
    "url_reach_centroid = config.url_reach_centroid\n",
    "url_reach_points = config.url_reach_points\n",
    "\n",
    "lyr_line = reach_tools.ReachFeatureLayer(url_reach_line, gis)\n",
    "lyr_centroid = reach_tools.ReachFeatureLayer(url_reach_centroid, gis)\n",
    "lyr_points = reach_tools.ReachPointFeatureLayer(url_reach_points, gis)\n",
    "\n",
    "reach_id = 2127\n",
    "\n",
    "%load_ext autoreload\n",
    "%autoreload 2"
   ]
  },
  {
   "cell_type": "code",
   "execution_count": 2,
   "metadata": {},
   "outputs": [
    {
     "name": "stdout",
     "output_type": "stream",
     "text": [
      "[1, 2, 3, 4, 5, 6, 7, 8, 9, 10, 11, 12, 13, 14, 15, 16, 17, 18, 19, 20]\n"
     ]
    }
   ],
   "source": [
    "reach_id_fs = lyr_centroid.query(out_fields='reach_id', result_record_count=20, return_geometry=False)\n",
    "reach_id_lst = [int(feat.attributes['reach_id']) for feat in reach_id_fs.features]\n",
    "print(reach_id_lst[:20])"
   ]
  },
  {
   "cell_type": "code",
   "execution_count": 14,
   "metadata": {},
   "outputs": [
    {
     "name": "stdout",
     "output_type": "stream",
     "text": [
      "success: ('1', 'Alsek', 'Haines Junction to Dry Bay')\n",
      "success: ('2', 'Aniakchak', 'Surprise Lake to Aniakchak Bay')\n",
      "success: ('3', 'Browns Creek', 'Browns Creek Canyon')\n",
      "success: ('4', 'Canyon Creek', 'Seward Highwy at outlet of Lower Summit Lake to Seward Hwy at Hope Junction')\n",
      "success: ('5', 'Charley', 'Upper river gravel bar to Yukon River to Circle')\n",
      "success: ('6', 'Chetaslina', 'Chichokna River to Copper River')\n",
      "success: ('7', 'Chickaloon', '30 Mile Airstrip to Matanuska')\n",
      "success: ('8', 'Chilikadrotna', 'Twin Lakes (Lake Clark Nat.Park & Preserve) to points along Mulchatna River')\n",
      "success: ('9', 'Chitina', 'Tana River to Copper River')\n",
      "success: ('10', 'Chitistone', 'Glacier Creek to Nizina River')\n",
      "success: ('11', 'Chulitna', 'East Fork to Talkeetna')\n",
      "success: ('12', 'Copper (Iliamna)', 'Lower or Upper Copper Lake to Lower Pike Lake or Intricate Bay')\n",
      "success: ('13', 'Dadina', 'Bush strip to Copper River')\n",
      "success: ('14', 'Delta', '1. Denali Hwy at Tangle Lakes to MP 212.5 Richardson Hwy between Ann and Miller Creeks')\n",
      "success: ('15', 'Drop Creek', 'Upper gravel bar to Copper River')\n",
      "success: ('16', 'Eagle', '1. Echo Bend to Rapids Camp')\n",
      "success: ('17', 'Eagle', '2. Upper')\n",
      "success: ('18', 'Fortymile', 'Taylor Hwy Fortymile Bridge to Yukon River (Eagle)')\n",
      "success: ('19', 'Gilahina', 'McCarthy Road (mi. 28) to Chitina River')\n",
      "success: ('20', 'Gulkana', '1. Summit Lake to Paxson Lake')\n",
      "success: ('21', 'Jacksina', 'Upper river to Nabesna River')\n",
      "success: ('22', 'Kenai', 'Kenai Lake (Sterling Highway) to Skilak Lake')\n",
      "success: ('23', 'Killik', 'Lakes in upper river to Umiat or Colville River')\n",
      "success: ('24', 'Kings', 'Upper Kings to Glenn Highway')\n",
      "success: ('25', 'Kisaralik', 'Kisaralik Lake to confluence with Kuskokwim River')\n",
      "success: ('26', 'Klutina', 'Klutina Lake to Richardson Highway Bridge at Copper Center')\n",
      "success: ('27', 'Kotsina', 'Upper Kotsina to Copper River (including lower canyon gorge)')\n",
      "success: ('28', 'Kuskulana', '2. McCarthy Rd. Bridge to Chitina River')\n",
      "success: ('29', 'Lakina', '1. Mill Creek to McCarthy Road Bridge')\n",
      "success: ('30', 'Little Susitna', '2. Mother Lode Cookhouse & Saloon to Shrock Road Bridge')\n",
      "success: ('31', 'Lowe', '1. Heiden Canyon')\n",
      "success: ('32', 'Lowe', 'Keystone Canyon')\n",
      "success: ('33', 'Lowe', '3. Below Keystone Canyon')\n",
      "success: ('34', 'Matanuska', '2. Glacier Park Bridge to Palmer')\n",
      "success: ('35', 'Mineral Creek', '1. Mineral Creek Road to Lower Canyon putin')\n",
      "success: ('36', 'Nadina', 'Nadina Glacier to Copper River')\n",
      "success: ('37', 'Little Nelchina', 'Little Nelchina Br. on Glenn Highway to Tazlina Lake')\n",
      "success: ('38', 'Nellie Juan', 'Nellie Juan Lake to Kings Bay (Prince William Sound)')\n",
      "success: ('39', 'Nenana', '4. Twin Rocks to Healy (Nenana Canyon)')\n",
      "success: ('40', 'Newhalen', 'Upper landing on Iliamna-Nondalton Road to Newhalen')\n",
      "success: ('41', 'Nizina', '2. Kennicott River to Chitna River')\n",
      "success: ('42', 'Sanctuary', 'Denali Road to Teklanika River')\n",
      "success: ('43', 'Sanford', 'Upper gravel bar to Copper River')\n",
      "success: ('44', 'South Sandy Creek', '2. Route 11 to Ellisburg')\n",
      "success: ('45', 'Sixmile (& E. Fork Sixmile)', 'Seward Hwy along E. Fork of Six Mile to Sunshine')\n",
      "success: ('46', 'Susitna', 'Denali Hwy Bridge to Gold-Creek Alaska RR Bridge or Talkeetna')\n",
      "success: ('47', 'Talkeetna', 'Stephan Lake to Susitna River at Talkeetna Village')\n",
      "success: ('48', 'Tana', 'Gravel Bar to Chitina River to Copper River')\n",
      "success: ('49', 'Tasnuna', 'Upper gravel bar to Copper river')\n",
      "success: ('50', 'Tatshenshini', '2. Dalton Post to Alsek (Dry Bay)')\n",
      "success: ('51', 'Tatshenshini', '1. Blanchard Road to Dalton Post')\n",
      "success: ('52', 'Tiekel', 'Tiekel Canyon')\n",
      "success: ('53', 'Tonsina', '1. Tonsina Glacier to Tonsina Lake')\n",
      "success: ('54', 'Tonsina', 'Lower Run')\n",
      "success: ('55', 'Tsaina', 'Upper Canyon')\n",
      "success: ('56', 'Valdez Glacier Stream', 'Valdez Glacier to Richardson Highway')\n",
      "success: ('57', 'Willow Creek', '2. Guardrail to Shirleytown')\n",
      "success: ('58', 'Willow Creek', '1. near Hatcher Pass to lower Willow Creek put-in')\n",
      "success: ('59', 'Wolverine Creek', 'Upper River to Matanuska River')\n",
      "success: ('60', \"Wortmann's Creek\", 'Upper River to Lowe River')\n",
      "success: ('61', 'Bear Creek (Dekalb Co.)', 'Lower: Canyon Rim Road to Little River')\n",
      "success: ('62', 'Bear Creek (Franklin/ Marion Co.)', 'Highway 5 Bridge to Scott Bridge')\n",
      "success: ('63', 'Warrior, Blackburn Fork', 'Dirt Rd. off Rt. 15 to Little Warrior Bridge (Rt. 15)')\n",
      "success: ('64', 'Blackwater Creek', 'Rt. 257(County Road 41) to Walston Bridge')\n",
      "success: ('65', 'Cahaba', 'Lovick Bridge to Grants Mill (County Route 143)')\n",
      "success: ('66', 'Cahaba', 'US Route 11 to County Route 10')\n",
      "success: ('67', 'Little, E. Fork', 'Lahusage to Rt. 35')\n",
      "success: ('68', 'Little', '3. Eberhart Point (Chairlift) to Canyon Mouth Campground')\n",
      "success: ('69', 'Little', '1. Hwy 35 to Upper Two')\n",
      "success: ('70', 'Little Uchee', 'Auburn Road to Bishops Bridge')\n",
      "success: ('71', 'Little, W. Fork', '3. Lake Howard to East Fork Little')\n",
      "success: ('72', 'Mulberry Fork', 'Center Hill- Blountville Road to US Route 31')\n",
      "success: ('73', 'Mulberry Fork', 'Above Old US 31 to Whitewater Drive')\n",
      "success: ('74', 'Scarham Creek', 'Double Bridges to Short Creek')\n",
      "success: ('75', 'Short Creek', 'Highway 68 to Guntersville Lake')\n",
      "success: ('76', 'Sipsey Fork', 'County Route 60 (Sipsey Recreational Area) to State Route 33')\n",
      "success: ('77', 'Six Mile Bend', 'Six Mile (State Route 25) to Coosa Road')\n",
      "success: ('78', 'South Sauty Creek', 'Intersection of County Roads 43 and 56 to Bucks Pocket')\n",
      "success: ('79', 'Tallapoosa', 'Thurlow Dam to boat ramp')\n",
      "success: ('80', 'Town Creek', '2) Below the Mill Slide at 227 to above High Falls')\n",
      "success: ('81', 'Town Creek', '3) High Falls to Lake Guntersville')\n",
      "success: ('82', 'Warrior, Locust Fork', '1) CR 1 (Five Points Rd) to US Route 231')\n",
      "success: ('83', 'Weogufka Creek', 'Low Water Bridge to Ford')\n",
      "success: ('84', 'Baker Branch', '2) Baker Lake to SW Branch St. John River')\n",
      "success: ('85', 'Carrabasset', '2. Kingfield to US201A')\n",
      "success: ('86', 'Baker Creek', 'Ed Banks Road to Weyerhauser Road 52200 (3 miles)')\n",
      "success: ('87', 'Casselman', '3) Rockwood to Markleton')\n",
      "success: ('88', 'Big Piney Creek', '1) Walnut to Ft. Douglas at Hwy 123 (16 miles)')\n",
      "success: ('89', 'Buffalo', '2) Boxley to Ponca (6.1 miles)')\n",
      "success: ('90', 'Potomac', '7. Little Falls')\n",
      "success: ('91', 'Caddo', 'Norman to Amity (29 miles)')\n",
      "success: ('92', 'Cossatot', '3) Ed Banks Road to Highway 278/4 (6.25 miles)')\n",
      "success: ('93', 'Falling Water Creek', 'Falling Water Falls to Richland Campground (7 miles)')\n",
      "success: ('94', 'Frog Bayou', '2) Lancaster Bridge to Rudy (8 miles)')\n",
      "success: ('95', 'Illinois Bayou', 'Bayou Bluff to Hector (4.3 miles)')\n",
      "success: ('96', 'Illinois Bayou, E. Fork', 'FS Road 1301 to Bayou Bluff (11 miles)')\n",
      "success: ('97', 'Illinois Bayou, Middle Fork', 'Smyrna to Bayou Bluff (12.2 miles)')\n",
      "success: ('98', 'Illinois Bayou, N. Fork', 'Victor Road (CR1000) to Granny Gap Road (FS1818) (15.6 miles)')\n",
      "success: ('99', 'Lee Creek', '1) Devils Den State Park to Hwy 220 (8.6 miles)')\n",
      "success: ('100', 'Little Missouri', '1) Albert Pike Campgound to Highway 84 Bridge (8.5 miles)')\n",
      "success: ('101', 'Little Missouri', '2) Hwy 84 Bridge to US Hwy 70 Bridge (11.5 miles)')\n",
      "success: ('102', 'Little Red, Middle Fork', 'Lydalusk to Shirley (10.2 miles)')\n",
      "success: ('103', 'Mulberry', '1) Wolf Pen Recreation Area to Redding Campground (12 miles)')\n",
      "success: ('104', 'Richland Creek', '1) Moore to Richland Creek Campground (6.2 miles)')\n",
      "success: ('105', 'Merced, S. Fork', '1) Wawona to Main Merced')\n",
      "success: ('106', 'Spring', 'Mammoth Spring to Hardy (15 miles)')\n",
      "success: ('107', 'Saline (Howard County)', '1) Shady Lake to Hwy 84 (4.5 miles)')\n",
      "success: ('108', 'American, Silver Fork', 'Fitz Rantz Bridge to Girard Creek')\n",
      "success: ('109', 'Bill Williams', '01. Alamo Dam to US-95')\n",
      "success: ('110', 'Black, E. Fork', '02. Below Wildcat Point')\n",
      "success: ('111', 'Black, E. Fork', '01. Diamond Rock 6.0 mi to Buffalo Xing, 12 mi to Wildcat Point')\n",
      "success: ('112', 'Blue', '01. Blue Crossing to Forest Service Road 475')\n",
      "success: ('113', 'Chevelon Creek', '01. Woods Canyon Lake to Little Colorado River')\n",
      "success: ('114', 'Colorado', \"18. Lee's Ferry to Lake Mead\")\n",
      "success: ('115', 'Eagle Creek', '01. Forest Service Road 217: Four Drag Ranch to Double Circle Ranch')\n",
      "success: ('116', 'East Verde', '01. US Route 87 to Verde River confluence')\n",
      "success: ('117', 'Gila', '03. Virden (NM) 30 miles to US Route 666, 23 miiles to Bonita Creek')\n",
      "success: ('118', 'Gila', '04. Kelvin to Ashurst-Hayden Dam')\n",
      "success: ('119', 'Little Colorado', '01. Below Grand Falls to above Black Falls')\n",
      "success: ('120', 'Little Colorado', '03. Cameron to Colorado River')\n",
      "success: ('121', 'Oak Creek', '03. Lower Oak Creek/ Red Rock Crossing')\n",
      "success: ('122', 'Salt', '02.5. Gleason Flats 19 mi. to Horseshoe Bend')\n",
      "success: ('123', 'Salt', '02. US 60 to Hwy 288 above Roosevelt Reservoir')\n",
      "success: ('124', 'Salt', '03. Stewart Mountain Dam to Granite Reef Dam')\n",
      "success: ('125', 'San Francisco', '01. Alma (NM) 30 mi to Clifton, 10 mi to Gila River')\n",
      "success: ('126', 'Tonto Creek', '02 (Rye Creek to Gun Creek)')\n",
      "success: ('127', 'Verde', '01. Perkinsville to Clarkdale')\n",
      "success: ('128', 'Verde', '03. Clarkdale to Camp Verde')\n",
      "success: ('129', 'Verde', '04. Camp Verde to Beasley Flat')\n",
      "success: ('130', 'Verde', '05. Beasley Flat to Gap Creek')\n",
      "success: ('131', 'Verde', '06. Childs to Horseshoe Reservoir')\n",
      "success: ('132', 'Verde', '07. Horseshoe Reservoir to Bartlett Reservoir')\n",
      "success: ('133', 'Verde', '08. Bartlett Reservoir to confluence with Salt River')\n",
      "success: ('134', 'Musconetcong', 'Bloomsbury to Delaware River')\n",
      "success: ('135', 'Wet Beaver Creek', '01. FR 618 to Camp Verde Bridge')\n",
      "success: ('136', 'American, Middle Fork', '1) Tunnel Run: Oxbow Bend (Ralston Afterbay) to Drivers Flat Road')\n",
      "success: ('137', 'American, N. Fork', '1. Generation Gap: Tadpole Creek to Euchre Bar')\n",
      "success: ('138', 'American, N. Fork', '2. Giant Gap: Euchre Bar to Colfax-Iowa Hill Road')\n",
      "success: ('139', 'American, N. Fork', '3. Chamberlain Falls: Colfax-Iowa Hill Road to Yankee Jims Road')\n",
      "success: ('140', 'American, N. Fork', '4. Yankee Jims Road Bridge to Lake Clementine')\n",
      "success: ('141', 'American, N. Fork', '5. Confluence with Middle Fork to Folsom Lake')\n",
      "success: ('142', 'American, Middle Fork (N. Fork of)', 'Last Chance Trail to confluence with Middle Fork')\n",
      "success: ('143', 'American, S. Fork', '1. Strawberry to Kyburz')\n",
      "success: ('144', 'American, S. Fork', '2. Kyburz to Riverton (Route 50 bridge)')\n",
      "success: ('145', 'American, S. Fork', '3. Riverton (Route 50 bridge) to Peavine Ridge Road')\n",
      "success: ('146', 'American, S. Fork', '4. Golden Gate (Peavine Ridge Road to Forebay Road)')\n",
      "success: ('147', 'American, S. Fork', '5. Slab Creek Dam to Rock Creek Powerhouse')\n",
      "success: ('148', 'American, S. Fork', '6. Chili Bar (Route 193 to Coloma)')\n",
      "success: ('149', 'Antelope Creek', 'Hogsback Road to Cone Grove Road')\n",
      "success: ('150', 'Arroyo Hondo', 'Kincaid Road to Calaveras Reservoir')\n",
      "success: ('151', 'Arroyo Seco', '2) Arroyo Seco Picnic Area to Route G16 bridge')\n",
      "success: ('152', 'Arroyo Valle', 'Mt. Hamilton to Del Valle Reservoir')\n"
     ]
    },
    {
     "ename": "UnboundLocalError",
     "evalue": "local variable 'status' referenced before assignment",
     "output_type": "error",
     "traceback": [
      "\u001b[0;31m---------------------------------------------------------------------------\u001b[0m",
      "\u001b[0;31mUnboundLocalError\u001b[0m                         Traceback (most recent call last)",
      "\u001b[0;32m<ipython-input-14-53b6730b8c02>\u001b[0m in \u001b[0;36m<module>\u001b[0;34m\u001b[0m\n\u001b[1;32m      2\u001b[0m \u001b[0;34m\u001b[0m\u001b[0m\n\u001b[1;32m      3\u001b[0m     \u001b[0mreach\u001b[0m \u001b[0;34m=\u001b[0m \u001b[0mreach_tools\u001b[0m\u001b[0;34m.\u001b[0m\u001b[0mReach\u001b[0m\u001b[0;34m.\u001b[0m\u001b[0mget_from_aw\u001b[0m\u001b[0;34m(\u001b[0m\u001b[0mreach_id\u001b[0m\u001b[0;34m)\u001b[0m\u001b[0;34m\u001b[0m\u001b[0;34m\u001b[0m\u001b[0m\n\u001b[0;32m----> 4\u001b[0;31m     \u001b[0mreach\u001b[0m\u001b[0;34m.\u001b[0m\u001b[0msnap_putin_and_takeout_and_trace\u001b[0m\u001b[0;34m(\u001b[0m\u001b[0;34m)\u001b[0m\u001b[0;34m\u001b[0m\u001b[0;34m\u001b[0m\u001b[0m\n\u001b[0m\u001b[1;32m      5\u001b[0m \u001b[0;34m\u001b[0m\u001b[0m\n\u001b[1;32m      6\u001b[0m     \u001b[0mcent_resp\u001b[0m \u001b[0;34m=\u001b[0m \u001b[0mlyr_centroid\u001b[0m\u001b[0;34m.\u001b[0m\u001b[0mupdate_reach\u001b[0m\u001b[0;34m(\u001b[0m\u001b[0mreach\u001b[0m\u001b[0;34m)\u001b[0m\u001b[0;34m\u001b[0m\u001b[0;34m\u001b[0m\u001b[0m\n",
      "\u001b[0;32m~/projects/water-reach-tracer/src/reach_tools.py\u001b[0m in \u001b[0;36msnap_putin_and_takeout_and_trace\u001b[0;34m(self, webmap)\u001b[0m\n\u001b[1;32m    890\u001b[0m             \u001b[0;32mreturn\u001b[0m \u001b[0mself\u001b[0m\u001b[0;34m.\u001b[0m\u001b[0mplot_map\u001b[0m\u001b[0;34m(\u001b[0m\u001b[0;34m)\u001b[0m\u001b[0;34m\u001b[0m\u001b[0;34m\u001b[0m\u001b[0m\n\u001b[1;32m    891\u001b[0m         \u001b[0;32melse\u001b[0m\u001b[0;34m:\u001b[0m\u001b[0;34m\u001b[0m\u001b[0;34m\u001b[0m\u001b[0m\n\u001b[0;32m--> 892\u001b[0;31m             \u001b[0;32mreturn\u001b[0m \u001b[0mstatus\u001b[0m\u001b[0;34m\u001b[0m\u001b[0;34m\u001b[0m\u001b[0m\n\u001b[0m\u001b[1;32m    893\u001b[0m \u001b[0;34m\u001b[0m\u001b[0m\n\u001b[1;32m    894\u001b[0m     \u001b[0;34m@\u001b[0m\u001b[0mproperty\u001b[0m\u001b[0;34m\u001b[0m\u001b[0;34m\u001b[0m\u001b[0m\n",
      "\u001b[0;31mUnboundLocalError\u001b[0m: local variable 'status' referenced before assignment"
     ]
    }
   ],
   "source": [
    "for reach_id in reach_id_lst:\n",
    "    \n",
    "    reach = reach_tools.Reach.get_from_aw(reach_id)\n",
    "    reach.snap_putin_and_takeout_and_trace()\n",
    "\n",
    "    cent_resp = lyr_centroid.update_reach(reach)\n",
    "\n",
    "    line_resp = lyr_line.update_reach(reach)\n",
    "\n",
    "    putin_resp = lyr_points.query(f\"reach_id = '{reach_id}' AND point_type = 'access' AND subtype = 'putin'\", return_ids_only=True)['objectIds']\n",
    "    if len(putin_resp):\n",
    "        oid_putin = putin_resp[0]\n",
    "        putin_feature = reach.putin.as_feature\n",
    "        putin_feature.attributes['OBJECTID'] = oid_putin\n",
    "        lyr_points.edit_features(updates=[putin_feature])\n",
    "    else:\n",
    "        lyr_points.edit_features(adds=[putin_feature])\n",
    "\n",
    "    \n",
    "    takeout_resp = lyr_points.query(f\"reach_id = '{reach_id}' AND point_type = 'access' AND subtype = 'takeout'\", return_ids_only=True)['objectIds']\n",
    "    if len(takeout_resp):\n",
    "        oid_takeout = takeout_resp[0]\n",
    "        takeout_feature = reach.takeout.as_feature\n",
    "        takeout_feature.attributes['OBJECTID'] = oid_takeout\n",
    "        lyr_points.edit_features(updates=[takeout_feature])\n",
    "    else:\n",
    "        lyr_points.edit_features(adds=[takeout_feature])\n",
    "        \n",
    "    print(f'success: {reach.reach_id, reach.river_name, reach.reach_name}')"
   ]
  },
  {
   "cell_type": "code",
   "execution_count": 7,
   "metadata": {},
   "outputs": [],
   "source": [
    "self = reach_tools.Reach.get_from_aw(3067)"
   ]
  },
  {
   "cell_type": "code",
   "execution_count": 5,
   "metadata": {},
   "outputs": [],
   "source": [
    "reach.abstract"
   ]
  },
  {
   "cell_type": "code",
   "execution_count": 6,
   "metadata": {},
   "outputs": [
    {
     "data": {
      "text/plain": [
       "\"This is an easy class II-III run, with the hardest rapids barely approaching class III. Most of the run winds through forests, with a few small neighborhoods and a couple of bridges. Just above the put-in is a rapid that is described as class III+, but at most flows is a simple class III drop over your choice through one of 3 slots. At about the 7 mile mark, there is a diversion dam, but it's small and there's an island just above it for easy scouting on your first run. Trees could be a hazard on this run, but the river tends to be fairly wide. To get to the put-in, take Hwy 12 to Morton. Take a left at Hwy 508 (this is Main St, but there may not be a sign). After .5 miles, you will come to the bridge over the river and you'll be able to see the optional rapid. Put in under the bridge. To reach the takeout, go another 7.5 miles to another bridge over the river. The takeout is easy to recognize from the river because of 2 drain pipes sticking out from the upstream side of the bridge. There's a large eddy to catch and an easy path up to the parking area.\""
      ]
     },
     "execution_count": 6,
     "metadata": {},
     "output_type": "execute_result"
    }
   ],
   "source": [
    "reach.description"
   ]
  },
  {
   "cell_type": "code",
   "execution_count": 8,
   "metadata": {},
   "outputs": [],
   "source": [
    "(not self.abstract or len(self.abstract) == 0) and (self.abstract and len(self.abstract) > 0)"
   ]
  },
  {
   "cell_type": "code",
   "execution_count": 11,
   "metadata": {},
   "outputs": [
    {
     "data": {
      "text/plain": [
       "True"
      ]
     },
     "execution_count": 11,
     "metadata": {},
     "output_type": "execute_result"
    }
   ],
   "source": [
    "(not self.abstract or len(self.abstract) == 0) and (self.description and len(self.description) > 0)"
   ]
  },
  {
   "cell_type": "code",
   "execution_count": null,
   "metadata": {},
   "outputs": [],
   "source": []
  }
 ],
 "metadata": {
  "kernelspec": {
   "display_name": "Python 3",
   "language": "python",
   "name": "python3"
  },
  "language_info": {
   "codemirror_mode": {
    "name": "ipython",
    "version": 3
   },
   "file_extension": ".py",
   "mimetype": "text/x-python",
   "name": "python",
   "nbconvert_exporter": "python",
   "pygments_lexer": "ipython3",
   "version": "3.7.1"
  }
 },
 "nbformat": 4,
 "nbformat_minor": 2
}

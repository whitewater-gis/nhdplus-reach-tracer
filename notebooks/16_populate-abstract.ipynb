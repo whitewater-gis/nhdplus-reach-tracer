{
 "cells": [
  {
   "cell_type": "code",
   "execution_count": 99,
   "metadata": {},
   "outputs": [
    {
     "name": "stdout",
     "output_type": "stream",
     "text": [
      "The autoreload extension is already loaded. To reload it, use:\n",
      "  %reload_ext autoreload\n"
     ]
    }
   ],
   "source": [
    "from arcgis.gis import GIS, Item\n",
    "import os\n",
    "from multiprocessing import Process, Queue\n",
    "\n",
    "from dotenv import load_dotenv, find_dotenv\n",
    "load_dotenv(find_dotenv())\n",
    "\n",
    "import sys\n",
    "sys.path.append('../src')\n",
    "sys.path.append('../')\n",
    "\n",
    "import reach_tools\n",
    "import hydrology\n",
    "import config\n",
    "\n",
    "gis = GIS(username=config.arcgis_username, password=config.arcgis_password)\n",
    "\n",
    "url_reach_line = config.url_reach_line\n",
    "url_reach_centroid = config.url_reach_centroid\n",
    "url_reach_points = config.url_reach_points\n",
    "\n",
    "lyr_line = reach_tools.ReachFeatureLayer(url_reach_line, gis)\n",
    "lyr_centroid = reach_tools.ReachFeatureLayer(url_reach_centroid, gis)\n",
    "lyr_points = reach_tools.ReachPointFeatureLayer(url_reach_points, gis)\n",
    "\n",
    "reach_id = 2127\n",
    "\n",
    "%load_ext autoreload\n",
    "%autoreload 2"
   ]
  },
  {
   "cell_type": "code",
   "execution_count": 100,
   "metadata": {},
   "outputs": [
    {
     "name": "stdout",
     "output_type": "stream",
     "text": [
      "[1, 2, 3, 4, 5, 6, 7, 8, 9, 10, 11, 12, 13, 14, 15, 16, 17, 18, 19, 20]\n"
     ]
    }
   ],
   "source": [
    "reach_id_fs = lyr_centroid.query(out_fields='reach_id', result_record_count=20, return_geometry=False)\n",
    "reach_id_lst = [int(feat.attributes['reach_id']) for feat in reach_id_fs.features]\n",
    "print(reach_id_lst[:20])"
   ]
  },
  {
   "cell_type": "code",
   "execution_count": null,
   "metadata": {},
   "outputs": [
    {
     "name": "stdout",
     "output_type": "stream",
     "text": [
      "[13]\n",
      "[9624]\n",
      "success: ('1', 'Alsek', 'Haines Junction to Dry Bay')\n"
     ]
    }
   ],
   "source": [
    "for reach_id in reach_id_lst:\n",
    "    \n",
    "    reach = reach_tools.Reach.get_from_aw(reach_id)\n",
    "    reach.snap_putin_and_takeout_and_trace()\n",
    "\n",
    "    cent_resp = lyr_centroid.update_reach(reach)\n",
    "\n",
    "    line_resp = lyr_line.update_reach(reach)\n",
    "\n",
    "    putin_resp = lyr_points.query(f\"reach_id = '{reach_id}' AND point_type = 'access' AND subtype = 'putin'\", return_ids_only=True)['objectIds']\n",
    "    if len(putin_resp):\n",
    "        oid_putin = putin_resp[0]\n",
    "        putin_feature = reach.putin.as_feature\n",
    "        putin_feature.attributes['OBJECTID'] = oid_putin\n",
    "        lyr_points.edit_features(updates=[putin_feature])\n",
    "    else:\n",
    "        lyr_points.edit_features(adds=[putin_feature])\n",
    "\n",
    "    \n",
    "    takeout_resp = lyr_points.query(f\"reach_id = '{reach_id}' AND point_type = 'access' AND subtype = 'takeout'\", return_ids_only=True)['objectIds']\n",
    "    if len(takeout_resp):\n",
    "        oid_takeout = takeout_resp[0]\n",
    "        takeout_feature = reach.takeout.as_feature\n",
    "        takeout_feature.attributes['OBJECTID'] = oid_takeout\n",
    "        lyr_points.edit_features(updates=[takeout_feature])\n",
    "    else:\n",
    "        lyr_points.edit_features(adds=[takeout_feature])\n",
    "        \n",
    "    print(f'success: {reach.reach_id, reach.river_name, reach.reach_name}')"
   ]
  },
  {
   "cell_type": "code",
   "execution_count": null,
   "metadata": {},
   "outputs": [],
   "source": []
  }
 ],
 "metadata": {
  "kernelspec": {
   "display_name": "Python 3",
   "language": "python",
   "name": "python3"
  },
  "language_info": {
   "codemirror_mode": {
    "name": "ipython",
    "version": 3
   },
   "file_extension": ".py",
   "mimetype": "text/x-python",
   "name": "python",
   "nbconvert_exporter": "python",
   "pygments_lexer": "ipython3",
   "version": "3.7.1"
  }
 },
 "nbformat": 4,
 "nbformat_minor": 2
}

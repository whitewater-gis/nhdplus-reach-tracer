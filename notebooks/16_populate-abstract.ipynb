{
 "cells": [
  {
   "cell_type": "code",
   "execution_count": 5,
   "metadata": {},
   "outputs": [
    {
     "name": "stdout",
     "output_type": "stream",
     "text": [
      "The autoreload extension is already loaded. To reload it, use:\n",
      "  %reload_ext autoreload\n"
     ]
    }
   ],
   "source": [
    "from arcgis.gis import GIS, Item\n",
    "import os\n",
    "from multiprocessing import Process, Queue\n",
    "\n",
    "from dotenv import load_dotenv, find_dotenv\n",
    "load_dotenv(find_dotenv())\n",
    "\n",
    "import sys\n",
    "sys.path.append('../src')\n",
    "sys.path.append('../')\n",
    "\n",
    "import reach_tools\n",
    "import hydrology\n",
    "import config\n",
    "\n",
    "gis = GIS(username=config.arcgis_username, password=config.arcgis_password)\n",
    "\n",
    "url_reach_line = config.url_reach_line\n",
    "url_reach_centroid = config.url_reach_centroid\n",
    "url_reach_points = config.url_reach_points\n",
    "\n",
    "lyr_line = reach_tools.ReachFeatureLayer(url_reach_line, gis)\n",
    "lyr_centroid = reach_tools.ReachFeatureLayer(url_reach_centroid, gis)\n",
    "lyr_points = reach_tools.ReachPointFeatureLayer(url_reach_points, gis)\n",
    "\n",
    "reach_id = 2127\n",
    "\n",
    "%load_ext autoreload\n",
    "%autoreload 2"
   ]
  },
  {
   "cell_type": "code",
   "execution_count": 6,
   "metadata": {},
   "outputs": [
    {
     "name": "stdout",
     "output_type": "stream",
     "text": [
      "[1, 2, 3, 4, 5, 6, 7, 8, 9, 10, 11, 12, 13, 14, 15, 16, 17, 18, 19, 20]\n"
     ]
    }
   ],
   "source": [
    "reach_id_fs = lyr_centroid.query(out_fields='reach_id', result_record_count=20, return_geometry=False)\n",
    "reach_id_lst = [int(feat.attributes['reach_id']) for feat in reach_id_fs.features]\n",
    "print(reach_id_lst[151:])"
   ]
  },
  {
   "cell_type": "code",
   "execution_count": null,
   "metadata": {},
   "outputs": [],
   "source": []
  },
  {
   "cell_type": "code",
   "execution_count": 108,
   "metadata": {},
   "outputs": [
    {
     "name": "stdin",
     "output_type": "stream",
     "text": [
      "Enter password:  ··········\n"
     ]
    },
    {
     "ename": "RuntimeError",
     "evalue": "Invalid token",
     "output_type": "error",
     "traceback": [
      "\u001b[0;31m---------------------------------------------------------------------------\u001b[0m",
      "\u001b[0;31mRuntimeError\u001b[0m                              Traceback (most recent call last)",
      "\u001b[0;32m<ipython-input-108-339a7175c1be>\u001b[0m in \u001b[0;36m<module>\u001b[0;34m\u001b[0m\n\u001b[1;32m      5\u001b[0m \u001b[0;34m\u001b[0m\u001b[0m\n\u001b[1;32m      6\u001b[0m     \u001b[0mreach\u001b[0m \u001b[0;34m=\u001b[0m \u001b[0mreach_tools\u001b[0m\u001b[0;34m.\u001b[0m\u001b[0mReach\u001b[0m\u001b[0;34m.\u001b[0m\u001b[0mget_from_aw\u001b[0m\u001b[0;34m(\u001b[0m\u001b[0mreach_id\u001b[0m\u001b[0;34m)\u001b[0m\u001b[0;34m\u001b[0m\u001b[0;34m\u001b[0m\u001b[0m\n\u001b[0;32m----> 7\u001b[0;31m     \u001b[0mreach\u001b[0m\u001b[0;34m.\u001b[0m\u001b[0msnap_putin_and_takeout_and_trace\u001b[0m\u001b[0;34m(\u001b[0m\u001b[0mgis_esri\u001b[0m\u001b[0;34m)\u001b[0m\u001b[0;34m\u001b[0m\u001b[0;34m\u001b[0m\u001b[0m\n\u001b[0m\u001b[1;32m      8\u001b[0m     \u001b[0mreach\u001b[0m\u001b[0;34m.\u001b[0m\u001b[0mpublish_updates\u001b[0m\u001b[0;34m(\u001b[0m\u001b[0mlyr_line\u001b[0m\u001b[0;34m,\u001b[0m \u001b[0mlyr_centroid\u001b[0m\u001b[0;34m,\u001b[0m \u001b[0mlyr_points\u001b[0m\u001b[0;34m)\u001b[0m\u001b[0;34m\u001b[0m\u001b[0;34m\u001b[0m\u001b[0m\n\u001b[1;32m      9\u001b[0m \u001b[0;34m\u001b[0m\u001b[0m\n",
      "\u001b[0;32m~/projects/water-reach-tracer/src/reach_tools.py\u001b[0m in \u001b[0;36msnap_putin_and_takeout_and_trace\u001b[0;34m(self, webmap, gis)\u001b[0m\n\u001b[1;32m   1242\u001b[0m \u001b[0;34m\u001b[0m\u001b[0m\n\u001b[1;32m   1243\u001b[0m             \u001b[0;31m# smooth the geometry since the hydrology tracing can appear a little jagged\u001b[0m\u001b[0;34m\u001b[0m\u001b[0;34m\u001b[0m\u001b[0;34m\u001b[0m\u001b[0m\n\u001b[0;32m-> 1244\u001b[0;31m             \u001b[0mself\u001b[0m\u001b[0;34m.\u001b[0m\u001b[0m_geometry\u001b[0m \u001b[0;34m=\u001b[0m \u001b[0m_smooth_geometry\u001b[0m\u001b[0;34m(\u001b[0m\u001b[0mline_geom\u001b[0m\u001b[0;34m)\u001b[0m\u001b[0;34m\u001b[0m\u001b[0;34m\u001b[0m\u001b[0m\n\u001b[0m\u001b[1;32m   1245\u001b[0m \u001b[0;34m\u001b[0m\u001b[0m\n\u001b[1;32m   1246\u001b[0m             \u001b[0mstatus\u001b[0m \u001b[0;34m=\u001b[0m \u001b[0;32mTrue\u001b[0m\u001b[0;34m\u001b[0m\u001b[0;34m\u001b[0m\u001b[0m\n",
      "\u001b[0;32m~/projects/water-reach-tracer/src/reach_tools.py\u001b[0m in \u001b[0;36m_smooth_geometry\u001b[0;34m(geom)\u001b[0m\n\u001b[1;32m    129\u001b[0m \u001b[0;34m\u001b[0m\u001b[0m\n\u001b[1;32m    130\u001b[0m     \u001b[0;31m# densify the geometry to help with too much deflection when smoothing\u001b[0m\u001b[0;34m\u001b[0m\u001b[0;34m\u001b[0m\u001b[0;34m\u001b[0m\u001b[0m\n\u001b[0;32m--> 131\u001b[0;31m     \u001b[0mnew_geom\u001b[0m \u001b[0;34m=\u001b[0m \u001b[0mdensify\u001b[0m\u001b[0;34m(\u001b[0m\u001b[0mgeom\u001b[0m\u001b[0;34m)\u001b[0m\u001b[0;34m\u001b[0m\u001b[0;34m\u001b[0m\u001b[0m\n\u001b[0m\u001b[1;32m    132\u001b[0m \u001b[0;34m\u001b[0m\u001b[0m\n\u001b[1;32m    133\u001b[0m     \u001b[0;31m# get the dictionary key containing the geometry coordinate pairs\u001b[0m\u001b[0;34m\u001b[0m\u001b[0;34m\u001b[0m\u001b[0;34m\u001b[0m\u001b[0m\n",
      "\u001b[0;32m~/projects/water-reach-tracer/src/reach_tools.py\u001b[0m in \u001b[0;36mdensify\u001b[0;34m(in_geom)\u001b[0m\n\u001b[1;32m     92\u001b[0m             \u001b[0;34m'maxSegmentLength'\u001b[0m\u001b[0;34m:\u001b[0m \u001b[0;36m0.009\u001b[0m\u001b[0;34m\u001b[0m\u001b[0;34m\u001b[0m\u001b[0m\n\u001b[1;32m     93\u001b[0m         }\n\u001b[0;32m---> 94\u001b[0;31m         \u001b[0mresp\u001b[0m \u001b[0;34m=\u001b[0m \u001b[0mgis\u001b[0m\u001b[0;34m.\u001b[0m\u001b[0m_con\u001b[0m\u001b[0;34m.\u001b[0m\u001b[0mpost\u001b[0m\u001b[0;34m(\u001b[0m\u001b[0murl\u001b[0m\u001b[0;34m,\u001b[0m \u001b[0mparams\u001b[0m\u001b[0;34m)\u001b[0m\u001b[0;34m\u001b[0m\u001b[0;34m\u001b[0m\u001b[0m\n\u001b[0m\u001b[1;32m     95\u001b[0m         \u001b[0mgeom\u001b[0m\u001b[0;34m[\u001b[0m\u001b[0mgeom_key\u001b[0m\u001b[0;34m]\u001b[0m \u001b[0;34m=\u001b[0m \u001b[0mresp\u001b[0m\u001b[0;34m[\u001b[0m\u001b[0;34m'geometries'\u001b[0m\u001b[0;34m]\u001b[0m\u001b[0;34m[\u001b[0m\u001b[0;36m0\u001b[0m\u001b[0;34m]\u001b[0m\u001b[0;34m[\u001b[0m\u001b[0mgeom_key\u001b[0m\u001b[0;34m]\u001b[0m\u001b[0;34m\u001b[0m\u001b[0;34m\u001b[0m\u001b[0m\n\u001b[1;32m     96\u001b[0m         \u001b[0;32mreturn\u001b[0m \u001b[0mgeom\u001b[0m\u001b[0;34m\u001b[0m\u001b[0;34m\u001b[0m\u001b[0m\n",
      "\u001b[0;32m/anaconda3/envs/arcgis/lib/python3.7/site-packages/arcgis/_impl/connection.py\u001b[0m in \u001b[0;36mpost\u001b[0;34m(self, path, postdata, files, ssl, compress, is_retry, use_ordered_dict, add_token, verify_cert, token, try_json, out_folder, file_name, force_bytes, add_headers)\u001b[0m\n\u001b[1;32m   1147\u001b[0m \u001b[0;34m\u001b[0m\u001b[0m\n\u001b[1;32m   1148\u001b[0m                     return self.post(path, postdata, files, ssl, compress, token=retry_token, verify_cert=verify_cert,\n\u001b[0;32m-> 1149\u001b[0;31m                                      is_retry=True)\n\u001b[0m\u001b[1;32m   1150\u001b[0m                 \u001b[0;32melif\u001b[0m \u001b[0merrorcode\u001b[0m \u001b[0;34m==\u001b[0m \u001b[0;36m498\u001b[0m\u001b[0;34m:\u001b[0m\u001b[0;34m\u001b[0m\u001b[0;34m\u001b[0m\u001b[0m\n\u001b[1;32m   1151\u001b[0m                     \u001b[0;32mraise\u001b[0m \u001b[0mRuntimeError\u001b[0m\u001b[0;34m(\u001b[0m\u001b[0;34m'Invalid token'\u001b[0m\u001b[0;34m)\u001b[0m\u001b[0;34m\u001b[0m\u001b[0;34m\u001b[0m\u001b[0m\n",
      "\u001b[0;32m/anaconda3/envs/arcgis/lib/python3.7/site-packages/arcgis/_impl/connection.py\u001b[0m in \u001b[0;36mpost\u001b[0;34m(self, path, postdata, files, ssl, compress, is_retry, use_ordered_dict, add_token, verify_cert, token, try_json, out_folder, file_name, force_bytes, add_headers)\u001b[0m\n\u001b[1;32m   1149\u001b[0m                                      is_retry=True)\n\u001b[1;32m   1150\u001b[0m                 \u001b[0;32melif\u001b[0m \u001b[0merrorcode\u001b[0m \u001b[0;34m==\u001b[0m \u001b[0;36m498\u001b[0m\u001b[0;34m:\u001b[0m\u001b[0;34m\u001b[0m\u001b[0;34m\u001b[0m\u001b[0m\n\u001b[0;32m-> 1151\u001b[0;31m                     \u001b[0;32mraise\u001b[0m \u001b[0mRuntimeError\u001b[0m\u001b[0;34m(\u001b[0m\u001b[0;34m'Invalid token'\u001b[0m\u001b[0;34m)\u001b[0m\u001b[0;34m\u001b[0m\u001b[0;34m\u001b[0m\u001b[0m\n\u001b[0m\u001b[1;32m   1152\u001b[0m \u001b[0;34m\u001b[0m\u001b[0m\n\u001b[1;32m   1153\u001b[0m                 \u001b[0;32melif\u001b[0m \u001b[0merrorcode\u001b[0m \u001b[0;34m==\u001b[0m \u001b[0;36m403\u001b[0m\u001b[0;34m:\u001b[0m\u001b[0;34m\u001b[0m\u001b[0;34m\u001b[0m\u001b[0m\n",
      "\u001b[0;31mRuntimeError\u001b[0m: Invalid token"
     ]
    }
   ],
   "source": [
    "gis = GIS(username=config.arcgis_username, password=config.arcgis_password)\n",
    "\n",
    "for reach_id in reach_id_lst[:43]:\n",
    "    \n",
    "    reach = reach_tools.Reach.get_from_aw(reach_id)\n",
    "    reach.snap_putin_and_takeout_and_trace(gis_esri)\n",
    "    reach.publish_updates(lyr_line, lyr_centroid, lyr_points)\n",
    "        \n",
    "    print(f'success: {reach.reach_id} {reach.river_name} {reach.reach_name} http://knu2xs.maps.arcgis.com/apps/View/index.html?appid=62b2a133c55a4a8c84f9aaa4ef461de0&reachid={reach.reach_id}')"
   ]
  },
  {
   "cell_type": "code",
   "execution_count": 92,
   "metadata": {},
   "outputs": [
    {
     "data": {
      "text/plain": [
       "'putin'"
      ]
     },
     "execution_count": 92,
     "metadata": {},
     "output_type": "execute_result"
    }
   ],
   "source": [
    "reach.putin.subtype"
   ]
  },
  {
   "cell_type": "code",
   "execution_count": 83,
   "metadata": {},
   "outputs": [],
   "source": [
    "reach = reach_tools.Reach.get_from_aw(3066)"
   ]
  },
  {
   "cell_type": "code",
   "execution_count": 84,
   "metadata": {},
   "outputs": [
    {
     "name": "stdout",
     "output_type": "stream",
     "text": [
      "A classic creek run with a series of outstanding drops. Has been the site of the Canyon Creek Extreme Race.\n"
     ]
    }
   ],
   "source": [
    "print(reach.abstract)"
   ]
  },
  {
   "cell_type": "code",
   "execution_count": 87,
   "metadata": {},
   "outputs": [
    {
     "data": {
      "text/plain": [
       "{'abstract': 'A classic creek run with a series of outstanding drops. Has been the site of the Canyon Creek Extreme Race.',\n",
       " 'agency': None,\n",
       " 'centroid': {'x': -122.3445014953615,\n",
       "  'y': 45.95024871826175,\n",
       "  'spatialReference': {'wkid': 4326}},\n",
       " 'description': 'Events: Annual Canyon Creek Extreme Race Logistics: The take-out is at the base of the Merwin Reservoir bridge at mile 28.8 on Hwy. 503. Ample parking is available on the southeast side of the bridge (PacifiCorp has plans to make minor improvements to this site over the next couple years which will likely include a set of stairs and some improved drainage for the parking lot). There are a couple ways to get there depending on the direction you\\'re coming from, but it\\'s 25 miles east of I-5. To reach the put-in head south from the bridge to Hwy. 503 mile 24.8 and turn east on to NE Healy Rd. (becomes FR 54) and drive 3.9 miles to the bridge across Canyon Creek. Put-in on upstream river left where a jeep trail leads down to the river at the confluence with Fly Creek. Description: Just a short distance north of Portland, Canyon Creek is a popular run for the after work crowd once daylight savings time hits. Dedicated paddlers also paddle this run before work in the winter for their morning adrenaline fix, or do multiple laps if they have more time. While it takes a little longer your first time down, you can bomb down the run in an hour once you know the lines. This river is a unique and valued whitewater resource for local paddlers and a destination for paddlers from around the world who make Portland a stop on their whitewater road trips. Consistent flows throughout all but the dry summer months, accessibility to the Portland paddling community, and great rapids make this a unique whitewater resource with significantly more available user days than many comparable runs in the region. The race course from Thrasher down to the Hammering Spot is widely regarded as one of the best sections in the country for a creeking race. At moderate flows (500-900cfs) most of the drops on this run are IV+. This is a great training run for those getting ready to make the jump to class V. The majority of the rapids are easy to portage or scout and at moderate flows there are good recovery sections to pick up the pieces after any carnage. Once on the river you\\'re committed to the run as the bedrock canyon walls offer few opportunities to exit the river. Paddlers check the flow online or by gauging the river level relative to the bridge piling on river left (measured in inches above \"the unit\") and then head off downstream. The first mile or so offers an easy warm-up through class II/III rapids. You can see a bit of this section from the road on the shuttle drive. The action starts as the canyon walls close in and you approach the first horizon line known as Swizzle Sticks for the big logs that were wedged vertically but have since moved on. This tight gorge forms a great class IV rapid before you approach the logging road bridge overhead. The best rapids on the run start below this bridge. The first is Terminator, a meaty hole that lives up to its name. You can avoid it by staying to the left. The next significant rapid is a double drop sequence consisting of Prelude to Thrasher and Thrasher. Both are fun ledge drops with a stiff hydraulic at the base so choose your line carefully. A fun boulder garden section brings you to the edge of Kahuna, a 17\\' waterfall that plunges into a nice pool. It\\'s a big drop but the approach is easy and there\\'s a nice auto-boof on the right side. Just stay away from the walls below the drop. After still more quality whitewater you\\'ll find yourself at another double drop sequence where two 10\\' ledges come in quick succession. These drops are Champagne and the Hammering Spot. Champagne has a beautiful center boof and on Hammering Spot you will want to head for the right side boof or risk getting hammered in the hole on the left side. After these two drops it\\'s a short distance downstream to the final ledge on the run known as Toby\\'s. There are a couple different routes on this one but be careful as there is an extreme pin hazard. If you make a good center to left boof you clear the subsurface rocks. If you have any question in your abilities to pull off the move and keep your bow up, particularly at lower flows, then take a more conservative route. You can portage along river right, or sneak by driving over the correct dry rock on river left. There is also a \"helicopter\" line on the right that requires an S move that can be a little tricky. The hazard factor on this drop is worse that it may first appear and there has been a fatality here when a boater bow pinned ([accident report](http://www.americanwhitewater.org/safety/archive/id/634/)) as well as a knee dislocation of a boater who was trying to do the left sneak. Once you clear the last drop the fun is over and you have a paddle out on the reservoir. It\\'s not too bad but one wonders what whitewater treasures may lie beneath this reservoir on what was once the Lewis River. It\\'s just over a mile to a bridge across the reservoir which provides a take-out along the left side. For more information check out the [Canyon Creek page](http://www.oregonkayaking.net/creeks/canyon_wash/canyon_wash.html) on Oregon Kayaking.',\n",
       " 'difficulty': 'IV+',\n",
       " 'difficulty_filter': 4.2,\n",
       " 'difficulty_maximum': 'IV+',\n",
       " 'difficulty_minimum': None,\n",
       " 'difficulty_outlier': None,\n",
       " 'error': None,\n",
       " 'extent': (-122.373001098633,\n",
       "  45.939998626709,\n",
       "  -122.31600189209,\n",
       "  45.9604988098145),\n",
       " 'gauge_id': 35665,\n",
       " 'gauge_max': 1500.0,\n",
       " 'gauge_metric': 2,\n",
       " 'gauge_min': 500.0,\n",
       " 'gauge_observation': 261.0,\n",
       " 'gauge_r0': 500.0,\n",
       " 'gauge_r1': None,\n",
       " 'gauge_r2': None,\n",
       " 'gauge_r3': None,\n",
       " 'gauge_r4': 700.0,\n",
       " 'gauge_r5': 1100.0,\n",
       " 'gauge_r6': 1100.0,\n",
       " 'gauge_r7': None,\n",
       " 'gauge_r8': None,\n",
       " 'gauge_r9': 1500.0,\n",
       " 'gauge_runnable': False,\n",
       " 'gauge_stage': 'too low',\n",
       " 'gauge_units': 'cfs',\n",
       " 'huc': '17080002',\n",
       " 'length': 3.2,\n",
       " 'notes': '',\n",
       " 'putin_x': -122.31600189209,\n",
       " 'putin_y': 45.939998626709,\n",
       " 'reach_alternate_name': None,\n",
       " 'reach_id': '3066',\n",
       " 'reach_name': '2 - Fly Creek to Merwin Reservoir',\n",
       " 'reach_name_alternate': '',\n",
       " 'reach_search': 'Canyon Creek (Lewis River trib.) 2 - Fly Creek to Merwin Reservoir',\n",
       " 'river_name': 'Canyon Creek (Lewis River trib.)',\n",
       " 'river_name_alternate': '',\n",
       " 'takeout_x': -122.373001098633,\n",
       " 'takeout_y': 45.9604988098145,\n",
       " 'tracing_method': None,\n",
       " 'update_arcgis': None,\n",
       " 'update_aw': datetime.datetime(2019, 4, 24, 19, 15, 38),\n",
       " 'validated': None,\n",
       " 'validated_by': ''}"
      ]
     },
     "execution_count": 87,
     "metadata": {},
     "output_type": "execute_result"
    }
   ],
   "source": [
    "reach.as_feature.attributes"
   ]
  },
  {
   "cell_type": "code",
   "execution_count": 82,
   "metadata": {},
   "outputs": [
    {
     "data": {
      "text/plain": [
       "{'dhid': 40247,\n",
       " 'id': 40247,\n",
       " 'did': 40247,\n",
       " 'gauge_name': 'CANYON CREEK NEAR AMBOY, WA',\n",
       " 'updated': '3270.59474',\n",
       " 'epoch': '3270.59474',\n",
       " 'reading': '255',\n",
       " 'gauge_metric': 2,\n",
       " 'gauge_min': '500.0000',\n",
       " 'gauge_max': '700.0000',\n",
       " 'obs_id': 153180203151115,\n",
       " 'gauge_id': 35665,\n",
       " 'gauge_reading': '255',\n",
       " 'last_gauge_reading': '255',\n",
       " 'last_gauge_updated': '3584',\n",
       " 'gauge_comment': None,\n",
       " 'gauge_data': None,\n",
       " 'range_comment': '',\n",
       " 'gauge_perfect': False,\n",
       " 'gauge_estimated': False,\n",
       " 'gauge_important': False,\n",
       " 'range_min': 'R0',\n",
       " 'range_max': 'R5',\n",
       " 'adjusted_reach_class': None,\n",
       " 'targetid': 40247,\n",
       " 'sourceid': 35665,\n",
       " 'metricid': 2,\n",
       " 'min': '500.0000',\n",
       " 'max': '700.0000',\n",
       " 'source': 'usgs',\n",
       " 'source_id': '14219000',\n",
       " 'glat': '45.939834',\n",
       " 'glon': '-122.317040',\n",
       " 'time_adjustment': 0,\n",
       " 'class': 'low',\n",
       " 'rc': -1.225,\n",
       " 'excluded': False,\n",
       " 'rmin': '1100.0000',\n",
       " 'rmax': '1500.0000',\n",
       " 'metric_unit': 'cfs',\n",
       " 'url': '/content/Gauge2/detail/id/35665'}"
      ]
     },
     "execution_count": 82,
     "metadata": {},
     "output_type": "execute_result"
    }
   ],
   "source": [
    "val = reach._reach_json['gauges'][0]\n",
    "val"
   ]
  },
  {
   "cell_type": "code",
   "execution_count": 59,
   "metadata": {},
   "outputs": [],
   "source": [
    "from datetime import datetime"
   ]
  },
  {
   "cell_type": "code",
   "execution_count": 72,
   "metadata": {},
   "outputs": [
    {
     "data": {
      "text/plain": [
       "datetime.datetime(1978, 4, 20, 20, 0, 40, 900000)"
      ]
     },
     "execution_count": 72,
     "metadata": {},
     "output_type": "execute_result"
    }
   ],
   "source": [
    "datetime.fromtimestamp(float(val)*100000)"
   ]
  },
  {
   "cell_type": "code",
   "execution_count": null,
   "metadata": {},
   "outputs": [],
   "source": []
  }
 ],
 "metadata": {
  "kernelspec": {
   "display_name": "Python 3",
   "language": "python",
   "name": "python3"
  },
  "language_info": {
   "codemirror_mode": {
    "name": "ipython",
    "version": 3
   },
   "file_extension": ".py",
   "mimetype": "text/x-python",
   "name": "python",
   "nbconvert_exporter": "python",
   "pygments_lexer": "ipython3",
   "version": "3.7.1"
  }
 },
 "nbformat": 4,
 "nbformat_minor": 2
}

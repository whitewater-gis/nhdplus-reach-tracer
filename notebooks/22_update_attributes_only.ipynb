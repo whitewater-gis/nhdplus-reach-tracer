{
 "cells": [
  {
   "cell_type": "code",
   "execution_count": 26,
   "metadata": {},
   "outputs": [],
   "source": [
    "import logging\n",
    "import json\n",
    "from arcgis.features import Feature\n",
    "\n",
    "import sys\n",
    "sys.path.append('../src')\n",
    "\n",
    "from reach_tools import *\n",
    "import config\n",
    "\n",
    "%load_ext autoreload\n",
    "%autoreload 2"
   ]
  },
  {
   "cell_type": "code",
   "execution_count": 31,
   "metadata": {},
   "outputs": [
    {
     "name": "stdout",
     "output_type": "stream",
     "text": [
      "CPU times: user 259 ms, sys: 18.8 ms, total: 278 ms\n",
      "Wall time: 8.62 s\n"
     ]
    }
   ],
   "source": [
    "%%time\n",
    "# we need a connection to arcgis, so start there\n",
    "gis = GIS(username=config.arcgis_username, password=config.arcgis_password)\n",
    "\n",
    "# create layers to be updated\n",
    "lyr_centroid = ReachFeatureLayer(config.url_reach_centroid, gis)\n",
    "lyr_line = ReachFeatureLayer(config.url_reach_line, gis)\n",
    "\n",
    "# since the input message content is a single feature, extract the reach id from the feature\n",
    "# feature_json = json.loads(msg.get_body())\n",
    "# reach_id = feature_json['attributes']['reach_id']\n",
    "reach_id = 2241\n",
    "\n",
    "# create a reach object to work with\n",
    "reach = Reach.get_from_aw(reach_id)\n",
    "\n",
    "reach.publish_attribute_updates_only(lyr_line, lyr_centroid)"
   ]
  },
  {
   "cell_type": "code",
   "execution_count": null,
   "metadata": {},
   "outputs": [],
   "source": []
  }
 ],
 "metadata": {
  "kernelspec": {
   "display_name": "Python 3",
   "language": "python",
   "name": "python3"
  },
  "language_info": {
   "codemirror_mode": {
    "name": "ipython",
    "version": 3
   },
   "file_extension": ".py",
   "mimetype": "text/x-python",
   "name": "python",
   "nbconvert_exporter": "python",
   "pygments_lexer": "ipython3",
   "version": "3.6.8"
  }
 },
 "nbformat": 4,
 "nbformat_minor": 2
}

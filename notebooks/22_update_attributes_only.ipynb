{
 "cells": [
  {
   "cell_type": "code",
   "execution_count": 1,
   "metadata": {},
   "outputs": [],
   "source": [
    "import logging\n",
    "import json\n",
    "from arcgis.features import Feature\n",
    "\n",
    "import sys\n",
    "sys.path.append('../src')\n",
    "\n",
    "from reach_tools import *\n",
    "import config"
   ]
  },
  {
   "cell_type": "code",
   "execution_count": 9,
   "metadata": {},
   "outputs": [],
   "source": [
    "# we need a connection to arcgis, so start there\n",
    "gis = GIS(username=config.arcgis_username, password=config.arcgis_password)\n",
    "\n",
    "# create layers to be updated\n",
    "lyr_centroid = ReachFeatureLayer(config.url_reach_centroid, gis)\n",
    "lyr_line = ReachFeatureLayer(config.url_reach_line, gis)\n",
    "lyr_points = ReachPointFeatureLayer(config.url_reach_points, gis)\n",
    "\n",
    "# # update ArcGIS Online\n",
    "# reach.publish_updates(lyr_line, lyr_centroid, lyr_points)"
   ]
  },
  {
   "cell_type": "code",
   "execution_count": 2,
   "metadata": {},
   "outputs": [],
   "source": [
    "# since the input message content is a single feature, extract the reach id from the feature\n",
    "# feature_json = json.loads(msg.get_body())\n",
    "# reach_id = feature_json['attributes']['reach_id']\n",
    "reach_id = 2241\n",
    "\n",
    "# create a reach object to work with\n",
    "reach = Reach.get_from_aw(reach_id)"
   ]
  },
  {
   "cell_type": "code",
   "execution_count": 25,
   "metadata": {},
   "outputs": [
    {
     "data": {
      "text/plain": [
       "{\"attributes\": {\"abstract\": \"A class V classic, Robe Canyon flows throughout the winter rainy season.\", \"agency\": null, \"description\": \"FUN FACT: Creek run with a big water feel. Very continuous with some big drops. SEASON: Through the winter and spring. ACCESS: Take-out at the Mountain Loop Highway Bridge just outside of Granite Falls (Granite Falls lurks just downstream so make sure you get out here). Verlot Campground is one potential public access point if you're looking for a warm-up. Alternative hike-in access of about a mile, which cuts off some of the flatwater, is available along the Old Robe Historical Trail which is part of Snohomish County Parks. Access across private property east of the trailhead is also possible if you have permission (check with local paddlers. You can find them on the [Robe Facebook Group](https://www.facebook.com/groups/320042238135448/)). DESCRIPTION: Considered one of North America's classic whitewater runs, and the class V standard for boaters in Western Washington, the run starts with five and a half miles of class I/II before slamming into a three mile canyon of class IV, V, and V+ rapids. You can have a look at the rapids at the start of the canyon along the Old Robe Historical Trail (an old railroad grade through the canyon) and potentially use it as an alternative access (although it's nearly a mile to the river). The trailhead is on Mt. Loop Highway at mile 7.2 and you can view approximately 1/2 a mile of the canyon's whitewater before the trail basically ends. Check out a [video guide](http://vimeo.com/929903) to Robe Canyon.\", \"difficulty\": \"V\", \"difficulty_filter\": 5.1, \"difficulty_maximum\": \"V\", \"difficulty_minimum\": null, \"difficulty_outlier\": null, \"error\": null, \"gauge_id\": 4826, \"gauge_max\": 6.0, \"gauge_metric\": 8, \"gauge_min\": 5.0, \"gauge_observation\": 4.88, \"gauge_r0\": 5.0, \"gauge_r1\": null, \"gauge_r2\": null, \"gauge_r3\": null, \"gauge_r4\": null, \"gauge_r5\": null, \"gauge_r6\": null, \"gauge_r7\": null, \"gauge_r8\": null, \"gauge_r9\": 6.0, \"gauge_runnable\": false, \"gauge_stage\": \"too low\", \"gauge_units\": \"ft\", \"huc\": \"17110008\", \"length\": 12.3, \"notes\": \"\", \"reach_alternate_name\": null, \"reach_id\": \"2241\", \"reach_name\": \"3 - Verlot to Granite Falls (Robe Canyon Run)\", \"reach_name_alternate\": \"\", \"reach_search\": \"Stillaguamish, S. Fork 3 - Verlot to Granite Falls (Robe Canyon Run)\", \"river_name\": \"Stillaguamish, S. Fork\", \"river_name_alternate\": \"\", \"trace_source\": null, \"tracing_method\": null, \"update_arcgis\": null, \"update_aw\": 1484039066000, \"validated\": null, \"validated_by\": \"\"}}"
      ]
     },
     "execution_count": 25,
     "metadata": {},
     "output_type": "execute_result"
    }
   ],
   "source": [
    "fs = reach.as_centroid_feature\n",
    "for attr in ['putin_x', 'putin_y', 'takeout_x', 'takeout_y', 'extent', 'centroid']:\n",
    "    del(fs.attributes[attr])\n",
    "\n",
    "Feature(attributes=fs.attributes)"
   ]
  },
  {
   "cell_type": "code",
   "execution_count": null,
   "metadata": {},
   "outputs": [],
   "source": []
  }
 ],
 "metadata": {
  "kernelspec": {
   "display_name": "Python 3",
   "language": "python",
   "name": "python3"
  },
  "language_info": {
   "codemirror_mode": {
    "name": "ipython",
    "version": 3
   },
   "file_extension": ".py",
   "mimetype": "text/x-python",
   "name": "python",
   "nbconvert_exporter": "python",
   "pygments_lexer": "ipython3",
   "version": "3.6.8"
  }
 },
 "nbformat": 4,
 "nbformat_minor": 2
}

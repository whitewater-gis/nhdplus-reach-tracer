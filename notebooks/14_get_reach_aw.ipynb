{
 "cells": [
  {
   "cell_type": "code",
   "execution_count": 23,
   "metadata": {
    "collapsed": true
   },
   "outputs": [
    {
     "name": "stdout",
     "output_type": "stream",
     "text": [
      "The autoreload extension is already loaded. To reload it, use:\n",
      "  %reload_ext autoreload\n"
     ]
    }
   ],
   "source": [
    "import sys\n",
    "import os\n",
    "sys.path.append(os.path.abspath('../src'))\n",
    "import reach_tools\n",
    "\n",
    "from datetime import datetime, timedelta\n",
    "import time\n",
    "import requests\n",
    "import pandas as pd\n",
    "\n",
    "from arcgis.gis import GIS\n",
    "\n",
    "%load_ext autoreload\n",
    "%autoreload 2"
   ]
  },
  {
   "cell_type": "code",
   "execution_count": 24,
   "metadata": {},
   "outputs": [],
   "source": [
    "reach = reach_tools.Reach.get_from_aw(3066)"
   ]
  },
  {
   "cell_type": "code",
   "execution_count": 25,
   "metadata": {},
   "outputs": [
    {
     "name": "stdout",
     "output_type": "stream",
     "text": [
      "Canyon Creek (Lewis River trib.) 2 - Fly Creek to Merwin Reservoir 35665 2470.0 2 False\n",
      "Flow Min: 1100.0\n",
      "Flow Max: 1500.0\n"
     ]
    }
   ],
   "source": [
    "print(reach.reach_search, reach.gauge_id, reach.gauge_observation, reach.gauge_metric, reach.gauge_runnable)\n",
    "print(f'Flow Min: {reach.gauge_min}')\n",
    "print(f'Flow Max: {reach.gauge_max}')"
   ]
  },
  {
   "cell_type": "code",
   "execution_count": 26,
   "metadata": {},
   "outputs": [
    {
     "name": "stdout",
     "output_type": "stream",
     "text": [
      "500.0 700.0 R0 R5\n",
      "700.0 1100.0 R4 R6\n",
      "1100.0 1500.0 R5 R9\n"
     ]
    }
   ],
   "source": [
    "for rng in reach._reach_json['guagesummary']['ranges']:\n",
    "    print(float(rng['gauge_min']), float(rng['gauge_max']), rng['range_min'], rng['range_max'])"
   ]
  },
  {
   "cell_type": "code",
   "execution_count": 27,
   "metadata": {},
   "outputs": [
    {
     "data": {
      "text/html": [
       "GIS @ <a href=\"https://knu2xs.maps.arcgis.com\">https://knu2xs.maps.arcgis.com</a>"
      ],
      "text/plain": [
       "GIS @ https://knu2xs.maps.arcgis.com version:7.1"
      ]
     },
     "execution_count": 27,
     "metadata": {},
     "output_type": "execute_result"
    }
   ],
   "source": [
    "gis = GIS(username='knu2xs', password='K3mosabe')\n",
    "gis"
   ]
  },
  {
   "cell_type": "code",
   "execution_count": 33,
   "metadata": {},
   "outputs": [
    {
     "data": {
      "text/plain": [
       "<ReachFeatureLayer url:\"https://services3.arcgis.com/p9emohPzcQpdUrEc/arcgis/rest/services/Reach_Centroid/FeatureServer\">"
      ]
     },
     "execution_count": 33,
     "metadata": {},
     "output_type": "execute_result"
    }
   ],
   "source": [
    "reach_centroid_url = 'https://services3.arcgis.com/p9emohPzcQpdUrEc/arcgis/rest/services/Reach_Centroid/FeatureServer'\n",
    "reach_centroid_lyr = reach_tools.ReachFeatureLayer.from_url(gis, reach_centroid_url)\n",
    "reach_centroid_lyr"
   ]
  },
  {
   "cell_type": "code",
   "execution_count": 34,
   "metadata": {},
   "outputs": [
    {
     "ename": "KeyError",
     "evalue": "'count'",
     "output_type": "error",
     "traceback": [
      "\u001b[0;31m---------------------------------------------------------------------------\u001b[0m",
      "\u001b[0;31mKeyError\u001b[0m                                  Traceback (most recent call last)",
      "\u001b[0;32m<ipython-input-34-ee8336d66c9a>\u001b[0m in \u001b[0;36m<module>\u001b[0;34m\u001b[0m\n\u001b[0;32m----> 1\u001b[0;31m \u001b[0mreach_fs\u001b[0m \u001b[0;34m=\u001b[0m \u001b[0mreach_centroid_lyr\u001b[0m\u001b[0;34m.\u001b[0m\u001b[0mquery_by_reach_id\u001b[0m\u001b[0;34m(\u001b[0m\u001b[0mreach\u001b[0m\u001b[0;34m.\u001b[0m\u001b[0mreach_id\u001b[0m\u001b[0;34m)\u001b[0m\u001b[0;34m\u001b[0m\u001b[0;34m\u001b[0m\u001b[0m\n\u001b[0m\u001b[1;32m      2\u001b[0m \u001b[0mreach_fs\u001b[0m\u001b[0;34m\u001b[0m\u001b[0;34m\u001b[0m\u001b[0m\n",
      "\u001b[0;32m~/projects/water-reach-tracer/src/reach_tools.py\u001b[0m in \u001b[0;36mquery_by_reach_id\u001b[0;34m(self, reach_id, spatial_reference)\u001b[0m\n\u001b[1;32m   1163\u001b[0m \u001b[0;34m\u001b[0m\u001b[0m\n\u001b[1;32m   1164\u001b[0m     \u001b[0;32mdef\u001b[0m \u001b[0mquery_by_reach_id\u001b[0m\u001b[0;34m(\u001b[0m\u001b[0mself\u001b[0m\u001b[0;34m,\u001b[0m \u001b[0mreach_id\u001b[0m\u001b[0;34m,\u001b[0m \u001b[0mspatial_reference\u001b[0m\u001b[0;34m=\u001b[0m\u001b[0;34m{\u001b[0m\u001b[0;34m'wkid'\u001b[0m\u001b[0;34m:\u001b[0m \u001b[0;36m4326\u001b[0m\u001b[0;34m}\u001b[0m\u001b[0;34m)\u001b[0m\u001b[0;34m:\u001b[0m\u001b[0;34m\u001b[0m\u001b[0;34m\u001b[0m\u001b[0m\n\u001b[0;32m-> 1165\u001b[0;31m         \u001b[0;32mreturn\u001b[0m \u001b[0mself\u001b[0m\u001b[0;34m.\u001b[0m\u001b[0mquery\u001b[0m\u001b[0;34m(\u001b[0m\u001b[0;34mf\"reach_id = '{reach_id}'\"\u001b[0m\u001b[0;34m,\u001b[0m \u001b[0mout_sr\u001b[0m\u001b[0;34m=\u001b[0m\u001b[0mspatial_reference\u001b[0m\u001b[0;34m)\u001b[0m\u001b[0;34m\u001b[0m\u001b[0;34m\u001b[0m\u001b[0m\n\u001b[0m\u001b[1;32m   1166\u001b[0m \u001b[0;34m\u001b[0m\u001b[0m\n\u001b[1;32m   1167\u001b[0m     \u001b[0;32mdef\u001b[0m \u001b[0mflush\u001b[0m\u001b[0;34m(\u001b[0m\u001b[0mself\u001b[0m\u001b[0;34m)\u001b[0m\u001b[0;34m:\u001b[0m\u001b[0;34m\u001b[0m\u001b[0;34m\u001b[0m\u001b[0m\n",
      "\u001b[0;32m/anaconda3/envs/arcgis/lib/python3.7/site-packages/arcgis/features/layer.py\u001b[0m in \u001b[0;36mquery\u001b[0;34m(self, where, out_fields, time_filter, geometry_filter, return_geometry, return_count_only, return_ids_only, return_distinct_values, return_extent_only, group_by_fields_for_statistics, statistic_filter, result_offset, result_record_count, object_ids, distance, units, max_allowable_offset, out_sr, geometry_precision, gdb_version, order_by_fields, out_statistics, return_z, return_m, multipatch_option, quantization_parameters, return_centroid, return_all_records, result_type, historic_moment, sql_format, return_true_curves, return_exceeded_limit_features, as_df, **kwargs)\u001b[0m\n\u001b[1;32m    698\u001b[0m \u001b[0;34m\u001b[0m\u001b[0m\n\u001b[1;32m    699\u001b[0m         \u001b[0mparams\u001b[0m\u001b[0;34m[\u001b[0m\u001b[0;34m'returnCountOnly'\u001b[0m\u001b[0;34m]\u001b[0m \u001b[0;34m=\u001b[0m \u001b[0;32mTrue\u001b[0m\u001b[0;34m\u001b[0m\u001b[0;34m\u001b[0m\u001b[0m\n\u001b[0;32m--> 700\u001b[0;31m         \u001b[0mrecord_count\u001b[0m \u001b[0;34m=\u001b[0m \u001b[0mself\u001b[0m\u001b[0;34m.\u001b[0m\u001b[0m_query\u001b[0m\u001b[0;34m(\u001b[0m\u001b[0murl\u001b[0m\u001b[0;34m,\u001b[0m \u001b[0mparams\u001b[0m\u001b[0;34m,\u001b[0m \u001b[0mraw\u001b[0m\u001b[0;34m=\u001b[0m\u001b[0mas_raw\u001b[0m\u001b[0;34m)\u001b[0m\u001b[0;34m\u001b[0m\u001b[0;34m\u001b[0m\u001b[0m\n\u001b[0m\u001b[1;32m    701\u001b[0m         \u001b[0;32mif\u001b[0m \u001b[0;34m'maxRecordCount'\u001b[0m \u001b[0;32min\u001b[0m \u001b[0mself\u001b[0m\u001b[0;34m.\u001b[0m\u001b[0mproperties\u001b[0m\u001b[0;34m:\u001b[0m\u001b[0;34m\u001b[0m\u001b[0;34m\u001b[0m\u001b[0m\n\u001b[1;32m    702\u001b[0m             \u001b[0mmax_records\u001b[0m \u001b[0;34m=\u001b[0m \u001b[0mself\u001b[0m\u001b[0;34m.\u001b[0m\u001b[0mproperties\u001b[0m\u001b[0;34m[\u001b[0m\u001b[0;34m'maxRecordCount'\u001b[0m\u001b[0;34m]\u001b[0m\u001b[0;34m\u001b[0m\u001b[0;34m\u001b[0m\u001b[0m\n",
      "\u001b[0;32m/anaconda3/envs/arcgis/lib/python3.7/site-packages/arcgis/features/layer.py\u001b[0m in \u001b[0;36m_query\u001b[0;34m(self, url, params, raw)\u001b[0m\n\u001b[1;32m   1401\u001b[0m             \u001b[0;32mraise\u001b[0m \u001b[0mValueError\u001b[0m\u001b[0;34m(\u001b[0m\u001b[0mresult\u001b[0m\u001b[0;34m)\u001b[0m\u001b[0;34m\u001b[0m\u001b[0;34m\u001b[0m\u001b[0m\n\u001b[1;32m   1402\u001b[0m         \u001b[0;32mif\u001b[0m  \u001b[0mparams\u001b[0m\u001b[0;34m[\u001b[0m\u001b[0;34m'returnCountOnly'\u001b[0m\u001b[0;34m]\u001b[0m\u001b[0;34m:\u001b[0m\u001b[0;34m\u001b[0m\u001b[0;34m\u001b[0m\u001b[0m\n\u001b[0;32m-> 1403\u001b[0;31m             \u001b[0;32mreturn\u001b[0m \u001b[0mresult\u001b[0m\u001b[0;34m[\u001b[0m\u001b[0;34m'count'\u001b[0m\u001b[0;34m]\u001b[0m\u001b[0;34m\u001b[0m\u001b[0;34m\u001b[0m\u001b[0m\n\u001b[0m\u001b[1;32m   1404\u001b[0m         \u001b[0;32melif\u001b[0m \u001b[0mparams\u001b[0m\u001b[0;34m[\u001b[0m\u001b[0;34m'returnIdsOnly'\u001b[0m\u001b[0;34m]\u001b[0m\u001b[0;34m:\u001b[0m\u001b[0;34m\u001b[0m\u001b[0;34m\u001b[0m\u001b[0m\n\u001b[1;32m   1405\u001b[0m             \u001b[0;32mreturn\u001b[0m \u001b[0mresult\u001b[0m\u001b[0;34m\u001b[0m\u001b[0;34m\u001b[0m\u001b[0m\n",
      "\u001b[0;31mKeyError\u001b[0m: 'count'"
     ]
    }
   ],
   "source": [
    "reach_fs = reach_centroid_lyr.query_by_reach_id(reach.reach_id)\n",
    "reach_fs"
   ]
  },
  {
   "cell_type": "code",
   "execution_count": 105,
   "metadata": {},
   "outputs": [
    {
     "name": "stdout",
     "output_type": "stream",
     "text": [
      "CPU times: user 28.4 ms, sys: 4.62 ms, total: 33.1 ms\n",
      "Wall time: 479 ms\n"
     ]
    }
   ],
   "source": [
    "%%time\n",
    "\n",
    "self = reach\n",
    "\n",
    "endTime = datetime.utcnow()\n",
    "startTime = endTime - timedelta(hours=6)\n",
    "\n",
    "endTimeStamp = round(endTime.timestamp())\n",
    "startTimeStamp = round(startTime.timestamp())\n",
    "\n",
    "url = f'http://www.americanwhitewater.org/api/gauge/{reach.gauge_id}/flows/{reach.gauge_metric}'\n",
    "\n",
    "params = {\n",
    "    'from': startTimeStamp,\n",
    "    'to': endTimeStamp,\n",
    "    'resolution': 1\n",
    "}\n",
    "\n",
    "resp = requests.get(url, params=params)\n",
    "\n",
    "df = pd.DataFrame.from_dict(resp.json())\n",
    "df.updated = df.updated.apply(lambda val: datetime.fromtimestamp(round(float(val))))"
   ]
  },
  {
   "cell_type": "code",
   "execution_count": 95,
   "metadata": {},
   "outputs": [
    {
     "data": {
      "text/plain": [
       "[{'gauge_id': '35665',\n",
       "  'metric': '2',\n",
       "  'nv': '1555025280',\n",
       "  'reading': '2550',\n",
       "  'updated': datetime.datetime(2019, 4, 11, 16, 28),\n",
       "  'data': None,\n",
       "  'id': '153180202990015'},\n",
       " {'gauge_id': '35665',\n",
       "  'metric': '2',\n",
       "  'nv': '1555028992',\n",
       "  'reading': '2430',\n",
       "  'updated': datetime.datetime(2019, 4, 11, 17, 29, 52),\n",
       "  'data': None,\n",
       "  'id': '153180202990465'}]"
      ]
     },
     "execution_count": 95,
     "metadata": {},
     "output_type": "execute_result"
    }
   ],
   "source": [
    "resp_json = resp.json()\n",
    "\n",
    "for obs in resp_json:\n",
    "    obs['updated'] = datetime.fromtimestamp(round(float(obs['updated'])))\n",
    "resp_json"
   ]
  },
  {
   "cell_type": "code",
   "execution_count": 90,
   "metadata": {},
   "outputs": [
    {
     "data": {
      "text/plain": [
       "1100.0"
      ]
     },
     "execution_count": 90,
     "metadata": {},
     "output_type": "execute_result"
    }
   ],
   "source": [
    "reach.gauge_min"
   ]
  },
  {
   "cell_type": "code",
   "execution_count": 91,
   "metadata": {},
   "outputs": [
    {
     "data": {
      "text/plain": [
       "1500.0"
      ]
     },
     "execution_count": 91,
     "metadata": {},
     "output_type": "execute_result"
    }
   ],
   "source": [
    "reach.gauge_max"
   ]
  },
  {
   "cell_type": "code",
   "execution_count": null,
   "metadata": {},
   "outputs": [],
   "source": []
  }
 ],
 "metadata": {
  "kernelspec": {
   "display_name": "Python 3",
   "language": "python",
   "name": "python3"
  },
  "language_info": {
   "codemirror_mode": {
    "name": "ipython",
    "version": 3
   },
   "file_extension": ".py",
   "mimetype": "text/x-python",
   "name": "python",
   "nbconvert_exporter": "python",
   "pygments_lexer": "ipython3",
   "version": "3.7.1"
  }
 },
 "nbformat": 4,
 "nbformat_minor": 2
}

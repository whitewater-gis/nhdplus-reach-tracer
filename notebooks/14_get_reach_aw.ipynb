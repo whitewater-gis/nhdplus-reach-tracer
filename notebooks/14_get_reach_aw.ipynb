{
 "cells": [
  {
   "cell_type": "code",
   "execution_count": 1,
   "metadata": {
    "collapsed": true
   },
   "outputs": [],
   "source": [
    "import sys\n",
    "import os\n",
    "sys.path.append(os.path.abspath('../src'))\n",
    "import reach_tools\n",
    "\n",
    "from datetime import datetime, timedelta\n",
    "import time\n",
    "import requests\n",
    "import pandas as pd\n",
    "\n",
    "from arcgis.gis import GIS\n",
    "\n",
    "%load_ext autoreload\n",
    "%autoreload 2"
   ]
  },
  {
   "cell_type": "code",
   "execution_count": 214,
   "metadata": {},
   "outputs": [
    {
     "name": "stdout",
     "output_type": "stream",
     "text": [
      "CPU times: user 29.9 ms, sys: 2.56 ms, total: 32.5 ms\n",
      "Wall time: 305 ms\n"
     ]
    }
   ],
   "source": [
    "%%time\n",
    "reach = reach_tools.Reach.get_from_aw(3066)"
   ]
  },
  {
   "cell_type": "code",
   "execution_count": 215,
   "metadata": {},
   "outputs": [
    {
     "name": "stdout",
     "output_type": "stream",
     "text": [
      "gauge_r0 500.0\n",
      "gauge_r5 700.0\n",
      "gauge_r4 700.0\n",
      "gauge_r6 1100.0\n",
      "gauge_r5 1100.0\n",
      "gauge_r9 1500.0\n"
     ]
    },
    {
     "data": {
      "text/plain": [
       "[700.0, 1100.0, 1100.0, 1500.0]"
      ]
     },
     "execution_count": 215,
     "metadata": {},
     "output_type": "execute_result"
    }
   ],
   "source": [
    "self = reach\n",
    "\n",
    "for rng in self._reach_json['guagesummary']['ranges']:\n",
    "    print(f\"gauge_{rng['range_min'].lower()}\", float(rng['gauge_min']))\n",
    "    print(f\"gauge_{rng['range_max'].lower()}\", float(rng['gauge_max']))\n",
    "    setattr(self, f\"gauge_{rng['range_min'].lower()}\", float(rng['gauge_min']))\n",
    "    setattr(self, f\"gauge_{rng['range_max'].lower()}\", float(rng['gauge_max']))\n",
    "\n",
    "gauge_r_lst = [self.gauge_r1, self.gauge_r2, self.gauge_r3, self.gauge_r4, self.gauge_r5, self.gauge_r6,\n",
    "                           self.gauge_r7, self.gauge_r8, self.gauge_r9]\n",
    "gauge_r_lst = [val for val in gauge_r_lst if val is not None]\n",
    "gauge_r_lst"
   ]
  },
  {
   "cell_type": "code",
   "execution_count": 217,
   "metadata": {},
   "outputs": [
    {
     "name": "stdout",
     "output_type": "stream",
     "text": [
      "Canyon Creek (Lewis River trib.) 2 - Fly Creek to Merwin Reservoir\n",
      "Gauge ID: 35665\n",
      "Current Observation: 277.0 cfs\n",
      "Runnable: False\n",
      "Flow Min: 500.0 cfs\n",
      "Flow Max: 1500.0 cfs\n",
      "Gauge Stage: too low\n"
     ]
    }
   ],
   "source": [
    "print(reach.reach_search)\n",
    "print(f'Gauge ID: {reach.gauge_id}')\n",
    "print(f'Current Observation: {reach.gauge_observation} {reach.gauge_units}')\n",
    "print(f'Runnable: {reach.gauge_runnable}')\n",
    "print(f'Flow Min: {reach.gauge_min} {reach.gauge_units}')\n",
    "print(f'Flow Max: {reach.gauge_max} {reach.gauge_units}')\n",
    "print(f'Gauge Stage: {reach.gauge_stage}')"
   ]
  },
  {
   "cell_type": "code",
   "execution_count": 209,
   "metadata": {},
   "outputs": [
    {
     "name": "stdin",
     "output_type": "stream",
     "text": [
      "Enter password:  ········\n"
     ]
    },
    {
     "data": {
      "text/html": [
       "GIS @ <a href=\"https://knu2xs.maps.arcgis.com\">https://knu2xs.maps.arcgis.com</a>"
      ],
      "text/plain": [
       "GIS @ https://knu2xs.maps.arcgis.com version:7.1"
      ]
     },
     "execution_count": 209,
     "metadata": {},
     "output_type": "execute_result"
    }
   ],
   "source": [
    "gis = GIS(username='knu2xs')\n",
    "gis"
   ]
  },
  {
   "cell_type": "code",
   "execution_count": 210,
   "metadata": {},
   "outputs": [
    {
     "data": {
      "text/plain": [
       "<ReachFeatureLayer url:\"https://services3.arcgis.com/p9emohPzcQpdUrEc/arcgis/rest/services/Reach_Centroid/FeatureServer/0\">"
      ]
     },
     "execution_count": 210,
     "metadata": {},
     "output_type": "execute_result"
    }
   ],
   "source": [
    "reach_centroid_url = 'https://services3.arcgis.com/p9emohPzcQpdUrEc/arcgis/rest/services/Reach_Centroid/FeatureServer/0'\n",
    "\n",
    "reach_centroid_lyr = reach_tools.ReachFeatureLayer.from_url(gis, reach_centroid_url)\n",
    "reach_centroid_lyr"
   ]
  },
  {
   "cell_type": "code",
   "execution_count": 222,
   "metadata": {},
   "outputs": [
    {
     "data": {
      "text/html": [
       "<div>\n",
       "<style scoped>\n",
       "    .dataframe tbody tr th:only-of-type {\n",
       "        vertical-align: middle;\n",
       "    }\n",
       "\n",
       "    .dataframe tbody tr th {\n",
       "        vertical-align: top;\n",
       "    }\n",
       "\n",
       "    .dataframe thead th {\n",
       "        text-align: right;\n",
       "    }\n",
       "</style>\n",
       "<table border=\"1\" class=\"dataframe\">\n",
       "  <thead>\n",
       "    <tr style=\"text-align: right;\">\n",
       "      <th></th>\n",
       "      <th>data</th>\n",
       "      <th>gauge_id</th>\n",
       "      <th>id</th>\n",
       "      <th>metric</th>\n",
       "      <th>nv</th>\n",
       "      <th>reading</th>\n",
       "      <th>updated</th>\n",
       "    </tr>\n",
       "  </thead>\n",
       "  <tbody>\n",
       "    <tr>\n",
       "      <th>0</th>\n",
       "      <td>None</td>\n",
       "      <td>35665</td>\n",
       "      <td>153180203132215</td>\n",
       "      <td>2</td>\n",
       "      <td>1556162944</td>\n",
       "      <td>306</td>\n",
       "      <td>2019-04-24 20:29:04</td>\n",
       "    </tr>\n",
       "    <tr>\n",
       "      <th>1</th>\n",
       "      <td>None</td>\n",
       "      <td>35665</td>\n",
       "      <td>153180203132665</td>\n",
       "      <td>2</td>\n",
       "      <td>1556166528</td>\n",
       "      <td>303</td>\n",
       "      <td>2019-04-24 21:28:48</td>\n",
       "    </tr>\n",
       "    <tr>\n",
       "      <th>2</th>\n",
       "      <td>None</td>\n",
       "      <td>35665</td>\n",
       "      <td>153180203133115</td>\n",
       "      <td>2</td>\n",
       "      <td>1556170112</td>\n",
       "      <td>296</td>\n",
       "      <td>2019-04-24 22:28:32</td>\n",
       "    </tr>\n",
       "    <tr>\n",
       "      <th>3</th>\n",
       "      <td>None</td>\n",
       "      <td>35665</td>\n",
       "      <td>153180203133565</td>\n",
       "      <td>2</td>\n",
       "      <td>1556173696</td>\n",
       "      <td>306</td>\n",
       "      <td>2019-04-24 23:28:16</td>\n",
       "    </tr>\n",
       "    <tr>\n",
       "      <th>4</th>\n",
       "      <td>None</td>\n",
       "      <td>35665</td>\n",
       "      <td>153180203134015</td>\n",
       "      <td>2</td>\n",
       "      <td>1556177280</td>\n",
       "      <td>289</td>\n",
       "      <td>2019-04-25 00:28:00</td>\n",
       "    </tr>\n",
       "    <tr>\n",
       "      <th>5</th>\n",
       "      <td>None</td>\n",
       "      <td>35665</td>\n",
       "      <td>153180203134465</td>\n",
       "      <td>2</td>\n",
       "      <td>1556180992</td>\n",
       "      <td>283</td>\n",
       "      <td>2019-04-25 01:29:52</td>\n",
       "    </tr>\n",
       "    <tr>\n",
       "      <th>6</th>\n",
       "      <td>None</td>\n",
       "      <td>35665</td>\n",
       "      <td>153180203134915</td>\n",
       "      <td>2</td>\n",
       "      <td>1556184576</td>\n",
       "      <td>293</td>\n",
       "      <td>2019-04-25 02:29:36</td>\n",
       "    </tr>\n",
       "    <tr>\n",
       "      <th>7</th>\n",
       "      <td>None</td>\n",
       "      <td>35665</td>\n",
       "      <td>153180203135365</td>\n",
       "      <td>2</td>\n",
       "      <td>1556188160</td>\n",
       "      <td>289</td>\n",
       "      <td>2019-04-25 03:29:20</td>\n",
       "    </tr>\n",
       "    <tr>\n",
       "      <th>8</th>\n",
       "      <td>None</td>\n",
       "      <td>35665</td>\n",
       "      <td>153180203135815</td>\n",
       "      <td>2</td>\n",
       "      <td>1556191744</td>\n",
       "      <td>289</td>\n",
       "      <td>2019-04-25 04:29:04</td>\n",
       "    </tr>\n",
       "    <tr>\n",
       "      <th>9</th>\n",
       "      <td>None</td>\n",
       "      <td>35665</td>\n",
       "      <td>153180203136265</td>\n",
       "      <td>2</td>\n",
       "      <td>1556195328</td>\n",
       "      <td>293</td>\n",
       "      <td>2019-04-25 05:28:48</td>\n",
       "    </tr>\n",
       "    <tr>\n",
       "      <th>10</th>\n",
       "      <td>None</td>\n",
       "      <td>35665</td>\n",
       "      <td>153180203136715</td>\n",
       "      <td>2</td>\n",
       "      <td>1556198912</td>\n",
       "      <td>283</td>\n",
       "      <td>2019-04-25 06:28:32</td>\n",
       "    </tr>\n",
       "    <tr>\n",
       "      <th>11</th>\n",
       "      <td>None</td>\n",
       "      <td>35665</td>\n",
       "      <td>153180203137165</td>\n",
       "      <td>2</td>\n",
       "      <td>1556202496</td>\n",
       "      <td>280</td>\n",
       "      <td>2019-04-25 07:28:16</td>\n",
       "    </tr>\n",
       "    <tr>\n",
       "      <th>12</th>\n",
       "      <td>None</td>\n",
       "      <td>35665</td>\n",
       "      <td>153180203137615</td>\n",
       "      <td>2</td>\n",
       "      <td>1556206080</td>\n",
       "      <td>283</td>\n",
       "      <td>2019-04-25 08:28:00</td>\n",
       "    </tr>\n",
       "    <tr>\n",
       "      <th>13</th>\n",
       "      <td>None</td>\n",
       "      <td>35665</td>\n",
       "      <td>153180203138065</td>\n",
       "      <td>2</td>\n",
       "      <td>1556209792</td>\n",
       "      <td>286</td>\n",
       "      <td>2019-04-25 09:29:52</td>\n",
       "    </tr>\n",
       "    <tr>\n",
       "      <th>14</th>\n",
       "      <td>None</td>\n",
       "      <td>35665</td>\n",
       "      <td>153180203138515</td>\n",
       "      <td>2</td>\n",
       "      <td>1556213376</td>\n",
       "      <td>283</td>\n",
       "      <td>2019-04-25 10:29:36</td>\n",
       "    </tr>\n",
       "    <tr>\n",
       "      <th>15</th>\n",
       "      <td>None</td>\n",
       "      <td>35665</td>\n",
       "      <td>153180203138965</td>\n",
       "      <td>2</td>\n",
       "      <td>1556216960</td>\n",
       "      <td>274</td>\n",
       "      <td>2019-04-25 11:29:20</td>\n",
       "    </tr>\n",
       "    <tr>\n",
       "      <th>16</th>\n",
       "      <td>None</td>\n",
       "      <td>35665</td>\n",
       "      <td>153180203139415</td>\n",
       "      <td>2</td>\n",
       "      <td>1556220544</td>\n",
       "      <td>274</td>\n",
       "      <td>2019-04-25 12:29:04</td>\n",
       "    </tr>\n",
       "    <tr>\n",
       "      <th>17</th>\n",
       "      <td>None</td>\n",
       "      <td>35665</td>\n",
       "      <td>153180203139865</td>\n",
       "      <td>2</td>\n",
       "      <td>1556224128</td>\n",
       "      <td>280</td>\n",
       "      <td>2019-04-25 13:28:48</td>\n",
       "    </tr>\n",
       "    <tr>\n",
       "      <th>18</th>\n",
       "      <td>None</td>\n",
       "      <td>35665</td>\n",
       "      <td>153180203140315</td>\n",
       "      <td>2</td>\n",
       "      <td>1556227712</td>\n",
       "      <td>277</td>\n",
       "      <td>2019-04-25 14:28:32</td>\n",
       "    </tr>\n",
       "    <tr>\n",
       "      <th>19</th>\n",
       "      <td>None</td>\n",
       "      <td>35665</td>\n",
       "      <td>153180203140765</td>\n",
       "      <td>2</td>\n",
       "      <td>1556231296</td>\n",
       "      <td>286</td>\n",
       "      <td>2019-04-25 15:28:16</td>\n",
       "    </tr>\n",
       "    <tr>\n",
       "      <th>20</th>\n",
       "      <td>None</td>\n",
       "      <td>35665</td>\n",
       "      <td>153180203141215</td>\n",
       "      <td>2</td>\n",
       "      <td>1556234880</td>\n",
       "      <td>277</td>\n",
       "      <td>2019-04-25 16:28:00</td>\n",
       "    </tr>\n",
       "  </tbody>\n",
       "</table>\n",
       "</div>"
      ],
      "text/plain": [
       "    data gauge_id               id metric          nv reading  \\\n",
       "0   None    35665  153180203132215      2  1556162944     306   \n",
       "1   None    35665  153180203132665      2  1556166528     303   \n",
       "2   None    35665  153180203133115      2  1556170112     296   \n",
       "3   None    35665  153180203133565      2  1556173696     306   \n",
       "4   None    35665  153180203134015      2  1556177280     289   \n",
       "5   None    35665  153180203134465      2  1556180992     283   \n",
       "6   None    35665  153180203134915      2  1556184576     293   \n",
       "7   None    35665  153180203135365      2  1556188160     289   \n",
       "8   None    35665  153180203135815      2  1556191744     289   \n",
       "9   None    35665  153180203136265      2  1556195328     293   \n",
       "10  None    35665  153180203136715      2  1556198912     283   \n",
       "11  None    35665  153180203137165      2  1556202496     280   \n",
       "12  None    35665  153180203137615      2  1556206080     283   \n",
       "13  None    35665  153180203138065      2  1556209792     286   \n",
       "14  None    35665  153180203138515      2  1556213376     283   \n",
       "15  None    35665  153180203138965      2  1556216960     274   \n",
       "16  None    35665  153180203139415      2  1556220544     274   \n",
       "17  None    35665  153180203139865      2  1556224128     280   \n",
       "18  None    35665  153180203140315      2  1556227712     277   \n",
       "19  None    35665  153180203140765      2  1556231296     286   \n",
       "20  None    35665  153180203141215      2  1556234880     277   \n",
       "\n",
       "               updated  \n",
       "0  2019-04-24 20:29:04  \n",
       "1  2019-04-24 21:28:48  \n",
       "2  2019-04-24 22:28:32  \n",
       "3  2019-04-24 23:28:16  \n",
       "4  2019-04-25 00:28:00  \n",
       "5  2019-04-25 01:29:52  \n",
       "6  2019-04-25 02:29:36  \n",
       "7  2019-04-25 03:29:20  \n",
       "8  2019-04-25 04:29:04  \n",
       "9  2019-04-25 05:28:48  \n",
       "10 2019-04-25 06:28:32  \n",
       "11 2019-04-25 07:28:16  \n",
       "12 2019-04-25 08:28:00  \n",
       "13 2019-04-25 09:29:52  \n",
       "14 2019-04-25 10:29:36  \n",
       "15 2019-04-25 11:29:20  \n",
       "16 2019-04-25 12:29:04  \n",
       "17 2019-04-25 13:28:48  \n",
       "18 2019-04-25 14:28:32  \n",
       "19 2019-04-25 15:28:16  \n",
       "20 2019-04-25 16:28:00  "
      ]
     },
     "execution_count": 222,
     "metadata": {},
     "output_type": "execute_result"
    }
   ],
   "source": [
    "self = reach\n",
    "\n",
    "endTime = datetime.utcnow()\n",
    "startTime = endTime - timedelta(hours=24)\n",
    "\n",
    "endTimeStamp = round(endTime.timestamp())\n",
    "startTimeStamp = round(startTime.timestamp())\n",
    "\n",
    "url = f'http://www.americanwhitewater.org/api/gauge/{reach.gauge_id}/flows/{reach.gauge_metric}'\n",
    "\n",
    "params = {\n",
    "    'from': startTimeStamp,\n",
    "    'to': endTimeStamp,\n",
    "    'resolution': 1\n",
    "}\n",
    "\n",
    "resp = requests.get(url, params=params)\n",
    "\n",
    "df = pd.DataFrame.from_dict(resp.json())\n",
    "df.updated = df.updated.apply(lambda val: datetime.fromtimestamp(round(float(val))))\n",
    "\n",
    "df"
   ]
  },
  {
   "cell_type": "code",
   "execution_count": 219,
   "metadata": {},
   "outputs": [
    {
     "data": {
      "text/plain": [
       "data                       None\n",
       "gauge_id                  35665\n",
       "id              153180203141215\n",
       "metric                        2\n",
       "nv                   1556234880\n",
       "reading                     277\n",
       "updated     2019-04-25 16:28:00\n",
       "Name: 20, dtype: object"
      ]
     },
     "execution_count": 219,
     "metadata": {},
     "output_type": "execute_result"
    }
   ],
   "source": [
    "last_obs_row = df.loc[df['updated'].idxmax()]\n",
    "last_obs_row"
   ]
  },
  {
   "cell_type": "code",
   "execution_count": 220,
   "metadata": {},
   "outputs": [
    {
     "data": {
      "text/plain": [
       "277.0"
      ]
     },
     "execution_count": 220,
     "metadata": {},
     "output_type": "execute_result"
    }
   ],
   "source": [
    "last_obs = float(last_obs_row.reading)\n",
    "last_obs"
   ]
  },
  {
   "cell_type": "code",
   "execution_count": 137,
   "metadata": {},
   "outputs": [
    {
     "data": {
      "text/plain": [
       "<FeatureSet> 5764 features"
      ]
     },
     "execution_count": 137,
     "metadata": {},
     "output_type": "execute_result"
    }
   ],
   "source": [
    "oid_resp = reach_centroid_lyr.query(return_ids_only=True)\n",
    "oids = ','.join([str(v) for v in oid_resp['objectIds']])\n",
    "gauge_fields = ['reach_id', 'gauge_max', 'gauge_min', 'gauge_observation', 'gauge_runnable', 'gauge_r0', 'gauge_r1', 'gauge_r2', 'gauge_r3', 'gauge_r4', 'gauge_r5', 'gauge_r6', 'gauge_r7', \n",
    "                'gauge_r8', 'gauge_r9', 'gauge_id', 'gauge_units', 'gauge_metric']\n",
    "reach_fs = reach_centroid_lyr.query(object_ids=oids, out_fields=gauge_fields, return_geometry=False)\n",
    "reach_fs"
   ]
  },
  {
   "cell_type": "code",
   "execution_count": 223,
   "metadata": {},
   "outputs": [
    {
     "name": "stdout",
     "output_type": "stream",
     "text": [
      "MSG: (idx-600) Reach ID 580 Object ID 619 gauge information was successfully updated and has a gauge.\n",
      "MSG: (idx-601) Reach ID 581 Object ID 620 gauge information was successfully updated and has a gauge.\n",
      "MSG: (idx-602) Reach ID 582 Object ID 621 gauge information was successfully updated and has a gauge.\n",
      "MSG: (idx-603) Reach ID 583 Object ID 622 gauge information was successfully updated and has a gauge.\n",
      "MSG: (idx-604) Reach ID 584 Object ID 623 gauge information was successfully updated and has a gauge.\n",
      "MSG: (idx-605) Reach ID 585 Object ID 624 gauge information was successfully updated and has a gauge.\n",
      "MSG: (idx-606) Reach ID 586 Object ID 625 gauge information was successfully updated and has a gauge.\n",
      "MSG: (idx-607) Reach ID 587 Object ID 626 gauge information was successfully updated and has a gauge.\n",
      "MSG: (idx-608) Reach ID 588 Object ID 627 gauge information was successfully updated and has a gauge.\n",
      "MSG: (idx-609) Reach ID 589 Object ID 628 gauge information was successfully updated and has a gauge.\n",
      "MSG: (idx-610) Reach ID 590 Object ID 629 gauge information was successfully updated and has a gauge.\n",
      "MSG: (idx-611) Reach ID 591 Object ID 630 gauge information was successfully updated and has a gauge.\n",
      "MSG: (idx-612) Reach ID 592 Object ID 631 gauge information was successfully updated and has a gauge.\n",
      "MSG: (idx-613) Reach ID 593 Object ID 632 gauge information was successfully updated and has a gauge.\n",
      "MSG: (idx-614) Reach ID 594 Object ID 633 gauge information was successfully updated and has a gauge.\n",
      "MSG: (idx-615) Reach ID 595 Object ID 634 gauge information was successfully updated and has a gauge.\n",
      "MSG: (idx-616) Reach ID 596 Object ID 635 gauge information was successfully updated and has a gauge.\n",
      "MSG: (idx-617) Reach ID 597 Object ID 636 gauge information was successfully updated and has a gauge.\n",
      "MSG: (idx-618) Reach ID 598 Object ID 637 gauge information was successfully updated and has a gauge.\n",
      "MSG: (idx-619) Reach ID 599 Object ID 638 gauge information was successfully updated and has a gauge.\n",
      "MSG: (idx-620) Reach ID 600 Object ID 639 gauge information was successfully updated and has a gauge.\n",
      "MSG: (idx-621) Reach ID 601 Object ID 640 gauge information was successfully updated and has a gauge.\n",
      "MSG: (idx-622) Reach ID 602 Object ID 641 gauge information was successfully updated and has a gauge.\n",
      "MSG: (idx-623) Reach ID 603 Object ID 642 gauge information was successfully updated and has a gauge.\n",
      "MSG: (idx-624) Reach ID 604 Object ID 643 gauge information was successfully updated and has a gauge.\n",
      "MSG: (idx-625) Reach ID 605 Object ID 644 gauge information was successfully updated and has a gauge.\n",
      "MSG: (idx-626) Reach ID 606 Object ID 645 gauge information was successfully updated and has a gauge.\n"
     ]
    },
    {
     "ename": "KeyboardInterrupt",
     "evalue": "",
     "output_type": "error",
     "traceback": [
      "\u001b[0;31m---------------------------------------------------------------------------\u001b[0m",
      "\u001b[0;31mKeyboardInterrupt\u001b[0m                         Traceback (most recent call last)",
      "\u001b[0;32m<ipython-input-223-4cd0d33e6b9c>\u001b[0m in \u001b[0;36m<module>\u001b[0;34m()\u001b[0m\n\u001b[1;32m      4\u001b[0m     \u001b[0;32mfor\u001b[0m \u001b[0mfield\u001b[0m \u001b[0;32min\u001b[0m \u001b[0mgauge_fields\u001b[0m\u001b[0;34m:\u001b[0m\u001b[0;34m\u001b[0m\u001b[0m\n\u001b[1;32m      5\u001b[0m         \u001b[0mfeature\u001b[0m\u001b[0;34m.\u001b[0m\u001b[0mattributes\u001b[0m\u001b[0;34m[\u001b[0m\u001b[0mfield\u001b[0m\u001b[0;34m]\u001b[0m \u001b[0;34m=\u001b[0m \u001b[0mgetattr\u001b[0m\u001b[0;34m(\u001b[0m\u001b[0mreach\u001b[0m\u001b[0;34m,\u001b[0m \u001b[0mfield\u001b[0m\u001b[0;34m)\u001b[0m\u001b[0;34m\u001b[0m\u001b[0m\n\u001b[0;32m----> 6\u001b[0;31m     \u001b[0mresp\u001b[0m \u001b[0;34m=\u001b[0m \u001b[0mreach_centroid_lyr\u001b[0m\u001b[0;34m.\u001b[0m\u001b[0medit_features\u001b[0m\u001b[0;34m(\u001b[0m\u001b[0mupdates\u001b[0m\u001b[0;34m=\u001b[0m\u001b[0;34m[\u001b[0m\u001b[0mfeature\u001b[0m\u001b[0;34m]\u001b[0m\u001b[0;34m)\u001b[0m\u001b[0;34m\u001b[0m\u001b[0m\n\u001b[0m\u001b[1;32m      7\u001b[0m     \u001b[0;32mif\u001b[0m \u001b[0mfeat\u001b[0m\u001b[0;34m.\u001b[0m\u001b[0mattributes\u001b[0m\u001b[0;34m[\u001b[0m\u001b[0;34m'gauge_id'\u001b[0m\u001b[0;34m]\u001b[0m\u001b[0;34m:\u001b[0m\u001b[0;34m\u001b[0m\u001b[0m\n\u001b[1;32m      8\u001b[0m         \u001b[0mhas_gauge\u001b[0m \u001b[0;34m=\u001b[0m \u001b[0;34m'has a gauge'\u001b[0m\u001b[0;34m\u001b[0m\u001b[0m\n",
      "\u001b[0;32m/anaconda3/envs/arcgis-dev/lib/python3.6/site-packages/arcgis/features/layer.py\u001b[0m in \u001b[0;36medit_features\u001b[0;34m(self, adds, updates, deletes, gdb_version, use_global_ids, rollback_on_failure)\u001b[0m\n\u001b[1;32m   1323\u001b[0m             \u001b[0mprint\u001b[0m\u001b[0;34m(\u001b[0m\u001b[0;34m\"Parameters not valid for edit_features\"\u001b[0m\u001b[0;34m)\u001b[0m\u001b[0;34m\u001b[0m\u001b[0m\n\u001b[1;32m   1324\u001b[0m             \u001b[0;32mreturn\u001b[0m \u001b[0;32mNone\u001b[0m\u001b[0;34m\u001b[0m\u001b[0m\n\u001b[0;32m-> 1325\u001b[0;31m         \u001b[0;32mreturn\u001b[0m \u001b[0mself\u001b[0m\u001b[0;34m.\u001b[0m\u001b[0m_con\u001b[0m\u001b[0;34m.\u001b[0m\u001b[0mpost\u001b[0m\u001b[0;34m(\u001b[0m\u001b[0mpath\u001b[0m\u001b[0;34m=\u001b[0m\u001b[0medit_url\u001b[0m\u001b[0;34m,\u001b[0m \u001b[0mpostdata\u001b[0m\u001b[0;34m=\u001b[0m\u001b[0mparams\u001b[0m\u001b[0;34m,\u001b[0m \u001b[0mtoken\u001b[0m\u001b[0;34m=\u001b[0m\u001b[0mself\u001b[0m\u001b[0;34m.\u001b[0m\u001b[0m_token\u001b[0m\u001b[0;34m)\u001b[0m\u001b[0;34m\u001b[0m\u001b[0m\n\u001b[0m\u001b[1;32m   1326\u001b[0m \u001b[0;34m\u001b[0m\u001b[0m\n\u001b[1;32m   1327\u001b[0m     \u001b[0;31m# ----------------------------------------------------------------------\u001b[0m\u001b[0;34m\u001b[0m\u001b[0;34m\u001b[0m\u001b[0m\n",
      "\u001b[0;32m/anaconda3/envs/arcgis-dev/lib/python3.6/site-packages/arcgis/_impl/connection.py\u001b[0m in \u001b[0;36mpost\u001b[0;34m(self, path, postdata, files, ssl, compress, is_retry, use_ordered_dict, add_token, verify_cert, token, try_json, out_folder, file_name, force_bytes, add_headers)\u001b[0m\n\u001b[1;32m   1113\u001b[0m             \u001b[0mopener\u001b[0m\u001b[0;34m.\u001b[0m\u001b[0maddheaders\u001b[0m \u001b[0;34m=\u001b[0m \u001b[0mheaders\u001b[0m\u001b[0;34m\u001b[0m\u001b[0m\n\u001b[1;32m   1114\u001b[0m             \u001b[0;31m#print(\"***\"+url)\u001b[0m\u001b[0;34m\u001b[0m\u001b[0;34m\u001b[0m\u001b[0m\n\u001b[0;32m-> 1115\u001b[0;31m             \u001b[0mresp\u001b[0m \u001b[0;34m=\u001b[0m \u001b[0mopener\u001b[0m\u001b[0;34m.\u001b[0m\u001b[0mopen\u001b[0m\u001b[0;34m(\u001b[0m\u001b[0murl\u001b[0m\u001b[0;34m,\u001b[0m \u001b[0mdata\u001b[0m\u001b[0;34m=\u001b[0m\u001b[0mencoded_postdata\u001b[0m\u001b[0;34m.\u001b[0m\u001b[0mencode\u001b[0m\u001b[0;34m(\u001b[0m\u001b[0;34m)\u001b[0m\u001b[0;34m)\u001b[0m\u001b[0;34m\u001b[0m\u001b[0m\n\u001b[0m\u001b[1;32m   1116\u001b[0m             resp_data, is_file = self._process_response(resp,\n\u001b[1;32m   1117\u001b[0m                                                \u001b[0mout_folder\u001b[0m\u001b[0;34m=\u001b[0m\u001b[0mout_folder\u001b[0m\u001b[0;34m,\u001b[0m\u001b[0;34m\u001b[0m\u001b[0m\n",
      "\u001b[0;32m/anaconda3/envs/arcgis-dev/lib/python3.6/urllib/request.py\u001b[0m in \u001b[0;36mopen\u001b[0;34m(self, fullurl, data, timeout)\u001b[0m\n\u001b[1;32m    524\u001b[0m             \u001b[0mreq\u001b[0m \u001b[0;34m=\u001b[0m \u001b[0mmeth\u001b[0m\u001b[0;34m(\u001b[0m\u001b[0mreq\u001b[0m\u001b[0;34m)\u001b[0m\u001b[0;34m\u001b[0m\u001b[0m\n\u001b[1;32m    525\u001b[0m \u001b[0;34m\u001b[0m\u001b[0m\n\u001b[0;32m--> 526\u001b[0;31m         \u001b[0mresponse\u001b[0m \u001b[0;34m=\u001b[0m \u001b[0mself\u001b[0m\u001b[0;34m.\u001b[0m\u001b[0m_open\u001b[0m\u001b[0;34m(\u001b[0m\u001b[0mreq\u001b[0m\u001b[0;34m,\u001b[0m \u001b[0mdata\u001b[0m\u001b[0;34m)\u001b[0m\u001b[0;34m\u001b[0m\u001b[0m\n\u001b[0m\u001b[1;32m    527\u001b[0m \u001b[0;34m\u001b[0m\u001b[0m\n\u001b[1;32m    528\u001b[0m         \u001b[0;31m# post-process response\u001b[0m\u001b[0;34m\u001b[0m\u001b[0;34m\u001b[0m\u001b[0m\n",
      "\u001b[0;32m/anaconda3/envs/arcgis-dev/lib/python3.6/urllib/request.py\u001b[0m in \u001b[0;36m_open\u001b[0;34m(self, req, data)\u001b[0m\n\u001b[1;32m    542\u001b[0m         \u001b[0mprotocol\u001b[0m \u001b[0;34m=\u001b[0m \u001b[0mreq\u001b[0m\u001b[0;34m.\u001b[0m\u001b[0mtype\u001b[0m\u001b[0;34m\u001b[0m\u001b[0m\n\u001b[1;32m    543\u001b[0m         result = self._call_chain(self.handle_open, protocol, protocol +\n\u001b[0;32m--> 544\u001b[0;31m                                   '_open', req)\n\u001b[0m\u001b[1;32m    545\u001b[0m         \u001b[0;32mif\u001b[0m \u001b[0mresult\u001b[0m\u001b[0;34m:\u001b[0m\u001b[0;34m\u001b[0m\u001b[0m\n\u001b[1;32m    546\u001b[0m             \u001b[0;32mreturn\u001b[0m \u001b[0mresult\u001b[0m\u001b[0;34m\u001b[0m\u001b[0m\n",
      "\u001b[0;32m/anaconda3/envs/arcgis-dev/lib/python3.6/urllib/request.py\u001b[0m in \u001b[0;36m_call_chain\u001b[0;34m(self, chain, kind, meth_name, *args)\u001b[0m\n\u001b[1;32m    502\u001b[0m         \u001b[0;32mfor\u001b[0m \u001b[0mhandler\u001b[0m \u001b[0;32min\u001b[0m \u001b[0mhandlers\u001b[0m\u001b[0;34m:\u001b[0m\u001b[0;34m\u001b[0m\u001b[0m\n\u001b[1;32m    503\u001b[0m             \u001b[0mfunc\u001b[0m \u001b[0;34m=\u001b[0m \u001b[0mgetattr\u001b[0m\u001b[0;34m(\u001b[0m\u001b[0mhandler\u001b[0m\u001b[0;34m,\u001b[0m \u001b[0mmeth_name\u001b[0m\u001b[0;34m)\u001b[0m\u001b[0;34m\u001b[0m\u001b[0m\n\u001b[0;32m--> 504\u001b[0;31m             \u001b[0mresult\u001b[0m \u001b[0;34m=\u001b[0m \u001b[0mfunc\u001b[0m\u001b[0;34m(\u001b[0m\u001b[0;34m*\u001b[0m\u001b[0margs\u001b[0m\u001b[0;34m)\u001b[0m\u001b[0;34m\u001b[0m\u001b[0m\n\u001b[0m\u001b[1;32m    505\u001b[0m             \u001b[0;32mif\u001b[0m \u001b[0mresult\u001b[0m \u001b[0;32mis\u001b[0m \u001b[0;32mnot\u001b[0m \u001b[0;32mNone\u001b[0m\u001b[0;34m:\u001b[0m\u001b[0;34m\u001b[0m\u001b[0m\n\u001b[1;32m    506\u001b[0m                 \u001b[0;32mreturn\u001b[0m \u001b[0mresult\u001b[0m\u001b[0;34m\u001b[0m\u001b[0m\n",
      "\u001b[0;32m/anaconda3/envs/arcgis-dev/lib/python3.6/urllib/request.py\u001b[0m in \u001b[0;36mhttps_open\u001b[0;34m(self, req)\u001b[0m\n\u001b[1;32m   1359\u001b[0m         \u001b[0;32mdef\u001b[0m \u001b[0mhttps_open\u001b[0m\u001b[0;34m(\u001b[0m\u001b[0mself\u001b[0m\u001b[0;34m,\u001b[0m \u001b[0mreq\u001b[0m\u001b[0;34m)\u001b[0m\u001b[0;34m:\u001b[0m\u001b[0;34m\u001b[0m\u001b[0m\n\u001b[1;32m   1360\u001b[0m             return self.do_open(http.client.HTTPSConnection, req,\n\u001b[0;32m-> 1361\u001b[0;31m                 context=self._context, check_hostname=self._check_hostname)\n\u001b[0m\u001b[1;32m   1362\u001b[0m \u001b[0;34m\u001b[0m\u001b[0m\n\u001b[1;32m   1363\u001b[0m         \u001b[0mhttps_request\u001b[0m \u001b[0;34m=\u001b[0m \u001b[0mAbstractHTTPHandler\u001b[0m\u001b[0;34m.\u001b[0m\u001b[0mdo_request_\u001b[0m\u001b[0;34m\u001b[0m\u001b[0m\n",
      "\u001b[0;32m/anaconda3/envs/arcgis-dev/lib/python3.6/urllib/request.py\u001b[0m in \u001b[0;36mdo_open\u001b[0;34m(self, http_class, req, **http_conn_args)\u001b[0m\n\u001b[1;32m   1319\u001b[0m             \u001b[0;32mexcept\u001b[0m \u001b[0mOSError\u001b[0m \u001b[0;32mas\u001b[0m \u001b[0merr\u001b[0m\u001b[0;34m:\u001b[0m \u001b[0;31m# timeout error\u001b[0m\u001b[0;34m\u001b[0m\u001b[0m\n\u001b[1;32m   1320\u001b[0m                 \u001b[0;32mraise\u001b[0m \u001b[0mURLError\u001b[0m\u001b[0;34m(\u001b[0m\u001b[0merr\u001b[0m\u001b[0;34m)\u001b[0m\u001b[0;34m\u001b[0m\u001b[0m\n\u001b[0;32m-> 1321\u001b[0;31m             \u001b[0mr\u001b[0m \u001b[0;34m=\u001b[0m \u001b[0mh\u001b[0m\u001b[0;34m.\u001b[0m\u001b[0mgetresponse\u001b[0m\u001b[0;34m(\u001b[0m\u001b[0;34m)\u001b[0m\u001b[0;34m\u001b[0m\u001b[0m\n\u001b[0m\u001b[1;32m   1322\u001b[0m         \u001b[0;32mexcept\u001b[0m\u001b[0;34m:\u001b[0m\u001b[0;34m\u001b[0m\u001b[0m\n\u001b[1;32m   1323\u001b[0m             \u001b[0mh\u001b[0m\u001b[0;34m.\u001b[0m\u001b[0mclose\u001b[0m\u001b[0;34m(\u001b[0m\u001b[0;34m)\u001b[0m\u001b[0;34m\u001b[0m\u001b[0m\n",
      "\u001b[0;32m/anaconda3/envs/arcgis-dev/lib/python3.6/http/client.py\u001b[0m in \u001b[0;36mgetresponse\u001b[0;34m(self)\u001b[0m\n\u001b[1;32m   1329\u001b[0m         \u001b[0;32mtry\u001b[0m\u001b[0;34m:\u001b[0m\u001b[0;34m\u001b[0m\u001b[0m\n\u001b[1;32m   1330\u001b[0m             \u001b[0;32mtry\u001b[0m\u001b[0;34m:\u001b[0m\u001b[0;34m\u001b[0m\u001b[0m\n\u001b[0;32m-> 1331\u001b[0;31m                 \u001b[0mresponse\u001b[0m\u001b[0;34m.\u001b[0m\u001b[0mbegin\u001b[0m\u001b[0;34m(\u001b[0m\u001b[0;34m)\u001b[0m\u001b[0;34m\u001b[0m\u001b[0m\n\u001b[0m\u001b[1;32m   1332\u001b[0m             \u001b[0;32mexcept\u001b[0m \u001b[0mConnectionError\u001b[0m\u001b[0;34m:\u001b[0m\u001b[0;34m\u001b[0m\u001b[0m\n\u001b[1;32m   1333\u001b[0m                 \u001b[0mself\u001b[0m\u001b[0;34m.\u001b[0m\u001b[0mclose\u001b[0m\u001b[0;34m(\u001b[0m\u001b[0;34m)\u001b[0m\u001b[0;34m\u001b[0m\u001b[0m\n",
      "\u001b[0;32m/anaconda3/envs/arcgis-dev/lib/python3.6/http/client.py\u001b[0m in \u001b[0;36mbegin\u001b[0;34m(self)\u001b[0m\n\u001b[1;32m    295\u001b[0m         \u001b[0;31m# read until we get a non-100 response\u001b[0m\u001b[0;34m\u001b[0m\u001b[0;34m\u001b[0m\u001b[0m\n\u001b[1;32m    296\u001b[0m         \u001b[0;32mwhile\u001b[0m \u001b[0;32mTrue\u001b[0m\u001b[0;34m:\u001b[0m\u001b[0;34m\u001b[0m\u001b[0m\n\u001b[0;32m--> 297\u001b[0;31m             \u001b[0mversion\u001b[0m\u001b[0;34m,\u001b[0m \u001b[0mstatus\u001b[0m\u001b[0;34m,\u001b[0m \u001b[0mreason\u001b[0m \u001b[0;34m=\u001b[0m \u001b[0mself\u001b[0m\u001b[0;34m.\u001b[0m\u001b[0m_read_status\u001b[0m\u001b[0;34m(\u001b[0m\u001b[0;34m)\u001b[0m\u001b[0;34m\u001b[0m\u001b[0m\n\u001b[0m\u001b[1;32m    298\u001b[0m             \u001b[0;32mif\u001b[0m \u001b[0mstatus\u001b[0m \u001b[0;34m!=\u001b[0m \u001b[0mCONTINUE\u001b[0m\u001b[0;34m:\u001b[0m\u001b[0;34m\u001b[0m\u001b[0m\n\u001b[1;32m    299\u001b[0m                 \u001b[0;32mbreak\u001b[0m\u001b[0;34m\u001b[0m\u001b[0m\n",
      "\u001b[0;32m/anaconda3/envs/arcgis-dev/lib/python3.6/http/client.py\u001b[0m in \u001b[0;36m_read_status\u001b[0;34m(self)\u001b[0m\n\u001b[1;32m    256\u001b[0m \u001b[0;34m\u001b[0m\u001b[0m\n\u001b[1;32m    257\u001b[0m     \u001b[0;32mdef\u001b[0m \u001b[0m_read_status\u001b[0m\u001b[0;34m(\u001b[0m\u001b[0mself\u001b[0m\u001b[0;34m)\u001b[0m\u001b[0;34m:\u001b[0m\u001b[0;34m\u001b[0m\u001b[0m\n\u001b[0;32m--> 258\u001b[0;31m         \u001b[0mline\u001b[0m \u001b[0;34m=\u001b[0m \u001b[0mstr\u001b[0m\u001b[0;34m(\u001b[0m\u001b[0mself\u001b[0m\u001b[0;34m.\u001b[0m\u001b[0mfp\u001b[0m\u001b[0;34m.\u001b[0m\u001b[0mreadline\u001b[0m\u001b[0;34m(\u001b[0m\u001b[0m_MAXLINE\u001b[0m \u001b[0;34m+\u001b[0m \u001b[0;36m1\u001b[0m\u001b[0;34m)\u001b[0m\u001b[0;34m,\u001b[0m \u001b[0;34m\"iso-8859-1\"\u001b[0m\u001b[0;34m)\u001b[0m\u001b[0;34m\u001b[0m\u001b[0m\n\u001b[0m\u001b[1;32m    259\u001b[0m         \u001b[0;32mif\u001b[0m \u001b[0mlen\u001b[0m\u001b[0;34m(\u001b[0m\u001b[0mline\u001b[0m\u001b[0;34m)\u001b[0m \u001b[0;34m>\u001b[0m \u001b[0m_MAXLINE\u001b[0m\u001b[0;34m:\u001b[0m\u001b[0;34m\u001b[0m\u001b[0m\n\u001b[1;32m    260\u001b[0m             \u001b[0;32mraise\u001b[0m \u001b[0mLineTooLong\u001b[0m\u001b[0;34m(\u001b[0m\u001b[0;34m\"status line\"\u001b[0m\u001b[0;34m)\u001b[0m\u001b[0;34m\u001b[0m\u001b[0m\n",
      "\u001b[0;32m/anaconda3/envs/arcgis-dev/lib/python3.6/socket.py\u001b[0m in \u001b[0;36mreadinto\u001b[0;34m(self, b)\u001b[0m\n\u001b[1;32m    584\u001b[0m         \u001b[0;32mwhile\u001b[0m \u001b[0;32mTrue\u001b[0m\u001b[0;34m:\u001b[0m\u001b[0;34m\u001b[0m\u001b[0m\n\u001b[1;32m    585\u001b[0m             \u001b[0;32mtry\u001b[0m\u001b[0;34m:\u001b[0m\u001b[0;34m\u001b[0m\u001b[0m\n\u001b[0;32m--> 586\u001b[0;31m                 \u001b[0;32mreturn\u001b[0m \u001b[0mself\u001b[0m\u001b[0;34m.\u001b[0m\u001b[0m_sock\u001b[0m\u001b[0;34m.\u001b[0m\u001b[0mrecv_into\u001b[0m\u001b[0;34m(\u001b[0m\u001b[0mb\u001b[0m\u001b[0;34m)\u001b[0m\u001b[0;34m\u001b[0m\u001b[0m\n\u001b[0m\u001b[1;32m    587\u001b[0m             \u001b[0;32mexcept\u001b[0m \u001b[0mtimeout\u001b[0m\u001b[0;34m:\u001b[0m\u001b[0;34m\u001b[0m\u001b[0m\n\u001b[1;32m    588\u001b[0m                 \u001b[0mself\u001b[0m\u001b[0;34m.\u001b[0m\u001b[0m_timeout_occurred\u001b[0m \u001b[0;34m=\u001b[0m \u001b[0;32mTrue\u001b[0m\u001b[0;34m\u001b[0m\u001b[0m\n",
      "\u001b[0;32m/anaconda3/envs/arcgis-dev/lib/python3.6/ssl.py\u001b[0m in \u001b[0;36mrecv_into\u001b[0;34m(self, buffer, nbytes, flags)\u001b[0m\n\u001b[1;32m   1007\u001b[0m                   \u001b[0;34m\"non-zero flags not allowed in calls to recv_into() on %s\"\u001b[0m \u001b[0;34m%\u001b[0m\u001b[0;34m\u001b[0m\u001b[0m\n\u001b[1;32m   1008\u001b[0m                   self.__class__)\n\u001b[0;32m-> 1009\u001b[0;31m             \u001b[0;32mreturn\u001b[0m \u001b[0mself\u001b[0m\u001b[0;34m.\u001b[0m\u001b[0mread\u001b[0m\u001b[0;34m(\u001b[0m\u001b[0mnbytes\u001b[0m\u001b[0;34m,\u001b[0m \u001b[0mbuffer\u001b[0m\u001b[0;34m)\u001b[0m\u001b[0;34m\u001b[0m\u001b[0m\n\u001b[0m\u001b[1;32m   1010\u001b[0m         \u001b[0;32melse\u001b[0m\u001b[0;34m:\u001b[0m\u001b[0;34m\u001b[0m\u001b[0m\n\u001b[1;32m   1011\u001b[0m             \u001b[0;32mreturn\u001b[0m \u001b[0msocket\u001b[0m\u001b[0;34m.\u001b[0m\u001b[0mrecv_into\u001b[0m\u001b[0;34m(\u001b[0m\u001b[0mself\u001b[0m\u001b[0;34m,\u001b[0m \u001b[0mbuffer\u001b[0m\u001b[0;34m,\u001b[0m \u001b[0mnbytes\u001b[0m\u001b[0;34m,\u001b[0m \u001b[0mflags\u001b[0m\u001b[0;34m)\u001b[0m\u001b[0;34m\u001b[0m\u001b[0m\n",
      "\u001b[0;32m/anaconda3/envs/arcgis-dev/lib/python3.6/ssl.py\u001b[0m in \u001b[0;36mread\u001b[0;34m(self, len, buffer)\u001b[0m\n\u001b[1;32m    869\u001b[0m             \u001b[0;32mraise\u001b[0m \u001b[0mValueError\u001b[0m\u001b[0;34m(\u001b[0m\u001b[0;34m\"Read on closed or unwrapped SSL socket.\"\u001b[0m\u001b[0;34m)\u001b[0m\u001b[0;34m\u001b[0m\u001b[0m\n\u001b[1;32m    870\u001b[0m         \u001b[0;32mtry\u001b[0m\u001b[0;34m:\u001b[0m\u001b[0;34m\u001b[0m\u001b[0m\n\u001b[0;32m--> 871\u001b[0;31m             \u001b[0;32mreturn\u001b[0m \u001b[0mself\u001b[0m\u001b[0;34m.\u001b[0m\u001b[0m_sslobj\u001b[0m\u001b[0;34m.\u001b[0m\u001b[0mread\u001b[0m\u001b[0;34m(\u001b[0m\u001b[0mlen\u001b[0m\u001b[0;34m,\u001b[0m \u001b[0mbuffer\u001b[0m\u001b[0;34m)\u001b[0m\u001b[0;34m\u001b[0m\u001b[0m\n\u001b[0m\u001b[1;32m    872\u001b[0m         \u001b[0;32mexcept\u001b[0m \u001b[0mSSLError\u001b[0m \u001b[0;32mas\u001b[0m \u001b[0mx\u001b[0m\u001b[0;34m:\u001b[0m\u001b[0;34m\u001b[0m\u001b[0m\n\u001b[1;32m    873\u001b[0m             \u001b[0;32mif\u001b[0m \u001b[0mx\u001b[0m\u001b[0;34m.\u001b[0m\u001b[0margs\u001b[0m\u001b[0;34m[\u001b[0m\u001b[0;36m0\u001b[0m\u001b[0;34m]\u001b[0m \u001b[0;34m==\u001b[0m \u001b[0mSSL_ERROR_EOF\u001b[0m \u001b[0;32mand\u001b[0m \u001b[0mself\u001b[0m\u001b[0;34m.\u001b[0m\u001b[0msuppress_ragged_eofs\u001b[0m\u001b[0;34m:\u001b[0m\u001b[0;34m\u001b[0m\u001b[0m\n",
      "\u001b[0;32m/anaconda3/envs/arcgis-dev/lib/python3.6/ssl.py\u001b[0m in \u001b[0;36mread\u001b[0;34m(self, len, buffer)\u001b[0m\n\u001b[1;32m    629\u001b[0m         \"\"\"\n\u001b[1;32m    630\u001b[0m         \u001b[0;32mif\u001b[0m \u001b[0mbuffer\u001b[0m \u001b[0;32mis\u001b[0m \u001b[0;32mnot\u001b[0m \u001b[0;32mNone\u001b[0m\u001b[0;34m:\u001b[0m\u001b[0;34m\u001b[0m\u001b[0m\n\u001b[0;32m--> 631\u001b[0;31m             \u001b[0mv\u001b[0m \u001b[0;34m=\u001b[0m \u001b[0mself\u001b[0m\u001b[0;34m.\u001b[0m\u001b[0m_sslobj\u001b[0m\u001b[0;34m.\u001b[0m\u001b[0mread\u001b[0m\u001b[0;34m(\u001b[0m\u001b[0mlen\u001b[0m\u001b[0;34m,\u001b[0m \u001b[0mbuffer\u001b[0m\u001b[0;34m)\u001b[0m\u001b[0;34m\u001b[0m\u001b[0m\n\u001b[0m\u001b[1;32m    632\u001b[0m         \u001b[0;32melse\u001b[0m\u001b[0;34m:\u001b[0m\u001b[0;34m\u001b[0m\u001b[0m\n\u001b[1;32m    633\u001b[0m             \u001b[0mv\u001b[0m \u001b[0;34m=\u001b[0m \u001b[0mself\u001b[0m\u001b[0;34m.\u001b[0m\u001b[0m_sslobj\u001b[0m\u001b[0;34m.\u001b[0m\u001b[0mread\u001b[0m\u001b[0;34m(\u001b[0m\u001b[0mlen\u001b[0m\u001b[0;34m)\u001b[0m\u001b[0;34m\u001b[0m\u001b[0m\n",
      "\u001b[0;31mKeyboardInterrupt\u001b[0m: "
     ]
    }
   ],
   "source": [
    "false_start_idx = 600\n",
    "for idx, feature in enumerate(reach_fs.features[false_start_idx:]):\n",
    "    reach = reach_tools.Reach.get_from_aw(feature.attributes['reach_id'])\n",
    "    for field in gauge_fields:\n",
    "        feature.attributes[field] = getattr(reach, field)\n",
    "    resp = reach_centroid_lyr.edit_features(updates=[feature])\n",
    "    if feat.attributes['gauge_id']:\n",
    "        has_gauge = 'has a gauge'\n",
    "    else:\n",
    "        has_gauge = 'does NOT have a gauge'\n",
    "    if resp['updateResults'][0]['success'] is True:\n",
    "        log_msg = f\"MSG: (idx-{false_start_idx + idx}) Reach ID {feature.attributes['reach_id']} Object ID {feature.attributes['OBJECTID']} gauge information was successfully updated and {has_gauge}.\"\n",
    "    else:\n",
    "        log_msg = f\"ERROR: (idx-{false_start_idx + idx}) Reach ID {feature.attributes['reach_id']} Object ID {feature.attributes['OBJECTID']} gauge information was NOT successfully updated and {has_gauge}.\"\n",
    "    print(log_msg)"
   ]
  },
  {
   "cell_type": "code",
   "execution_count": 207,
   "metadata": {},
   "outputs": [
    {
     "data": {
      "text/plain": [
       "{'abstract': 'This is a micro creek that runs through the Lost Valley Campground. The creek is fast class II from 0.6 miles above the campground to the Buffalo River. Above the class II section are several class III-V drops. With enough water to be runnable, your put-in destination is the the Natural Bridge (Cave) that the creek flows through. Park and hike up the trail to the cave. There are a couple nice drops above the cave, but will take a lot of water to make the entrance drop go. Slide in at the top of...',\n",
       " 'agency': 'Buffalo National River Park',\n",
       " 'centroid': {'x': -93.37845230102539,\n",
       "  'y': 36.0115489959717,\n",
       "  'spatialReference': {'wkid': 4326}},\n",
       " 'description': 'This is a micro creek that runs through the Lost Valley Campground. The creek is fast class II from 0.6 miles above the campground to the Buffalo River. Above the class II section are several class III-V drops. With enough water to be runnable, your put-in destination is the the Natural Bridge (Cave) that the creek flows through. Park and hike up the trail to the cave. There are a couple nice drops above the cave, but will take a lot of water to make the entrance drop go. Slide in at the top of the cave, split the two rocks, and turn hard right into boat- wide slot. The slot drops a couple feet onto a 20-ft long slide which will set you up for an auto-boof over an 8-foot ledge at the mouth. Carry up the trail for multiple runs or continue the quick class II+ paddle back down to the campground.',\n",
       " 'difficulty': 'II-IV',\n",
       " 'difficulty_maximum': 'IV',\n",
       " 'difficulty_minimum': 'II',\n",
       " 'difficulty_outlier': None,\n",
       " 'error': None,\n",
       " 'extent': (-93.3830032348633,\n",
       "  36.0094985961914,\n",
       "  -93.3739013671875,\n",
       "  36.013599395752),\n",
       " 'gauge_id': 3160,\n",
       " 'gauge_max': 15.0,\n",
       " 'gauge_metric': 8,\n",
       " 'gauge_min': 8.0,\n",
       " 'gauge_observation': 5.66,\n",
       " 'gauge_r0': 8.0,\n",
       " 'gauge_r1': None,\n",
       " 'gauge_r2': None,\n",
       " 'gauge_r3': None,\n",
       " 'gauge_r4': None,\n",
       " 'gauge_r5': None,\n",
       " 'gauge_r6': None,\n",
       " 'gauge_r7': None,\n",
       " 'gauge_r8': None,\n",
       " 'gauge_r9': 15.0,\n",
       " 'gauge_runnable': False,\n",
       " 'gauge_stage': 'too low',\n",
       " 'gauge_units': 'ft',\n",
       " 'huc': '11010005',\n",
       " 'length': 1.0,\n",
       " 'notes': '',\n",
       " 'reach_alternate_name': None,\n",
       " 'reach_id': '3054',\n",
       " 'reach_name': 'Lost Valley (1 mile)',\n",
       " 'reach_name_alternate': '',\n",
       " 'reach_search': 'Clark Creek Lost Valley (1 mile)',\n",
       " 'river_name': 'Clark Creek',\n",
       " 'river_name_alternate': '',\n",
       " 'update_arcgis': None,\n",
       " 'update_aw': datetime.datetime(2014, 4, 7, 15, 32, 58),\n",
       " 'validated': None,\n",
       " 'validated_by': ''}"
      ]
     },
     "execution_count": 207,
     "metadata": {},
     "output_type": "execute_result"
    }
   ],
   "source": [
    "feat.attributes['gauge_id']"
   ]
  },
  {
   "cell_type": "code",
   "execution_count": null,
   "metadata": {},
   "outputs": [],
   "source": []
  }
 ],
 "metadata": {
  "kernelspec": {
   "display_name": "Python 3",
   "language": "python",
   "name": "python3"
  },
  "language_info": {
   "codemirror_mode": {
    "name": "ipython",
    "version": 3
   },
   "file_extension": ".py",
   "mimetype": "text/x-python",
   "name": "python",
   "nbconvert_exporter": "python",
   "pygments_lexer": "ipython3",
   "version": "3.6.6"
  }
 },
 "nbformat": 4,
 "nbformat_minor": 2
}

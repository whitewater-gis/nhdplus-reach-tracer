{
 "cells": [
  {
   "cell_type": "code",
   "execution_count": 17,
   "metadata": {},
   "outputs": [
    {
     "name": "stdout",
     "output_type": "stream",
     "text": [
      "The autoreload extension is already loaded. To reload it, use:\n",
      "  %reload_ext autoreload\n"
     ]
    }
   ],
   "source": [
    "from arcgis.gis import GIS\n",
    "from azure.storage.queue import QueueService\n",
    "import json\n",
    "import logging\n",
    "\n",
    "import sys\n",
    "sys.path.append('../src')\n",
    "sys.path.append('../')\n",
    "\n",
    "from reach_tools import Reach, ReachFeatureLayer, ReachPointFeatureLayerm\n",
    "import config\n",
    "\n",
    "%load_ext autoreload\n",
    "%autoreload 2"
   ]
  },
  {
   "cell_type": "code",
   "execution_count": 2,
   "metadata": {},
   "outputs": [],
   "source": [
    "# create the connection to the GIS to get access\n",
    "gis = GIS(username=config.arcgis_username, password=config.arcgis_password)\n",
    "logging.info(f'Connected to GIS at {gis.url}')\n",
    "\n",
    "# create a layer instance to query and get all existing features\n",
    "lyr_centroid = ReachFeatureLayer(config.url_reach_centroid, gis)\n",
    "logging.info(f'Successfully created {lyr_centroid.properties.name} layer.')\n",
    "\n",
    "# creat a connection to the Azure Queue\n",
    "queue = QueueService(connection_string=config.azure_queue_conn_str)\n",
    "logging.info(f'Successfully connected to the {config.azure_queue_update_name} Queue')"
   ]
  },
  {
   "cell_type": "code",
   "execution_count": 23,
   "metadata": {},
   "outputs": [
    {
     "data": {
      "text/plain": [
       "'{\"attributes\": {\"OBJECTID\": 15, \"reach_id\": \"3\"}}'"
      ]
     },
     "execution_count": 23,
     "metadata": {},
     "output_type": "execute_result"
    }
   ],
   "source": [
    "msg = queue.get_messages(config.azure_queue_update_name)[0]\n",
    "msg.content"
   ]
  },
  {
   "cell_type": "code",
   "execution_count": 24,
   "metadata": {},
   "outputs": [
    {
     "name": "stdout",
     "output_type": "stream",
     "text": [
      "CPU times: user 865 ms, sys: 57.8 ms, total: 923 ms\n",
      "Wall time: 42.1 s\n"
     ]
    }
   ],
   "source": [
    "%%time\n",
    "# we need a connection to arcgis, so start there\n",
    "gis = GIS(username=config.arcgis_username, password=config.arcgis_password)\n",
    "logging.info(f'Connected to GIS at {gis.url}.')\n",
    "\n",
    "# since the input message content is a single feature, extract the reach id from the feature\n",
    "feature_json = json.loads(msg.content)\n",
    "reach_id = feature_json['attributes']['reach_id']\n",
    "logging.info(f'Preparing to update reach id {reach_id}.')\n",
    "\n",
    "# create a reach object to work with\n",
    "reach = Reach.get_from_aw(reach_id)\n",
    "logging.info(f'Retrieved reach id {reach_id} from AW.')\n",
    "\n",
    "# do the hard work, trace it\n",
    "reach.snap_putin_and_takeout_and_trace(gis=gis)\n",
    "logging.info(f'Successfully traced {reach_id}.')\n",
    "\n",
    "# create layers to be updated\n",
    "lyr_centroid = ReachFeatureLayer(config.url_reach_centroid, gis)\n",
    "lyr_line = ReachFeatureLayer(config.url_reach_line, gis)\n",
    "lyr_points = ReachPointFeatureLayer(config.url_reach_points, gis)\n",
    "\n",
    "# update ArcGIS Online\n",
    "reach.publish_updates(lyr_line, lyr_centroid, lyr_points)\n",
    "logging.info(f'Successfully updated {reach_id} on ArcGIS Online.')"
   ]
  },
  {
   "cell_type": "code",
   "execution_count": null,
   "metadata": {},
   "outputs": [],
   "source": []
  }
 ],
 "metadata": {
  "kernelspec": {
   "display_name": "Python 3",
   "language": "python",
   "name": "python3"
  },
  "language_info": {
   "codemirror_mode": {
    "name": "ipython",
    "version": 3
   },
   "file_extension": ".py",
   "mimetype": "text/x-python",
   "name": "python",
   "nbconvert_exporter": "python",
   "pygments_lexer": "ipython3",
   "version": "3.6.8"
  }
 },
 "nbformat": 4,
 "nbformat_minor": 2
}

{
 "cells": [
  {
   "cell_type": "code",
   "execution_count": 1,
   "metadata": {},
   "outputs": [],
   "source": [
    "from arcgis.gis import GIS\n",
    "import os\n",
    "\n",
    "from dotenv import load_dotenv, find_dotenv\n",
    "load_dotenv(find_dotenv())\n",
    "\n",
    "import sys\n",
    "sys.path.append('../src')\n",
    "\n",
    "import reach_tools\n",
    "\n",
    "%load_ext autoreload\n",
    "%autoreload 2"
   ]
  },
  {
   "cell_type": "code",
   "execution_count": 2,
   "metadata": {},
   "outputs": [],
   "source": [
    "url_reach_line = os.getenv('URL_REACH_LINE')\n",
    "url_reach_centroid = os.getenv('URL_REACH_CENTROID')\n",
    "url_reach_points = os.getenv('URL_REACH_POINT')\n",
    "\n",
    "reach_id_ldub = 2156\n",
    "reach_id_farmies = 2269\n",
    "reach_id_truss = 2270\n",
    "reach_id_bz = 3064\n",
    "reach_id_canyon = 3066\n",
    "reach_id_opal = 5199"
   ]
  },
  {
   "cell_type": "code",
   "execution_count": 3,
   "metadata": {},
   "outputs": [
    {
     "data": {
      "text/html": [
       "GIS @ <a href=\"https://knu2xs.maps.arcgis.com\">https://knu2xs.maps.arcgis.com</a>"
      ],
      "text/plain": [
       "GIS @ https://knu2xs.maps.arcgis.com version:6.4"
      ]
     },
     "execution_count": 3,
     "metadata": {},
     "output_type": "execute_result"
    }
   ],
   "source": [
    "gis = GIS(username=os.getenv('ARCGIS_USERNAME'), password=os.getenv('ARCGIS_PASSWORD'))\n",
    "gis"
   ]
  },
  {
   "cell_type": "code",
   "execution_count": 4,
   "metadata": {},
   "outputs": [],
   "source": [
    "lyr_reach_line = reach_tools.ReachFeatureLayer(url_reach_line, gis)\n",
    "lyr_reach_centroid = reach_tools.ReachFeatureLayer(url_reach_centroid, gis)\n",
    "lyr_reach_points = reach_tools.ReachPointFeatureLayer(url_reach_points, gis)"
   ]
  },
  {
   "cell_type": "code",
   "execution_count": 5,
   "metadata": {},
   "outputs": [],
   "source": [
    "fs = lyr_reach_line.query_by_reach_id(reach_id_ldub)"
   ]
  },
  {
   "cell_type": "code",
   "execution_count": 6,
   "metadata": {},
   "outputs": [
    {
     "ename": "Exception",
     "evalue": "An error occurred with exporting the FeatureSet with message: 'NoneType' object has no attribute 'update'",
     "output_type": "error",
     "traceback": [
      "\u001b[0;31m---------------------------------------------------------------------------\u001b[0m",
      "\u001b[0;31mAttributeError\u001b[0m                            Traceback (most recent call last)",
      "\u001b[0;32m/anaconda3/envs/arcgis-dev/lib/python3.6/site-packages/arcgis/features/feature.py\u001b[0m in \u001b[0;36msdf\u001b[0;34m(self)\u001b[0m\n\u001b[1;32m    673\u001b[0m             \u001b[0;32mfrom\u001b[0m \u001b[0marcgis\u001b[0m\u001b[0;34m.\u001b[0m\u001b[0mfeatures\u001b[0m\u001b[0;34m.\u001b[0m\u001b[0mgeo\u001b[0m\u001b[0;34m.\u001b[0m\u001b[0m_io\u001b[0m\u001b[0;34m.\u001b[0m\u001b[0mserviceops\u001b[0m \u001b[0;32mimport\u001b[0m \u001b[0mfrom_featureset\u001b[0m\u001b[0;34m\u001b[0m\u001b[0m\n\u001b[0;32m--> 674\u001b[0;31m             \u001b[0;32mreturn\u001b[0m \u001b[0mfrom_featureset\u001b[0m\u001b[0;34m(\u001b[0m\u001b[0mfset\u001b[0m\u001b[0;34m=\u001b[0m\u001b[0mself\u001b[0m\u001b[0;34m)\u001b[0m\u001b[0;34m\u001b[0m\u001b[0m\n\u001b[0m\u001b[1;32m    675\u001b[0m         \u001b[0;32mexcept\u001b[0m \u001b[0mImportError\u001b[0m\u001b[0;34m:\u001b[0m\u001b[0;34m\u001b[0m\u001b[0m\n",
      "\u001b[0;32m/anaconda3/envs/arcgis-dev/lib/python3.6/site-packages/arcgis/features/geo/_io/serviceops.py\u001b[0m in \u001b[0;36mfrom_featureset\u001b[0;34m(fset, sr)\u001b[0m\n\u001b[1;32m     72\u001b[0m             \u001b[0mdf\u001b[0m\u001b[0;34m.\u001b[0m\u001b[0mspatial\u001b[0m\u001b[0;34m.\u001b[0m\u001b[0mset_geometry\u001b[0m\u001b[0;34m(\u001b[0m\u001b[0;34m\"SHAPE\"\u001b[0m\u001b[0;34m)\u001b[0m\u001b[0;34m\u001b[0m\u001b[0m\n\u001b[0;32m---> 73\u001b[0;31m             \u001b[0mdf\u001b[0m\u001b[0;34m.\u001b[0m\u001b[0mspatial\u001b[0m\u001b[0;34m.\u001b[0m\u001b[0msr\u001b[0m \u001b[0;34m=\u001b[0m \u001b[0msr\u001b[0m\u001b[0;34m\u001b[0m\u001b[0m\n\u001b[0m\u001b[1;32m     74\u001b[0m         \u001b[0;32mreturn\u001b[0m \u001b[0mdf\u001b[0m\u001b[0;34m\u001b[0m\u001b[0m\n",
      "\u001b[0;32m/anaconda3/envs/arcgis-dev/lib/python3.6/site-packages/arcgis/features/geo/_accessor.py\u001b[0m in \u001b[0;36msr\u001b[0;34m(self, ref)\u001b[0m\n\u001b[1;32m   2387\u001b[0m                     \u001b[0mref\u001b[0m \u001b[0;34m=\u001b[0m \u001b[0;34m{\u001b[0m\u001b[0;34m\"wkid\"\u001b[0m \u001b[0;34m:\u001b[0m \u001b[0mref\u001b[0m\u001b[0;34m}\u001b[0m\u001b[0;34m\u001b[0m\u001b[0m\n\u001b[0;32m-> 2388\u001b[0;31m                 \u001b[0mself\u001b[0m\u001b[0;34m.\u001b[0m\u001b[0m_data\u001b[0m\u001b[0;34m[\u001b[0m\u001b[0mself\u001b[0m\u001b[0;34m.\u001b[0m\u001b[0mname\u001b[0m\u001b[0;34m]\u001b[0m\u001b[0;34m.\u001b[0m\u001b[0mapply\u001b[0m\u001b[0;34m(\u001b[0m\u001b[0;32mlambda\u001b[0m \u001b[0mx\u001b[0m\u001b[0;34m:\u001b[0m \u001b[0mx\u001b[0m\u001b[0;34m.\u001b[0m\u001b[0mupdate\u001b[0m\u001b[0;34m(\u001b[0m\u001b[0;34m{\u001b[0m\u001b[0;34m'spatialReference'\u001b[0m\u001b[0;34m:\u001b[0m \u001b[0mref\u001b[0m\u001b[0;34m}\u001b[0m\u001b[0;34m)\u001b[0m\u001b[0;34m)\u001b[0m\u001b[0;34m\u001b[0m\u001b[0m\n\u001b[0m\u001b[1;32m   2389\u001b[0m     \u001b[0;31m#----------------------------------------------------------------------\u001b[0m\u001b[0;34m\u001b[0m\u001b[0;34m\u001b[0m\u001b[0m\n",
      "\u001b[0;32m/anaconda3/envs/arcgis-dev/lib/python3.6/site-packages/pandas/core/series.py\u001b[0m in \u001b[0;36mapply\u001b[0;34m(self, func, convert_dtype, args, **kwds)\u001b[0m\n\u001b[1;32m   3193\u001b[0m                 \u001b[0mvalues\u001b[0m \u001b[0;34m=\u001b[0m \u001b[0mself\u001b[0m\u001b[0;34m.\u001b[0m\u001b[0mastype\u001b[0m\u001b[0;34m(\u001b[0m\u001b[0mobject\u001b[0m\u001b[0;34m)\u001b[0m\u001b[0;34m.\u001b[0m\u001b[0mvalues\u001b[0m\u001b[0;34m\u001b[0m\u001b[0m\n\u001b[0;32m-> 3194\u001b[0;31m                 \u001b[0mmapped\u001b[0m \u001b[0;34m=\u001b[0m \u001b[0mlib\u001b[0m\u001b[0;34m.\u001b[0m\u001b[0mmap_infer\u001b[0m\u001b[0;34m(\u001b[0m\u001b[0mvalues\u001b[0m\u001b[0;34m,\u001b[0m \u001b[0mf\u001b[0m\u001b[0;34m,\u001b[0m \u001b[0mconvert\u001b[0m\u001b[0;34m=\u001b[0m\u001b[0mconvert_dtype\u001b[0m\u001b[0;34m)\u001b[0m\u001b[0;34m\u001b[0m\u001b[0m\n\u001b[0m\u001b[1;32m   3195\u001b[0m \u001b[0;34m\u001b[0m\u001b[0m\n",
      "\u001b[0;32mpandas/_libs/src/inference.pyx\u001b[0m in \u001b[0;36mpandas._libs.lib.map_infer\u001b[0;34m()\u001b[0m\n",
      "\u001b[0;32m/anaconda3/envs/arcgis-dev/lib/python3.6/site-packages/arcgis/features/geo/_accessor.py\u001b[0m in \u001b[0;36m<lambda>\u001b[0;34m(x)\u001b[0m\n\u001b[1;32m   2387\u001b[0m                     \u001b[0mref\u001b[0m \u001b[0;34m=\u001b[0m \u001b[0;34m{\u001b[0m\u001b[0;34m\"wkid\"\u001b[0m \u001b[0;34m:\u001b[0m \u001b[0mref\u001b[0m\u001b[0;34m}\u001b[0m\u001b[0;34m\u001b[0m\u001b[0m\n\u001b[0;32m-> 2388\u001b[0;31m                 \u001b[0mself\u001b[0m\u001b[0;34m.\u001b[0m\u001b[0m_data\u001b[0m\u001b[0;34m[\u001b[0m\u001b[0mself\u001b[0m\u001b[0;34m.\u001b[0m\u001b[0mname\u001b[0m\u001b[0;34m]\u001b[0m\u001b[0;34m.\u001b[0m\u001b[0mapply\u001b[0m\u001b[0;34m(\u001b[0m\u001b[0;32mlambda\u001b[0m \u001b[0mx\u001b[0m\u001b[0;34m:\u001b[0m \u001b[0mx\u001b[0m\u001b[0;34m.\u001b[0m\u001b[0mupdate\u001b[0m\u001b[0;34m(\u001b[0m\u001b[0;34m{\u001b[0m\u001b[0;34m'spatialReference'\u001b[0m\u001b[0;34m:\u001b[0m \u001b[0mref\u001b[0m\u001b[0;34m}\u001b[0m\u001b[0;34m)\u001b[0m\u001b[0;34m)\u001b[0m\u001b[0;34m\u001b[0m\u001b[0m\n\u001b[0m\u001b[1;32m   2389\u001b[0m     \u001b[0;31m#----------------------------------------------------------------------\u001b[0m\u001b[0;34m\u001b[0m\u001b[0;34m\u001b[0m\u001b[0m\n",
      "\u001b[0;31mAttributeError\u001b[0m: 'NoneType' object has no attribute 'update'",
      "\nDuring handling of the above exception, another exception occurred:\n",
      "\u001b[0;31mException\u001b[0m                                 Traceback (most recent call last)",
      "\u001b[0;32m<ipython-input-6-7d34730be8b8>\u001b[0m in \u001b[0;36m<module>\u001b[0;34m()\u001b[0m\n\u001b[0;32m----> 1\u001b[0;31m \u001b[0mfs\u001b[0m\u001b[0;34m.\u001b[0m\u001b[0msdf\u001b[0m\u001b[0;34m\u001b[0m\u001b[0m\n\u001b[0m",
      "\u001b[0;32m/anaconda3/envs/arcgis-dev/lib/python3.6/site-packages/arcgis/features/feature.py\u001b[0m in \u001b[0;36msdf\u001b[0;34m(self)\u001b[0m\n\u001b[1;32m    676\u001b[0m             \u001b[0;32mraise\u001b[0m \u001b[0mException\u001b[0m\u001b[0;34m(\u001b[0m\u001b[0;34m\"Could not find the panda installation, please install Pandas and retry\"\u001b[0m\u001b[0;34m)\u001b[0m\u001b[0;34m\u001b[0m\u001b[0m\n\u001b[1;32m    677\u001b[0m         \u001b[0;32mexcept\u001b[0m \u001b[0mException\u001b[0m \u001b[0;32mas\u001b[0m \u001b[0me\u001b[0m\u001b[0;34m:\u001b[0m\u001b[0;34m\u001b[0m\u001b[0m\n\u001b[0;32m--> 678\u001b[0;31m             \u001b[0;32mraise\u001b[0m \u001b[0mException\u001b[0m\u001b[0;34m(\u001b[0m\u001b[0;34m\"An error occurred with exporting the FeatureSet with message: %s\"\u001b[0m \u001b[0;34m%\u001b[0m \u001b[0mstr\u001b[0m\u001b[0;34m(\u001b[0m\u001b[0me\u001b[0m\u001b[0;34m)\u001b[0m\u001b[0;34m)\u001b[0m\u001b[0;34m\u001b[0m\u001b[0m\n\u001b[0m\u001b[1;32m    679\u001b[0m     \u001b[0;31m# ----------------------------------------------------------------------\u001b[0m\u001b[0;34m\u001b[0m\u001b[0;34m\u001b[0m\u001b[0m\n\u001b[1;32m    680\u001b[0m     \u001b[0;32mdef\u001b[0m \u001b[0m__iter__\u001b[0m\u001b[0;34m(\u001b[0m\u001b[0mself\u001b[0m\u001b[0;34m)\u001b[0m\u001b[0;34m:\u001b[0m\u001b[0;34m\u001b[0m\u001b[0m\n",
      "\u001b[0;31mException\u001b[0m: An error occurred with exporting the FeatureSet with message: 'NoneType' object has no attribute 'update'"
     ]
    }
   ],
   "source": [
    "fs.sdf"
   ]
  },
  {
   "cell_type": "code",
   "execution_count": 7,
   "metadata": {},
   "outputs": [
    {
     "data": {
      "text/plain": [
       "[{\"attributes\": {\"OBJECTID\": 2244, \"reach_name\": \"Willard to Columbia River\", \"river_name\": \"Little White Salmon\", \"river_name_alternate\": \"\", \"error\": null, \"notes\": \"\", \"difficulty\": \"V\", \"difficulty_minimum\": null, \"difficulty_maximum\": \"V\", \"difficulty_outlier\": null, \"reach_name_alternate\": \"\", \"abstract\": \"Washington's best known class V run flowing year around with dramatic drops in\\na pristine canyon and sparkling translucent blue water.\", \"update_aw\": 1548398233000, \"update_arcgis\": null, \"validated\": null, \"validated_by\": \"\", \"collection_method\": null, \"description\": \"The Little White Salmon is a highlight of Pacific Northwest creeking. This\\nstunning run offers an incredible array of rapids, with everything from steep\\ncomplex boulder gardens to dramatic vertical drops, all set in a pristine\\ncanyon filled with sparkling translucent blue water. The Little White has an\\nincredible runnable season, and can be run at any time of year most years. Below the putin bridge, a short class II-III section leads quickly into\\nGettin' Busy, a half-mile long class V boulder slalom that becomes a pounding\\nhole-fest at higher water, but offers eddies at lower flows. At the end of\\nGettin' Busy, the tricky Boulder Sluice awaits. This ledge is best run far\\nleft. Some fun boulder gardens lead quickly into Island, a steep boulder jumble that\\ncan be run center or center-right, or portaged on the right. This drop gets\\nseriously manky at the lower limits of flows. After more fun boogie water, the\\nledges start to appear. First comes 10-foot Sacriledge, with a hazardous cave\\n(Dave's Cave) under the left wall. Double Drop is next, a straightforward pair\\nof 5-foot ledges, with a lava tunnel on the right. The next major drop is S-Turn, a fantastic 14-foot falls into a soft pool with\\na small ledge as the exit. This drop can be scouted and portaged right or\\nleft, and is regularly run on the far left. This drops gets nasty at high\\nwater. Below S-Turn, more fun boogie water leads quickly into the Bowey Hotel,\\na 5-foot ledge that can pack a punch. Run right, and be on your toes: Wishbone\\nlurks just downstream. Wishbone is the second of the Little White's signature big drops. This\\nfantastic 18-footer offers a great line on the left. From the pool below\\nWishbone, you must run a mini-gorge -- The Squeezes -- that ends in Stovepipe,\\na nasty lava bench. The entrance to the gorge is fun IV, but beware of\\nHorseshoe, a 6-foot ledge with a backed-up hydraulic. Stay to the sides (the\\nconventional line is far right) and out of that hydraulic. Stovepipe is\\nlurking immediately below. Getting out to scout or portage Stovepipe can be\\nchallenging. The portage has traditionally been on the right over the log, and\\nthe line a sketchy move through a pothole on the left. There is an alternate\\nroute using the far right channel if flows are not too low. A short boogie section leads to the unparalled Spirit Falls. This legendary\\n33-foot waterfall is spectacular from any angle. It has a straightforward\\nlead-in, plenty of room to scout or portage on the left (have a rope ready to\\nlower boats). That said, this is not a drop to be taken lightly. The right\\nwall has handed out its share of beatdowns over the years, and a swim out the\\npool may result in a very dangerous swim over Chaos, a ledge waiting in the\\noutflow from the pool. Chaos is a straightforward ledge on the left side, but\\nthe key is being in control and in your boat to avoid the nasty walled-in\\nhydraulic on the right side. This is a place to practice smart safety. The last major drop on the Little White is Master Blaster, another steep\\nboulder jumble that ends with a right hand bend. Stay right to avoid the huge\\nledge hole on the left. Two runnable low-head dams wait below Master Blaster,\\nalong with some class II-III boogie as you drift to the takeout. The Little White Salmon is one of the most popular class V day runs in the\\ncountry. The length of its runnable season, the wide range of flows that are\\nrunnable, and the high quality rapids keep even the best paddlers coming back\\nfor more.\\u00c2 **Warning:** at high water, the combination of Spirit Falls and the next rapid, Chaos, can be very nasty! [Read the description](http://boatertalk.com/forum/BoaterTalk/140818) of a very close call that an expert boater had on March 4, 2002. Be smart, be safe, and have fun. check out the [Little White Salmon\\npage](http://www.kayaking.peak.org/public_html/creeks/littlewhite/littlewhit e.html) on [Jason Rackley's site](http://www.kayaking.peak.org). He also has two stories from Little White Salmon trips: [ A Spiritual Experien\\nce](http://www.kayaking.peak.org/public_html/creeks/spirit/spirit.html) and [\\nLittle White Salmon at Low\\nFlow](http://www.kayaking.peak.org/public_html/creeks/littlewhitelow/little whitelow.html) This section of the Little White Salmon is actually two separate runs. The\\nstretch of Little White from the \\\"town\\\" of Willard to the fish hatchery is\\nreferred to as the Upper Little White. Lat/Longitude data are _very_ approximate.\", \"GlobalID\": \"661005a4-3eba-4d14-9550-76de727775a9\", \"Shape__Length\": null, \"reach_id\": \"2156\", \"created_user\": \"knu2xs\", \"created_date\": 1552365804778, \"last_edited_user\": \"knu2xs\", \"last_edited_date\": 1552519090810, \"Shape__Length_2\": null, \"reach_search\": \"Little White Salmon Willard to Columbia River\"}},\n",
       " {\"geometry\": {\"paths\": [[[-13540134.1441985, 5747610.14333211], [-13540102.3083797, 5747549.12938227], [-13540092.1783395, 5747458.44294195], [-13540178.7848927, 5747279.30810931], [-13540186.4658914, 5747246.41912501], [-13540171.994391, 5747195.96853637], [-13540019.1526897, 5747104.00842029], [-13540008.0059112, 5747063.77621322], [-13540063.220422, 5746957.76837532], [-13540044.6300106, 5746907.15962383], [-13539928.1898597, 5746800.67483353], [-13539932.4199952, 5746738.5725389], [-13540110.8651587, 5746499.26708194], [-13540125.2179262, 5746352.39853528], [-13540088.7051514, 5746269.0674996], [-13540008.8890999, 5746206.96891494], [-13539707.4210161, 5746035.21305727], [-13539587.6412266, 5745906.70950417], [-13539471.3124002, 5745727.6057632], [-13539449.1523927, 5745651.62356438], [-13539463.6238931, 5745516.42133689], [-13539573.1623178, 5745411.07044652], [-13539616.4655944, 5745392.71399045], [-13539646.1878676, 5745188.24147189], [-13539642.8335125, 5745050.01359875], [-13539642.8335125, 5744662.1572322], [-13539660.6445514, 5744571.97904934], [-13539708.1705552, 5744483.716985], [-13539868.6932551, 5744297.92810509], [-13539883.1648556, 5744253.55890993], [-13539890.8458543, 5744144.55216503], [-13539864.4631197, 5744039.21751221], [-13539817.7089799, 5743950.96073076], [-13539715.8368373, 5743692.2708432], [-13539665.743059, 5743498.68938897], [-13539687.776825, 5743319.63409868], [-13539785.5153402, 5743127.32668883], [-13539815.2377135, 5743050.56860802], [-13539815.2377135, 5742832.10731003], [-13539804.090935, 5742784.55392545], [-13539800.7512964, 5742664.07599291], [-13539691.9847357, 5742320.2146701], [-13539757.4406115, 5742247.76123657], [-13539819.4455239, 5742221.59271078], [-13540131.9268367, 5742197.17940346], [-13540218.6447146, 5742142.44902631], [-13540309.4739949, 5742069.3695254], [-13540415.672781, 5741901.99086848], [-13540611.8176589, 5741675.57979219], [-13540640.6494352, 5741599.47261371], [-13540670.3717083, 5741387.58832024], [-13540644.8647541, 5741339.56398284], [-13540622.8234795, 5741201.39600381], [-13540547.2375635, 5741062.11316806], [-13540547.2375635, 5740967.66390018], [-13540582.9710661, 5740869.06753957], [-13540714.543357, 5740756.59236951], [-13540816.5120076, 5740546.00432415], [-13540859.8152843, 5740381.02600789], [-13540859.8152843, 5740351.83188314], [-13540888.6469604, 5740138.8605359], [-13540910.6882349, 5740032.93513647], [-13540885.3074218, 5739968.48721157], [-13540812.1705474, 5739902.12538981], [-13540808.8309088, 5739843.7402327], [-13540706.8622583, 5739719.47358233], [-13540663.5589817, 5739538.26109129], [-13540583.7429302, 5739450.5274837], [-13540525.968053, 5739307.60336744], [-13540525.968053, 5739179.83496011], [-13540595.6540643, 5738887.77702313], [-13540599.1050276, 5738778.83595439], [-13540610.1256648, 5738738.64135558], [-13540653.4289414, 5738673.56476385], [-13540653.4289414, 5738557.28931557], [-13540613.4652033, 5738407.04280115], [-13540584.633427, 5738344.99903338], [-13540563.371425, 5738228.24937382], [-13540570.1619267, 5738067.48200605], [-13540552.3507877, 5738024.41982126], [-13540482.6647764, 5737979.92238209], [-13540348.5248111, 5737944.67545157], [-13540323.0326735, 5737906.87703471], [-13540359.5454483, 5737746.91278252], [-13540359.5454483, 5737656.32614223], [-13540341.7343093, 5737627.14080476], [-13540217.7243842, 5737619.80472056], [-13540124.3274294, 5737441.50555416], [-13540094.6050561, 5737320.46195429], [-13540019.0191401, 5737159.87045219], [-13540025.8096419, 5737014.43143333], [-13540058.8715536, 5736952.39736552], [-13540102.1748303, 5736920.18456057], [-13540131.117831, 5736868.51650472], [-13540149.819567, 5736634.89823349], [-13540219.3942536, 5736540.01735262], [-13540251.6768929, 5736401.28594561], [-13540255.1277561, 5736339.89387005], [-13540204.1434808, 5736208.50063898], [-13540288.1970761, 5736030.22971937], [-13540332.3909498, 5736019.85458413], [-13540426.6785016, 5736081.24431075], [-13540575.2900674, 5736114.09207514], [-13540960.0102492, 5736034.52426685], [-13540993.1833856, 5735998.00949398], [-13541015.22466, 5735889.10376354], [-13540993.1833856, 5735855.61914091], [-13540967.6912479, 5735734.59708865], [-13541004.2040227, 5735702.38854371], [-13541171.5172245, 5735594.762052], [-13541362.5563866, 5735381.26676793], [-13541505.2679477, 5735320.97663727]]], \"spatialReference\": {\"wkid\": 102100, \"latestWkid\": 3857}}, \"attributes\": {\"OBJECTID\": 6197, \"reach_name\": \"Willard to Columbia River\", \"river_name\": \"Little White Salmon\", \"river_name_alternate\": \"\", \"error\": null, \"notes\": \"\", \"difficulty\": \"V\", \"difficulty_minimum\": null, \"difficulty_maximum\": \"V\", \"difficulty_outlier\": null, \"reach_name_alternate\": \"\", \"abstract\": \"Washington's best known class V run flowing year around with dramatic drops in\\na pristine canyon and sparkling translucent blue water.\", \"update_aw\": 1548398233000, \"update_arcgis\": null, \"validated\": null, \"validated_by\": \"\", \"collection_method\": null, \"description\": \"The Little White Salmon is a highlight of Pacific Northwest creeking. This\\nstunning run offers an incredible array of rapids, with everything from steep\\ncomplex boulder gardens to dramatic vertical drops, all set in a pristine\\ncanyon filled with sparkling translucent blue water. The Little White has an\\nincredible runnable season, and can be run at any time of year most years. Below the putin bridge, a short class II-III section leads quickly into\\nGettin' Busy, a half-mile long class V boulder slalom that becomes a pounding\\nhole-fest at higher water, but offers eddies at lower flows. At the end of\\nGettin' Busy, the tricky Boulder Sluice awaits. This ledge is best run far\\nleft. Some fun boulder gardens lead quickly into Island, a steep boulder jumble that\\ncan be run center or center-right, or portaged on the right. This drop gets\\nseriously manky at the lower limits of flows. After more fun boogie water, the\\nledges start to appear. First comes 10-foot Sacriledge, with a hazardous cave\\n(Dave's Cave) under the left wall. Double Drop is next, a straightforward pair\\nof 5-foot ledges, with a lava tunnel on the right. The next major drop is S-Turn, a fantastic 14-foot falls into a soft pool with\\na small ledge as the exit. This drop can be scouted and portaged right or\\nleft, and is regularly run on the far left. This drops gets nasty at high\\nwater. Below S-Turn, more fun boogie water leads quickly into the Bowey Hotel,\\na 5-foot ledge that can pack a punch. Run right, and be on your toes: Wishbone\\nlurks just downstream. Wishbone is the second of the Little White's signature big drops. This\\nfantastic 18-footer offers a great line on the left. From the pool below\\nWishbone, you must run a mini-gorge -- The Squeezes -- that ends in Stovepipe,\\na nasty lava bench. The entrance to the gorge is fun IV, but beware of\\nHorseshoe, a 6-foot ledge with a backed-up hydraulic. Stay to the sides (the\\nconventional line is far right) and out of that hydraulic. Stovepipe is\\nlurking immediately below. Getting out to scout or portage Stovepipe can be\\nchallenging. The portage has traditionally been on the right over the log, and\\nthe line a sketchy move through a pothole on the left. There is an alternate\\nroute using the far right channel if flows are not too low. A short boogie section leads to the unparalled Spirit Falls. This legendary\\n33-foot waterfall is spectacular from any angle. It has a straightforward\\nlead-in, plenty of room to scout or portage on the left (have a rope ready to\\nlower boats). That said, this is not a drop to be taken lightly. The right\\nwall has handed out its share of beatdowns over the years, and a swim out the\\npool may result in a very dangerous swim over Chaos, a ledge waiting in the\\noutflow from the pool. Chaos is a straightforward ledge on the left side, but\\nthe key is being in control and in your boat to avoid the nasty walled-in\\nhydraulic on the right side. This is a place to practice smart safety. The last major drop on the Little White is Master Blaster, another steep\\nboulder jumble that ends with a right hand bend. Stay right to avoid the huge\\nledge hole on the left. Two runnable low-head dams wait below Master Blaster,\\nalong with some class II-III boogie as you drift to the takeout. The Little White Salmon is one of the most popular class V day runs in the\\ncountry. The length of its runnable season, the wide range of flows that are\\nrunnable, and the high quality rapids keep even the best paddlers coming back\\nfor more.\\u00c2 **Warning:** at high water, the combination of Spirit Falls and the next rapid, Chaos, can be very nasty! [Read the description](http://boatertalk.com/forum/BoaterTalk/140818) of a very close call that an expert boater had on March 4, 2002. Be smart, be safe, and have fun. check out the [Little White Salmon\\npage](http://www.kayaking.peak.org/public_html/creeks/littlewhite/littlewhit e.html) on [Jason Rackley's site](http://www.kayaking.peak.org). He also has two stories from Little White Salmon trips: [ A Spiritual Experien\\nce](http://www.kayaking.peak.org/public_html/creeks/spirit/spirit.html) and [\\nLittle White Salmon at Low\\nFlow](http://www.kayaking.peak.org/public_html/creeks/littlewhitelow/little whitelow.html) This section of the Little White Salmon is actually two separate runs. The\\nstretch of Little White from the \\\"town\\\" of Willard to the fish hatchery is\\nreferred to as the Upper Little White. Lat/Longitude data are _very_ approximate.\", \"GlobalID\": \"0a2810a6-3825-496c-93c2-ea630087d9aa\", \"Shape__Length\": null, \"reach_id\": \"2156\", \"created_user\": \"knu2xs\", \"created_date\": 1552421159549, \"last_edited_user\": \"knu2xs\", \"last_edited_date\": 1552520374063, \"Shape__Length_2\": 15352.1164187268, \"reach_search\": \"Little White Salmon Willard to Columbia River\", \"SHAPE\": {\"paths\": [[[-13540134.1441985, 5747610.14333211], [-13540102.3083797, 5747549.12938227], [-13540092.1783395, 5747458.44294195], [-13540178.7848927, 5747279.30810931], [-13540186.4658914, 5747246.41912501], [-13540171.994391, 5747195.96853637], [-13540019.1526897, 5747104.00842029], [-13540008.0059112, 5747063.77621322], [-13540063.220422, 5746957.76837532], [-13540044.6300106, 5746907.15962383], [-13539928.1898597, 5746800.67483353], [-13539932.4199952, 5746738.5725389], [-13540110.8651587, 5746499.26708194], [-13540125.2179262, 5746352.39853528], [-13540088.7051514, 5746269.0674996], [-13540008.8890999, 5746206.96891494], [-13539707.4210161, 5746035.21305727], [-13539587.6412266, 5745906.70950417], [-13539471.3124002, 5745727.6057632], [-13539449.1523927, 5745651.62356438], [-13539463.6238931, 5745516.42133689], [-13539573.1623178, 5745411.07044652], [-13539616.4655944, 5745392.71399045], [-13539646.1878676, 5745188.24147189], [-13539642.8335125, 5745050.01359875], [-13539642.8335125, 5744662.1572322], [-13539660.6445514, 5744571.97904934], [-13539708.1705552, 5744483.716985], [-13539868.6932551, 5744297.92810509], [-13539883.1648556, 5744253.55890993], [-13539890.8458543, 5744144.55216503], [-13539864.4631197, 5744039.21751221], [-13539817.7089799, 5743950.96073076], [-13539715.8368373, 5743692.2708432], [-13539665.743059, 5743498.68938897], [-13539687.776825, 5743319.63409868], [-13539785.5153402, 5743127.32668883], [-13539815.2377135, 5743050.56860802], [-13539815.2377135, 5742832.10731003], [-13539804.090935, 5742784.55392545], [-13539800.7512964, 5742664.07599291], [-13539691.9847357, 5742320.2146701], [-13539757.4406115, 5742247.76123657], [-13539819.4455239, 5742221.59271078], [-13540131.9268367, 5742197.17940346], [-13540218.6447146, 5742142.44902631], [-13540309.4739949, 5742069.3695254], [-13540415.672781, 5741901.99086848], [-13540611.8176589, 5741675.57979219], [-13540640.6494352, 5741599.47261371], [-13540670.3717083, 5741387.58832024], [-13540644.8647541, 5741339.56398284], [-13540622.8234795, 5741201.39600381], [-13540547.2375635, 5741062.11316806], [-13540547.2375635, 5740967.66390018], [-13540582.9710661, 5740869.06753957], [-13540714.543357, 5740756.59236951], [-13540816.5120076, 5740546.00432415], [-13540859.8152843, 5740381.02600789], [-13540859.8152843, 5740351.83188314], [-13540888.6469604, 5740138.8605359], [-13540910.6882349, 5740032.93513647], [-13540885.3074218, 5739968.48721157], [-13540812.1705474, 5739902.12538981], [-13540808.8309088, 5739843.7402327], [-13540706.8622583, 5739719.47358233], [-13540663.5589817, 5739538.26109129], [-13540583.7429302, 5739450.5274837], [-13540525.968053, 5739307.60336744], [-13540525.968053, 5739179.83496011], [-13540595.6540643, 5738887.77702313], [-13540599.1050276, 5738778.83595439], [-13540610.1256648, 5738738.64135558], [-13540653.4289414, 5738673.56476385], [-13540653.4289414, 5738557.28931557], [-13540613.4652033, 5738407.04280115], [-13540584.633427, 5738344.99903338], [-13540563.371425, 5738228.24937382], [-13540570.1619267, 5738067.48200605], [-13540552.3507877, 5738024.41982126], [-13540482.6647764, 5737979.92238209], [-13540348.5248111, 5737944.67545157], [-13540323.0326735, 5737906.87703471], [-13540359.5454483, 5737746.91278252], [-13540359.5454483, 5737656.32614223], [-13540341.7343093, 5737627.14080476], [-13540217.7243842, 5737619.80472056], [-13540124.3274294, 5737441.50555416], [-13540094.6050561, 5737320.46195429], [-13540019.0191401, 5737159.87045219], [-13540025.8096419, 5737014.43143333], [-13540058.8715536, 5736952.39736552], [-13540102.1748303, 5736920.18456057], [-13540131.117831, 5736868.51650472], [-13540149.819567, 5736634.89823349], [-13540219.3942536, 5736540.01735262], [-13540251.6768929, 5736401.28594561], [-13540255.1277561, 5736339.89387005], [-13540204.1434808, 5736208.50063898], [-13540288.1970761, 5736030.22971937], [-13540332.3909498, 5736019.85458413], [-13540426.6785016, 5736081.24431075], [-13540575.2900674, 5736114.09207514], [-13540960.0102492, 5736034.52426685], [-13540993.1833856, 5735998.00949398], [-13541015.22466, 5735889.10376354], [-13540993.1833856, 5735855.61914091], [-13540967.6912479, 5735734.59708865], [-13541004.2040227, 5735702.38854371], [-13541171.5172245, 5735594.762052], [-13541362.5563866, 5735381.26676793], [-13541505.2679477, 5735320.97663727]]], \"spatialReference\": {\"wkid\": 102100, \"latestWkid\": 3857}}}}]"
      ]
     },
     "execution_count": 7,
     "metadata": {},
     "output_type": "execute_result"
    }
   ],
   "source": [
    "fs.features"
   ]
  },
  {
   "cell_type": "code",
   "execution_count": null,
   "metadata": {},
   "outputs": [],
   "source": []
  }
 ],
 "metadata": {
  "kernelspec": {
   "display_name": "Python 3",
   "language": "python",
   "name": "python3"
  },
  "language_info": {
   "codemirror_mode": {
    "name": "ipython",
    "version": 3
   },
   "file_extension": ".py",
   "mimetype": "text/x-python",
   "name": "python",
   "nbconvert_exporter": "python",
   "pygments_lexer": "ipython3",
   "version": "3.6.6"
  }
 },
 "nbformat": 4,
 "nbformat_minor": 2
}

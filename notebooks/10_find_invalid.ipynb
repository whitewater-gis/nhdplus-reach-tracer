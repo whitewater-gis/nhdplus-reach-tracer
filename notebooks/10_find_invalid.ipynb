{
 "cells": [
  {
   "cell_type": "code",
   "execution_count": 54,
   "metadata": {},
   "outputs": [
    {
     "name": "stdout",
     "output_type": "stream",
     "text": [
      "The autoreload extension is already loaded. To reload it, use:\n",
      "  %reload_ext autoreload\n"
     ]
    }
   ],
   "source": [
    "from arcgis.gis import GIS, Item\n",
    "import os\n",
    "from multiprocessing import Process, Queue\n",
    "\n",
    "from dotenv import load_dotenv, find_dotenv\n",
    "load_dotenv(find_dotenv())\n",
    "\n",
    "import sys\n",
    "sys.path.append('../src')\n",
    "\n",
    "import reach_tools\n",
    "import hydrology\n",
    "\n",
    "gis = GIS(username=os.getenv('ARCGIS_USERNAME'), password=os.getenv('ARCGIS_PASSWORD'))\n",
    "\n",
    "url_reach_line = os.getenv('URL_REACH_LINE')\n",
    "url_reach_centroid = os.getenv('URL_REACH_CENTROID')\n",
    "url_reach_points = os.getenv('URL_REACH_POINT')\n",
    "\n",
    "lyr_reach_line = reach_tools.ReachFeatureLayer(url_reach_line, gis)\n",
    "lyr_reach_centroid = reach_tools.ReachFeatureLayer(url_reach_centroid, gis)\n",
    "lyr_reach_points = reach_tools.ReachPointFeatureLayer(url_reach_points, gis)\n",
    "\n",
    "%load_ext autoreload\n",
    "%autoreload 2"
   ]
  },
  {
   "cell_type": "code",
   "execution_count": 55,
   "metadata": {},
   "outputs": [
    {
     "data": {
      "text/html": [
       "<div>\n",
       "<style scoped>\n",
       "    .dataframe tbody tr th:only-of-type {\n",
       "        vertical-align: middle;\n",
       "    }\n",
       "\n",
       "    .dataframe tbody tr th {\n",
       "        vertical-align: top;\n",
       "    }\n",
       "\n",
       "    .dataframe thead th {\n",
       "        text-align: right;\n",
       "    }\n",
       "</style>\n",
       "<table border=\"1\" class=\"dataframe\">\n",
       "  <thead>\n",
       "    <tr style=\"text-align: right;\">\n",
       "      <th></th>\n",
       "      <th>OBJECTID</th>\n",
       "      <th>reach_id</th>\n",
       "    </tr>\n",
       "  </thead>\n",
       "  <tbody>\n",
       "    <tr>\n",
       "      <th>0</th>\n",
       "      <td>13</td>\n",
       "      <td>1</td>\n",
       "    </tr>\n",
       "    <tr>\n",
       "      <th>1</th>\n",
       "      <td>14</td>\n",
       "      <td>2</td>\n",
       "    </tr>\n",
       "    <tr>\n",
       "      <th>2</th>\n",
       "      <td>15</td>\n",
       "      <td>3</td>\n",
       "    </tr>\n",
       "    <tr>\n",
       "      <th>3</th>\n",
       "      <td>16</td>\n",
       "      <td>4</td>\n",
       "    </tr>\n",
       "    <tr>\n",
       "      <th>4</th>\n",
       "      <td>17</td>\n",
       "      <td>5</td>\n",
       "    </tr>\n",
       "  </tbody>\n",
       "</table>\n",
       "</div>"
      ],
      "text/plain": [
       "   OBJECTID reach_id\n",
       "0        13        1\n",
       "1        14        2\n",
       "2        15        3\n",
       "3        16        4\n",
       "4        17        5"
      ]
     },
     "execution_count": 55,
     "metadata": {},
     "output_type": "execute_result"
    }
   ],
   "source": [
    "err_df = lyr_reach_centroid.query(where='error = 1', out_fields=['reach_id'], return_geometry=False).sdf\n",
    "err_df.head()"
   ]
  },
  {
   "cell_type": "code",
   "execution_count": 56,
   "metadata": {},
   "outputs": [],
   "source": [
    "err_reach_id_str = '1,2,3,4,5,6,7,8,9,10,11,12,13,14,15,16,17,18,19,20,21,22,23,24,25,26,27,28,29,30,31,32,33,34,35,36,37,38,39,40,41,42,43,45,46,47,48,49,50,51,52,53,54,55,56,57,58,59,60,689,892,1053,1098,1217,1229,1967,745,2028,2657,3010,3118,3119,3678,3777,3778,3779,3813,3879,3908,4140,4143,4207,4227,4352,4353,4389,4536,4581,4582,4583,4585,4586,4616,4625,4651,4654,4655,4656,4684,4692,4699,4700,4702,4704,4705,4706,4712,4715,4720,4721,4722,4723,4724,4727,4731,4732,4733,4734,4740,4742,4750,4753,4754,4756,4759,4768,4770,4781,4792,5001,5006,5048,5065,5067,5092,5095,5104,5105,5110,5121,5147,5149,5184,5185,5190,5212,5213,5833,1745,1856,2501,2542,2550,2551,2552,2553,2554,2560,2561,2562,2962,2972,3001,3113,3155,3156,3157,3158,3159,3162,3160,3161,3163,3164,3172,3173,3218,3219,3220,3221,3249,3250,3251,3252,3253,3254,3255,3256,3257,3258,3259,3260,3261,3262,3264,3265,3266,3267,3268,3269,3270,3271,3272,3273,3274,3276,3275,3277,3278,3279,3280,3281,3282,3423,3556,3557,3748,3870,3872,3884,3899,3933,3952,3957,3958,4004,4029,4131,4132,4149,4152,4158,4166,4211,4287,4317,4319,4357,4375,4406,4410,4417,4418,4419,4467,4577,4652,4653,4689,4693,4695,4696,4697,4698,4701,4703,4707,4708,4709,4710,4711,4713,4714,4716,4718,4719,4717,4725,4726,4728,4730,4729,4736,4735,4738,4737,4739,4741,4743,4744,4746,4745,4747,4748,4749,4751,4752,4755,4758,4757,4760,4762,4761,4763,4775,5111,5196,5207,5239,5240,5263,5286,5435,5507,5589,5600,5601,5626,5625,5628,5642,5643,5645,5672,5762,5763,5764,5765,5813,5818,5821,5822,5899,5900,5901,5967,5979,5990,5179,5297,5342,5405,5406,5408,5771,6037,6038,6243,6431,6446,6466,6467,6478,6561,6829,10174,10175,10242,10246,10248,10247,10250,10249,10251,10252,10266,10278,10289,10307,10308,10309,10310,10327,10343,10355,10396,10506,10591,10624,10646,10676,10844,10846,10854,10907,10931,10938,10991,11037,11041,11050'"
   ]
  },
  {
   "cell_type": "code",
   "execution_count": 57,
   "metadata": {},
   "outputs": [
    {
     "name": "stdout",
     "output_type": "stream",
     "text": [
      "381\n"
     ]
    },
    {
     "data": {
      "text/plain": [
       "'1,2,3,4,5,6,7,8,9,10,11,12,13,14,15,16,17,18,19,20,21,22,23,24,25,26,27,28,29,30,31,32,33,34,35,36,37,38,39,40,41,42,43,45,46,47,48,49,50,51,52,53,54,55,56,57,58,59,60,689,892,1053,1098,1217,1229,1967,745,2028,2657,3010,3118,3119,3678,3777,3778,3779,3813,3879,3908,4140,4143,4207,4227,4352,4353,4389,4536,4581,4582,4583,4585,4586,4616,4625,4651,4654,4655,4656,4684,4692,4699,4700,4702,4704,4705,4706,4712,4715,4720,4721,4722,4723,4724,4727,4731,4732,4733,4734,4740,4742,4750,4753,4754,4756,4759,4768,4770,4781,4792,5001,5006,5048,5065,5067,5092,5095,5104,5105,5110,5121,5147,5149,5184,5185,5190,5212,5213,5833,1745,1856,2501,2542,2550,2551,2552,2553,2554,2560,2561,2562,2962,2972,3001,3113,3155,3156,3157,3158,3159,3162,3160,3161,3163,3164,3172,3173,3218,3219,3220,3221,3249,3250,3251,3252,3253,3254,3255,3256,3257,3258,3259,3260,3261,3262,3264,3265,3266,3267,3268,3269,3270,3271,3272,3273,3274,3276,3275,3277,3278,3279,3280,3281,3282,3423,3556,3557,3748,3870,3872,3884,3899,3933,3952,3957,3958,4004,4029,4131,4132,4149,4152,4158,4166,4211,4287,4317,4319,4357,4375,4406,4410,4417,4418,4419,4467,4577,4652,4653,4689,4693,4695,4696,4697,4698,4701,4703,4707,4708,4709,4710,4711,4713,4714,4716,4718,4719,4717,4725,4726,4728,4730,4729,4736,4735,4738,4737,4739,4741,4743,4744,4746,4745,4747,4748,4749,4751,4752,4755,4758,4757,4760,4762,4761,4763,4775,5111,5196,5207,5239,5240,5263,5286,5435,5507,5589,5600,5601,5626,5625,5628,5642,5643,5645,5672,5762,5763,5764,5765,5813,5818,5821,5822,5899,5900,5901,5967,5979,5990,5179,5297,5342,5405,5406,5408,5771,6037,6038,6243,6431,6446,6466,6467,6478,6561,6829,10174,10175,10242,10246,10248,10247,10250,10249,10251,10252,10266,10278,10289,10307,10308,10309,10310,10327,10343,10355,10396,10506,10591,10624,10646,10676,10844,10846,10854,10907,10931,10938,10991,11037,11041,11050'"
      ]
     },
     "execution_count": 57,
     "metadata": {},
     "output_type": "execute_result"
    }
   ],
   "source": [
    "err_reach_id_arr = err_df['reach_id'].unique()\n",
    "print(len(err_reach_id_arr))\n",
    "','.join(err_reach_id_arr)"
   ]
  },
  {
   "cell_type": "code",
   "execution_count": 61,
   "metadata": {},
   "outputs": [
    {
     "data": {
      "text/plain": [
       "\"reach_id = '1' OR reach_id = '2' OR reach_id = '3' OR reach_id = '4' OR reach_id = '5' OR reach_id = '6' OR reach_id = '7' OR reach_id = '8' OR reach_id = '9' OR reach_id = '10' OR reach_id = '11' OR reach_id = '12' OR reach_id = '13' OR reach_id = '14' OR reach_id = '15' OR reach_id = '16' OR reach_id = '17' OR reach_id = '18' OR reach_id = '19' OR reach_id = '20' OR reach_id = '21' OR reach_id = '22' OR reach_id = '23' OR reach_id = '24' OR reach_id = '25' OR reach_id = '26' OR reach_id = '27' OR reach_id = '28' OR reach_id = '29' OR reach_id = '30' OR reach_id = '31' OR reach_id = '32' OR reach_id = '33' OR reach_id = '34' OR reach_id = '35' OR reach_id = '36' OR reach_id = '37' OR reach_id = '38' OR reach_id = '39' OR reach_id = '40' OR reach_id = '41' OR reach_id = '42' OR reach_id = '43' OR reach_id = '45' OR reach_id = '46' OR reach_id = '47' OR reach_id = '48' OR reach_id = '49' OR reach_id = '50' OR reach_id = '51' OR reach_id = '52' OR reach_id = '53' OR reach_id = '54' OR reach_id = '55' OR reach_id = '56' OR reach_id = '57' OR reach_id = '58' OR reach_id = '59' OR reach_id = '60' OR reach_id = '689' OR reach_id = '892' OR reach_id = '1053' OR reach_id = '1098' OR reach_id = '1217' OR reach_id = '1229' OR reach_id = '1967' OR reach_id = '745' OR reach_id = '2028' OR reach_id = '2657' OR reach_id = '3010' OR reach_id = '3118' OR reach_id = '3119' OR reach_id = '3678' OR reach_id = '3777' OR reach_id = '3778' OR reach_id = '3779' OR reach_id = '3813' OR reach_id = '3879' OR reach_id = '3908' OR reach_id = '4140' OR reach_id = '4143' OR reach_id = '4207' OR reach_id = '4227' OR reach_id = '4352' OR reach_id = '4353' OR reach_id = '4389' OR reach_id = '4536' OR reach_id = '4581' OR reach_id = '4582' OR reach_id = '4583' OR reach_id = '4585' OR reach_id = '4586' OR reach_id = '4616' OR reach_id = '4625' OR reach_id = '4651' OR reach_id = '4654' OR reach_id = '4655' OR reach_id = '4656' OR reach_id = '4684' OR reach_id = '4692' OR reach_id = '4699' OR reach_id = '4700' OR reach_id = '4702' OR reach_id = '4704' OR reach_id = '4705' OR reach_id = '4706' OR reach_id = '4712' OR reach_id = '4715' OR reach_id = '4720' OR reach_id = '4721' OR reach_id = '4722' OR reach_id = '4723' OR reach_id = '4724' OR reach_id = '4727' OR reach_id = '4731' OR reach_id = '4732' OR reach_id = '4733' OR reach_id = '4734' OR reach_id = '4740' OR reach_id = '4742' OR reach_id = '4750' OR reach_id = '4753' OR reach_id = '4754' OR reach_id = '4756' OR reach_id = '4759' OR reach_id = '4768' OR reach_id = '4770' OR reach_id = '4781' OR reach_id = '4792' OR reach_id = '5001' OR reach_id = '5006' OR reach_id = '5048' OR reach_id = '5065' OR reach_id = '5067' OR reach_id = '5092' OR reach_id = '5095' OR reach_id = '5104' OR reach_id = '5105' OR reach_id = '5110' OR reach_id = '5121' OR reach_id = '5147' OR reach_id = '5149' OR reach_id = '5184' OR reach_id = '5185' OR reach_id = '5190' OR reach_id = '5212' OR reach_id = '5213' OR reach_id = '5833' OR reach_id = '1745' OR reach_id = '1856' OR reach_id = '2501' OR reach_id = '2542' OR reach_id = '2550' OR reach_id = '2551' OR reach_id = '2552' OR reach_id = '2553' OR reach_id = '2554' OR reach_id = '2560' OR reach_id = '2561' OR reach_id = '2562' OR reach_id = '2962' OR reach_id = '2972' OR reach_id = '3001' OR reach_id = '3113' OR reach_id = '3155' OR reach_id = '3156' OR reach_id = '3157' OR reach_id = '3158' OR reach_id = '3159' OR reach_id = '3162' OR reach_id = '3160' OR reach_id = '3161' OR reach_id = '3163' OR reach_id = '3164' OR reach_id = '3172' OR reach_id = '3173' OR reach_id = '3218' OR reach_id = '3219' OR reach_id = '3220' OR reach_id = '3221' OR reach_id = '3249' OR reach_id = '3250' OR reach_id = '3251' OR reach_id = '3252' OR reach_id = '3253' OR reach_id = '3254' OR reach_id = '3255' OR reach_id = '3256' OR reach_id = '3257' OR reach_id = '3258' OR reach_id = '3259' OR reach_id = '3260' OR reach_id = '3261' OR reach_id = '3262' OR reach_id = '3264' OR reach_id = '3265' OR reach_id = '3266' OR reach_id = '3267' OR reach_id = '3268' OR reach_id = '3269' OR reach_id = '3270' OR reach_id = '3271' OR reach_id = '3272' OR reach_id = '3273' OR reach_id = '3274' OR reach_id = '3276' OR reach_id = '3275' OR reach_id = '3277' OR reach_id = '3278' OR reach_id = '3279' OR reach_id = '3280' OR reach_id = '3281' OR reach_id = '3282' OR reach_id = '3423' OR reach_id = '3556' OR reach_id = '3557' OR reach_id = '3748' OR reach_id = '3870' OR reach_id = '3872' OR reach_id = '3884' OR reach_id = '3899' OR reach_id = '3933' OR reach_id = '3952' OR reach_id = '3957' OR reach_id = '3958' OR reach_id = '4004' OR reach_id = '4029' OR reach_id = '4131' OR reach_id = '4132' OR reach_id = '4149' OR reach_id = '4152' OR reach_id = '4158' OR reach_id = '4166' OR reach_id = '4211' OR reach_id = '4287' OR reach_id = '4317' OR reach_id = '4319' OR reach_id = '4357' OR reach_id = '4375' OR reach_id = '4406' OR reach_id = '4410' OR reach_id = '4417' OR reach_id = '4418' OR reach_id = '4419' OR reach_id = '4467' OR reach_id = '4577' OR reach_id = '4652' OR reach_id = '4653' OR reach_id = '4689' OR reach_id = '4693' OR reach_id = '4695' OR reach_id = '4696' OR reach_id = '4697' OR reach_id = '4698' OR reach_id = '4701' OR reach_id = '4703' OR reach_id = '4707' OR reach_id = '4708' OR reach_id = '4709' OR reach_id = '4710' OR reach_id = '4711' OR reach_id = '4713' OR reach_id = '4714' OR reach_id = '4716' OR reach_id = '4718' OR reach_id = '4719' OR reach_id = '4717' OR reach_id = '4725' OR reach_id = '4726' OR reach_id = '4728' OR reach_id = '4730' OR reach_id = '4729' OR reach_id = '4736' OR reach_id = '4735' OR reach_id = '4738' OR reach_id = '4737' OR reach_id = '4739' OR reach_id = '4741' OR reach_id = '4743' OR reach_id = '4744' OR reach_id = '4746' OR reach_id = '4745' OR reach_id = '4747' OR reach_id = '4748' OR reach_id = '4749' OR reach_id = '4751' OR reach_id = '4752' OR reach_id = '4755' OR reach_id = '4758' OR reach_id = '4757' OR reach_id = '4760' OR reach_id = '4762' OR reach_id = '4761' OR reach_id = '4763' OR reach_id = '4775' OR reach_id = '5111' OR reach_id = '5196' OR reach_id = '5207' OR reach_id = '5239' OR reach_id = '5240' OR reach_id = '5263' OR reach_id = '5286' OR reach_id = '5435' OR reach_id = '5507' OR reach_id = '5589' OR reach_id = '5600' OR reach_id = '5601' OR reach_id = '5626' OR reach_id = '5625' OR reach_id = '5628' OR reach_id = '5642' OR reach_id = '5643' OR reach_id = '5645' OR reach_id = '5672' OR reach_id = '5762' OR reach_id = '5763' OR reach_id = '5764' OR reach_id = '5765' OR reach_id = '5813' OR reach_id = '5818' OR reach_id = '5821' OR reach_id = '5822' OR reach_id = '5899' OR reach_id = '5900' OR reach_id = '5901' OR reach_id = '5967' OR reach_id = '5979' OR reach_id = '5990' OR reach_id = '5179' OR reach_id = '5297' OR reach_id = '5342' OR reach_id = '5405' OR reach_id = '5406' OR reach_id = '5408' OR reach_id = '5771' OR reach_id = '6037' OR reach_id = '6038' OR reach_id = '6243' OR reach_id = '6431' OR reach_id = '6446' OR reach_id = '6466' OR reach_id = '6467' OR reach_id = '6478' OR reach_id = '6561' OR reach_id = '6829' OR reach_id = '10174' OR reach_id = '10175' OR reach_id = '10242' OR reach_id = '10246' OR reach_id = '10248' OR reach_id = '10247' OR reach_id = '10250' OR reach_id = '10249' OR reach_id = '10251' OR reach_id = '10252' OR reach_id = '10266' OR reach_id = '10278' OR reach_id = '10289' OR reach_id = '10307' OR reach_id = '10308' OR reach_id = '10309' OR reach_id = '10310' OR reach_id = '10327' OR reach_id = '10343' OR reach_id = '10355' OR reach_id = '10396' OR reach_id = '10506' OR reach_id = '10591' OR reach_id = '10624' OR reach_id = '10646' OR reach_id = '10676' OR reach_id = '10844' OR reach_id = '10846' OR reach_id = '10854' OR reach_id = '10907' OR reach_id = '10931' OR reach_id = '10938' OR reach_id = '10991' OR reach_id = '11037' OR reach_id = '11041' OR reach_id = '11050'\""
      ]
     },
     "execution_count": 61,
     "metadata": {},
     "output_type": "execute_result"
    }
   ],
   "source": [
    "where_clause = ' OR '.join([f\"reach_id = '{reach_id}'\" for reach_id in err_reach_id_arr])\n",
    "where_clause"
   ]
  },
  {
   "cell_type": "code",
   "execution_count": 71,
   "metadata": {},
   "outputs": [
    {
     "data": {
      "text/html": [
       "<div>\n",
       "<style scoped>\n",
       "    .dataframe tbody tr th:only-of-type {\n",
       "        vertical-align: middle;\n",
       "    }\n",
       "\n",
       "    .dataframe tbody tr th {\n",
       "        vertical-align: top;\n",
       "    }\n",
       "\n",
       "    .dataframe thead th {\n",
       "        text-align: right;\n",
       "    }\n",
       "</style>\n",
       "<table border=\"1\" class=\"dataframe\">\n",
       "  <thead>\n",
       "    <tr style=\"text-align: right;\">\n",
       "      <th></th>\n",
       "      <th>OBJECTID</th>\n",
       "      <th>reach_id</th>\n",
       "    </tr>\n",
       "  </thead>\n",
       "  <tbody>\n",
       "    <tr>\n",
       "      <th>0</th>\n",
       "      <td>25</td>\n",
       "      <td>1</td>\n",
       "    </tr>\n",
       "    <tr>\n",
       "      <th>1</th>\n",
       "      <td>26</td>\n",
       "      <td>1</td>\n",
       "    </tr>\n",
       "    <tr>\n",
       "      <th>2</th>\n",
       "      <td>27</td>\n",
       "      <td>2</td>\n",
       "    </tr>\n",
       "    <tr>\n",
       "      <th>3</th>\n",
       "      <td>28</td>\n",
       "      <td>2</td>\n",
       "    </tr>\n",
       "    <tr>\n",
       "      <th>4</th>\n",
       "      <td>29</td>\n",
       "      <td>3</td>\n",
       "    </tr>\n",
       "  </tbody>\n",
       "</table>\n",
       "</div>"
      ],
      "text/plain": [
       "   OBJECTID reach_id\n",
       "0        25        1\n",
       "1        26        1\n",
       "2        27        2\n",
       "3        28        2\n",
       "4        29        3"
      ]
     },
     "execution_count": 71,
     "metadata": {},
     "output_type": "execute_result"
    }
   ],
   "source": [
    "where_clause = ' OR '.join([f\"reach_id = '{reach_id}'\" for reach_id in err_reach_id_arr[:330]])\n",
    "df = lyr_reach_points.query(where=where_clause, out_fields=['reach_id'], return_geometry=False).sdf\n",
    "df.head()"
   ]
  },
  {
   "cell_type": "code",
   "execution_count": 46,
   "metadata": {},
   "outputs": [
    {
     "data": {
      "text/plain": [
       "'25,26,27,28,29,30,31,32,33,34,35,36,37,38,39,40,41,42,43,44,45,46,47,48,49,50,51,52,53,54,55,56,57,58,59,60,61,62,63,64,65,66,67,68,69,70,71,72,73,74,75,76,77,78,79,80,81,82,83,84,85,86,87,88,89,90,91,92,93,94,95,96,97,98,99,100,101,102,103,104,105,106,107,108,109,110,113,114,115,116,117,118,119,120,121,122,123,124,125,126,127,128,129,130,131,132,133,134,135,136,137,138,139,140,141,142,143,144,1171,1172,1509,1510,1911,1912,1913,2114,2243,2366,2501,3556,3557,3778,3779,5051,5052,5133,5134,5151,5152,5153,5154,5155,5156,5157,5158,5159,5160,5167,5168,5169,5170,5171,5172,5961,5962,5985,5986,6041,6042,6265,6266,6347,6348,6351,6352,6355,6356,6357,6358,6359,6360,6363,6364,6365,6366,6367,6368,6369,6370,6371,6372,6375,6376,6379,6380,6465,6466,6467,6468,6469,6470,6471,6472,6531,6532,6533,6534,6535,6536,6537,6538,6539,6540,6541,6542,6543,6544,6545,6546,6547,6548,6549,6550,6551,6552,6553,6554,6555,6556,6557,6558,6559,6560,6561,6562,6563,6564,6565,6566,6567,6568,6569,6570,6571,6572,6573,6574,6575,6576,6579,6580,6581,6582,6583,6584,6585,6586,6587,6588,6591,6592,6593,6594,6595,6596,6597,6598,6599,6600,6875,6876,7143,7144,7145,7146,7521,7522,7757,7758,7761,7762,7787,7788,7813,7814,7879,7880,7917,7918,7927,7928,7929,7930,8021,8022,8073,8074,8277,8278,8279,8280,8307,8308,8313,8314,8325,8326,8341,8342,8429,8430,8579,8580,8635,8636,8641,8643,8705,8706,8735,8736,8789,8790,8795,8796,8805,8806,8807,8808,8811,8812,8887,8888,9085,9086,9215,9216,9219,9220,9273,9274,9287,9288,9289,9290,9291,9292,9293,9294,9295,9296,9299,9300,9301,9302,9303,9304,9305,9306,9307,9308,9309,9310,9311,9312,9315,9316,9317,9318,9319,9320,9321,9322,9323,9324,9325,9326,9329,9330,9331,9332,9333,9334,9335,9336,9337,9338,9341,9342,9343,9344,9345,9346,9347,9348,9349,9350,9351,9352,9353,9354,9355,9356,9357,9358,9359,9360,9361,9362,9363,9364,9365,9366,9367,9368,9369,9370,9371,9372,9373,9374,9375,9376,9377,9378,9379,9380,9381,9382,9383,9384,9385,9386,9571,9572,9641,9642,9663,9664,9699,9700,9701,9702'"
      ]
     },
     "execution_count": 46,
     "metadata": {},
     "output_type": "execute_result"
    }
   ],
   "source": [
    "','.join(df['OBJECTID'].astype(str))"
   ]
  },
  {
   "cell_type": "code",
   "execution_count": 53,
   "metadata": {},
   "outputs": [
    {
     "name": "stderr",
     "output_type": "stream",
     "text": [
      "\n",
      "Unable to perform query. Please check your parameters.\n"
     ]
    },
    {
     "ename": "RuntimeError",
     "evalue": "\nUnable to perform query. Please check your parameters.\n(Error Code: 400)",
     "output_type": "error",
     "traceback": [
      "\u001b[0;31m---------------------------------------------------------------------------\u001b[0m",
      "\u001b[0;31mRuntimeError\u001b[0m                              Traceback (most recent call last)",
      "\u001b[0;32m<ipython-input-53-c65e87132c3f>\u001b[0m in \u001b[0;36m<module>\u001b[0;34m()\u001b[0m\n\u001b[1;32m      2\u001b[0m \u001b[0merr_reach_id_arr\u001b[0m \u001b[0;34m=\u001b[0m \u001b[0merr_df\u001b[0m\u001b[0;34m[\u001b[0m\u001b[0;34m'reach_id'\u001b[0m\u001b[0;34m]\u001b[0m\u001b[0;34m.\u001b[0m\u001b[0munique\u001b[0m\u001b[0;34m(\u001b[0m\u001b[0;34m)\u001b[0m\u001b[0;34m\u001b[0m\u001b[0m\n\u001b[1;32m      3\u001b[0m \u001b[0mwhere_clause\u001b[0m \u001b[0;34m=\u001b[0m \u001b[0;34m' OR '\u001b[0m\u001b[0;34m.\u001b[0m\u001b[0mjoin\u001b[0m\u001b[0;34m(\u001b[0m\u001b[0;34m[\u001b[0m\u001b[0;34mf\"reach_id = '{reach_id}'\"\u001b[0m \u001b[0;32mfor\u001b[0m \u001b[0mreach_id\u001b[0m \u001b[0;32min\u001b[0m \u001b[0merr_reach_id_arr\u001b[0m\u001b[0;34m]\u001b[0m\u001b[0;34m)\u001b[0m\u001b[0;34m\u001b[0m\u001b[0m\n\u001b[0;32m----> 4\u001b[0;31m \u001b[0mfs_points\u001b[0m \u001b[0;34m=\u001b[0m \u001b[0mlyr_reach_points\u001b[0m\u001b[0;34m.\u001b[0m\u001b[0mquery\u001b[0m\u001b[0;34m(\u001b[0m\u001b[0mwhere_clause\u001b[0m\u001b[0;34m)\u001b[0m\u001b[0;34m\u001b[0m\u001b[0m\n\u001b[0m\u001b[1;32m      5\u001b[0m \u001b[0mfs_points\u001b[0m\u001b[0;34m\u001b[0m\u001b[0m\n",
      "\u001b[0;32m/anaconda3/envs/arcgis-dev/lib/python3.6/site-packages/arcgis/features/layer.py\u001b[0m in \u001b[0;36mquery\u001b[0;34m(self, where, out_fields, time_filter, geometry_filter, return_geometry, return_count_only, return_ids_only, return_distinct_values, return_extent_only, group_by_fields_for_statistics, statistic_filter, result_offset, result_record_count, object_ids, distance, units, max_allowable_offset, out_sr, geometry_precision, gdb_version, order_by_fields, out_statistics, return_z, return_m, multipatch_option, quantization_parameters, return_centroid, return_all_records, result_type, historic_moment, sql_format, return_true_curves, return_exceeded_limit_features, as_df, **kwargs)\u001b[0m\n\u001b[1;32m    698\u001b[0m \u001b[0;34m\u001b[0m\u001b[0m\n\u001b[1;32m    699\u001b[0m         \u001b[0mparams\u001b[0m\u001b[0;34m[\u001b[0m\u001b[0;34m'returnCountOnly'\u001b[0m\u001b[0;34m]\u001b[0m \u001b[0;34m=\u001b[0m \u001b[0;32mTrue\u001b[0m\u001b[0;34m\u001b[0m\u001b[0m\n\u001b[0;32m--> 700\u001b[0;31m         \u001b[0mrecord_count\u001b[0m \u001b[0;34m=\u001b[0m \u001b[0mself\u001b[0m\u001b[0;34m.\u001b[0m\u001b[0m_query\u001b[0m\u001b[0;34m(\u001b[0m\u001b[0murl\u001b[0m\u001b[0;34m,\u001b[0m \u001b[0mparams\u001b[0m\u001b[0;34m,\u001b[0m \u001b[0mraw\u001b[0m\u001b[0;34m=\u001b[0m\u001b[0mas_raw\u001b[0m\u001b[0;34m)\u001b[0m\u001b[0;34m\u001b[0m\u001b[0m\n\u001b[0m\u001b[1;32m    701\u001b[0m         \u001b[0;32mif\u001b[0m \u001b[0;34m'maxRecordCount'\u001b[0m \u001b[0;32min\u001b[0m \u001b[0mself\u001b[0m\u001b[0;34m.\u001b[0m\u001b[0mproperties\u001b[0m\u001b[0;34m:\u001b[0m\u001b[0;34m\u001b[0m\u001b[0m\n\u001b[1;32m    702\u001b[0m             \u001b[0mmax_records\u001b[0m \u001b[0;34m=\u001b[0m \u001b[0mself\u001b[0m\u001b[0;34m.\u001b[0m\u001b[0mproperties\u001b[0m\u001b[0;34m[\u001b[0m\u001b[0;34m'maxRecordCount'\u001b[0m\u001b[0;34m]\u001b[0m\u001b[0;34m\u001b[0m\u001b[0m\n",
      "\u001b[0;32m/anaconda3/envs/arcgis-dev/lib/python3.6/site-packages/arcgis/features/layer.py\u001b[0m in \u001b[0;36m_query\u001b[0;34m(self, url, params, raw)\u001b[0m\n\u001b[1;32m   1397\u001b[0m         \u001b[0;34m\"\"\" returns results of query \"\"\"\u001b[0m\u001b[0;34m\u001b[0m\u001b[0m\n\u001b[1;32m   1398\u001b[0m         result = self._con.post(path=url,\n\u001b[0;32m-> 1399\u001b[0;31m                                 postdata=params, token=self._token)\n\u001b[0m\u001b[1;32m   1400\u001b[0m         \u001b[0;32mif\u001b[0m \u001b[0;34m'error'\u001b[0m \u001b[0;32min\u001b[0m \u001b[0mresult\u001b[0m\u001b[0;34m:\u001b[0m\u001b[0;34m\u001b[0m\u001b[0m\n\u001b[1;32m   1401\u001b[0m             \u001b[0;32mraise\u001b[0m \u001b[0mValueError\u001b[0m\u001b[0;34m(\u001b[0m\u001b[0mresult\u001b[0m\u001b[0;34m)\u001b[0m\u001b[0;34m\u001b[0m\u001b[0m\n",
      "\u001b[0;32m/anaconda3/envs/arcgis-dev/lib/python3.6/site-packages/arcgis/_impl/connection.py\u001b[0m in \u001b[0;36mpost\u001b[0;34m(self, path, postdata, files, ssl, compress, is_retry, use_ordered_dict, add_token, verify_cert, token, try_json, out_folder, file_name, force_bytes, add_headers)\u001b[0m\n\u001b[1;32m   1165\u001b[0m                                          verify_cert=verify_cert, is_retry=True)\n\u001b[1;32m   1166\u001b[0m \u001b[0;34m\u001b[0m\u001b[0m\n\u001b[0;32m-> 1167\u001b[0;31m                 \u001b[0mself\u001b[0m\u001b[0;34m.\u001b[0m\u001b[0m_handle_json_error\u001b[0m\u001b[0;34m(\u001b[0m\u001b[0mresp_json\u001b[0m\u001b[0;34m[\u001b[0m\u001b[0;34m'error'\u001b[0m\u001b[0;34m]\u001b[0m\u001b[0;34m,\u001b[0m \u001b[0merrorcode\u001b[0m\u001b[0;34m)\u001b[0m\u001b[0;34m\u001b[0m\u001b[0m\n\u001b[0m\u001b[1;32m   1168\u001b[0m                 \u001b[0;32mreturn\u001b[0m \u001b[0;32mNone\u001b[0m\u001b[0;34m\u001b[0m\u001b[0m\n\u001b[1;32m   1169\u001b[0m \u001b[0;34m\u001b[0m\u001b[0m\n",
      "\u001b[0;32m/anaconda3/envs/arcgis-dev/lib/python3.6/site-packages/arcgis/_impl/connection.py\u001b[0m in \u001b[0;36m_handle_json_error\u001b[0;34m(self, error, errorcode)\u001b[0m\n\u001b[1;32m   1186\u001b[0m \u001b[0;34m\u001b[0m\u001b[0m\n\u001b[1;32m   1187\u001b[0m         \u001b[0merrormessage\u001b[0m \u001b[0;34m=\u001b[0m \u001b[0merrormessage\u001b[0m \u001b[0;34m+\u001b[0m \u001b[0;34m\"\\n(Error Code: \"\u001b[0m \u001b[0;34m+\u001b[0m \u001b[0mstr\u001b[0m\u001b[0;34m(\u001b[0m\u001b[0merrorcode\u001b[0m\u001b[0;34m)\u001b[0m \u001b[0;34m+\u001b[0m\u001b[0;34m\")\"\u001b[0m\u001b[0;34m\u001b[0m\u001b[0m\n\u001b[0;32m-> 1188\u001b[0;31m         \u001b[0;32mraise\u001b[0m \u001b[0mRuntimeError\u001b[0m\u001b[0;34m(\u001b[0m\u001b[0merrormessage\u001b[0m\u001b[0;34m)\u001b[0m\u001b[0;34m\u001b[0m\u001b[0m\n\u001b[0m\u001b[1;32m   1189\u001b[0m \u001b[0;34m\u001b[0m\u001b[0m\n\u001b[1;32m   1190\u001b[0m \u001b[0;32mclass\u001b[0m \u001b[0m_StrictURLopener\u001b[0m\u001b[0;34m(\u001b[0m\u001b[0mrequest\u001b[0m\u001b[0;34m.\u001b[0m\u001b[0mFancyURLopener\u001b[0m\u001b[0;34m)\u001b[0m\u001b[0;34m:\u001b[0m\u001b[0;34m\u001b[0m\u001b[0m\n",
      "\u001b[0;31mRuntimeError\u001b[0m: \nUnable to perform query. Please check your parameters.\n(Error Code: 400)"
     ]
    }
   ],
   "source": [
    "err_df = lyr_reach_centroid.query(where='error = 1', out_fields=['reach_id'], return_geometry=False).sdf\n",
    "err_reach_id_arr = err_df['reach_id'].unique()\n",
    "where_clause = ' OR '.join([f\"reach_id = '{reach_id}'\" for reach_id in err_reach_id_arr])\n",
    "fs_points = lyr_reach_points.query(where_clause)\n",
    "fs_points"
   ]
  },
  {
   "cell_type": "code",
   "execution_count": null,
   "metadata": {},
   "outputs": [],
   "source": [
    "def purge_invalid():\n",
    "    err_df = lyr_reach_centroid.query(where='error = 1', out_fields=['reach_id'], return_geometry=False).sdf\n",
    "    err_reach_id_arr = err_df['reach_id'].unique()\n",
    "    where_clause = ' OR '.join([f\"reach_id = '{reach_id}'\" for reach_id in err_reach_id_arr])\n",
    "    "
   ]
  }
 ],
 "metadata": {
  "kernelspec": {
   "display_name": "Python 3",
   "language": "python",
   "name": "python3"
  },
  "language_info": {
   "codemirror_mode": {
    "name": "ipython",
    "version": 3
   },
   "file_extension": ".py",
   "mimetype": "text/x-python",
   "name": "python",
   "nbconvert_exporter": "python",
   "pygments_lexer": "ipython3",
   "version": "3.6.6"
  }
 },
 "nbformat": 4,
 "nbformat_minor": 2
}

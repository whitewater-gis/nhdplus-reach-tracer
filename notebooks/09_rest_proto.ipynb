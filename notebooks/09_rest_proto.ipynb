{
 "cells": [
  {
   "cell_type": "code",
   "execution_count": 1,
   "metadata": {},
   "outputs": [],
   "source": [
    "from arcgis.gis import GIS, Item\n",
    "import os\n",
    "from multiprocessing import Process, Queue\n",
    "\n",
    "from dotenv import load_dotenv, find_dotenv\n",
    "load_dotenv(find_dotenv())\n",
    "\n",
    "import sys\n",
    "sys.path.append('../src')\n",
    "\n",
    "import reach_tools\n",
    "import hydrology\n",
    "\n",
    "gis = GIS(username=os.getenv('ARCGIS_USERNAME'), password=os.getenv('ARCGIS_PASSWORD'))\n",
    "\n",
    "url_reach_line = os.getenv('URL_REACH_LINE')\n",
    "url_reach_centroid = os.getenv('URL_REACH_CENTROID')\n",
    "url_reach_points = os.getenv('URL_REACH_POINT')\n",
    "\n",
    "lyr_reach_line = reach_tools.ReachFeatureLayer(url_reach_line, gis)\n",
    "lyr_reach_centroid = reach_tools.ReachFeatureLayer(url_reach_centroid, gis)\n",
    "lyr_reach_points = reach_tools.ReachPointFeatureLayer(url_reach_points, gis)\n",
    "\n",
    "%load_ext autoreload\n",
    "%autoreload 2"
   ]
  },
  {
   "cell_type": "code",
   "execution_count": 2,
   "metadata": {},
   "outputs": [],
   "source": [
    "reach_id = 3"
   ]
  },
  {
   "cell_type": "code",
   "execution_count": 3,
   "metadata": {},
   "outputs": [
    {
     "data": {
      "application/vnd.jupyter.widget-view+json": {
       "model_id": "9ef10d09e20046409924425318ea2c6d",
       "version_major": 2,
       "version_minor": 0
      },
      "text/plain": [
       "MapView(layout=Layout(height='400px', width='100%'), tab_mode='tab-after')"
      ]
     },
     "metadata": {},
     "output_type": "display_data"
    },
    {
     "data": {
      "text/html": [
       "<div class=\"map-static-img-preview-2364e627-ec7e-434c-9bcf-9544f15f591b\"><img src=\"\"></img></div>"
      ],
      "text/plain": [
       "<IPython.core.display.HTML object>"
      ]
     },
     "metadata": {},
     "output_type": "display_data"
    }
   ],
   "source": [
    "reach = reach_tools.Reach.get_from_aw(reach_id)\n",
    "webmap = reach.snap_putin_and_takeout_and_trace(True)\n",
    "webmap"
   ]
  },
  {
   "cell_type": "code",
   "execution_count": 81,
   "metadata": {},
   "outputs": [
    {
     "data": {
      "text/plain": [
       "{'line': {'paths': ((-145.91354166641474, 60.95506944479911),\n",
       "   (-145.91354166641474, 60.963402777815986),\n",
       "   (-145.91770833337284, 60.967569444774085),\n",
       "   (-145.91770833337284, 60.97173611083292),\n",
       "   (-145.92187500033097, 60.97590277779102),\n",
       "   (-145.9239583329107, 60.97590277779102),\n",
       "   (-145.9239583329107, 60.97798611127007),\n",
       "   (-145.92812499986883, 60.98215277732885),\n",
       "   (-145.92812499986883, 60.9946527782032),\n",
       "   (-145.93020833334788, 60.99673611078293),\n",
       "   (-145.93020833334788, 61.00090277774103),\n",
       "   (-145.93229166682693, 61.00298611122014),\n",
       "   (-145.93020833334788, 61.00506944469919),\n",
       "   (-145.92812499986883, 61.00506944469919),\n",
       "   (-145.92187500033097, 61.01131944423702),\n",
       "   (-145.9239583329107, 61.01340277771607),\n",
       "   (-145.91770833337284, 61.01965277815327),\n",
       "   (-145.91770833337284, 61.021736110733),\n",
       "   (-145.90937500035596, 61.0300694446492),\n",
       "   (-145.90937500035596, 61.03423611070798),\n",
       "   (-145.9072916668769, 61.03631944418703),\n",
       "   (-145.90937500035596, 61.038402777666136),\n",
       "   (-145.90937500035596, 61.040486111145185),\n",
       "   (-145.9114583329357, 61.042569444624235),\n",
       "   (-145.9156249998938, 61.042569444624235),\n",
       "   (-145.91770833337284, 61.044652778103284),\n",
       "   (-145.92604166638975, 61.044652778103284),\n",
       "   (-145.92812499986883, 61.046736110683014),\n",
       "   (-145.932693481445, 61.046736110683014)),\n",
       "  'spatialReference': {'wkid': 4326, 'latestWkid': 4326},\n",
       "  'type': 'polyline'},\n",
       " 'centroid': {'x': -145.92311757405582,\n",
       "  'y': 61.00090277756374,\n",
       "  'spatialReference': {'wkid': 4326, 'latestWkid': 4326}},\n",
       " 'accesses': {'putin': {'x': -145.91354166666667,\n",
       "   'y': 60.95506944444446,\n",
       "   'spatialReference': {'wkid': 4326, 'latestWkid': 4326},\n",
       "   'type': 'point'},\n",
       "  'takeout': {'x': -145.932693481445,\n",
       "   'y': 61.046736110683014,\n",
       "   'spatialReference': {'wkid': 4326},\n",
       "   'type': 'point'}}}"
      ]
     },
     "execution_count": 81,
     "metadata": {},
     "output_type": "execute_result"
    }
   ],
   "source": [
    "resp_dict = {\n",
    "    'line': reach.geometry,\n",
    "    'centroid': reach.centroid,\n",
    "    'accesses': {\n",
    "        'putin': reach.putin.geometry,\n",
    "        'takeout': reach.takeout.geometry\n",
    "    }\n",
    "}\n",
    "resp_dict"
   ]
  },
  {
   "cell_type": "code",
   "execution_count": null,
   "metadata": {},
   "outputs": [],
   "source": []
  }
 ],
 "metadata": {
  "kernelspec": {
   "display_name": "Python 3",
   "language": "python",
   "name": "python3"
  },
  "language_info": {
   "codemirror_mode": {
    "name": "ipython",
    "version": 3
   },
   "file_extension": ".py",
   "mimetype": "text/x-python",
   "name": "python",
   "nbconvert_exporter": "python",
   "pygments_lexer": "ipython3",
   "version": "3.6.6"
  }
 },
 "nbformat": 4,
 "nbformat_minor": 2
}

{
 "cells": [
  {
   "cell_type": "code",
   "execution_count": 1,
   "metadata": {},
   "outputs": [],
   "source": [
    "from arcgis.gis import GIS\n",
    "import os\n",
    "\n",
    "from dotenv import load_dotenv, find_dotenv\n",
    "load_dotenv(find_dotenv())\n",
    "\n",
    "import sys\n",
    "sys.path.append('../src')\n",
    "\n",
    "import reach_tools\n",
    "\n",
    "%load_ext autoreload\n",
    "%autoreload 2"
   ]
  },
  {
   "cell_type": "code",
   "execution_count": 2,
   "metadata": {},
   "outputs": [],
   "source": [
    "url_reach_line = os.getenv('URL_REACH_LINE')\n",
    "url_reach_centroid = os.getenv('URL_REACH_CENTROID')\n",
    "url_reach_points = os.getenv('URL_REACH_POINT')\n",
    "\n",
    "reach_id_ldub = 2156\n",
    "reach_id_farmies = 2269\n",
    "reach_id_truss = 2270\n",
    "reach_id_bz = 3064\n",
    "reach_id_canyon = 3066\n",
    "reach_id_opal = 5199\n",
    "\n",
    "lst_reach_id = [reach_id_ldub, reach_id_farmies, reach_id_truss, reach_id_bz, reach_id_canyon, reach_id_opal]"
   ]
  },
  {
   "cell_type": "code",
   "execution_count": 3,
   "metadata": {},
   "outputs": [
    {
     "data": {
      "text/html": [
       "GIS @ <a href=\"https://knu2xs.maps.arcgis.com\">https://knu2xs.maps.arcgis.com</a>"
      ],
      "text/plain": [
       "GIS @ https://knu2xs.maps.arcgis.com version:6.4"
      ]
     },
     "execution_count": 3,
     "metadata": {},
     "output_type": "execute_result"
    }
   ],
   "source": [
    "gis = GIS(username=os.getenv('ARCGIS_USERNAME'), password=os.getenv('ARCGIS_PASSWORD'))\n",
    "gis"
   ]
  },
  {
   "cell_type": "code",
   "execution_count": 4,
   "metadata": {},
   "outputs": [],
   "source": [
    "lyr_reach_line = reach_tools.ReachFeatureLayer(url_reach_line, gis)\n",
    "lyr_reach_centroid = reach_tools.ReachFeatureLayer(url_reach_centroid, gis)\n",
    "lyr_reach_points = reach_tools.ReachPointFeatureLayer(url_reach_points, gis)"
   ]
  },
  {
   "cell_type": "code",
   "execution_count": 5,
   "metadata": {},
   "outputs": [
    {
     "data": {
      "application/vnd.jupyter.widget-view+json": {
       "model_id": "cc8b1551b5304983af22879ba86072cb",
       "version_major": 2,
       "version_minor": 0
      },
      "text/plain": [
       "MapView(layout=Layout(height='400px', width='100%'))"
      ]
     },
     "metadata": {},
     "output_type": "display_data"
    },
    {
     "data": {
      "text/html": [
       "<div class=\"map-static-img-preview-a6bcc38a-42c9-4bc5-b0c5-9a46cdfb8820\"><img src=\"\"></img></div>"
      ],
      "text/plain": [
       "<IPython.core.display.HTML object>"
      ]
     },
     "metadata": {},
     "output_type": "display_data"
    }
   ],
   "source": [
    "reach = reach_tools.Reach.get_from_aw(2270)\n",
    "webmap = reach.update_putin_takeout_and_trace(webmap=True)\n",
    "webmap"
   ]
  },
  {
   "cell_type": "code",
   "execution_count": null,
   "metadata": {},
   "outputs": [],
   "source": []
  }
 ],
 "metadata": {
  "kernelspec": {
   "display_name": "Python 3",
   "language": "python",
   "name": "python3"
  },
  "language_info": {
   "codemirror_mode": {
    "name": "ipython",
    "version": 3
   },
   "file_extension": ".py",
   "mimetype": "text/x-python",
   "name": "python",
   "nbconvert_exporter": "python",
   "pygments_lexer": "ipython3",
   "version": "3.6.6"
  }
 },
 "nbformat": 4,
 "nbformat_minor": 2
}

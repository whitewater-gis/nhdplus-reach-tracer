{
 "cells": [
  {
   "cell_type": "code",
   "execution_count": 6,
   "metadata": {},
   "outputs": [],
   "source": [
    "from arcgis.gis import GIS\n",
    "\n",
    "import sys\n",
    "sys.path.append('../src')\n",
    "\n",
    "import reach_tools"
   ]
  },
  {
   "cell_type": "code",
   "execution_count": 2,
   "metadata": {},
   "outputs": [],
   "source": [
    "url_reach_line = r'https://services5.arcgis.com/12oODIpfxlRR11MF/arcgis/rest/services/Reach_Line/FeatureServer/0'\n",
    "url_reach_centroid = r'https://services5.arcgis.com/12oODIpfxlRR11MF/arcgis/rest/services/Reach_Centroid/FeatureServer/0'\n",
    "url_reach_points = r'https://services5.arcgis.com/12oODIpfxlRR11MF/arcgis/rest/services/reach_points/FeatureServer/0'"
   ]
  },
  {
   "cell_type": "code",
   "execution_count": 3,
   "metadata": {},
   "outputs": [
    {
     "name": "stdin",
     "output_type": "stream",
     "text": [
      "Enter password:  ········\n"
     ]
    },
    {
     "data": {
      "text/html": [
       "GIS @ <a href=\"https://jdm1cc.maps.arcgis.com\">https://jdm1cc.maps.arcgis.com</a>"
      ],
      "text/plain": [
       "GIS @ https://jdm1cc.maps.arcgis.com version:6.4"
      ]
     },
     "execution_count": 3,
     "metadata": {},
     "output_type": "execute_result"
    }
   ],
   "source": [
    "gis_jdm1cc = GIS(username='joel_mccune')\n",
    "gis_jdm1cc"
   ]
  },
  {
   "cell_type": "code",
   "execution_count": 4,
   "metadata": {},
   "outputs": [
    {
     "name": "stdin",
     "output_type": "stream",
     "text": [
      "Enter password:  ········\n"
     ]
    },
    {
     "data": {
      "text/html": [
       "GIS @ <a href=\"https://knu2xs.maps.arcgis.com\">https://knu2xs.maps.arcgis.com</a>"
      ],
      "text/plain": [
       "GIS @ https://knu2xs.maps.arcgis.com version:6.4"
      ]
     },
     "execution_count": 4,
     "metadata": {},
     "output_type": "execute_result"
    }
   ],
   "source": [
    "gis_knu2xs = GIS(username='knu2xs')\n",
    "gis_knu2xs"
   ]
  },
  {
   "cell_type": "code",
   "execution_count": 7,
   "metadata": {},
   "outputs": [],
   "source": [
    "lyr_reach_line = reach_tools.ReachFeatureLayer(url_reach_line, gis_jdm1cc)\n",
    "lyr_reach_centroid = reach_tools.ReachFeatureLayer(url_reach_centroid, gis_jdm1cc)\n",
    "lyr_reach_points = reach_tools.ReachPointFeatureLayer(url_reach_points, gis_jdm1cc)"
   ]
  },
  {
   "cell_type": "code",
   "execution_count": 13,
   "metadata": {},
   "outputs": [
    {
     "data": {
      "text/html": [
       "<div>\n",
       "<style scoped>\n",
       "    .dataframe tbody tr th:only-of-type {\n",
       "        vertical-align: middle;\n",
       "    }\n",
       "\n",
       "    .dataframe tbody tr th {\n",
       "        vertical-align: top;\n",
       "    }\n",
       "\n",
       "    .dataframe thead th {\n",
       "        text-align: right;\n",
       "    }\n",
       "</style>\n",
       "<table border=\"1\" class=\"dataframe\">\n",
       "  <thead>\n",
       "    <tr style=\"text-align: right;\">\n",
       "      <th></th>\n",
       "      <th>OBJECTID</th>\n",
       "      <th>SHAPE</th>\n",
       "      <th>abstract</th>\n",
       "      <th>collection_method</th>\n",
       "      <th>description</th>\n",
       "      <th>difficulty</th>\n",
       "      <th>difficulty_maximum</th>\n",
       "      <th>difficulty_minimum</th>\n",
       "      <th>difficulty_outlier</th>\n",
       "      <th>error</th>\n",
       "      <th>notes</th>\n",
       "      <th>reach_id</th>\n",
       "      <th>reach_name</th>\n",
       "      <th>reach_name_alternate</th>\n",
       "      <th>river_name</th>\n",
       "      <th>river_name_alternate</th>\n",
       "      <th>update_arcgis</th>\n",
       "      <th>update_aw</th>\n",
       "      <th>validated</th>\n",
       "      <th>validated_by</th>\n",
       "    </tr>\n",
       "  </thead>\n",
       "  <tbody>\n",
       "    <tr>\n",
       "      <th>0</th>\n",
       "      <td>388</td>\n",
       "      <td>{\"x\": -121.639253014871, \"y\": 45.7568119360531...</td>\n",
       "      <td>Washington's best known class V run flowing ye...</td>\n",
       "      <td>None</td>\n",
       "      <td>The Little White Salmon is a highlight of Paci...</td>\n",
       "      <td>V</td>\n",
       "      <td>V</td>\n",
       "      <td>None</td>\n",
       "      <td>None</td>\n",
       "      <td>None</td>\n",
       "      <td></td>\n",
       "      <td>2156</td>\n",
       "      <td>Willard to Columbia River</td>\n",
       "      <td></td>\n",
       "      <td>Little White Salmon</td>\n",
       "      <td></td>\n",
       "      <td>NaT</td>\n",
       "      <td>2019-01-25 06:37:13</td>\n",
       "      <td>None</td>\n",
       "      <td></td>\n",
       "    </tr>\n",
       "    <tr>\n",
       "      <th>1</th>\n",
       "      <td>389</td>\n",
       "      <td>{\"x\": -121.4969490791435, \"y\": 45.948830338063...</td>\n",
       "      <td>Dramatic gorge with numerous ledge drops that ...</td>\n",
       "      <td>None</td>\n",
       "      <td>Dramatic gorge with numerous ledge drops that ...</td>\n",
       "      <td>IV-V</td>\n",
       "      <td>V</td>\n",
       "      <td>IV</td>\n",
       "      <td>None</td>\n",
       "      <td>None</td>\n",
       "      <td></td>\n",
       "      <td>2269</td>\n",
       "      <td>2 - Trout Lake to Green Truss Bridge (Farmlands)</td>\n",
       "      <td></td>\n",
       "      <td>White Salmon</td>\n",
       "      <td></td>\n",
       "      <td>NaT</td>\n",
       "      <td>2013-12-04 13:16:45</td>\n",
       "      <td>None</td>\n",
       "      <td></td>\n",
       "    </tr>\n",
       "    <tr>\n",
       "      <th>2</th>\n",
       "      <td>390</td>\n",
       "      <td>{\"x\": -121.5051040711635, \"y\": 45.880322084086...</td>\n",
       "      <td>Well known for Big Brother this river is a pro...</td>\n",
       "      <td>None</td>\n",
       "      <td>This run is characterized by big drops and an ...</td>\n",
       "      <td>V</td>\n",
       "      <td>V</td>\n",
       "      <td>None</td>\n",
       "      <td>None</td>\n",
       "      <td>None</td>\n",
       "      <td></td>\n",
       "      <td>2270</td>\n",
       "      <td>3 - Green Truss Bridge to BZ Corners</td>\n",
       "      <td></td>\n",
       "      <td>White Salmon</td>\n",
       "      <td></td>\n",
       "      <td>NaT</td>\n",
       "      <td>2013-12-04 13:25:47</td>\n",
       "      <td>None</td>\n",
       "      <td></td>\n",
       "    </tr>\n",
       "    <tr>\n",
       "      <th>3</th>\n",
       "      <td>391</td>\n",
       "      <td>{\"x\": -121.512728718935, \"y\": 45.8153355684194...</td>\n",
       "      <td>A classic intermediate run that flows througho...</td>\n",
       "      <td>None</td>\n",
       "      <td>Emerging from the slopes of Mt. Adams, the Whi...</td>\n",
       "      <td>III+(V)</td>\n",
       "      <td>III+</td>\n",
       "      <td>None</td>\n",
       "      <td>V</td>\n",
       "      <td>None</td>\n",
       "      <td></td>\n",
       "      <td>3064</td>\n",
       "      <td>4 - BZ Corner to Buck Creek</td>\n",
       "      <td></td>\n",
       "      <td>White Salmon</td>\n",
       "      <td></td>\n",
       "      <td>NaT</td>\n",
       "      <td>2017-01-05 10:47:33</td>\n",
       "      <td>None</td>\n",
       "      <td></td>\n",
       "    </tr>\n",
       "    <tr>\n",
       "      <th>4</th>\n",
       "      <td>392</td>\n",
       "      <td>{\"x\": -122.344559692601, \"y\": 45.9505387026857...</td>\n",
       "      <td>A classic creek run with a series of outstandi...</td>\n",
       "      <td>None</td>\n",
       "      <td>Events: Annual Canyon Creek Extreme Race Logis...</td>\n",
       "      <td>IV+</td>\n",
       "      <td>IV+</td>\n",
       "      <td>None</td>\n",
       "      <td>None</td>\n",
       "      <td>None</td>\n",
       "      <td></td>\n",
       "      <td>3066</td>\n",
       "      <td>2 - Fly Creek to Merwin Reservoir</td>\n",
       "      <td></td>\n",
       "      <td>Canyon Creek (Lewis River trib.)</td>\n",
       "      <td></td>\n",
       "      <td>NaT</td>\n",
       "      <td>2014-11-08 14:50:28</td>\n",
       "      <td>None</td>\n",
       "      <td></td>\n",
       "    </tr>\n",
       "    <tr>\n",
       "      <th>5</th>\n",
       "      <td>393</td>\n",
       "      <td>{\"x\": -122.281973822233, \"y\": 44.8486994140241...</td>\n",
       "      <td>Known to locals as Lower Opal Creek, this run ...</td>\n",
       "      <td>None</td>\n",
       "      <td>**Flows:** This section has been run below 400...</td>\n",
       "      <td>III-IV(V)</td>\n",
       "      <td>IV</td>\n",
       "      <td>III</td>\n",
       "      <td>V</td>\n",
       "      <td>None</td>\n",
       "      <td></td>\n",
       "      <td>5199</td>\n",
       "      <td>2\\. Gold Creek to Three Pools</td>\n",
       "      <td></td>\n",
       "      <td>Santiam, Little North (Classic Opal)</td>\n",
       "      <td></td>\n",
       "      <td>NaT</td>\n",
       "      <td>2018-03-30 05:22:10</td>\n",
       "      <td>None</td>\n",
       "      <td></td>\n",
       "    </tr>\n",
       "  </tbody>\n",
       "</table>\n",
       "</div>"
      ],
      "text/plain": [
       "   OBJECTID                                              SHAPE  \\\n",
       "0       388  {\"x\": -121.639253014871, \"y\": 45.7568119360531...   \n",
       "1       389  {\"x\": -121.4969490791435, \"y\": 45.948830338063...   \n",
       "2       390  {\"x\": -121.5051040711635, \"y\": 45.880322084086...   \n",
       "3       391  {\"x\": -121.512728718935, \"y\": 45.8153355684194...   \n",
       "4       392  {\"x\": -122.344559692601, \"y\": 45.9505387026857...   \n",
       "5       393  {\"x\": -122.281973822233, \"y\": 44.8486994140241...   \n",
       "\n",
       "                                            abstract collection_method  \\\n",
       "0  Washington's best known class V run flowing ye...              None   \n",
       "1  Dramatic gorge with numerous ledge drops that ...              None   \n",
       "2  Well known for Big Brother this river is a pro...              None   \n",
       "3  A classic intermediate run that flows througho...              None   \n",
       "4  A classic creek run with a series of outstandi...              None   \n",
       "5  Known to locals as Lower Opal Creek, this run ...              None   \n",
       "\n",
       "                                         description difficulty  \\\n",
       "0  The Little White Salmon is a highlight of Paci...          V   \n",
       "1  Dramatic gorge with numerous ledge drops that ...       IV-V   \n",
       "2  This run is characterized by big drops and an ...          V   \n",
       "3  Emerging from the slopes of Mt. Adams, the Whi...    III+(V)   \n",
       "4  Events: Annual Canyon Creek Extreme Race Logis...        IV+   \n",
       "5  **Flows:** This section has been run below 400...  III-IV(V)   \n",
       "\n",
       "  difficulty_maximum difficulty_minimum difficulty_outlier error notes  \\\n",
       "0                  V               None               None  None         \n",
       "1                  V                 IV               None  None         \n",
       "2                  V               None               None  None         \n",
       "3               III+               None                  V  None         \n",
       "4                IV+               None               None  None         \n",
       "5                 IV                III                  V  None         \n",
       "\n",
       "  reach_id                                        reach_name  \\\n",
       "0     2156                         Willard to Columbia River   \n",
       "1     2269  2 - Trout Lake to Green Truss Bridge (Farmlands)   \n",
       "2     2270              3 - Green Truss Bridge to BZ Corners   \n",
       "3     3064                       4 - BZ Corner to Buck Creek   \n",
       "4     3066                 2 - Fly Creek to Merwin Reservoir   \n",
       "5     5199                     2\\. Gold Creek to Three Pools   \n",
       "\n",
       "  reach_name_alternate                            river_name  \\\n",
       "0                                        Little White Salmon   \n",
       "1                                               White Salmon   \n",
       "2                                               White Salmon   \n",
       "3                                               White Salmon   \n",
       "4                           Canyon Creek (Lewis River trib.)   \n",
       "5                       Santiam, Little North (Classic Opal)   \n",
       "\n",
       "  river_name_alternate update_arcgis           update_aw validated  \\\n",
       "0                                NaT 2019-01-25 06:37:13      None   \n",
       "1                                NaT 2013-12-04 13:16:45      None   \n",
       "2                                NaT 2013-12-04 13:25:47      None   \n",
       "3                                NaT 2017-01-05 10:47:33      None   \n",
       "4                                NaT 2014-11-08 14:50:28      None   \n",
       "5                                NaT 2018-03-30 05:22:10      None   \n",
       "\n",
       "  validated_by  \n",
       "0               \n",
       "1               \n",
       "2               \n",
       "3               \n",
       "4               \n",
       "5               "
      ]
     },
     "execution_count": 13,
     "metadata": {},
     "output_type": "execute_result"
    }
   ],
   "source": [
    "df = lyr_reach_centroid.query().sdf\n",
    "df"
   ]
  },
  {
   "cell_type": "code",
   "execution_count": 15,
   "metadata": {},
   "outputs": [
    {
     "ename": "TypeError",
     "evalue": "expected str, bytes or os.PathLike object, not int",
     "output_type": "error",
     "traceback": [
      "\u001b[0;31m---------------------------------------------------------------------------\u001b[0m",
      "\u001b[0;31mTypeError\u001b[0m                                 Traceback (most recent call last)",
      "\u001b[0;32m<ipython-input-15-049a35d0f6cd>\u001b[0m in \u001b[0;36m<module>\u001b[0;34m\u001b[0m\n\u001b[0;32m----> 1\u001b[0;31m \u001b[0mdf\u001b[0m\u001b[0;34m.\u001b[0m\u001b[0mspatial\u001b[0m\u001b[0;34m.\u001b[0m\u001b[0mto_featurelayer\u001b[0m\u001b[0;34m(\u001b[0m\u001b[0;34m'reach_centroids'\u001b[0m\u001b[0;34m,\u001b[0m \u001b[0mgis_knu2xs\u001b[0m\u001b[0;34m,\u001b[0m \u001b[0;34m'Whitewater, American Whitewater, AW'\u001b[0m\u001b[0;34m)\u001b[0m\u001b[0;34m\u001b[0m\u001b[0;34m\u001b[0m\u001b[0m\n\u001b[0m",
      "\u001b[0;32m/anaconda3/envs/arcgis/lib/python3.7/site-packages/arcgis/features/geo/_accessor.py\u001b[0m in \u001b[0;36mto_featurelayer\u001b[0;34m(self, title, gis, tags)\u001b[0m\n\u001b[1;32m   1841\u001b[0m                 \u001b[0;32mraise\u001b[0m \u001b[0mValueError\u001b[0m\u001b[0;34m(\u001b[0m\u001b[0;34m\"GIS object must be provided\"\u001b[0m\u001b[0;34m)\u001b[0m\u001b[0;34m\u001b[0m\u001b[0;34m\u001b[0m\u001b[0m\n\u001b[1;32m   1842\u001b[0m         \u001b[0mcontent\u001b[0m \u001b[0;34m=\u001b[0m \u001b[0mgis\u001b[0m\u001b[0;34m.\u001b[0m\u001b[0mcontent\u001b[0m\u001b[0;34m\u001b[0m\u001b[0;34m\u001b[0m\u001b[0m\n\u001b[0;32m-> 1843\u001b[0;31m         \u001b[0;32mreturn\u001b[0m \u001b[0mcontent\u001b[0m\u001b[0;34m.\u001b[0m\u001b[0mimport_data\u001b[0m\u001b[0;34m(\u001b[0m\u001b[0mself\u001b[0m\u001b[0;34m.\u001b[0m\u001b[0m_data\u001b[0m\u001b[0;34m,\u001b[0m \u001b[0mtitle\u001b[0m\u001b[0;34m=\u001b[0m\u001b[0mtitle\u001b[0m\u001b[0;34m,\u001b[0m \u001b[0mtags\u001b[0m\u001b[0;34m=\u001b[0m\u001b[0mtags\u001b[0m\u001b[0;34m)\u001b[0m\u001b[0;34m\u001b[0m\u001b[0;34m\u001b[0m\u001b[0m\n\u001b[0m\u001b[1;32m   1844\u001b[0m     \u001b[0;31m# ----------------------------------------------------------------------\u001b[0m\u001b[0;34m\u001b[0m\u001b[0;34m\u001b[0m\u001b[0;34m\u001b[0m\u001b[0m\n\u001b[1;32m   1845\u001b[0m     \u001b[0;34m@\u001b[0m\u001b[0mstaticmethod\u001b[0m\u001b[0;34m\u001b[0m\u001b[0;34m\u001b[0m\u001b[0m\n",
      "\u001b[0;32m/anaconda3/envs/arcgis/lib/python3.7/site-packages/arcgis/gis/__init__.py\u001b[0m in \u001b[0;36mimport_data\u001b[0;34m(self, df, address_fields, **kwargs)\u001b[0m\n\u001b[1;32m   3835\u001b[0m                     ds = df.spatial.to_featureclass(\n\u001b[1;32m   3836\u001b[0m                         location=os.path.join(temp_dir,\n\u001b[0;32m-> 3837\u001b[0;31m                                               name)\n\u001b[0m\u001b[1;32m   3838\u001b[0m                     )\n\u001b[1;32m   3839\u001b[0m                 \u001b[0mzip_shp\u001b[0m \u001b[0;34m=\u001b[0m \u001b[0mzipws\u001b[0m\u001b[0;34m(\u001b[0m\u001b[0mpath\u001b[0m\u001b[0;34m=\u001b[0m\u001b[0mtemp_dir\u001b[0m\u001b[0;34m,\u001b[0m \u001b[0moutfile\u001b[0m\u001b[0;34m=\u001b[0m\u001b[0mtemp_zip\u001b[0m\u001b[0;34m,\u001b[0m \u001b[0mkeep\u001b[0m\u001b[0;34m=\u001b[0m\u001b[0;32mFalse\u001b[0m\u001b[0;34m)\u001b[0m\u001b[0;34m\u001b[0m\u001b[0;34m\u001b[0m\u001b[0m\n",
      "\u001b[0;32m/anaconda3/envs/arcgis/lib/python3.7/site-packages/arcgis/features/geo/_accessor.py\u001b[0m in \u001b[0;36mto_featureclass\u001b[0;34m(self, location, overwrite)\u001b[0m\n\u001b[1;32m   1789\u001b[0m         return to_featureclass(geo=self,\n\u001b[1;32m   1790\u001b[0m                                \u001b[0mlocation\u001b[0m\u001b[0;34m=\u001b[0m\u001b[0mlocation\u001b[0m\u001b[0;34m,\u001b[0m\u001b[0;34m\u001b[0m\u001b[0;34m\u001b[0m\u001b[0m\n\u001b[0;32m-> 1791\u001b[0;31m                                overwrite=overwrite)\n\u001b[0m\u001b[1;32m   1792\u001b[0m     \u001b[0;31m#----------------------------------------------------------------------\u001b[0m\u001b[0;34m\u001b[0m\u001b[0;34m\u001b[0m\u001b[0;34m\u001b[0m\u001b[0m\n\u001b[1;32m   1793\u001b[0m     \u001b[0;32mdef\u001b[0m \u001b[0mto_table\u001b[0m\u001b[0;34m(\u001b[0m\u001b[0mself\u001b[0m\u001b[0;34m,\u001b[0m \u001b[0mlocation\u001b[0m\u001b[0;34m,\u001b[0m \u001b[0moverwrite\u001b[0m\u001b[0;34m=\u001b[0m\u001b[0;32mTrue\u001b[0m\u001b[0;34m)\u001b[0m\u001b[0;34m:\u001b[0m\u001b[0;34m\u001b[0m\u001b[0;34m\u001b[0m\u001b[0m\n",
      "\u001b[0;32m/anaconda3/envs/arcgis/lib/python3.7/site-packages/arcgis/features/geo/_io/fileops.py\u001b[0m in \u001b[0;36mto_featureclass\u001b[0;34m(geo, location, overwrite, validate)\u001b[0m\n\u001b[1;32m    570\u001b[0m         return _pyshp_to_shapefile(df=df,\n\u001b[1;32m    571\u001b[0m                             \u001b[0mout_path\u001b[0m\u001b[0;34m=\u001b[0m\u001b[0mout_location\u001b[0m\u001b[0;34m,\u001b[0m\u001b[0;34m\u001b[0m\u001b[0;34m\u001b[0m\u001b[0m\n\u001b[0;32m--> 572\u001b[0;31m                             out_name=fc_name)\n\u001b[0m\u001b[1;32m    573\u001b[0m     \u001b[0;32melif\u001b[0m \u001b[0mHASARCPY\u001b[0m \u001b[0;34m==\u001b[0m \u001b[0;32mFalse\u001b[0m \u001b[0;32mand\u001b[0m \u001b[0mHASPYSHP\u001b[0m \u001b[0;34m==\u001b[0m \u001b[0;32mFalse\u001b[0m\u001b[0;34m:\u001b[0m\u001b[0;34m\u001b[0m\u001b[0;34m\u001b[0m\u001b[0m\n\u001b[1;32m    574\u001b[0m         raise Exception((\"Cannot Export the data without ArcPy or PyShp modules.\"\n",
      "\u001b[0;32m/anaconda3/envs/arcgis/lib/python3.7/site-packages/arcgis/features/geo/_io/fileops.py\u001b[0m in \u001b[0;36m_pyshp_to_shapefile\u001b[0;34m(df, out_path, out_name)\u001b[0m\n\u001b[1;32m    609\u001b[0m         \u001b[0;32mif\u001b[0m \u001b[0midx\u001b[0m \u001b[0;34m>\u001b[0m \u001b[0;34m-\u001b[0m\u001b[0;36m1\u001b[0m\u001b[0;34m:\u001b[0m\u001b[0;34m\u001b[0m\u001b[0;34m\u001b[0m\u001b[0m\n\u001b[1;32m    610\u001b[0m             \u001b[0mgeom_type\u001b[0m \u001b[0;34m=\u001b[0m \u001b[0mdf\u001b[0m\u001b[0;34m.\u001b[0m\u001b[0mloc\u001b[0m\u001b[0;34m[\u001b[0m\u001b[0midx\u001b[0m\u001b[0;34m]\u001b[0m\u001b[0;34m[\u001b[0m\u001b[0mgeom_field\u001b[0m\u001b[0;34m]\u001b[0m\u001b[0;34m.\u001b[0m\u001b[0mtype\u001b[0m\u001b[0;34m\u001b[0m\u001b[0;34m\u001b[0m\u001b[0m\n\u001b[0;32m--> 611\u001b[0;31m         \u001b[0mshpfile\u001b[0m \u001b[0;34m=\u001b[0m \u001b[0mshapefile\u001b[0m\u001b[0;34m.\u001b[0m\u001b[0mWriter\u001b[0m\u001b[0;34m(\u001b[0m\u001b[0mGEOMTYPELOOKUP\u001b[0m\u001b[0;34m[\u001b[0m\u001b[0mgeom_type\u001b[0m\u001b[0;34m]\u001b[0m\u001b[0;34m)\u001b[0m\u001b[0;34m\u001b[0m\u001b[0;34m\u001b[0m\u001b[0m\n\u001b[0m\u001b[1;32m    612\u001b[0m         \u001b[0mshpfile\u001b[0m\u001b[0;34m.\u001b[0m\u001b[0mautoBalance\u001b[0m \u001b[0;34m=\u001b[0m \u001b[0;36m1\u001b[0m\u001b[0;34m\u001b[0m\u001b[0;34m\u001b[0m\u001b[0m\n\u001b[1;32m    613\u001b[0m         \u001b[0mdfields\u001b[0m \u001b[0;34m=\u001b[0m \u001b[0;34m[\u001b[0m\u001b[0;34m]\u001b[0m\u001b[0;34m\u001b[0m\u001b[0;34m\u001b[0m\u001b[0m\n",
      "\u001b[0;32m/anaconda3/envs/arcgis/lib/python3.7/site-packages/shapefile.py\u001b[0m in \u001b[0;36m__init__\u001b[0;34m(self, target, shapeType, autoBalance, **kwargs)\u001b[0m\n\u001b[1;32m   1055\u001b[0m         \u001b[0mself\u001b[0m\u001b[0;34m.\u001b[0m\u001b[0mshp\u001b[0m \u001b[0;34m=\u001b[0m \u001b[0mself\u001b[0m\u001b[0;34m.\u001b[0m\u001b[0mshx\u001b[0m \u001b[0;34m=\u001b[0m \u001b[0mself\u001b[0m\u001b[0;34m.\u001b[0m\u001b[0mdbf\u001b[0m \u001b[0;34m=\u001b[0m \u001b[0;32mNone\u001b[0m\u001b[0;34m\u001b[0m\u001b[0;34m\u001b[0m\u001b[0m\n\u001b[1;32m   1056\u001b[0m         \u001b[0;32mif\u001b[0m \u001b[0mtarget\u001b[0m\u001b[0;34m:\u001b[0m\u001b[0;34m\u001b[0m\u001b[0;34m\u001b[0m\u001b[0m\n\u001b[0;32m-> 1057\u001b[0;31m             \u001b[0mself\u001b[0m\u001b[0;34m.\u001b[0m\u001b[0mshp\u001b[0m \u001b[0;34m=\u001b[0m \u001b[0mself\u001b[0m\u001b[0;34m.\u001b[0m\u001b[0m__getFileObj\u001b[0m\u001b[0;34m(\u001b[0m\u001b[0mos\u001b[0m\u001b[0;34m.\u001b[0m\u001b[0mpath\u001b[0m\u001b[0;34m.\u001b[0m\u001b[0msplitext\u001b[0m\u001b[0;34m(\u001b[0m\u001b[0mtarget\u001b[0m\u001b[0;34m)\u001b[0m\u001b[0;34m[\u001b[0m\u001b[0;36m0\u001b[0m\u001b[0;34m]\u001b[0m \u001b[0;34m+\u001b[0m \u001b[0;34m'.shp'\u001b[0m\u001b[0;34m)\u001b[0m\u001b[0;34m\u001b[0m\u001b[0;34m\u001b[0m\u001b[0m\n\u001b[0m\u001b[1;32m   1058\u001b[0m             \u001b[0mself\u001b[0m\u001b[0;34m.\u001b[0m\u001b[0mshx\u001b[0m \u001b[0;34m=\u001b[0m \u001b[0mself\u001b[0m\u001b[0;34m.\u001b[0m\u001b[0m__getFileObj\u001b[0m\u001b[0;34m(\u001b[0m\u001b[0mos\u001b[0m\u001b[0;34m.\u001b[0m\u001b[0mpath\u001b[0m\u001b[0;34m.\u001b[0m\u001b[0msplitext\u001b[0m\u001b[0;34m(\u001b[0m\u001b[0mtarget\u001b[0m\u001b[0;34m)\u001b[0m\u001b[0;34m[\u001b[0m\u001b[0;36m0\u001b[0m\u001b[0;34m]\u001b[0m \u001b[0;34m+\u001b[0m \u001b[0;34m'.shx'\u001b[0m\u001b[0;34m)\u001b[0m\u001b[0;34m\u001b[0m\u001b[0;34m\u001b[0m\u001b[0m\n\u001b[1;32m   1059\u001b[0m             \u001b[0mself\u001b[0m\u001b[0;34m.\u001b[0m\u001b[0mdbf\u001b[0m \u001b[0;34m=\u001b[0m \u001b[0mself\u001b[0m\u001b[0;34m.\u001b[0m\u001b[0m__getFileObj\u001b[0m\u001b[0;34m(\u001b[0m\u001b[0mos\u001b[0m\u001b[0;34m.\u001b[0m\u001b[0mpath\u001b[0m\u001b[0;34m.\u001b[0m\u001b[0msplitext\u001b[0m\u001b[0;34m(\u001b[0m\u001b[0mtarget\u001b[0m\u001b[0;34m)\u001b[0m\u001b[0;34m[\u001b[0m\u001b[0;36m0\u001b[0m\u001b[0;34m]\u001b[0m \u001b[0;34m+\u001b[0m \u001b[0;34m'.dbf'\u001b[0m\u001b[0;34m)\u001b[0m\u001b[0;34m\u001b[0m\u001b[0;34m\u001b[0m\u001b[0m\n",
      "\u001b[0;32m/anaconda3/envs/arcgis/lib/python3.7/posixpath.py\u001b[0m in \u001b[0;36msplitext\u001b[0;34m(p)\u001b[0m\n\u001b[1;32m    120\u001b[0m \u001b[0;34m\u001b[0m\u001b[0m\n\u001b[1;32m    121\u001b[0m \u001b[0;32mdef\u001b[0m \u001b[0msplitext\u001b[0m\u001b[0;34m(\u001b[0m\u001b[0mp\u001b[0m\u001b[0;34m)\u001b[0m\u001b[0;34m:\u001b[0m\u001b[0;34m\u001b[0m\u001b[0;34m\u001b[0m\u001b[0m\n\u001b[0;32m--> 122\u001b[0;31m     \u001b[0mp\u001b[0m \u001b[0;34m=\u001b[0m \u001b[0mos\u001b[0m\u001b[0;34m.\u001b[0m\u001b[0mfspath\u001b[0m\u001b[0;34m(\u001b[0m\u001b[0mp\u001b[0m\u001b[0;34m)\u001b[0m\u001b[0;34m\u001b[0m\u001b[0;34m\u001b[0m\u001b[0m\n\u001b[0m\u001b[1;32m    123\u001b[0m     \u001b[0;32mif\u001b[0m \u001b[0misinstance\u001b[0m\u001b[0;34m(\u001b[0m\u001b[0mp\u001b[0m\u001b[0;34m,\u001b[0m \u001b[0mbytes\u001b[0m\u001b[0;34m)\u001b[0m\u001b[0;34m:\u001b[0m\u001b[0;34m\u001b[0m\u001b[0;34m\u001b[0m\u001b[0m\n\u001b[1;32m    124\u001b[0m         \u001b[0msep\u001b[0m \u001b[0;34m=\u001b[0m \u001b[0;34mb'/'\u001b[0m\u001b[0;34m\u001b[0m\u001b[0;34m\u001b[0m\u001b[0m\n",
      "\u001b[0;31mTypeError\u001b[0m: expected str, bytes or os.PathLike object, not int"
     ]
    }
   ],
   "source": [
    "df.spatial.to_featurelayer('reach_centroids', gis_knu2xs, 'Whitewater, American Whitewater, AW')"
   ]
  },
  {
   "cell_type": "code",
   "execution_count": null,
   "metadata": {},
   "outputs": [],
   "source": []
  }
 ],
 "metadata": {
  "kernelspec": {
   "display_name": "Python 3",
   "language": "python",
   "name": "python3"
  },
  "language_info": {
   "codemirror_mode": {
    "name": "ipython",
    "version": 3
   },
   "file_extension": ".py",
   "mimetype": "text/x-python",
   "name": "python",
   "nbconvert_exporter": "python",
   "pygments_lexer": "ipython3",
   "version": "3.7.1"
  }
 },
 "nbformat": 4,
 "nbformat_minor": 2
}

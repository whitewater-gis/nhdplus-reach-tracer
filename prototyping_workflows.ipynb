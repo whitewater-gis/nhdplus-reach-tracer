{
 "cells": [
  {
   "cell_type": "code",
   "execution_count": null,
   "metadata": {},
   "outputs": [],
   "source": [
    "url = \"https://ofmpub.epa.gov/waters10/UpstreamDownStream.Service\"\n",
    "\n",
    "queryString = {\n",
    "    \"pNavigationType\": \"DM\",  # Downstream Main\n",
    "    \"pStartComID\": putin_point[\"id\"],\n",
    "    \"pStartMeasure\": putin_point[\"measure\"],\n",
    "    \"pFlowlinelist\": True,\n",
    "    \"pTraversalSummary\": True,\n",
    "    \"pStopBottomOfPath\": True,\n",
    "    \"f\": \"json\"\n",
    "}\n",
    "\n",
    "resp = requests.get(url, queryString)\n",
    "\n",
    "return resp"
   ]
  },
  {
   "cell_type": "code",
   "execution_count": 16,
   "metadata": {},
   "outputs": [],
   "source": [
    "from arcgis.geometry import Geometry\n",
    "\n",
    "import pandas as pd\n",
    "from arcgis.features import SpatialDataFrame as SDF\n",
    "from arcgis.features import Feature\n",
    "\n",
    "from arcgis.gis import GIS, Item\n",
    "\n",
    "import reach_tools\n",
    "from importlib import reload"
   ]
  },
  {
   "cell_type": "code",
   "execution_count": 17,
   "metadata": {},
   "outputs": [],
   "source": [
    "validate_csv = r'./access_validate_test.csv'\n",
    "\n",
    "username = 'joel_mccune'\n",
    "access_item_id = '95c2eceb802c41d8b605b2d431c7547e'\n",
    "hydrolne_item_id = 'cddda6482e4540158aa705675b33371c'\n",
    "\n",
    "ldub_reach_id = 2156\n",
    "canyon_reach_id = 3066"
   ]
  },
  {
   "cell_type": "code",
   "execution_count": 18,
   "metadata": {},
   "outputs": [
    {
     "data": {
      "text/html": [
       "GIS @ <a href=\"https://jdm1cc.maps.arcgis.com\">https://jdm1cc.maps.arcgis.com</a>"
      ],
      "text/plain": [
       "<arcgis.gis.GIS at 0x7f7139349710>"
      ]
     },
     "execution_count": 18,
     "metadata": {},
     "output_type": "execute_result"
    }
   ],
   "source": [
    "gis = GIS(username=username)\n",
    "gis"
   ]
  },
  {
   "cell_type": "code",
   "execution_count": 29,
   "metadata": {},
   "outputs": [],
   "source": [
    "reload(reach_tools)\n",
    "access_lyr = reach_tools.AccessFeatureLayer.from_item_id(gis, access_item_id)"
   ]
  },
  {
   "cell_type": "code",
   "execution_count": 30,
   "metadata": {},
   "outputs": [
    {
     "data": {
      "text/html": [
       "<div>\n",
       "<style scoped>\n",
       "    .dataframe tbody tr th:only-of-type {\n",
       "        vertical-align: middle;\n",
       "    }\n",
       "\n",
       "    .dataframe tbody tr th {\n",
       "        vertical-align: top;\n",
       "    }\n",
       "\n",
       "    .dataframe thead th {\n",
       "        text-align: right;\n",
       "    }\n",
       "</style>\n",
       "<table border=\"1\" class=\"dataframe\">\n",
       "  <thead>\n",
       "    <tr style=\"text-align: right;\">\n",
       "      <th></th>\n",
       "      <th>OBJECTID</th>\n",
       "      <th>collection_method</th>\n",
       "      <th>created_date</th>\n",
       "      <th>created_user</th>\n",
       "      <th>difficulty</th>\n",
       "      <th>difficulty_max</th>\n",
       "      <th>difficulty_min</th>\n",
       "      <th>difficulty_outlier</th>\n",
       "      <th>last_edited_date</th>\n",
       "      <th>last_edited_user</th>\n",
       "      <th>name</th>\n",
       "      <th>name_common</th>\n",
       "      <th>name_river</th>\n",
       "      <th>name_section</th>\n",
       "      <th>nav_link_aw</th>\n",
       "      <th>notes</th>\n",
       "      <th>reach_id</th>\n",
       "      <th>side_of_river</th>\n",
       "      <th>type</th>\n",
       "      <th>SHAPE</th>\n",
       "    </tr>\n",
       "  </thead>\n",
       "  <tbody>\n",
       "    <tr>\n",
       "      <th>0</th>\n",
       "      <td>3051</td>\n",
       "      <td>None</td>\n",
       "      <td>None</td>\n",
       "      <td>None</td>\n",
       "      <td>IV+</td>\n",
       "      <td>IV+</td>\n",
       "      <td>None</td>\n",
       "      <td>None</td>\n",
       "      <td>None</td>\n",
       "      <td>None</td>\n",
       "      <td>None</td>\n",
       "      <td>None</td>\n",
       "      <td>Canyon Creek (Lewis River Trib.)</td>\n",
       "      <td>2 - Fly Creek to Merwin Reservoir</td>\n",
       "      <td>http://www.americanwhitewater.org/content/Rive...</td>\n",
       "      <td>None</td>\n",
       "      <td>3066</td>\n",
       "      <td>None</td>\n",
       "      <td>putin</td>\n",
       "      <td>{'x': -122.31603966799997, 'y': 45.94000847400...</td>\n",
       "    </tr>\n",
       "    <tr>\n",
       "      <th>1</th>\n",
       "      <td>7701</td>\n",
       "      <td>None</td>\n",
       "      <td>None</td>\n",
       "      <td>None</td>\n",
       "      <td>IV+</td>\n",
       "      <td>IV+</td>\n",
       "      <td>None</td>\n",
       "      <td>None</td>\n",
       "      <td>None</td>\n",
       "      <td>None</td>\n",
       "      <td>None</td>\n",
       "      <td>None</td>\n",
       "      <td>Canyon Creek (Lewis River Trib.)</td>\n",
       "      <td>2 - Fly Creek to Merwin Reservoir</td>\n",
       "      <td>http://www.americanwhitewater.org/content/Rive...</td>\n",
       "      <td>None</td>\n",
       "      <td>3066</td>\n",
       "      <td>None</td>\n",
       "      <td>takeout</td>\n",
       "      <td>{'x': -122.37313280099994, 'y': 45.96087506600...</td>\n",
       "    </tr>\n",
       "  </tbody>\n",
       "</table>\n",
       "</div>"
      ],
      "text/plain": [
       "   OBJECTID collection_method created_date created_user difficulty  \\\n",
       "0      3051              None         None         None        IV+   \n",
       "1      7701              None         None         None        IV+   \n",
       "\n",
       "  difficulty_max difficulty_min difficulty_outlier last_edited_date  \\\n",
       "0            IV+           None               None             None   \n",
       "1            IV+           None               None             None   \n",
       "\n",
       "  last_edited_user  name name_common                        name_river  \\\n",
       "0             None  None        None  Canyon Creek (Lewis River Trib.)   \n",
       "1             None  None        None  Canyon Creek (Lewis River Trib.)   \n",
       "\n",
       "                        name_section  \\\n",
       "0  2 - Fly Creek to Merwin Reservoir   \n",
       "1  2 - Fly Creek to Merwin Reservoir   \n",
       "\n",
       "                                         nav_link_aw notes reach_id  \\\n",
       "0  http://www.americanwhitewater.org/content/Rive...  None     3066   \n",
       "1  http://www.americanwhitewater.org/content/Rive...  None     3066   \n",
       "\n",
       "  side_of_river     type                                              SHAPE  \n",
       "0          None    putin  {'x': -122.31603966799997, 'y': 45.94000847400...  \n",
       "1          None  takeout  {'x': -122.37313280099994, 'y': 45.96087506600...  "
      ]
     },
     "execution_count": 30,
     "metadata": {},
     "output_type": "execute_result"
    }
   ],
   "source": [
    "access_lyr.get_accesses_sdf(canyon_reach_id)"
   ]
  },
  {
   "cell_type": "code",
   "execution_count": 31,
   "metadata": {},
   "outputs": [
    {
     "data": {
      "text/plain": [
       "'3066_takeout_null'"
      ]
     },
     "execution_count": 31,
     "metadata": {},
     "output_type": "execute_result"
    }
   ],
   "source": [
    "takeout = access_lyr.get_takeout(canyon_reach_id)\n",
    "takeout.type_id"
   ]
  },
  {
   "cell_type": "code",
   "execution_count": 32,
   "metadata": {},
   "outputs": [
    {
     "data": {
      "text/plain": [
       "'Canyon_putin'"
      ]
     },
     "execution_count": 32,
     "metadata": {},
     "output_type": "execute_result"
    }
   ],
   "source": [
    "'_'.join(filter(None, ['Canyon', None, 'putin']))"
   ]
  },
  {
   "cell_type": "code",
   "execution_count": null,
   "metadata": {},
   "outputs": [],
   "source": []
  }
 ],
 "metadata": {
  "kernelspec": {
   "display_name": "Python 3",
   "language": "python",
   "name": "python3"
  },
  "language_info": {
   "codemirror_mode": {
    "name": "ipython",
    "version": 3
   },
   "file_extension": ".py",
   "mimetype": "text/x-python",
   "name": "python",
   "nbconvert_exporter": "python",
   "pygments_lexer": "ipython3",
   "version": "3.6.5"
  }
 },
 "nbformat": 4,
 "nbformat_minor": 2
}

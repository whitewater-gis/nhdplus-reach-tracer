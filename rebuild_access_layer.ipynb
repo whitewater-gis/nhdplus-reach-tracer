{
 "cells": [
  {
   "cell_type": "code",
   "execution_count": 17,
   "metadata": {},
   "outputs": [],
   "source": [
    "from arcgis.gis import GIS, Item\n",
    "from uuid import uuid4"
   ]
  },
  {
   "cell_type": "code",
   "execution_count": 2,
   "metadata": {},
   "outputs": [],
   "source": [
    "username = 'joel_mccune'\n",
    "access_item_id = '95c2eceb802c41d8b605b2d431c7547e'"
   ]
  },
  {
   "cell_type": "code",
   "execution_count": 4,
   "metadata": {},
   "outputs": [
    {
     "data": {
      "text/html": [
       "GIS @ <a href=\"https://jdm1cc.maps.arcgis.com\">https://jdm1cc.maps.arcgis.com</a>"
      ],
      "text/plain": [
       "<arcgis.gis.GIS at 0x7f6e0cbe2e80>"
      ]
     },
     "execution_count": 4,
     "metadata": {},
     "output_type": "execute_result"
    }
   ],
   "source": [
    "gis = GIS(username=username)\n",
    "gis"
   ]
  },
  {
   "cell_type": "code",
   "execution_count": 5,
   "metadata": {},
   "outputs": [],
   "source": [
    "sdf = Item(gis, access_item_id).layers[0].query().df"
   ]
  },
  {
   "cell_type": "code",
   "execution_count": 6,
   "metadata": {},
   "outputs": [
    {
     "data": {
      "text/html": [
       "<div>\n",
       "<style scoped>\n",
       "    .dataframe tbody tr th:only-of-type {\n",
       "        vertical-align: middle;\n",
       "    }\n",
       "\n",
       "    .dataframe tbody tr th {\n",
       "        vertical-align: top;\n",
       "    }\n",
       "\n",
       "    .dataframe thead th {\n",
       "        text-align: right;\n",
       "    }\n",
       "</style>\n",
       "<table border=\"1\" class=\"dataframe\">\n",
       "  <thead>\n",
       "    <tr style=\"text-align: right;\">\n",
       "      <th></th>\n",
       "      <th>OBJECTID</th>\n",
       "      <th>collection_method</th>\n",
       "      <th>created_date</th>\n",
       "      <th>created_user</th>\n",
       "      <th>difficulty</th>\n",
       "      <th>difficulty_max</th>\n",
       "      <th>difficulty_min</th>\n",
       "      <th>difficulty_outlier</th>\n",
       "      <th>last_edited_date</th>\n",
       "      <th>last_edited_user</th>\n",
       "      <th>name</th>\n",
       "      <th>name_common</th>\n",
       "      <th>name_river</th>\n",
       "      <th>name_section</th>\n",
       "      <th>nav_link_aw</th>\n",
       "      <th>notes</th>\n",
       "      <th>reach_id</th>\n",
       "      <th>side_of_river</th>\n",
       "      <th>type</th>\n",
       "      <th>SHAPE</th>\n",
       "    </tr>\n",
       "  </thead>\n",
       "  <tbody>\n",
       "    <tr>\n",
       "      <th>0</th>\n",
       "      <td>1</td>\n",
       "      <td>None</td>\n",
       "      <td>None</td>\n",
       "      <td>None</td>\n",
       "      <td>III+(V+)</td>\n",
       "      <td>III+</td>\n",
       "      <td>None</td>\n",
       "      <td>V+</td>\n",
       "      <td>None</td>\n",
       "      <td>None</td>\n",
       "      <td>None</td>\n",
       "      <td>None</td>\n",
       "      <td>Alsek</td>\n",
       "      <td>Haines Junction to Dry Bay</td>\n",
       "      <td>http://www.americanwhitewater.org/content/Rive...</td>\n",
       "      <td>None</td>\n",
       "      <td>1</td>\n",
       "      <td>None</td>\n",
       "      <td>putin</td>\n",
       "      <td>{'x': -137.50599999999997, 'y': 60.74600000000...</td>\n",
       "    </tr>\n",
       "    <tr>\n",
       "      <th>1</th>\n",
       "      <td>2</td>\n",
       "      <td>None</td>\n",
       "      <td>None</td>\n",
       "      <td>None</td>\n",
       "      <td>I-IV</td>\n",
       "      <td>IV</td>\n",
       "      <td>I</td>\n",
       "      <td>None</td>\n",
       "      <td>None</td>\n",
       "      <td>None</td>\n",
       "      <td>None</td>\n",
       "      <td>None</td>\n",
       "      <td>Aniakchak</td>\n",
       "      <td>Surprise Lake to Aniakchak Bay</td>\n",
       "      <td>http://www.americanwhitewater.org/content/Rive...</td>\n",
       "      <td>None</td>\n",
       "      <td>2</td>\n",
       "      <td>None</td>\n",
       "      <td>putin</td>\n",
       "      <td>{'x': -158.08099999999996, 'y': 56.90600000000...</td>\n",
       "    </tr>\n",
       "    <tr>\n",
       "      <th>2</th>\n",
       "      <td>3</td>\n",
       "      <td>None</td>\n",
       "      <td>None</td>\n",
       "      <td>None</td>\n",
       "      <td>III</td>\n",
       "      <td>III</td>\n",
       "      <td>None</td>\n",
       "      <td>None</td>\n",
       "      <td>None</td>\n",
       "      <td>None</td>\n",
       "      <td>None</td>\n",
       "      <td>None</td>\n",
       "      <td>Browns Creek</td>\n",
       "      <td>Browns Creek Canyon</td>\n",
       "      <td>http://www.americanwhitewater.org/content/Rive...</td>\n",
       "      <td>None</td>\n",
       "      <td>3</td>\n",
       "      <td>None</td>\n",
       "      <td>putin</td>\n",
       "      <td>{'x': -145.91399999999996, 'y': 60.95420000000...</td>\n",
       "    </tr>\n",
       "    <tr>\n",
       "      <th>3</th>\n",
       "      <td>4</td>\n",
       "      <td>None</td>\n",
       "      <td>None</td>\n",
       "      <td>None</td>\n",
       "      <td>IV</td>\n",
       "      <td>IV</td>\n",
       "      <td>None</td>\n",
       "      <td>None</td>\n",
       "      <td>None</td>\n",
       "      <td>None</td>\n",
       "      <td>None</td>\n",
       "      <td>None</td>\n",
       "      <td>Canyon Creek</td>\n",
       "      <td>Seward Highwy at outlet of Lower Summit Lake t...</td>\n",
       "      <td>http://www.americanwhitewater.org/content/Rive...</td>\n",
       "      <td>None</td>\n",
       "      <td>4</td>\n",
       "      <td>None</td>\n",
       "      <td>putin</td>\n",
       "      <td>{'x': -149.47601899599997, 'y': 60.66575888800...</td>\n",
       "    </tr>\n",
       "    <tr>\n",
       "      <th>4</th>\n",
       "      <td>5</td>\n",
       "      <td>None</td>\n",
       "      <td>None</td>\n",
       "      <td>None</td>\n",
       "      <td>III</td>\n",
       "      <td>III</td>\n",
       "      <td>None</td>\n",
       "      <td>None</td>\n",
       "      <td>None</td>\n",
       "      <td>None</td>\n",
       "      <td>None</td>\n",
       "      <td>None</td>\n",
       "      <td>Charley</td>\n",
       "      <td>Upper river gravel bar to Yukon River to Circle</td>\n",
       "      <td>http://www.americanwhitewater.org/content/Rive...</td>\n",
       "      <td>None</td>\n",
       "      <td>5</td>\n",
       "      <td>None</td>\n",
       "      <td>putin</td>\n",
       "      <td>{'x': -143.2228755, 'y': 64.56171038700006, 's...</td>\n",
       "    </tr>\n",
       "  </tbody>\n",
       "</table>\n",
       "</div>"
      ],
      "text/plain": [
       "   OBJECTID collection_method created_date created_user difficulty  \\\n",
       "0         1              None         None         None   III+(V+)   \n",
       "1         2              None         None         None       I-IV   \n",
       "2         3              None         None         None        III   \n",
       "3         4              None         None         None         IV   \n",
       "4         5              None         None         None        III   \n",
       "\n",
       "  difficulty_max difficulty_min difficulty_outlier last_edited_date  \\\n",
       "0           III+           None                 V+             None   \n",
       "1             IV              I               None             None   \n",
       "2            III           None               None             None   \n",
       "3             IV           None               None             None   \n",
       "4            III           None               None             None   \n",
       "\n",
       "  last_edited_user  name name_common    name_river  \\\n",
       "0             None  None        None         Alsek   \n",
       "1             None  None        None     Aniakchak   \n",
       "2             None  None        None  Browns Creek   \n",
       "3             None  None        None  Canyon Creek   \n",
       "4             None  None        None       Charley   \n",
       "\n",
       "                                        name_section  \\\n",
       "0                         Haines Junction to Dry Bay   \n",
       "1                     Surprise Lake to Aniakchak Bay   \n",
       "2                                Browns Creek Canyon   \n",
       "3  Seward Highwy at outlet of Lower Summit Lake t...   \n",
       "4    Upper river gravel bar to Yukon River to Circle   \n",
       "\n",
       "                                         nav_link_aw notes reach_id  \\\n",
       "0  http://www.americanwhitewater.org/content/Rive...  None        1   \n",
       "1  http://www.americanwhitewater.org/content/Rive...  None        2   \n",
       "2  http://www.americanwhitewater.org/content/Rive...  None        3   \n",
       "3  http://www.americanwhitewater.org/content/Rive...  None        4   \n",
       "4  http://www.americanwhitewater.org/content/Rive...  None        5   \n",
       "\n",
       "  side_of_river   type                                              SHAPE  \n",
       "0          None  putin  {'x': -137.50599999999997, 'y': 60.74600000000...  \n",
       "1          None  putin  {'x': -158.08099999999996, 'y': 56.90600000000...  \n",
       "2          None  putin  {'x': -145.91399999999996, 'y': 60.95420000000...  \n",
       "3          None  putin  {'x': -149.47601899599997, 'y': 60.66575888800...  \n",
       "4          None  putin  {'x': -143.2228755, 'y': 64.56171038700006, 's...  "
      ]
     },
     "execution_count": 6,
     "metadata": {},
     "output_type": "execute_result"
    }
   ],
   "source": [
    "sdf.head()"
   ]
  },
  {
   "cell_type": "code",
   "execution_count": 7,
   "metadata": {},
   "outputs": [],
   "source": [
    "sdf.to_csv('./access_raw20180612.csv')"
   ]
  },
  {
   "cell_type": "code",
   "execution_count": 15,
   "metadata": {},
   "outputs": [
    {
     "data": {
      "text/plain": [
       "Index(['OBJECTID', 'collection_method', 'update_date', 'created_user',\n",
       "       'difficulty', 'difficulty_maximum', 'difficulty_minimum',\n",
       "       'difficulty_outlier', 'last_edited_date', 'last_edited_user', 'name',\n",
       "       'name_common', 'name_river', 'name_section', 'nav_link_aw', 'notes',\n",
       "       'reach_id', 'side_of_river', 'subtype', 'SHAPE', 'point_type',\n",
       "       'description'],\n",
       "      dtype='object')"
      ]
     },
     "execution_count": 15,
     "metadata": {},
     "output_type": "execute_result"
    }
   ],
   "source": [
    "sdf.columns"
   ]
  },
  {
   "cell_type": "code",
   "execution_count": 14,
   "metadata": {},
   "outputs": [
    {
     "data": {
      "text/html": [
       "<div>\n",
       "<style scoped>\n",
       "    .dataframe tbody tr th:only-of-type {\n",
       "        vertical-align: middle;\n",
       "    }\n",
       "\n",
       "    .dataframe tbody tr th {\n",
       "        vertical-align: top;\n",
       "    }\n",
       "\n",
       "    .dataframe thead th {\n",
       "        text-align: right;\n",
       "    }\n",
       "</style>\n",
       "<table border=\"1\" class=\"dataframe\">\n",
       "  <thead>\n",
       "    <tr style=\"text-align: right;\">\n",
       "      <th></th>\n",
       "      <th>OBJECTID</th>\n",
       "      <th>collection_method</th>\n",
       "      <th>update_date</th>\n",
       "      <th>created_user</th>\n",
       "      <th>difficulty</th>\n",
       "      <th>difficulty_maximum</th>\n",
       "      <th>difficulty_minimum</th>\n",
       "      <th>difficulty_outlier</th>\n",
       "      <th>last_edited_date</th>\n",
       "      <th>last_edited_user</th>\n",
       "      <th>...</th>\n",
       "      <th>name_river</th>\n",
       "      <th>name_section</th>\n",
       "      <th>nav_link_aw</th>\n",
       "      <th>notes</th>\n",
       "      <th>reach_id</th>\n",
       "      <th>side_of_river</th>\n",
       "      <th>subtype</th>\n",
       "      <th>SHAPE</th>\n",
       "      <th>point_type</th>\n",
       "      <th>description</th>\n",
       "    </tr>\n",
       "  </thead>\n",
       "  <tbody>\n",
       "    <tr>\n",
       "      <th>0</th>\n",
       "      <td>1</td>\n",
       "      <td>None</td>\n",
       "      <td>None</td>\n",
       "      <td>None</td>\n",
       "      <td>III+(V+)</td>\n",
       "      <td>III+</td>\n",
       "      <td>None</td>\n",
       "      <td>V+</td>\n",
       "      <td>None</td>\n",
       "      <td>None</td>\n",
       "      <td>...</td>\n",
       "      <td>Alsek</td>\n",
       "      <td>Haines Junction to Dry Bay</td>\n",
       "      <td>http://www.americanwhitewater.org/content/Rive...</td>\n",
       "      <td>None</td>\n",
       "      <td>1</td>\n",
       "      <td>None</td>\n",
       "      <td>putin</td>\n",
       "      <td>{'x': -137.50599999999997, 'y': 60.74600000000...</td>\n",
       "      <td>access</td>\n",
       "      <td>none</td>\n",
       "    </tr>\n",
       "    <tr>\n",
       "      <th>1</th>\n",
       "      <td>2</td>\n",
       "      <td>None</td>\n",
       "      <td>None</td>\n",
       "      <td>None</td>\n",
       "      <td>I-IV</td>\n",
       "      <td>IV</td>\n",
       "      <td>I</td>\n",
       "      <td>None</td>\n",
       "      <td>None</td>\n",
       "      <td>None</td>\n",
       "      <td>...</td>\n",
       "      <td>Aniakchak</td>\n",
       "      <td>Surprise Lake to Aniakchak Bay</td>\n",
       "      <td>http://www.americanwhitewater.org/content/Rive...</td>\n",
       "      <td>None</td>\n",
       "      <td>2</td>\n",
       "      <td>None</td>\n",
       "      <td>putin</td>\n",
       "      <td>{'x': -158.08099999999996, 'y': 56.90600000000...</td>\n",
       "      <td>access</td>\n",
       "      <td>none</td>\n",
       "    </tr>\n",
       "    <tr>\n",
       "      <th>2</th>\n",
       "      <td>3</td>\n",
       "      <td>None</td>\n",
       "      <td>None</td>\n",
       "      <td>None</td>\n",
       "      <td>III</td>\n",
       "      <td>III</td>\n",
       "      <td>None</td>\n",
       "      <td>None</td>\n",
       "      <td>None</td>\n",
       "      <td>None</td>\n",
       "      <td>...</td>\n",
       "      <td>Browns Creek</td>\n",
       "      <td>Browns Creek Canyon</td>\n",
       "      <td>http://www.americanwhitewater.org/content/Rive...</td>\n",
       "      <td>None</td>\n",
       "      <td>3</td>\n",
       "      <td>None</td>\n",
       "      <td>putin</td>\n",
       "      <td>{'x': -145.91399999999996, 'y': 60.95420000000...</td>\n",
       "      <td>access</td>\n",
       "      <td>none</td>\n",
       "    </tr>\n",
       "    <tr>\n",
       "      <th>3</th>\n",
       "      <td>4</td>\n",
       "      <td>None</td>\n",
       "      <td>None</td>\n",
       "      <td>None</td>\n",
       "      <td>IV</td>\n",
       "      <td>IV</td>\n",
       "      <td>None</td>\n",
       "      <td>None</td>\n",
       "      <td>None</td>\n",
       "      <td>None</td>\n",
       "      <td>...</td>\n",
       "      <td>Canyon Creek</td>\n",
       "      <td>Seward Highwy at outlet of Lower Summit Lake t...</td>\n",
       "      <td>http://www.americanwhitewater.org/content/Rive...</td>\n",
       "      <td>None</td>\n",
       "      <td>4</td>\n",
       "      <td>None</td>\n",
       "      <td>putin</td>\n",
       "      <td>{'x': -149.47601899599997, 'y': 60.66575888800...</td>\n",
       "      <td>access</td>\n",
       "      <td>none</td>\n",
       "    </tr>\n",
       "    <tr>\n",
       "      <th>4</th>\n",
       "      <td>5</td>\n",
       "      <td>None</td>\n",
       "      <td>None</td>\n",
       "      <td>None</td>\n",
       "      <td>III</td>\n",
       "      <td>III</td>\n",
       "      <td>None</td>\n",
       "      <td>None</td>\n",
       "      <td>None</td>\n",
       "      <td>None</td>\n",
       "      <td>...</td>\n",
       "      <td>Charley</td>\n",
       "      <td>Upper river gravel bar to Yukon River to Circle</td>\n",
       "      <td>http://www.americanwhitewater.org/content/Rive...</td>\n",
       "      <td>None</td>\n",
       "      <td>5</td>\n",
       "      <td>None</td>\n",
       "      <td>putin</td>\n",
       "      <td>{'x': -143.2228755, 'y': 64.56171038700006, 's...</td>\n",
       "      <td>access</td>\n",
       "      <td>none</td>\n",
       "    </tr>\n",
       "  </tbody>\n",
       "</table>\n",
       "<p>5 rows × 22 columns</p>\n",
       "</div>"
      ],
      "text/plain": [
       "   OBJECTID collection_method update_date created_user difficulty  \\\n",
       "0         1              None        None         None   III+(V+)   \n",
       "1         2              None        None         None       I-IV   \n",
       "2         3              None        None         None        III   \n",
       "3         4              None        None         None         IV   \n",
       "4         5              None        None         None        III   \n",
       "\n",
       "  difficulty_maximum difficulty_minimum difficulty_outlier last_edited_date  \\\n",
       "0               III+               None                 V+             None   \n",
       "1                 IV                  I               None             None   \n",
       "2                III               None               None             None   \n",
       "3                 IV               None               None             None   \n",
       "4                III               None               None             None   \n",
       "\n",
       "  last_edited_user     ...        name_river  \\\n",
       "0             None     ...             Alsek   \n",
       "1             None     ...         Aniakchak   \n",
       "2             None     ...      Browns Creek   \n",
       "3             None     ...      Canyon Creek   \n",
       "4             None     ...           Charley   \n",
       "\n",
       "                                        name_section  \\\n",
       "0                         Haines Junction to Dry Bay   \n",
       "1                     Surprise Lake to Aniakchak Bay   \n",
       "2                                Browns Creek Canyon   \n",
       "3  Seward Highwy at outlet of Lower Summit Lake t...   \n",
       "4    Upper river gravel bar to Yukon River to Circle   \n",
       "\n",
       "                                         nav_link_aw notes reach_id  \\\n",
       "0  http://www.americanwhitewater.org/content/Rive...  None        1   \n",
       "1  http://www.americanwhitewater.org/content/Rive...  None        2   \n",
       "2  http://www.americanwhitewater.org/content/Rive...  None        3   \n",
       "3  http://www.americanwhitewater.org/content/Rive...  None        4   \n",
       "4  http://www.americanwhitewater.org/content/Rive...  None        5   \n",
       "\n",
       "  side_of_river subtype                                              SHAPE  \\\n",
       "0          None   putin  {'x': -137.50599999999997, 'y': 60.74600000000...   \n",
       "1          None   putin  {'x': -158.08099999999996, 'y': 56.90600000000...   \n",
       "2          None   putin  {'x': -145.91399999999996, 'y': 60.95420000000...   \n",
       "3          None   putin  {'x': -149.47601899599997, 'y': 60.66575888800...   \n",
       "4          None   putin  {'x': -143.2228755, 'y': 64.56171038700006, 's...   \n",
       "\n",
       "  point_type description  \n",
       "0     access        none  \n",
       "1     access        none  \n",
       "2     access        none  \n",
       "3     access        none  \n",
       "4     access        none  \n",
       "\n",
       "[5 rows x 22 columns]"
      ]
     },
     "execution_count": 14,
     "metadata": {},
     "output_type": "execute_result"
    }
   ],
   "source": [
    "sdf.head()"
   ]
  },
  {
   "cell_type": "code",
   "execution_count": 20,
   "metadata": {},
   "outputs": [],
   "source": [
    "sdf['uid'] = sdf.uid.apply(lambda val: uuid4().hex)"
   ]
  },
  {
   "cell_type": "code",
   "execution_count": 24,
   "metadata": {},
   "outputs": [],
   "source": [
    "def get_type_id(row):\n",
    "    id_list = ['null' if val is None else val for val in [row.reach_id, row.point_type, row.subtype]]\n",
    "    return '_'.join(id_list)\n",
    "\n",
    "sdf['type_id'] = sdf.apply(lambda row: get_type_id(row), axis=1)"
   ]
  },
  {
   "cell_type": "code",
   "execution_count": 31,
   "metadata": {},
   "outputs": [],
   "source": [
    "sdf['update_notes'] = ''"
   ]
  },
  {
   "cell_type": "code",
   "execution_count": 59,
   "metadata": {},
   "outputs": [],
   "source": [
    "sdf_filtered = sdf[['reach_id', 'point_type', 'uid', 'subtype', 'name', 'side_of_river', 'collection_method', 'update_date', 'update_notes', 'notes', 'type_id', 'SHAPE']]"
   ]
  },
  {
   "cell_type": "code",
   "execution_count": 60,
   "metadata": {},
   "outputs": [],
   "source": [
    "sdf_filtered.to_csv('access_reformatted20180612.csv')"
   ]
  },
  {
   "cell_type": "code",
   "execution_count": 61,
   "metadata": {},
   "outputs": [],
   "source": [
    "sdf_filtered = sdf[['reach_id', 'point_type', 'uid', 'subtype', 'name', 'side_of_river', 'collection_method', 'update_notes', 'notes', 'type_id', 'SHAPE']]"
   ]
  },
  {
   "cell_type": "code",
   "execution_count": 70,
   "metadata": {},
   "outputs": [],
   "source": [
    "fs = sdf_filtered.to_featureset()"
   ]
  },
  {
   "cell_type": "code",
   "execution_count": 63,
   "metadata": {},
   "outputs": [
    {
     "data": {
      "text/html": [
       "<div class=\"item_container\" style=\"height: auto; overflow: hidden; border: 1px solid #cfcfcf; border-radius: 2px; background: #f6fafa; line-height: 1.21429em; padding: 10px;\">\n",
       "                    <div class=\"item_left\" style=\"width: 210px; float: left;\">\n",
       "                       <a href='https://jdm1cc.maps.arcgis.com/home/item.html?id=dd84717e78a74945a1345901d4701250' target='_blank'>\n",
       "                        <img src='data:image/png;base64,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' width='200' height='133' class=\"itemThumbnail\">\n",
       "                       </a>\n",
       "                    </div>\n",
       "\n",
       "                    <div class=\"item_right\"     style=\"float: none; width: auto; overflow: hidden;\">\n",
       "                        <a href='https://jdm1cc.maps.arcgis.com/home/item.html?id=dd84717e78a74945a1345901d4701250' target='_blank'><b>aw_reach_points</b>\n",
       "                        </a>\n",
       "                        <br/><img src='https://jdm1cc.maps.arcgis.com/home/js/jsapi/esri/css/images/item_type_icons/featureshosted16.png' style=\"vertical-align:middle;\">Feature Layer Collection by joel_mccune\n",
       "                        <br/>Last Modified: July 13, 2018\n",
       "                        <br/>0 comments, 1 views\n",
       "                    </div>\n",
       "                </div>\n",
       "                "
      ],
      "text/plain": [
       "<Item title:\"aw_reach_points\" type:Feature Layer Collection owner:joel_mccune>"
      ]
     },
     "execution_count": 63,
     "metadata": {},
     "output_type": "execute_result"
    }
   ],
   "source": [
    "new_item = Item(gis, 'dd84717e78a74945a1345901d4701250')\n",
    "new_item"
   ]
  },
  {
   "cell_type": "code",
   "execution_count": 64,
   "metadata": {},
   "outputs": [],
   "source": [
    "new_layer = new_item.layers[0]"
   ]
  },
  {
   "cell_type": "code",
   "execution_count": 72,
   "metadata": {},
   "outputs": [
    {
     "ename": "HTTPError",
     "evalue": "HTTP Error 500: Internal Server Error",
     "output_type": "error",
     "traceback": [
      "\u001b[0;31m---------------------------------------------------------------------------\u001b[0m",
      "\u001b[0;31mHTTPError\u001b[0m                                 Traceback (most recent call last)",
      "\u001b[0;32m<ipython-input-72-fb1c0533dc59>\u001b[0m in \u001b[0;36m<module>\u001b[0;34m()\u001b[0m\n\u001b[0;32m----> 1\u001b[0;31m \u001b[0mnew_layer\u001b[0m\u001b[0;34m.\u001b[0m\u001b[0medit_features\u001b[0m\u001b[0;34m(\u001b[0m\u001b[0madds\u001b[0m\u001b[0;34m=\u001b[0m\u001b[0mfs\u001b[0m\u001b[0;34m)\u001b[0m\u001b[0;34m\u001b[0m\u001b[0m\n\u001b[0m",
      "\u001b[0;32m/opt/conda/lib/python3.6/site-packages/arcgis/features/layer.py\u001b[0m in \u001b[0;36medit_features\u001b[0;34m(self, adds, updates, deletes, gdb_version, use_global_ids, rollback_on_failure)\u001b[0m\n\u001b[1;32m   1120\u001b[0m             \u001b[0mprint\u001b[0m\u001b[0;34m(\u001b[0m\u001b[0;34m\"Parameters not valid for edit_features\"\u001b[0m\u001b[0;34m)\u001b[0m\u001b[0;34m\u001b[0m\u001b[0m\n\u001b[1;32m   1121\u001b[0m             \u001b[0;32mreturn\u001b[0m \u001b[0;32mNone\u001b[0m\u001b[0;34m\u001b[0m\u001b[0m\n\u001b[0;32m-> 1122\u001b[0;31m         \u001b[0;32mreturn\u001b[0m \u001b[0mself\u001b[0m\u001b[0;34m.\u001b[0m\u001b[0m_con\u001b[0m\u001b[0;34m.\u001b[0m\u001b[0mpost\u001b[0m\u001b[0;34m(\u001b[0m\u001b[0mpath\u001b[0m\u001b[0;34m=\u001b[0m\u001b[0medit_url\u001b[0m\u001b[0;34m,\u001b[0m \u001b[0mpostdata\u001b[0m\u001b[0;34m=\u001b[0m\u001b[0mparams\u001b[0m\u001b[0;34m,\u001b[0m \u001b[0mtoken\u001b[0m\u001b[0;34m=\u001b[0m\u001b[0mself\u001b[0m\u001b[0;34m.\u001b[0m\u001b[0m_token\u001b[0m\u001b[0;34m)\u001b[0m\u001b[0;34m\u001b[0m\u001b[0m\n\u001b[0m\u001b[1;32m   1123\u001b[0m \u001b[0;34m\u001b[0m\u001b[0m\n\u001b[1;32m   1124\u001b[0m     \u001b[0;31m# ----------------------------------------------------------------------\u001b[0m\u001b[0;34m\u001b[0m\u001b[0;34m\u001b[0m\u001b[0m\n",
      "\u001b[0;32m/opt/conda/lib/python3.6/site-packages/arcgis/_impl/connection.py\u001b[0m in \u001b[0;36mpost\u001b[0;34m(self, path, postdata, files, ssl, compress, is_retry, use_ordered_dict, add_token, verify_cert, token, try_json, out_folder, file_name, force_bytes, add_headers)\u001b[0m\n\u001b[1;32m   1102\u001b[0m             \u001b[0mopener\u001b[0m\u001b[0;34m.\u001b[0m\u001b[0maddheaders\u001b[0m \u001b[0;34m=\u001b[0m \u001b[0mheaders\u001b[0m\u001b[0;34m\u001b[0m\u001b[0m\n\u001b[1;32m   1103\u001b[0m             \u001b[0;31m#print(\"***\"+url)\u001b[0m\u001b[0;34m\u001b[0m\u001b[0;34m\u001b[0m\u001b[0m\n\u001b[0;32m-> 1104\u001b[0;31m             \u001b[0mresp\u001b[0m \u001b[0;34m=\u001b[0m \u001b[0mopener\u001b[0m\u001b[0;34m.\u001b[0m\u001b[0mopen\u001b[0m\u001b[0;34m(\u001b[0m\u001b[0murl\u001b[0m\u001b[0;34m,\u001b[0m \u001b[0mdata\u001b[0m\u001b[0;34m=\u001b[0m\u001b[0mencoded_postdata\u001b[0m\u001b[0;34m.\u001b[0m\u001b[0mencode\u001b[0m\u001b[0;34m(\u001b[0m\u001b[0;34m)\u001b[0m\u001b[0;34m)\u001b[0m\u001b[0;34m\u001b[0m\u001b[0m\n\u001b[0m\u001b[1;32m   1105\u001b[0m             resp_data, is_file = self._process_response(resp,\n\u001b[1;32m   1106\u001b[0m                                                \u001b[0mout_folder\u001b[0m\u001b[0;34m=\u001b[0m\u001b[0mout_folder\u001b[0m\u001b[0;34m,\u001b[0m\u001b[0;34m\u001b[0m\u001b[0m\n",
      "\u001b[0;32m/opt/conda/lib/python3.6/urllib/request.py\u001b[0m in \u001b[0;36mopen\u001b[0;34m(self, fullurl, data, timeout)\u001b[0m\n\u001b[1;32m    530\u001b[0m         \u001b[0;32mfor\u001b[0m \u001b[0mprocessor\u001b[0m \u001b[0;32min\u001b[0m \u001b[0mself\u001b[0m\u001b[0;34m.\u001b[0m\u001b[0mprocess_response\u001b[0m\u001b[0;34m.\u001b[0m\u001b[0mget\u001b[0m\u001b[0;34m(\u001b[0m\u001b[0mprotocol\u001b[0m\u001b[0;34m,\u001b[0m \u001b[0;34m[\u001b[0m\u001b[0;34m]\u001b[0m\u001b[0;34m)\u001b[0m\u001b[0;34m:\u001b[0m\u001b[0;34m\u001b[0m\u001b[0m\n\u001b[1;32m    531\u001b[0m             \u001b[0mmeth\u001b[0m \u001b[0;34m=\u001b[0m \u001b[0mgetattr\u001b[0m\u001b[0;34m(\u001b[0m\u001b[0mprocessor\u001b[0m\u001b[0;34m,\u001b[0m \u001b[0mmeth_name\u001b[0m\u001b[0;34m)\u001b[0m\u001b[0;34m\u001b[0m\u001b[0m\n\u001b[0;32m--> 532\u001b[0;31m             \u001b[0mresponse\u001b[0m \u001b[0;34m=\u001b[0m \u001b[0mmeth\u001b[0m\u001b[0;34m(\u001b[0m\u001b[0mreq\u001b[0m\u001b[0;34m,\u001b[0m \u001b[0mresponse\u001b[0m\u001b[0;34m)\u001b[0m\u001b[0;34m\u001b[0m\u001b[0m\n\u001b[0m\u001b[1;32m    533\u001b[0m \u001b[0;34m\u001b[0m\u001b[0m\n\u001b[1;32m    534\u001b[0m         \u001b[0;32mreturn\u001b[0m \u001b[0mresponse\u001b[0m\u001b[0;34m\u001b[0m\u001b[0m\n",
      "\u001b[0;32m/opt/conda/lib/python3.6/urllib/request.py\u001b[0m in \u001b[0;36mhttp_response\u001b[0;34m(self, request, response)\u001b[0m\n\u001b[1;32m    640\u001b[0m         \u001b[0;32mif\u001b[0m \u001b[0;32mnot\u001b[0m \u001b[0;34m(\u001b[0m\u001b[0;36m200\u001b[0m \u001b[0;34m<=\u001b[0m \u001b[0mcode\u001b[0m \u001b[0;34m<\u001b[0m \u001b[0;36m300\u001b[0m\u001b[0;34m)\u001b[0m\u001b[0;34m:\u001b[0m\u001b[0;34m\u001b[0m\u001b[0m\n\u001b[1;32m    641\u001b[0m             response = self.parent.error(\n\u001b[0;32m--> 642\u001b[0;31m                 'http', request, response, code, msg, hdrs)\n\u001b[0m\u001b[1;32m    643\u001b[0m \u001b[0;34m\u001b[0m\u001b[0m\n\u001b[1;32m    644\u001b[0m         \u001b[0;32mreturn\u001b[0m \u001b[0mresponse\u001b[0m\u001b[0;34m\u001b[0m\u001b[0m\n",
      "\u001b[0;32m/opt/conda/lib/python3.6/urllib/request.py\u001b[0m in \u001b[0;36merror\u001b[0;34m(self, proto, *args)\u001b[0m\n\u001b[1;32m    568\u001b[0m         \u001b[0;32mif\u001b[0m \u001b[0mhttp_err\u001b[0m\u001b[0;34m:\u001b[0m\u001b[0;34m\u001b[0m\u001b[0m\n\u001b[1;32m    569\u001b[0m             \u001b[0margs\u001b[0m \u001b[0;34m=\u001b[0m \u001b[0;34m(\u001b[0m\u001b[0mdict\u001b[0m\u001b[0;34m,\u001b[0m \u001b[0;34m'default'\u001b[0m\u001b[0;34m,\u001b[0m \u001b[0;34m'http_error_default'\u001b[0m\u001b[0;34m)\u001b[0m \u001b[0;34m+\u001b[0m \u001b[0morig_args\u001b[0m\u001b[0;34m\u001b[0m\u001b[0m\n\u001b[0;32m--> 570\u001b[0;31m             \u001b[0;32mreturn\u001b[0m \u001b[0mself\u001b[0m\u001b[0;34m.\u001b[0m\u001b[0m_call_chain\u001b[0m\u001b[0;34m(\u001b[0m\u001b[0;34m*\u001b[0m\u001b[0margs\u001b[0m\u001b[0;34m)\u001b[0m\u001b[0;34m\u001b[0m\u001b[0m\n\u001b[0m\u001b[1;32m    571\u001b[0m \u001b[0;34m\u001b[0m\u001b[0m\n\u001b[1;32m    572\u001b[0m \u001b[0;31m# XXX probably also want an abstract factory that knows when it makes\u001b[0m\u001b[0;34m\u001b[0m\u001b[0;34m\u001b[0m\u001b[0m\n",
      "\u001b[0;32m/opt/conda/lib/python3.6/urllib/request.py\u001b[0m in \u001b[0;36m_call_chain\u001b[0;34m(self, chain, kind, meth_name, *args)\u001b[0m\n\u001b[1;32m    502\u001b[0m         \u001b[0;32mfor\u001b[0m \u001b[0mhandler\u001b[0m \u001b[0;32min\u001b[0m \u001b[0mhandlers\u001b[0m\u001b[0;34m:\u001b[0m\u001b[0;34m\u001b[0m\u001b[0m\n\u001b[1;32m    503\u001b[0m             \u001b[0mfunc\u001b[0m \u001b[0;34m=\u001b[0m \u001b[0mgetattr\u001b[0m\u001b[0;34m(\u001b[0m\u001b[0mhandler\u001b[0m\u001b[0;34m,\u001b[0m \u001b[0mmeth_name\u001b[0m\u001b[0;34m)\u001b[0m\u001b[0;34m\u001b[0m\u001b[0m\n\u001b[0;32m--> 504\u001b[0;31m             \u001b[0mresult\u001b[0m \u001b[0;34m=\u001b[0m \u001b[0mfunc\u001b[0m\u001b[0;34m(\u001b[0m\u001b[0;34m*\u001b[0m\u001b[0margs\u001b[0m\u001b[0;34m)\u001b[0m\u001b[0;34m\u001b[0m\u001b[0m\n\u001b[0m\u001b[1;32m    505\u001b[0m             \u001b[0;32mif\u001b[0m \u001b[0mresult\u001b[0m \u001b[0;32mis\u001b[0m \u001b[0;32mnot\u001b[0m \u001b[0;32mNone\u001b[0m\u001b[0;34m:\u001b[0m\u001b[0;34m\u001b[0m\u001b[0m\n\u001b[1;32m    506\u001b[0m                 \u001b[0;32mreturn\u001b[0m \u001b[0mresult\u001b[0m\u001b[0;34m\u001b[0m\u001b[0m\n",
      "\u001b[0;32m/opt/conda/lib/python3.6/urllib/request.py\u001b[0m in \u001b[0;36mhttp_error_default\u001b[0;34m(self, req, fp, code, msg, hdrs)\u001b[0m\n\u001b[1;32m    648\u001b[0m \u001b[0;32mclass\u001b[0m \u001b[0mHTTPDefaultErrorHandler\u001b[0m\u001b[0;34m(\u001b[0m\u001b[0mBaseHandler\u001b[0m\u001b[0;34m)\u001b[0m\u001b[0;34m:\u001b[0m\u001b[0;34m\u001b[0m\u001b[0m\n\u001b[1;32m    649\u001b[0m     \u001b[0;32mdef\u001b[0m \u001b[0mhttp_error_default\u001b[0m\u001b[0;34m(\u001b[0m\u001b[0mself\u001b[0m\u001b[0;34m,\u001b[0m \u001b[0mreq\u001b[0m\u001b[0;34m,\u001b[0m \u001b[0mfp\u001b[0m\u001b[0;34m,\u001b[0m \u001b[0mcode\u001b[0m\u001b[0;34m,\u001b[0m \u001b[0mmsg\u001b[0m\u001b[0;34m,\u001b[0m \u001b[0mhdrs\u001b[0m\u001b[0;34m)\u001b[0m\u001b[0;34m:\u001b[0m\u001b[0;34m\u001b[0m\u001b[0m\n\u001b[0;32m--> 650\u001b[0;31m         \u001b[0;32mraise\u001b[0m \u001b[0mHTTPError\u001b[0m\u001b[0;34m(\u001b[0m\u001b[0mreq\u001b[0m\u001b[0;34m.\u001b[0m\u001b[0mfull_url\u001b[0m\u001b[0;34m,\u001b[0m \u001b[0mcode\u001b[0m\u001b[0;34m,\u001b[0m \u001b[0mmsg\u001b[0m\u001b[0;34m,\u001b[0m \u001b[0mhdrs\u001b[0m\u001b[0;34m,\u001b[0m \u001b[0mfp\u001b[0m\u001b[0;34m)\u001b[0m\u001b[0;34m\u001b[0m\u001b[0m\n\u001b[0m\u001b[1;32m    651\u001b[0m \u001b[0;34m\u001b[0m\u001b[0m\n\u001b[1;32m    652\u001b[0m \u001b[0;32mclass\u001b[0m \u001b[0mHTTPRedirectHandler\u001b[0m\u001b[0;34m(\u001b[0m\u001b[0mBaseHandler\u001b[0m\u001b[0;34m)\u001b[0m\u001b[0;34m:\u001b[0m\u001b[0;34m\u001b[0m\u001b[0m\n",
      "\u001b[0;31mHTTPError\u001b[0m: HTTP Error 500: Internal Server Error"
     ]
    }
   ],
   "source": [
    "new_layer.edit_features(adds=fs)"
   ]
  },
  {
   "cell_type": "code",
   "execution_count": 68,
   "metadata": {},
   "outputs": [],
   "source": [
    "from html.parser import HTMLParser\n",
    "\n",
    "class MLStripper(HTMLParser):\n",
    "    def __init__(self):\n",
    "        super().__init__()\n",
    "        self.reset()\n",
    "        self.fed = []\n",
    "    def handle_data(self, d):\n",
    "        self.fed.append(d)\n",
    "    def get_data(self):\n",
    "        return ''.join(self.fed)\n",
    "\n",
    "def strip_tags(html):\n",
    "    if html is None:\n",
    "        return None\n",
    "    else:\n",
    "        s = MLStripper()\n",
    "        s.feed(html)\n",
    "        return s.get_data()"
   ]
  },
  {
   "cell_type": "code",
   "execution_count": 69,
   "metadata": {},
   "outputs": [
    {
     "name": "stderr",
     "output_type": "stream",
     "text": [
      "/opt/conda/lib/python3.6/site-packages/pandas/core/generic.py:4405: SettingWithCopyWarning: \n",
      "A value is trying to be set on a copy of a slice from a DataFrame.\n",
      "Try using .loc[row_indexer,col_indexer] = value instead\n",
      "\n",
      "See the caveats in the documentation: http://pandas.pydata.org/pandas-docs/stable/indexing.html#indexing-view-versus-copy\n",
      "  self[name] = value\n"
     ]
    }
   ],
   "source": [
    "sdf_filtered.notes = sdf_filtered.notes.apply(lambda val: strip_tags(val))"
   ]
  },
  {
   "cell_type": "code",
   "execution_count": null,
   "metadata": {},
   "outputs": [],
   "source": []
  }
 ],
 "metadata": {
  "kernelspec": {
   "display_name": "Python 3",
   "language": "python",
   "name": "python3"
  },
  "language_info": {
   "codemirror_mode": {
    "name": "ipython",
    "version": 3
   },
   "file_extension": ".py",
   "mimetype": "text/x-python",
   "name": "python",
   "nbconvert_exporter": "python",
   "pygments_lexer": "ipython3",
   "version": "3.6.5"
  }
 },
 "nbformat": 4,
 "nbformat_minor": 2
}

{
 "cells": [
  {
   "cell_type": "code",
   "execution_count": 1,
   "metadata": {},
   "outputs": [],
   "source": [
    "from arcgis.gis import GIS, Item\n",
    "from reach_tools import ReachFeatureLayer"
   ]
  },
  {
   "cell_type": "code",
   "execution_count": 12,
   "metadata": {},
   "outputs": [],
   "source": [
    "item_id = '76bb4c16a7e443ca8bd7ca974ea1c6b9'\n",
    "ldub_reach_id = 2156"
   ]
  },
  {
   "cell_type": "code",
   "execution_count": 15,
   "metadata": {},
   "outputs": [
    {
     "data": {
      "text/html": [
       "GIS @ <a href=\"https://jdm1cc.maps.arcgis.com\">https://jdm1cc.maps.arcgis.com</a>"
      ],
      "text/plain": [
       "<arcgis.gis.GIS at 0x11482fef0>"
      ]
     },
     "execution_count": 15,
     "metadata": {},
     "output_type": "execute_result"
    }
   ],
   "source": [
    "web_gis = GIS(username='joel_mccune')\n",
    "web_gis"
   ]
  },
  {
   "cell_type": "code",
   "execution_count": 16,
   "metadata": {},
   "outputs": [
    {
     "data": {
      "text/plain": [
       "<ReachFeatureLayer url:\"https://services5.arcgis.com/12oODIpfxlRR11MF/arcgis/rest/services/rch_cntrds/FeatureServer/0\">"
      ]
     },
     "execution_count": 16,
     "metadata": {},
     "output_type": "execute_result"
    }
   ],
   "source": [
    "lyr = ReachFeatureLayer.from_item_id(web_gis, item_id)\n",
    "lyr"
   ]
  },
  {
   "cell_type": "code",
   "execution_count": 28,
   "metadata": {},
   "outputs": [],
   "source": [
    "sdf = lyr.query().df"
   ]
  },
  {
   "cell_type": "code",
   "execution_count": 38,
   "metadata": {},
   "outputs": [
    {
     "data": {
      "text/plain": [
       "array(['III+', 'IV', 'III', 'V+', 'II', 'I', 'V', 'II+', 'IV+', None],\n",
       "      dtype=object)"
      ]
     },
     "execution_count": 38,
     "metadata": {},
     "output_type": "execute_result"
    }
   ],
   "source": [
    "sdf.difficultyMaximum.unique()"
   ]
  },
  {
   "cell_type": "code",
   "execution_count": 22,
   "metadata": {},
   "outputs": [],
   "source": [
    "river_name = 'Canyon Creek Lewis'"
   ]
  },
  {
   "cell_type": "code",
   "execution_count": 24,
   "metadata": {},
   "outputs": [
    {
     "data": {
      "text/plain": [
       "\"riverName LIKE '%Canyon%' AND riverName LIKE '%Creek%' AND riverName LIKE '%Lewis%'\""
      ]
     },
     "execution_count": 24,
     "metadata": {},
     "output_type": "execute_result"
    }
   ],
   "source": [
    "field_name = 'riverName'\n",
    "where_list = [ \"{} LIKE '%{}%'\".format(field_name, name_part) for name_part in river_name.split()]\n",
    "where_clause = ' AND '.join(where_list)\n",
    "where_clause"
   ]
  },
  {
   "cell_type": "code",
   "execution_count": 25,
   "metadata": {},
   "outputs": [],
   "source": [
    "fs = lyr.query(where_clause)"
   ]
  },
  {
   "cell_type": "code",
   "execution_count": 27,
   "metadata": {},
   "outputs": [
    {
     "data": {
      "text/html": [
       "<div>\n",
       "<style scoped>\n",
       "    .dataframe tbody tr th:only-of-type {\n",
       "        vertical-align: middle;\n",
       "    }\n",
       "\n",
       "    .dataframe tbody tr th {\n",
       "        vertical-align: top;\n",
       "    }\n",
       "\n",
       "    .dataframe thead th {\n",
       "        text-align: right;\n",
       "    }\n",
       "</style>\n",
       "<table border=\"1\" class=\"dataframe\">\n",
       "  <thead>\n",
       "    <tr style=\"text-align: right;\">\n",
       "      <th></th>\n",
       "      <th>GlobalID</th>\n",
       "      <th>OBJECTID</th>\n",
       "      <th>abstract</th>\n",
       "      <th>dateUpdateAw</th>\n",
       "      <th>description</th>\n",
       "      <th>difficulty</th>\n",
       "      <th>difficultyMaximum</th>\n",
       "      <th>difficultyMinimum</th>\n",
       "      <th>difficultyOutlier</th>\n",
       "      <th>error</th>\n",
       "      <th>name</th>\n",
       "      <th>notes</th>\n",
       "      <th>reachId</th>\n",
       "      <th>riverAlternateName</th>\n",
       "      <th>riverName</th>\n",
       "      <th>SHAPE</th>\n",
       "    </tr>\n",
       "  </thead>\n",
       "  <tbody>\n",
       "    <tr>\n",
       "      <th>0</th>\n",
       "      <td>1ad6d6a5-fb41-437a-9d17-fa6bc19a0a14</td>\n",
       "      <td>2072</td>\n",
       "      <td>None</td>\n",
       "      <td>1415428822000</td>\n",
       "      <td>For additional information: * [Upper Canyon Cr...</td>\n",
       "      <td>IV-V</td>\n",
       "      <td>V</td>\n",
       "      <td>IV</td>\n",
       "      <td>None</td>\n",
       "      <td>true</td>\n",
       "      <td>1 - Twin Bridges to Fly Creek</td>\n",
       "      <td>reach put-in is not upstream from take-out</td>\n",
       "      <td>2073</td>\n",
       "      <td>None</td>\n",
       "      <td>Canyon Creek (Lewis River trib.)</td>\n",
       "      <td>{'x': -13607837.81562964, 'y': 5768444.9482398...</td>\n",
       "    </tr>\n",
       "    <tr>\n",
       "      <th>1</th>\n",
       "      <td>dd8fdb11-c524-4dd8-9809-58c8c4321b02</td>\n",
       "      <td>3127</td>\n",
       "      <td>A classic creek run with a series of outstandi...</td>\n",
       "      <td>1415429428000</td>\n",
       "      <td>Events: Annual Canyon Creek Extreme Race Logis...</td>\n",
       "      <td>IV+</td>\n",
       "      <td>IV+</td>\n",
       "      <td>None</td>\n",
       "      <td>None</td>\n",
       "      <td>false</td>\n",
       "      <td>2 - Fly Creek to Merwin Reservoir</td>\n",
       "      <td>None</td>\n",
       "      <td>3066</td>\n",
       "      <td>None</td>\n",
       "      <td>Canyon Creek (Lewis River trib.)</td>\n",
       "      <td>{'x': -13619334.713482983, 'y': 5772415.536691...</td>\n",
       "    </tr>\n",
       "  </tbody>\n",
       "</table>\n",
       "</div>"
      ],
      "text/plain": [
       "                               GlobalID  OBJECTID  \\\n",
       "0  1ad6d6a5-fb41-437a-9d17-fa6bc19a0a14      2072   \n",
       "1  dd8fdb11-c524-4dd8-9809-58c8c4321b02      3127   \n",
       "\n",
       "                                            abstract   dateUpdateAw  \\\n",
       "0                                               None  1415428822000   \n",
       "1  A classic creek run with a series of outstandi...  1415429428000   \n",
       "\n",
       "                                         description difficulty  \\\n",
       "0  For additional information: * [Upper Canyon Cr...       IV-V   \n",
       "1  Events: Annual Canyon Creek Extreme Race Logis...        IV+   \n",
       "\n",
       "  difficultyMaximum difficultyMinimum difficultyOutlier  error  \\\n",
       "0                 V                IV              None   true   \n",
       "1               IV+              None              None  false   \n",
       "\n",
       "                                name  \\\n",
       "0      1 - Twin Bridges to Fly Creek   \n",
       "1  2 - Fly Creek to Merwin Reservoir   \n",
       "\n",
       "                                        notes reachId riverAlternateName  \\\n",
       "0  reach put-in is not upstream from take-out    2073               None   \n",
       "1                                        None    3066               None   \n",
       "\n",
       "                          riverName  \\\n",
       "0  Canyon Creek (Lewis River trib.)   \n",
       "1  Canyon Creek (Lewis River trib.)   \n",
       "\n",
       "                                               SHAPE  \n",
       "0  {'x': -13607837.81562964, 'y': 5768444.9482398...  \n",
       "1  {'x': -13619334.713482983, 'y': 5772415.536691...  "
      ]
     },
     "execution_count": 27,
     "metadata": {},
     "output_type": "execute_result"
    }
   ],
   "source": [
    "fs.df"
   ]
  },
  {
   "cell_type": "code",
   "execution_count": null,
   "metadata": {},
   "outputs": [],
   "source": []
  }
 ],
 "metadata": {
  "kernelspec": {
   "display_name": "Python 3",
   "language": "python",
   "name": "python3"
  },
  "language_info": {
   "codemirror_mode": {
    "name": "ipython",
    "version": 3
   },
   "file_extension": ".py",
   "mimetype": "text/x-python",
   "name": "python",
   "nbconvert_exporter": "python",
   "pygments_lexer": "ipython3",
   "version": "3.6.6"
  }
 },
 "nbformat": 4,
 "nbformat_minor": 2
}

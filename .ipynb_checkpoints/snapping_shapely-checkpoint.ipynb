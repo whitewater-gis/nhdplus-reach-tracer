{
 "cells": [
  {
   "cell_type": "code",
   "execution_count": 1,
   "metadata": {},
   "outputs": [],
   "source": [
    "import shapely\n",
    "from arcgis.gis import GIS, Item\n",
    "from arcgis.geometry import Geometry, Point, Polyline\n",
    "from shapely import ops"
   ]
  },
  {
   "cell_type": "code",
   "execution_count": 2,
   "metadata": {},
   "outputs": [],
   "source": [
    "item_id = 'cddda6482e4540158aa705675b33371c'\n",
    "user_id = 'joel_mccune'\n",
    "feature_id = 603"
   ]
  },
  {
   "cell_type": "code",
   "execution_count": 3,
   "metadata": {},
   "outputs": [
    {
     "data": {
      "text/html": [
       "GIS @ <a href=\"https://jdm1cc.maps.arcgis.com\">https://jdm1cc.maps.arcgis.com</a>"
      ],
      "text/plain": [
       "<arcgis.gis.GIS at 0x7f2f544938d0>"
      ]
     },
     "execution_count": 3,
     "metadata": {},
     "output_type": "execute_result"
    }
   ],
   "source": [
    "gis = GIS(username=user_id)\n",
    "gis"
   ]
  },
  {
   "cell_type": "code",
   "execution_count": 4,
   "metadata": {},
   "outputs": [
    {
     "data": {
      "text/plain": [
       "<FeatureLayer url:\"http://services5.arcgis.com/12oODIpfxlRR11MF/arcgis/rest/services/hydroline/FeatureServer/0\">"
      ]
     },
     "execution_count": 4,
     "metadata": {},
     "output_type": "execute_result"
    }
   ],
   "source": [
    "layer = Item(gis, item_id).layers[0]\n",
    "layer"
   ]
  },
  {
   "cell_type": "code",
   "execution_count": 5,
   "metadata": {},
   "outputs": [
    {
     "name": "stderr",
     "output_type": "stream",
     "text": [
      "/opt/conda/lib/python3.6/site-packages/arcgis/features/feature.py:613: UserWarning: The SpatialDataFrame has been deprecated. `df` property be modified to return the Spatially Enabled DataFrame as v2.0. This property should not be used. Please use `as_df` instead.\n",
      "  warnings.warn((\"The SpatialDataFrame has been deprecated. \"\n",
      "/opt/conda/lib/python3.6/site-packages/arcgis/features/_data/geodataset/geodataframe.py:221: UserWarning: SpatialDataFrame has been deprecated.  Please switch to the GeoAccessor/GeoSeriesAccessor.\n",
      "  warnings.warn(\"SpatialDataFrame has been deprecated.  Please switch to the GeoAccessor/GeoSeriesAccessor.\")\n"
     ]
    }
   ],
   "source": [
    "fs = layer.query(object_ids=603)\n",
    "sdf = fs.df"
   ]
  },
  {
   "cell_type": "code",
   "execution_count": 6,
   "metadata": {},
   "outputs": [],
   "source": [
    "hydroline = sdf.geometry[0]  # first geometry\n",
    "path = hydroline.paths[0]  # path \n",
    "last_idx = len(path) - 1\n",
    "\n",
    "putin = Geometry(x=path[0][0], y=path[0][1], spatialReference={'wkid': 4326})\n",
    "takeout = Geometry(x=path[last_idx][0], y=path[last_idx][1], spatialReference={'wkid': 4326})"
   ]
  },
  {
   "cell_type": "code",
   "execution_count": 7,
   "metadata": {},
   "outputs": [],
   "source": [
    "# arbitrally collect a single point as an Esri Point as a starting point for prototyping - the geomeric centroid\n",
    "hydropoint = Geometry(x=-72.8, y=44.8, spatialReference={'wkid': 4326})"
   ]
  },
  {
   "cell_type": "code",
   "execution_count": 21,
   "metadata": {},
   "outputs": [],
   "source": [
    "from arcgis.geometry import BaseGeometry, Geometry, Point\n",
    "from arcgis.geometry._types import HASARCPY, HASSHAPELY\n",
    "\n",
    "@classmethod\n",
    "def from_shapely(cls, shapely_geometry, spatial_reference=None):\n",
    "    if HASSHAPELY:\n",
    "        geometry = cls(shapely_geometry.__geo_interface__)\n",
    "    if spatial_reference:\n",
    "        geometry.spatial_reference = spatial_reference\n",
    "    return geometry\n",
    "\n",
    "def snap_to_line(self, polyline_geometry):\n",
    "    \"\"\"\n",
    "    Returns a new point snapped to the closest location along the input line geometry.\n",
    "\n",
    "    ===============     ====================================================================\n",
    "    **Argument**        **Description**\n",
    "    ---------------     --------------------------------------------------------------------\n",
    "    polyline_geometry   Required arcgis.geometry.Polyline geometry the Point will be snapped\n",
    "                        to.\n",
    "    ===============     ====================================================================\n",
    "\n",
    "    :return: arcgis.geometry.Point coincident with the nearest location along the input\n",
    "             arcgis.geometry.Polyline object\n",
    "\n",
    "    \"\"\"\n",
    "    if not isinstance(self, Point):\n",
    "        raise Exception('Snap to line can only be performed on a Point geometry object.')\n",
    "    if not isinstance(polyline_geometry, Polyline):\n",
    "        raise Exception('Snapping target must be a single Polyline geometry object.')\n",
    "    if self.spatial_reference is None:\n",
    "        raise Warning('The spatial reference for the point to be snapped to a line is not defined.')\n",
    "    if polyline_geometry.spatial_reference is None:\n",
    "        raise Warning('The spatial reference of the line being snapped to is not defined.')\n",
    "    if not self.spatial_reference != polyline_geometry.spatial_reference:\n",
    "        raise Exception('The spatial reference for the point and the line are not the same.')\n",
    "\n",
    "    if HASARCPY:\n",
    "        polyline_geometry = polyline_geometry.as_arcpy\n",
    "        return Point(self.as_arcpy.snapToLine(in_point=polyline_geometry))\n",
    "\n",
    "    elif HASSHAPELY:\n",
    "        polyline_geometry = polyline_geometry.as_shapely\n",
    "        point_geometry = self.as_shapely\n",
    "        snap_point = polyline_geometry.interpolate(polyline_geometry.project(point_geometry))\n",
    "        snap_point = Geometry.from_shapely(snap_point)\n",
    "        snap_point.spatial_reference = self.spatial_reference\n",
    "        return snap_point\n",
    "    \n",
    "    else:\n",
    "        raise Exception('Either arcpy or Shapely is required to perform snap_to_line')\n",
    "    \n",
    "def split_at_point(self, point_geometry):\n",
    "    \"\"\"\n",
    "    Returns two polyline geometry objects as a list split at the intersection of the line.\n",
    "\n",
    "    ===============     ====================================================================\n",
    "    **Argument**        **Description**\n",
    "    ---------------     --------------------------------------------------------------------\n",
    "    point_geometry      Required arcgis.geometry.Point geometry defining the location the line\n",
    "                        will be split at.\n",
    "    ===============     ====================================================================\n",
    "\n",
    "    :return: Two item list of arcgis.geometry.Polyline objects on either side of the input\n",
    "             point location.\n",
    "    \"\"\"\n",
    "    if not isinstance(self, Polyline):\n",
    "        raise Exception('Split at point can only be performed on a Polyline geometry object.')\n",
    "    if not isinstance(point_geometry, Point):\n",
    "        raise Exception('Split at point requires a Point geometry object to define the split location.')\n",
    "    if self.spatial_reference is None:\n",
    "        raise Warning('The spatial reference for the line to be split is not defined.')\n",
    "    if point_geometry.spatial_reference is None:\n",
    "        raise Warning('The spatial reference of the point defining the split location is not defined.')\n",
    "    if not self.spatial_reference != point_geometry.spatial_reference:\n",
    "        raise Exception('The spatial reference for the line and point are not the same.')\n",
    "        \n",
    "    if HASARCPY:\n",
    "        raise Exception('Not yet implemented')\n",
    "        \n",
    "    elif HASSHAPELY:\n",
    "        linestring_geometry = self.as_shapely\n",
    "        point_geometry = point_geometry.as_shapely\n",
    "        split_result = ops.split(linestring_geometry, point_geometry)\n",
    "        polyline_list = [Geometry.from_shapely(line_string) for line_string in split_result]\n",
    "        for polyline in polyline_list:\n",
    "            polyline.spatial_reference = self.spatial_reference\n",
    "        return polyline_list\n",
    "    \n",
    "    else:\n",
    "        raise Exception('Either arcpy or Shapely is required to perform split_at_point')\n",
    "    \n",
    "def trim_at_point(self, point_geometry):\n",
    "    return self.split_at_point(point_geometry)[0]\n",
    "        \n",
    "BaseGeometry.from_shapely = from_shapely\n",
    "Geometry.snap_to_line = snap_to_line\n",
    "Geometry.split_at_point = split_at_point\n",
    "Geometry.trim_at_point = trim_at_point"
   ]
  },
  {
   "cell_type": "code",
   "execution_count": 14,
   "metadata": {},
   "outputs": [
    {
     "name": "stdout",
     "output_type": "stream",
     "text": [
      "snapping\n",
      "{'x': -72.8, 'y': 44.8, 'spatialReference': {'wkid': 4326}}\n",
      "{'x': -72.745189798, 'y': 44.743769931, 'spatialReference': {'wkid': 4326}}\n"
     ]
    }
   ],
   "source": [
    "snapped = hydropoint.snap_to_line(hydroline)\n",
    "print(hydropoint)\n",
    "print(snapped)"
   ]
  },
  {
   "cell_type": "code",
   "execution_count": 15,
   "metadata": {},
   "outputs": [],
   "source": [
    "def merge_linestrings(shapely_multiline):\n",
    "    return ops.linemerge(shapely_multiline)"
   ]
  },
  {
   "cell_type": "code",
   "execution_count": 16,
   "metadata": {},
   "outputs": [
    {
     "data": {
      "text/plain": [
       "True"
      ]
     },
     "execution_count": 16,
     "metadata": {},
     "output_type": "execute_result"
    }
   ],
   "source": [
    "isinstance(snapped, Point)"
   ]
  },
  {
   "cell_type": "code",
   "execution_count": 18,
   "metadata": {},
   "outputs": [
    {
     "data": {
      "text/plain": [
       "{'paths': [[(-72.741389671, 44.7436323210001),\n",
       "   (-72.7416639309999, 44.7436537310001),\n",
       "   (-72.741997198, 44.7436977310001),\n",
       "   (-72.742361331, 44.7437663310001),\n",
       "   (-72.7428287979999, 44.743853131),\n",
       "   (-72.743392531, 44.743985997),\n",
       "   (-72.743619931, 44.744016931),\n",
       "   (-72.743804331, 44.744035797),\n",
       "   (-72.743978731, 44.744038597),\n",
       "   (-72.7440923309999, 44.7440353310001),\n",
       "   (-72.7444153979999, 44.744008997),\n",
       "   (-72.744647731, 44.743987997),\n",
       "   (-72.744749398, 44.743964197),\n",
       "   (-72.744786531, 44.743955397),\n",
       "   (-72.745025998, 44.7438593970001),\n",
       "   (-72.745189798, 44.743769931)]],\n",
       " 'spatialReference': {'wkid': 4269, 'latestWkid': 4269}}"
      ]
     },
     "execution_count": 18,
     "metadata": {},
     "output_type": "execute_result"
    }
   ],
   "source": [
    "hydroline.trim_at_point(snapped)"
   ]
  },
  {
   "cell_type": "code",
   "execution_count": 20,
   "metadata": {},
   "outputs": [
    {
     "data": {
      "text/plain": [
       "True"
      ]
     },
     "execution_count": 20,
     "metadata": {},
     "output_type": "execute_result"
    }
   ],
   "source": [
    "hydroline.trim_at_point(snapped).is_valid"
   ]
  },
  {
   "cell_type": "code",
   "execution_count": 26,
   "metadata": {},
   "outputs": [],
   "source": [
    "from reach_tools import *"
   ]
  },
  {
   "cell_type": "code",
   "execution_count": 28,
   "metadata": {},
   "outputs": [
    {
     "data": {
      "text/plain": [
       "{'geometry': {'x': -72.7413852696573,\n",
       "  'y': 44.7435467332978,\n",
       "  'spatialReference': {'wkid': 4326}},\n",
       " 'measure': 8.99219,\n",
       " 'id': 4586212}"
      ]
     },
     "execution_count": 28,
     "metadata": {},
     "output_type": "execute_result"
    }
   ],
   "source": [
    "waters = WATERS()\n",
    "waters.get_epa_snap_point(putin.x, putin.y)"
   ]
  },
  {
   "cell_type": "code",
   "execution_count": null,
   "metadata": {},
   "outputs": [],
   "source": [
    "waters._get_epa_upstreamdownstream_response()"
   ]
  }
 ],
 "metadata": {
  "kernelspec": {
   "display_name": "Python 3",
   "language": "python",
   "name": "python3"
  },
  "language_info": {
   "codemirror_mode": {
    "name": "ipython",
    "version": 3
   },
   "file_extension": ".py",
   "mimetype": "text/x-python",
   "name": "python",
   "nbconvert_exporter": "python",
   "pygments_lexer": "ipython3",
   "version": "3.6.5"
  }
 },
 "nbformat": 4,
 "nbformat_minor": 2
}

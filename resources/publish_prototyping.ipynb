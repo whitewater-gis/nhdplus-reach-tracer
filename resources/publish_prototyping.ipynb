{
 "cells": [
  {
   "cell_type": "code",
   "execution_count": 60,
   "metadata": {},
   "outputs": [],
   "source": [
    "import requests\n",
    "import itertools\n",
    "from arcgis.geometry import Geometry\n",
    "\n",
    "import pandas as pd\n",
    "from arcgis.features import SpatialDataFrame as SDF\n",
    "\n",
    "from arcgis.gis import GIS, Item\n",
    "\n",
    "import sys\n",
    "sys.path.append('..')\n",
    "\n",
    "import geometry_monkeypatch\n",
    "import reach_tools"
   ]
  },
  {
   "cell_type": "code",
   "execution_count": 164,
   "metadata": {},
   "outputs": [
    {
     "data": {
      "text/plain": [
       "<module 'geometry_monkeypatch' from '../geometry_monkeypatch.py'>"
      ]
     },
     "execution_count": 164,
     "metadata": {},
     "output_type": "execute_result"
    }
   ],
   "source": [
    "import importlib\n",
    "importlib.reload(reach_tools)\n",
    "importlib.reload(geometry_monkeypatch)"
   ]
  },
  {
   "cell_type": "code",
   "execution_count": 160,
   "metadata": {},
   "outputs": [],
   "source": [
    "waters = reach_tools.WATERS()\n",
    "gis = GIS()"
   ]
  },
  {
   "cell_type": "code",
   "execution_count": 165,
   "metadata": {},
   "outputs": [],
   "source": [
    "def update_trace_with_nhdplus(self):\n",
    "\n",
    "    # get the snapped and corrected reach locations for the put-in\n",
    "    self.putin.snap_to_nhdplus()\n",
    "\n",
    "    # use the EPA navigate service to trace downstream\n",
    "    trace_polyline = waters.get_downstream_trace_polyline(self.putin.nhdplus_reach_id, self.putin.nhdplus_measure)\n",
    "\n",
    "    # project the takeout geometry to the same spatial reference as the trace polyline\n",
    "    takeout_geom = self.takeout.geometry.match_spatial_reference(self.takeout.geometry)\n",
    "\n",
    "    # snap the takeout geometry to the hydroline\n",
    "    takeout_geom = takeout_geom.snap_to_line(trace_polyline)\n",
    "\n",
    "    # update the takeout in the reach\n",
    "    self.takeout.set_geometry(takeout_geom)\n",
    "\n",
    "    # trim off the tail below the takeout\n",
    "    self['SHAPE'] = trace_polyline.split_at_point(takeout_geom)[0]\n",
    "    \n",
    "    return True\n",
    "\n",
    "reach_tools.Reach.update_trace_with_nhdplus = update_trace_with_nhdplus"
   ]
  },
  {
   "cell_type": "code",
   "execution_count": 166,
   "metadata": {},
   "outputs": [
    {
     "data": {
      "text/plain": [
       "True"
      ]
     },
     "execution_count": 166,
     "metadata": {},
     "output_type": "execute_result"
    }
   ],
   "source": [
    "ldub = reach_tools.Reach.get_from_aw(2156)\n",
    "ldub.update_trace_with_nhdplus()"
   ]
  },
  {
   "cell_type": "code",
   "execution_count": 167,
   "metadata": {},
   "outputs": [
    {
     "data": {
      "text/plain": [
       "{\"geometry\": {\"paths\": [[[-121.633094507621, 45.7953236766543], [-121.632808521595, 45.7949415287295], [-121.632717521896, 45.7943735286163], [-121.6334955218, 45.7932515290357], [-121.633564521385, 45.7930455285292], [-121.633434521685, 45.7927295292453], [-121.632061521322, 45.7921535287633], [-121.631961388107, 45.7919015288334], [-121.632457388497, 45.7912375287898], [-121.63229038799, 45.7909205285604], [-121.631244388317, 45.7902535292779], [-121.631282388271, 45.7898645293255], [-121.632885388449, 45.7883655285472], [-121.633014321553, 45.7874455292887], [-121.632686321716, 45.7869235285989], [-121.631969321926, 45.7865345286465], [-121.629261188053, 45.7854585959384], [-121.628185187896, 45.7846535956878], [-121.627140188269, 45.7835315952079], [-121.626941121535, 45.7830555957401], [-121.627071121235, 45.7822085953513], [-121.628055121646, 45.7815485954922], [-121.628444121598, 45.7814335955849], [-121.628711121321, 45.7801525958665], [-121.628680988636, 45.7792865955009], [-121.628680988636, 45.7768565958561], [-121.628840987921, 45.7762915958813], [-121.629267921277, 45.7757385955607], [-121.630709921225, 45.774574529292], [-121.630839921824, 45.7742965290625], [-121.630908921409, 45.7736135290421], [-121.630671921272, 45.7729535291829], [-121.630251921688, 45.7724005288622], [-121.629336788661, 45.770779595303], [-121.628886788594, 45.7695665960225], [-121.629084721282, 45.7684445955426], [-121.629962721302, 45.7672395291818], [-121.630229721924, 45.7667585285841], [-121.630229721924, 45.7653895293042], [-121.630129588709, 45.7650915290517], [-121.630099588225, 45.7643365293083], [-121.629122521587, 45.7621815954052], [-121.629710521723, 45.7617275286035], [-121.630267521328, 45.7615635291345], [-121.633074588721, 45.7614105292734], [-121.633853588672, 45.7610675287444], [-121.63466952198, 45.7606095292073], [-121.635623521907, 45.7595605293959], [-121.637385521324, 45.7581415287095], [-121.637644521577, 45.7576645291956], [-121.637911521299, 45.7563365291085], [-121.637682388431, 45.7560355287176], [-121.637484388293, 45.7551695292513], [-121.636805388457, 45.7542965285629], [-121.636805388457, 45.7537045291416], [-121.637126387972, 45.7530865294207], [-121.638308321971, 45.7523815292851], [-121.639224321944, 45.7510615286675], [-121.639613321897, 45.7500273955488], [-121.639613321897, 45.7498443961029], [-121.63987232125, 45.748509395693], [-121.640070321388, 45.7478453956494], [-121.639842321665, 45.7474413959046], [-121.639185321944, 45.7470253956064], [-121.63915532146, 45.7466593958154], [-121.638239321487, 45.7458803958645], [-121.637850321535, 45.7447443956382], [-121.637133321745, 45.7441943954559], [-121.636614321193, 45.7432983955055], [-121.636614321193, 45.7424973954394], [-121.637240321283, 45.7406663955387], [-121.637271321814, 45.7399833955182], [-121.637370321882, 45.7397313955884], [-121.637759321835, 45.7393233956591], [-121.637759321835, 45.738594395316], [-121.637400321467, 45.7376523959422], [-121.637141321214, 45.7372633959898], [-121.6369503214, 45.7365313955084], [-121.637011321515, 45.735523395789], [-121.636851321331, 45.7352533959284], [-121.636225321241, 45.7349743956527], [-121.63502032143, 45.7347533953538], [-121.634791321662, 45.7345163961157], [-121.635119321499, 45.7335133957275], [-121.635119321499, 45.7329453956144], [-121.634959321315, 45.7327623952692], [-121.633845321204, 45.7327163958459], [-121.633006322084, 45.7315983955504], [-121.632739321462, 45.7308393956225], [-121.632060321626, 45.7298323959492], [-121.632121321741, 45.728920395261], [-121.632418321947, 45.7285313953086], [-121.6328073219, 45.7283293958859], [-121.633067321299, 45.7280053953336], [-121.633235321852, 45.7265403961233], [-121.633860321896, 45.7259453956644], [-121.634150321779, 45.7250753960136], [-121.63418132141, 45.7246903953464], [-121.633723321873, 45.7238663960183], [-121.634478388166, 45.7227483957228], [-121.634875388488, 45.7226833288734], [-121.635722387977, 45.7230683286414], [-121.637057388387, 45.7232743291479], [-121.640513388581, 45.7227753286194], [-121.640811387935, 45.7225463288509], [-121.641009388072, 45.7218633288305], [-121.640811387935, 45.7216533290388], [-121.640582388166, 45.7208943291109], [-121.640910388003, 45.7206923287889], [-121.642413388067, 45.7200173291374], [-121.644129522059, 45.7186783294422], [-121.645411521824, 45.7183001959982]]], \"spatialReference\": {\"wkid\": 4326}}, \"attributes\": {\"reach_id\": \"2156\", \"reach_name\": \"Willard to Columbia River\", \"reach_name_alternate\": \"\", \"river_name\": \"Little White Salmon\", \"river_name_alternate\": \"\", \"error\": null, \"notes\": \"\", \"difficulty\": \"V\", \"difficulty_minimum\": null, \"difficulty_maximum\": \"V\", \"difficulty_outlier\": null, \"abstract\": \"Washington's best known class V run flowing year around with dramatic drops in\\na pristine canyon and sparkling translucent blue water.\", \"description\": \"The Little White Salmon is a highlight of Pacific Northwest creeking. This\\nstunning run offers an incredible array of rapids, with everything from steep\\ncomplex boulder gardens to dramatic vertical drops, all set in a pristine\\ncanyon filled with sparkling translucent blue water. The Little White has an\\nincredible runnable season, and can be run at any time of year most years. Below the putin bridge, a short class II-III section leads quickly into\\nGettin' Busy, a half-mile long class V boulder slalom that becomes a pounding\\nhole-fest at higher water, but offers eddies at lower flows. At the end of\\nGettin' Busy, the tricky Boulder Sluice awaits. This ledge is best run far\\nleft. Some fun boulder gardens lead quickly into Island, a steep boulder jumble that\\ncan be run center or center-right, or portaged on the right. This drop gets\\nseriously manky at the lower limits of flows. After more fun boogie water, the\\nledges start to appear. First comes 10-foot Sacriledge, with a hazardous cave\\n(Dave's Cave) under the left wall. Double Drop is next, a straightforward pair\\nof 5-foot ledges, with a lava tunnel on the right. The next major drop is S-Turn, a fantastic 14-foot falls into a soft pool with\\na small ledge as the exit. This drop can be scouted and portaged right or\\nleft, and is regularly run on the far left. This drops gets nasty at high\\nwater. Below S-Turn, more fun boogie water leads quickly into the Bowey Hotel,\\na 5-foot ledge that can pack a punch. Run right, and be on your toes: Wishbone\\nlurks just downstream. Wishbone is the second of the Little White's signature big drops. This\\nfantastic 18-footer offers a great line on the left. From the pool below\\nWishbone, you must run a mini-gorge -- The Squeezes -- that ends in Stovepipe,\\na nasty lava bench. The entrance to the gorge is fun IV, but beware of\\nHorseshoe, a 6-foot ledge with a backed-up hydraulic. Stay to the sides (the\\nconventional line is far right) and out of that hydraulic. Stovepipe is\\nlurking immediately below. Getting out to scout or portage Stovepipe can be\\nchallenging. The portage has traditionally been on the right over the log, and\\nthe line a sketchy move through a pothole on the left. There is an alternate\\nroute using the far right channel if flows are not too low. A short boogie section leads to the unparalled Spirit Falls. This legendary\\n33-foot waterfall is spectacular from any angle. It has a straightforward\\nlead-in, plenty of room to scout or portage on the left (have a rope ready to\\nlower boats). That said, this is not a drop to be taken lightly. The right\\nwall has handed out its share of beatdowns over the years, and a swim out the\\npool may result in a very dangerous swim over Chaos, a ledge waiting in the\\noutflow from the pool. Chaos is a straightforward ledge on the left side, but\\nthe key is being in control and in your boat to avoid the nasty walled-in\\nhydraulic on the right side. This is a place to practice smart safety. The last major drop on the Little White is Master Blaster, another steep\\nboulder jumble that ends with a right hand bend. Stay right to avoid the huge\\nledge hole on the left. Two runnable low-head dams wait below Master Blaster,\\nalong with some class II-III boogie as you drift to the takeout. The Little White Salmon is one of the most popular class V day runs in the\\ncountry. The length of its runnable season, the wide range of flows that are\\nrunnable, and the high quality rapids keep even the best paddlers coming back\\nfor more.\\u00c2 **Warning:** at high water, the combination of Spirit Falls and the next rapid, Chaos, can be very nasty! [Read the description](http://boatertalk.com/forum/BoaterTalk/140818) of a very close call that an expert boater had on March 4, 2002. Be smart, be safe, and have fun. check out the [Little White Salmon\\npage](http://www.kayaking.peak.org/public_html/creeks/littlewhite/littlewhit e.html) on [Jason Rackley's site](http://www.kayaking.peak.org). He also has two stories from Little White Salmon trips: [ A Spiritual Experien\\nce](http://www.kayaking.peak.org/public_html/creeks/spirit/spirit.html) and [\\nLittle White Salmon at Low\\nFlow](http://www.kayaking.peak.org/public_html/creeks/littlewhitelow/little whitelow.html) This section of the Little White Salmon is actually two separate runs. The\\nstretch of Little White from the \\\"town\\\" of Willard to the fish hatchery is\\nreferred to as the Upper Little White. Lat/Longitude data are _very_ approximate.\", \"update_aw\": 1531243755000, \"update_arcgis\": null, \"validated\": null, \"validated_by\": \"\"}}"
      ]
     },
     "execution_count": 167,
     "metadata": {},
     "output_type": "execute_result"
    }
   ],
   "source": [
    "ldub.as_feature"
   ]
  },
  {
   "cell_type": "code",
   "execution_count": null,
   "metadata": {},
   "outputs": [],
   "source": []
  }
 ],
 "metadata": {
  "kernelspec": {
   "display_name": "Python 3",
   "language": "python",
   "name": "python3"
  },
  "language_info": {
   "codemirror_mode": {
    "name": "ipython",
    "version": 3
   },
   "file_extension": ".py",
   "mimetype": "text/x-python",
   "name": "python",
   "nbconvert_exporter": "python",
   "pygments_lexer": "ipython3",
   "version": "3.6.3"
  }
 },
 "nbformat": 4,
 "nbformat_minor": 2
}

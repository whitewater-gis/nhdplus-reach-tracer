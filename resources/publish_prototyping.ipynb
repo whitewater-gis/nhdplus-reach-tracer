{
 "cells": [
  {
   "cell_type": "code",
   "execution_count": 2,
   "metadata": {},
   "outputs": [],
   "source": [
    "import requests\n",
    "import itertools\n",
    "from arcgis.geometry import Geometry\n",
    "\n",
    "import pandas as pd\n",
    "from arcgis.features import SpatialDataFrame as SDF\n",
    "from arcgis.features import GeoAccessor\n",
    "\n",
    "from arcgis.gis import GIS, Item\n",
    "\n",
    "import sys\n",
    "sys.path.append('..')\n",
    "\n",
    "import geometry_monkeypatch\n",
    "import reach_tools"
   ]
  },
  {
   "cell_type": "code",
   "execution_count": 3,
   "metadata": {},
   "outputs": [],
   "source": [
    "reach_item_id = 'c72a6e88a67e4eafb7b291f17ec0cf18'\n",
    "reach_layer_url = 'https://services5.arcgis.com/12oODIpfxlRR11MF/arcgis/rest/services/Reach_Line/FeatureServer/0'\n",
    "reach_id_ldub = 2156\n",
    "reach_id_farmies = 2269\n",
    "reach_id_canyon = 3066"
   ]
  },
  {
   "cell_type": "code",
   "execution_count": 158,
   "metadata": {},
   "outputs": [
    {
     "data": {
      "text/plain": [
       "<module 'reach_tools' from '../reach_tools.py'>"
      ]
     },
     "execution_count": 158,
     "metadata": {},
     "output_type": "execute_result"
    }
   ],
   "source": [
    "import importlib\n",
    "importlib.reload(reach_tools)"
   ]
  },
  {
   "cell_type": "code",
   "execution_count": 159,
   "metadata": {},
   "outputs": [],
   "source": [
    "gis = GIS(url='https://jdm1cc.maps.arcgis.com', username='joel_mccune', password='K3mosabe')\n",
    "reach_layer = reach_tools.ReachFeatureLayer(reach_layer_url, gis)"
   ]
  },
  {
   "cell_type": "code",
   "execution_count": 162,
   "metadata": {},
   "outputs": [
    {
     "data": {
      "text/plain": [
       "{'addResults': [],\n",
       " 'updateResults': [],\n",
       " 'deleteResults': [{'objectId': 61,\n",
       "   'uniqueId': 61,\n",
       "   'globalId': None,\n",
       "   'success': True},\n",
       "  {'objectId': 73, 'uniqueId': 73, 'globalId': None, 'success': True},\n",
       "  {'objectId': 98, 'uniqueId': 98, 'globalId': None, 'success': True},\n",
       "  {'objectId': 78, 'uniqueId': 78, 'globalId': None, 'success': True},\n",
       "  {'objectId': 96, 'uniqueId': 96, 'globalId': None, 'success': True},\n",
       "  {'objectId': 67, 'uniqueId': 67, 'globalId': None, 'success': True},\n",
       "  {'objectId': 77, 'uniqueId': 77, 'globalId': None, 'success': True},\n",
       "  {'objectId': 91, 'uniqueId': 91, 'globalId': None, 'success': True},\n",
       "  {'objectId': 82, 'uniqueId': 82, 'globalId': None, 'success': True},\n",
       "  {'objectId': 66, 'uniqueId': 66, 'globalId': None, 'success': True},\n",
       "  {'objectId': 88, 'uniqueId': 88, 'globalId': None, 'success': True},\n",
       "  {'objectId': 54, 'uniqueId': 54, 'globalId': None, 'success': True},\n",
       "  {'objectId': 76, 'uniqueId': 76, 'globalId': None, 'success': True},\n",
       "  {'objectId': 52, 'uniqueId': 52, 'globalId': None, 'success': True},\n",
       "  {'objectId': 94, 'uniqueId': 94, 'globalId': None, 'success': True},\n",
       "  {'objectId': 83, 'uniqueId': 83, 'globalId': None, 'success': True},\n",
       "  {'objectId': 64, 'uniqueId': 64, 'globalId': None, 'success': True},\n",
       "  {'objectId': 53, 'uniqueId': 53, 'globalId': None, 'success': True},\n",
       "  {'objectId': 63, 'uniqueId': 63, 'globalId': None, 'success': True},\n",
       "  {'objectId': 57, 'uniqueId': 57, 'globalId': None, 'success': True},\n",
       "  {'objectId': 68, 'uniqueId': 68, 'globalId': None, 'success': True},\n",
       "  {'objectId': 87, 'uniqueId': 87, 'globalId': None, 'success': True},\n",
       "  {'objectId': 60, 'uniqueId': 60, 'globalId': None, 'success': True},\n",
       "  {'objectId': 93, 'uniqueId': 93, 'globalId': None, 'success': True},\n",
       "  {'objectId': 81, 'uniqueId': 81, 'globalId': None, 'success': True},\n",
       "  {'objectId': 59, 'uniqueId': 59, 'globalId': None, 'success': True},\n",
       "  {'objectId': 80, 'uniqueId': 80, 'globalId': None, 'success': True},\n",
       "  {'objectId': 62, 'uniqueId': 62, 'globalId': None, 'success': True},\n",
       "  {'objectId': 56, 'uniqueId': 56, 'globalId': None, 'success': True},\n",
       "  {'objectId': 65, 'uniqueId': 65, 'globalId': None, 'success': True},\n",
       "  {'objectId': 85, 'uniqueId': 85, 'globalId': None, 'success': True},\n",
       "  {'objectId': 97, 'uniqueId': 97, 'globalId': None, 'success': True},\n",
       "  {'objectId': 86, 'uniqueId': 86, 'globalId': None, 'success': True},\n",
       "  {'objectId': 72, 'uniqueId': 72, 'globalId': None, 'success': True},\n",
       "  {'objectId': 84, 'uniqueId': 84, 'globalId': None, 'success': True},\n",
       "  {'objectId': 74, 'uniqueId': 74, 'globalId': None, 'success': True},\n",
       "  {'objectId': 92, 'uniqueId': 92, 'globalId': None, 'success': True},\n",
       "  {'objectId': 79, 'uniqueId': 79, 'globalId': None, 'success': True},\n",
       "  {'objectId': 100, 'uniqueId': 100, 'globalId': None, 'success': True},\n",
       "  {'objectId': 70, 'uniqueId': 70, 'globalId': None, 'success': True},\n",
       "  {'objectId': 71, 'uniqueId': 71, 'globalId': None, 'success': True},\n",
       "  {'objectId': 75, 'uniqueId': 75, 'globalId': None, 'success': True},\n",
       "  {'objectId': 95, 'uniqueId': 95, 'globalId': None, 'success': True},\n",
       "  {'objectId': 90, 'uniqueId': 90, 'globalId': None, 'success': True},\n",
       "  {'objectId': 55, 'uniqueId': 55, 'globalId': None, 'success': True},\n",
       "  {'objectId': 58, 'uniqueId': 58, 'globalId': None, 'success': True},\n",
       "  {'objectId': 99, 'uniqueId': 99, 'globalId': None, 'success': True},\n",
       "  {'objectId': 89, 'uniqueId': 89, 'globalId': None, 'success': True},\n",
       "  {'objectId': 69, 'uniqueId': 69, 'globalId': None, 'success': True}]}"
      ]
     },
     "execution_count": 162,
     "metadata": {},
     "output_type": "execute_result"
    }
   ],
   "source": [
    "reach_layer.flush()"
   ]
  },
  {
   "cell_type": "code",
   "execution_count": 167,
   "metadata": {},
   "outputs": [
    {
     "name": "stdout",
     "output_type": "stream",
     "text": [
      "reach_id - 0\n",
      "\tno reach\n",
      "reach_id - 1\n"
     ]
    },
    {
     "ename": "TypeError",
     "evalue": "'NoneType' object is not subscriptable",
     "output_type": "error",
     "traceback": [
      "\u001b[0;31m---------------------------------------------------------------------------\u001b[0m",
      "\u001b[0;31mTypeError\u001b[0m                                 Traceback (most recent call last)",
      "\u001b[0;32m<ipython-input-167-c20800c519ef>\u001b[0m in \u001b[0;36m<module>\u001b[0;34m()\u001b[0m\n\u001b[1;32m      3\u001b[0m     \u001b[0mreach\u001b[0m \u001b[0;34m=\u001b[0m \u001b[0mreach_tools\u001b[0m\u001b[0;34m.\u001b[0m\u001b[0mReach\u001b[0m\u001b[0;34m.\u001b[0m\u001b[0mget_from_aw\u001b[0m\u001b[0;34m(\u001b[0m\u001b[0mreach_id\u001b[0m\u001b[0;34m)\u001b[0m\u001b[0;34m\u001b[0m\u001b[0m\n\u001b[1;32m      4\u001b[0m     \u001b[0;32mif\u001b[0m \u001b[0mtype\u001b[0m\u001b[0;34m(\u001b[0m\u001b[0mreach\u001b[0m\u001b[0;34m)\u001b[0m \u001b[0;34m==\u001b[0m \u001b[0mreach_tools\u001b[0m\u001b[0;34m.\u001b[0m\u001b[0mReach\u001b[0m\u001b[0;34m:\u001b[0m\u001b[0;34m\u001b[0m\u001b[0m\n\u001b[0;32m----> 5\u001b[0;31m         \u001b[0mtrace_status\u001b[0m \u001b[0;34m=\u001b[0m \u001b[0mreach\u001b[0m\u001b[0;34m.\u001b[0m\u001b[0mupdate_putin_takeout_and_trace\u001b[0m\u001b[0;34m(\u001b[0m\u001b[0;34m)\u001b[0m\u001b[0;34m\u001b[0m\u001b[0m\n\u001b[0m\u001b[1;32m      6\u001b[0m         \u001b[0;32mif\u001b[0m \u001b[0mtrace_status\u001b[0m \u001b[0;34m==\u001b[0m \u001b[0;32mTrue\u001b[0m\u001b[0;34m:\u001b[0m\u001b[0;34m\u001b[0m\u001b[0m\n\u001b[1;32m      7\u001b[0m             \u001b[0mresp\u001b[0m \u001b[0;34m=\u001b[0m \u001b[0mreach\u001b[0m\u001b[0;34m.\u001b[0m\u001b[0mpublish\u001b[0m\u001b[0;34m(\u001b[0m\u001b[0mgis\u001b[0m\u001b[0;34m,\u001b[0m \u001b[0mreach_layer\u001b[0m\u001b[0;34m)\u001b[0m\u001b[0;34m\u001b[0m\u001b[0m\n",
      "\u001b[0;32m~/home/dev/nhdplus-reach-tracer/reach_tools.py\u001b[0m in \u001b[0;36mupdate_putin_takeout_and_trace\u001b[0;34m(self, gis)\u001b[0m\n\u001b[1;32m    875\u001b[0m \u001b[0;34m\u001b[0m\u001b[0m\n\u001b[1;32m    876\u001b[0m         \u001b[0;31m# get the snapped and corrected reach locations for the put-in\u001b[0m\u001b[0;34m\u001b[0m\u001b[0;34m\u001b[0m\u001b[0m\n\u001b[0;32m--> 877\u001b[0;31m         \u001b[0mself\u001b[0m\u001b[0;34m.\u001b[0m\u001b[0mputin\u001b[0m\u001b[0;34m.\u001b[0m\u001b[0msnap_to_nhdplus\u001b[0m\u001b[0;34m(\u001b[0m\u001b[0;34m)\u001b[0m\u001b[0;34m\u001b[0m\u001b[0m\n\u001b[0m\u001b[1;32m    878\u001b[0m \u001b[0;34m\u001b[0m\u001b[0m\n\u001b[1;32m    879\u001b[0m         \u001b[0;31m# use the EPA navigate service to trace downstream\u001b[0m\u001b[0;34m\u001b[0m\u001b[0;34m\u001b[0m\u001b[0m\n",
      "\u001b[0;32m~/home/dev/nhdplus-reach-tracer/reach_tools.py\u001b[0m in \u001b[0;36msnap_to_nhdplus\u001b[0;34m(self)\u001b[0m\n\u001b[1;32m   1009\u001b[0m         \u001b[0;32mif\u001b[0m \u001b[0mself\u001b[0m\u001b[0;34m.\u001b[0m\u001b[0mgeometry\u001b[0m\u001b[0;34m:\u001b[0m\u001b[0;34m\u001b[0m\u001b[0m\n\u001b[1;32m   1010\u001b[0m             \u001b[0mwaters\u001b[0m \u001b[0;34m=\u001b[0m \u001b[0mWATERS\u001b[0m\u001b[0;34m(\u001b[0m\u001b[0;34m)\u001b[0m\u001b[0;34m\u001b[0m\u001b[0m\n\u001b[0;32m-> 1011\u001b[0;31m             \u001b[0mepa_point\u001b[0m \u001b[0;34m=\u001b[0m \u001b[0mwaters\u001b[0m\u001b[0;34m.\u001b[0m\u001b[0mget_epa_snap_point\u001b[0m\u001b[0;34m(\u001b[0m\u001b[0mself\u001b[0m\u001b[0;34m.\u001b[0m\u001b[0mgeometry\u001b[0m\u001b[0;34m.\u001b[0m\u001b[0mx\u001b[0m\u001b[0;34m,\u001b[0m \u001b[0mself\u001b[0m\u001b[0;34m.\u001b[0m\u001b[0mgeometry\u001b[0m\u001b[0;34m.\u001b[0m\u001b[0my\u001b[0m\u001b[0;34m)\u001b[0m\u001b[0;34m\u001b[0m\u001b[0m\n\u001b[0m\u001b[1;32m   1012\u001b[0m             \u001b[0mself\u001b[0m\u001b[0;34m.\u001b[0m\u001b[0mset_geometry\u001b[0m\u001b[0;34m(\u001b[0m\u001b[0mepa_point\u001b[0m\u001b[0;34m[\u001b[0m\u001b[0;34m'geometry'\u001b[0m\u001b[0;34m]\u001b[0m\u001b[0;34m)\u001b[0m\u001b[0;34m\u001b[0m\u001b[0m\n\u001b[1;32m   1013\u001b[0m             \u001b[0mself\u001b[0m\u001b[0;34m[\u001b[0m\u001b[0;34m'nhdplus_measure'\u001b[0m\u001b[0;34m]\u001b[0m \u001b[0;34m=\u001b[0m \u001b[0mepa_point\u001b[0m\u001b[0;34m[\u001b[0m\u001b[0;34m'measure'\u001b[0m\u001b[0;34m]\u001b[0m\u001b[0;34m\u001b[0m\u001b[0m\n",
      "\u001b[0;32m~/home/dev/nhdplus-reach-tracer/reach_tools.py\u001b[0m in \u001b[0;36mget_epa_snap_point\u001b[0;34m(self, x, y)\u001b[0m\n\u001b[1;32m     83\u001b[0m         \u001b[0mresponse_json\u001b[0m \u001b[0;34m=\u001b[0m \u001b[0mself\u001b[0m\u001b[0;34m.\u001b[0m\u001b[0m_get_point_indexing\u001b[0m\u001b[0;34m(\u001b[0m\u001b[0mx\u001b[0m\u001b[0;34m,\u001b[0m \u001b[0my\u001b[0m\u001b[0;34m)\u001b[0m\u001b[0;34m\u001b[0m\u001b[0m\n\u001b[1;32m     84\u001b[0m \u001b[0;34m\u001b[0m\u001b[0m\n\u001b[0;32m---> 85\u001b[0;31m         \u001b[0mcoordinates\u001b[0m \u001b[0;34m=\u001b[0m \u001b[0mresponse_json\u001b[0m\u001b[0;34m[\u001b[0m\u001b[0;34m'output'\u001b[0m\u001b[0;34m]\u001b[0m\u001b[0;34m[\u001b[0m\u001b[0;34m'end_point'\u001b[0m\u001b[0;34m]\u001b[0m\u001b[0;34m[\u001b[0m\u001b[0;34m'coordinates'\u001b[0m\u001b[0;34m]\u001b[0m\u001b[0;34m\u001b[0m\u001b[0m\n\u001b[0m\u001b[1;32m     86\u001b[0m \u001b[0;34m\u001b[0m\u001b[0m\n\u001b[1;32m     87\u001b[0m         return {\n",
      "\u001b[0;31mTypeError\u001b[0m: 'NoneType' object is not subscriptable"
     ]
    }
   ],
   "source": [
    "for reach_id in range(0, 10000):\n",
    "    print('reach_id -', reach_id)\n",
    "    reach = reach_tools.Reach.get_from_aw(reach_id)\n",
    "    if type(reach) == reach_tools.Reach:\n",
    "        trace_status = reach.update_putin_takeout_and_trace()\n",
    "        if trace_status == True:\n",
    "            resp = reach.publish(gis, reach_layer)\n",
    "            print(resp)\n",
    "        else:\n",
    "            print('/no trace')\n",
    "    else:\n",
    "        print('\\tno reach')"
   ]
  },
  {
   "cell_type": "code",
   "execution_count": 183,
   "metadata": {},
   "outputs": [
    {
     "data": {
      "text/plain": [
       "reach_id                                                             2156\n",
       "reach_name                                      Willard to Columbia River\n",
       "reach_name_alternate                                                     \n",
       "river_name                                            Little White Salmon\n",
       "river_name_alternate                                                     \n",
       "error                                                                None\n",
       "notes                                                                    \n",
       "difficulty                                                              V\n",
       "difficulty_minimum                                                   None\n",
       "difficulty_maximum                                                      V\n",
       "difficulty_outlier                                                   None\n",
       "abstract                Washington's best known class V run flowing ye...\n",
       "description             The Little White Salmon is a highlight of Paci...\n",
       "update_aw                                             2018-07-10 17:29:15\n",
       "update_arcgis                                                        None\n",
       "validated                                                            None\n",
       "validated_by                                                             \n",
       "SHAPE                                                                None\n",
       "reach_points            [[2156, access, putin, None, None, None, None,...\n",
       "dtype: object"
      ]
     },
     "execution_count": 183,
     "metadata": {},
     "output_type": "execute_result"
    }
   ],
   "source": [
    "reach = reach_tools.Reach.get_from_aw(reach_id_ldub)\n",
    "reach"
   ]
  },
  {
   "cell_type": "code",
   "execution_count": 184,
   "metadata": {},
   "outputs": [
    {
     "data": {
      "text/plain": [
       "[reach_id                                                          2156\n",
       " point_type                                                      access\n",
       " subtype                                                          putin\n",
       " name                                                              None\n",
       " side_of_river                                                     None\n",
       " nhdplus_measure                                                   None\n",
       " nhdplus_reach_id                                                  None\n",
       " collection_method                                                 None\n",
       " update_date                                                       None\n",
       " notes                                                             None\n",
       " description                                                       None\n",
       " SHAPE                {'x': -121.634402, 'y': 45.794848, 'spatialRef...\n",
       " uid                                   b67186b807104f41ba963c4595177dc1\n",
       " dtype: object,\n",
       " reach_id                                                          2156\n",
       " point_type                                                      access\n",
       " subtype                                                        takeout\n",
       " name                                                              None\n",
       " side_of_river                                                     None\n",
       " nhdplus_measure                                                   None\n",
       " nhdplus_reach_id                                                  None\n",
       " collection_method                                                 None\n",
       " update_date                                                       None\n",
       " notes                                                             None\n",
       " description                                                       None\n",
       " SHAPE                {'x': -121.645582, 'y': 45.718817, 'spatialRef...\n",
       " uid                                   2e78a9d1335e44f1aeeecf6adadd8445\n",
       " dtype: object]"
      ]
     },
     "execution_count": 184,
     "metadata": {},
     "output_type": "execute_result"
    }
   ],
   "source": [
    "reach.reach_points"
   ]
  },
  {
   "cell_type": "code",
   "execution_count": 176,
   "metadata": {},
   "outputs": [
    {
     "data": {
      "application/vnd.jupyter.widget-view+json": {
       "model_id": "29ffbb7de1e649f69ebc857f3da76d71",
       "version_major": 2,
       "version_minor": 0
      },
      "text/plain": [
       "MapView(layout=Layout(height='400px', width='100%'))"
      ]
     },
     "metadata": {},
     "output_type": "display_data"
    }
   ],
   "source": [
    "web_map = GIS().map()\n",
    "web_map"
   ]
  },
  {
   "cell_type": "code",
   "execution_count": 177,
   "metadata": {},
   "outputs": [],
   "source": [
    "web_map.draw(reach.putin.geometry)\n",
    "web_map.draw(reach.takeout.geometry)"
   ]
  },
  {
   "cell_type": "code",
   "execution_count": 180,
   "metadata": {},
   "outputs": [],
   "source": [
    "resp_json = waters._get_point_indexing(reach.putin.geometry.x, reach.putin.geometry.y)"
   ]
  },
  {
   "cell_type": "code",
   "execution_count": 181,
   "metadata": {},
   "outputs": [
    {
     "data": {
      "text/plain": [
       "True"
      ]
     },
     "execution_count": 181,
     "metadata": {},
     "output_type": "execute_result"
    }
   ],
   "source": [
    "resp_json['output'] == None"
   ]
  },
  {
   "cell_type": "code",
   "execution_count": 194,
   "metadata": {},
   "outputs": [],
   "source": [
    "importlib.reload(reach_tools)\n",
    "reach = reach_tools.Reach.get_from_aw(reach_id_ldub)"
   ]
  },
  {
   "cell_type": "code",
   "execution_count": 195,
   "metadata": {},
   "outputs": [
    {
     "data": {
      "text/plain": [
       "-37.9577925"
      ]
     },
     "execution_count": 195,
     "metadata": {},
     "output_type": "execute_result"
    }
   ],
   "source": [
    "import numpy as np\n",
    "np.mean([reach.putin.geometry.x, reach.takeout.geometry.y])"
   ]
  },
  {
   "cell_type": "code",
   "execution_count": 196,
   "metadata": {},
   "outputs": [
    {
     "data": {
      "text/plain": [
       "{'x': -121.639992, 'y': 45.7568325, 'spatialReference': {'wkid': 4326}}"
      ]
     },
     "execution_count": 196,
     "metadata": {},
     "output_type": "execute_result"
    }
   ],
   "source": [
    "reach.centroid"
   ]
  },
  {
   "cell_type": "code",
   "execution_count": 197,
   "metadata": {},
   "outputs": [],
   "source": [
    "web_map.draw(reach.centroid)"
   ]
  },
  {
   "cell_type": "code",
   "execution_count": null,
   "metadata": {},
   "outputs": [],
   "source": []
  }
 ],
 "metadata": {
  "kernelspec": {
   "display_name": "Python 3",
   "language": "python",
   "name": "python3"
  },
  "language_info": {
   "codemirror_mode": {
    "name": "ipython",
    "version": 3
   },
   "file_extension": ".py",
   "mimetype": "text/x-python",
   "name": "python",
   "nbconvert_exporter": "python",
   "pygments_lexer": "ipython3",
   "version": "3.6.3"
  }
 },
 "nbformat": 4,
 "nbformat_minor": 2
}

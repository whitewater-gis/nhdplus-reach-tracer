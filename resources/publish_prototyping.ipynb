{
 "cells": [
  {
   "cell_type": "code",
   "execution_count": 49,
   "metadata": {},
   "outputs": [],
   "source": [
    "import requests\n",
    "import itertools\n",
    "from arcgis.geometry import Geometry\n",
    "\n",
    "import pandas as pd\n",
    "from arcgis.features import SpatialDataFrame as SDF\n",
    "from arcgis.features import GeoAccessor, GeoSeriesAccessor, Feature\n",
    "\n",
    "from arcgis.gis import GIS, Item\n",
    "\n",
    "import sys\n",
    "sys.path.append('..')\n",
    "\n",
    "import geometry_monkeypatch\n",
    "import reach_tools"
   ]
  },
  {
   "cell_type": "code",
   "execution_count": 2,
   "metadata": {},
   "outputs": [],
   "source": [
    "reach_item_id = 'c72a6e88a67e4eafb7b291f17ec0cf18'\n",
    "reach_layer_url = 'https://services5.arcgis.com/12oODIpfxlRR11MF/arcgis/rest/services/Reach_Line/FeatureServer/0'\n",
    "reach_id_ldub = 2156\n",
    "reach_id_farmies = 2269\n",
    "reach_id_canyon = 3066"
   ]
  },
  {
   "cell_type": "code",
   "execution_count": 126,
   "metadata": {},
   "outputs": [
    {
     "data": {
      "text/plain": [
       "{'paths': [[(-121.633094507621, 45.7953236766543),\n",
       "   (-121.632808521595, 45.7949415287295),\n",
       "   (-121.632717521896, 45.7943735286163),\n",
       "   (-121.6334955218, 45.7932515290357),\n",
       "   (-121.633564521385, 45.7930455285292),\n",
       "   (-121.633434521685, 45.7927295292453),\n",
       "   (-121.632061521322, 45.7921535287633),\n",
       "   (-121.631961388107, 45.7919015288334),\n",
       "   (-121.632457388497, 45.7912375287898),\n",
       "   (-121.63229038799, 45.7909205285604),\n",
       "   (-121.631244388317, 45.7902535292779),\n",
       "   (-121.631282388271, 45.7898645293255),\n",
       "   (-121.632885388449, 45.7883655285472),\n",
       "   (-121.633014321553, 45.7874455292887),\n",
       "   (-121.632686321716, 45.7869235285989),\n",
       "   (-121.631969321926, 45.7865345286465),\n",
       "   (-121.629261188053, 45.7854585959384),\n",
       "   (-121.628185187896, 45.7846535956878),\n",
       "   (-121.627140188269, 45.7835315952079),\n",
       "   (-121.626941121535, 45.7830555957401),\n",
       "   (-121.627071121235, 45.7822085953513),\n",
       "   (-121.628055121646, 45.7815485954922),\n",
       "   (-121.628444121598, 45.7814335955849),\n",
       "   (-121.628711121321, 45.7801525958665),\n",
       "   (-121.628680988636, 45.7792865955009),\n",
       "   (-121.628680988636, 45.7768565958561),\n",
       "   (-121.628840987921, 45.7762915958813),\n",
       "   (-121.629267921277, 45.7757385955607),\n",
       "   (-121.630709921225, 45.774574529292),\n",
       "   (-121.630839921824, 45.7742965290625),\n",
       "   (-121.630908921409, 45.7736135290421),\n",
       "   (-121.630671921272, 45.7729535291829),\n",
       "   (-121.630251921688, 45.7724005288622),\n",
       "   (-121.629336788661, 45.770779595303),\n",
       "   (-121.628886788594, 45.7695665960225),\n",
       "   (-121.629084721282, 45.7684445955426),\n",
       "   (-121.629962721302, 45.7672395291818),\n",
       "   (-121.630229721924, 45.7667585285841),\n",
       "   (-121.630229721924, 45.7653895293042),\n",
       "   (-121.630129588709, 45.7650915290517),\n",
       "   (-121.630099588225, 45.7643365293083),\n",
       "   (-121.629122521587, 45.7621815954052),\n",
       "   (-121.629710521723, 45.7617275286035),\n",
       "   (-121.630267521328, 45.7615635291345),\n",
       "   (-121.633074588721, 45.7614105292734),\n",
       "   (-121.633853588672, 45.7610675287444),\n",
       "   (-121.63466952198, 45.7606095292073),\n",
       "   (-121.635623521907, 45.7595605293959),\n",
       "   (-121.637385521324, 45.7581415287095),\n",
       "   (-121.637644521577, 45.7576645291956),\n",
       "   (-121.637911521299, 45.7563365291085),\n",
       "   (-121.637682388431, 45.7560355287176),\n",
       "   (-121.637484388293, 45.7551695292513),\n",
       "   (-121.636805388457, 45.7542965285629),\n",
       "   (-121.636805388457, 45.7537045291416),\n",
       "   (-121.637126387972, 45.7530865294207),\n",
       "   (-121.638308321971, 45.7523815292851),\n",
       "   (-121.639224321944, 45.7510615286675),\n",
       "   (-121.639613321897, 45.7500273955488),\n",
       "   (-121.639613321897, 45.7498443961029),\n",
       "   (-121.63987232125, 45.748509395693),\n",
       "   (-121.640070321388, 45.7478453956494),\n",
       "   (-121.639842321665, 45.7474413959046),\n",
       "   (-121.639185321944, 45.7470253956064),\n",
       "   (-121.63915532146, 45.7466593958154),\n",
       "   (-121.638239321487, 45.7458803958645),\n",
       "   (-121.637850321535, 45.7447443956382),\n",
       "   (-121.637133321745, 45.7441943954559),\n",
       "   (-121.636614321193, 45.7432983955055),\n",
       "   (-121.636614321193, 45.7424973954394),\n",
       "   (-121.637240321283, 45.7406663955387),\n",
       "   (-121.637271321814, 45.7399833955182),\n",
       "   (-121.637370321882, 45.7397313955884),\n",
       "   (-121.637759321835, 45.7393233956591),\n",
       "   (-121.637759321835, 45.738594395316),\n",
       "   (-121.637400321467, 45.7376523959422),\n",
       "   (-121.637141321214, 45.7372633959898),\n",
       "   (-121.6369503214, 45.7365313955084),\n",
       "   (-121.637011321515, 45.735523395789),\n",
       "   (-121.636851321331, 45.7352533959284),\n",
       "   (-121.636225321241, 45.7349743956527),\n",
       "   (-121.63502032143, 45.7347533953538),\n",
       "   (-121.634791321662, 45.7345163961157),\n",
       "   (-121.635119321499, 45.7335133957275),\n",
       "   (-121.635119321499, 45.7329453956144),\n",
       "   (-121.634959321315, 45.7327623952692),\n",
       "   (-121.633845321204, 45.7327163958459),\n",
       "   (-121.633006322084, 45.7315983955504),\n",
       "   (-121.632739321462, 45.7308393956225),\n",
       "   (-121.632060321626, 45.7298323959492),\n",
       "   (-121.632121321741, 45.728920395261),\n",
       "   (-121.632418321947, 45.7285313953086),\n",
       "   (-121.6328073219, 45.7283293958859),\n",
       "   (-121.633067321299, 45.7280053953336),\n",
       "   (-121.633235321852, 45.7265403961233),\n",
       "   (-121.633860321896, 45.7259453956644),\n",
       "   (-121.634150321779, 45.7250753960136),\n",
       "   (-121.63418132141, 45.7246903953464),\n",
       "   (-121.633723321873, 45.7238663960183),\n",
       "   (-121.634478388166, 45.7227483957228),\n",
       "   (-121.634875388488, 45.7226833288734),\n",
       "   (-121.635722387977, 45.7230683286414),\n",
       "   (-121.637057388387, 45.7232743291479),\n",
       "   (-121.640513388581, 45.7227753286194),\n",
       "   (-121.640811387935, 45.7225463288509),\n",
       "   (-121.641009388072, 45.7218633288305),\n",
       "   (-121.640811387935, 45.7216533290388),\n",
       "   (-121.640582388166, 45.7208943291109),\n",
       "   (-121.640910388003, 45.7206923287889),\n",
       "   (-121.642413388067, 45.7200173291374),\n",
       "   (-121.644129522059, 45.7186783294422),\n",
       "   (-121.645411521824, 45.7183001959982)]],\n",
       " 'spatialReference': {'wkid': 4326}}"
      ]
     },
     "execution_count": 126,
     "metadata": {},
     "output_type": "execute_result"
    }
   ],
   "source": [
    "import importlib\n",
    "importlib.reload(reach_tools)\n",
    "\n",
    "reach = reach_tools.Reach.get_from_aw(reach_id_ldub)\n",
    "\n",
    "reach.update_putin_takeout_and_trace()\n",
    "\n",
    "reach.geometry"
   ]
  },
  {
   "cell_type": "code",
   "execution_count": 132,
   "metadata": {},
   "outputs": [
    {
     "data": {
      "text/plain": [
       "(-121.63420429856335, 45.75496489434612)"
      ]
     },
     "execution_count": 132,
     "metadata": {},
     "output_type": "execute_result"
    }
   ],
   "source": [
    "reach.centroid"
   ]
  },
  {
   "cell_type": "code",
   "execution_count": 131,
   "metadata": {},
   "outputs": [],
   "source": [
    "web_map = GIS().map()"
   ]
  },
  {
   "cell_type": "code",
   "execution_count": 10,
   "metadata": {},
   "outputs": [],
   "source": [
    "web_map.draw(reach.putin.geometry)\n",
    "web_map.draw(reach.takeout.geometry)"
   ]
  },
  {
   "cell_type": "code",
   "execution_count": 180,
   "metadata": {},
   "outputs": [],
   "source": [
    "resp_json = waters._get_point_indexing(reach.putin.geometry.x, reach.putin.geometry.y)"
   ]
  },
  {
   "cell_type": "code",
   "execution_count": 181,
   "metadata": {},
   "outputs": [
    {
     "data": {
      "text/plain": [
       "True"
      ]
     },
     "execution_count": 181,
     "metadata": {},
     "output_type": "execute_result"
    }
   ],
   "source": [
    "resp_json['output'] == None"
   ]
  },
  {
   "cell_type": "code",
   "execution_count": 194,
   "metadata": {},
   "outputs": [],
   "source": [
    "importlib.reload(reach_tools)\n",
    "reach = reach_tools.Reach.get_from_aw(reach_id_ldub)"
   ]
  },
  {
   "cell_type": "code",
   "execution_count": 195,
   "metadata": {},
   "outputs": [
    {
     "data": {
      "text/plain": [
       "-37.9577925"
      ]
     },
     "execution_count": 195,
     "metadata": {},
     "output_type": "execute_result"
    }
   ],
   "source": [
    "import numpy as np\n",
    "np.mean([reach.putin.geometry.x, reach.takeout.geometry.y])"
   ]
  },
  {
   "cell_type": "code",
   "execution_count": 196,
   "metadata": {},
   "outputs": [
    {
     "data": {
      "text/plain": [
       "{'x': -121.639992, 'y': 45.7568325, 'spatialReference': {'wkid': 4326}}"
      ]
     },
     "execution_count": 196,
     "metadata": {},
     "output_type": "execute_result"
    }
   ],
   "source": [
    "reach.centroid"
   ]
  },
  {
   "cell_type": "code",
   "execution_count": 197,
   "metadata": {},
   "outputs": [],
   "source": [
    "web_map.draw(reach.centroid)"
   ]
  },
  {
   "cell_type": "code",
   "execution_count": 133,
   "metadata": {},
   "outputs": [],
   "source": [
    "gis = GIS(url='https://jdm1cc.maps.arcgis.com', username='joel_mccune')\n",
    "reach_layer = reach_tools.ReachFeatureLayer(reach_layer_url, gis)"
   ]
  },
  {
   "cell_type": "code",
   "execution_count": 134,
   "metadata": {},
   "outputs": [],
   "source": [
    "reach_layer.flush()"
   ]
  },
  {
   "cell_type": "code",
   "execution_count": 135,
   "metadata": {},
   "outputs": [
    {
     "name": "stdout",
     "output_type": "stream",
     "text": [
      "reach_id - 0\n",
      "\tno reach\n",
      "reach_id - 1\n"
     ]
    },
    {
     "ename": "TypeError",
     "evalue": "'bool' object is not subscriptable",
     "output_type": "error",
     "traceback": [
      "\u001b[0;31m---------------------------------------------------------------------------\u001b[0m",
      "\u001b[0;31mTypeError\u001b[0m                                 Traceback (most recent call last)",
      "\u001b[0;32m<ipython-input-135-c20800c519ef>\u001b[0m in \u001b[0;36m<module>\u001b[0;34m()\u001b[0m\n\u001b[1;32m      3\u001b[0m     \u001b[0mreach\u001b[0m \u001b[0;34m=\u001b[0m \u001b[0mreach_tools\u001b[0m\u001b[0;34m.\u001b[0m\u001b[0mReach\u001b[0m\u001b[0;34m.\u001b[0m\u001b[0mget_from_aw\u001b[0m\u001b[0;34m(\u001b[0m\u001b[0mreach_id\u001b[0m\u001b[0;34m)\u001b[0m\u001b[0;34m\u001b[0m\u001b[0m\n\u001b[1;32m      4\u001b[0m     \u001b[0;32mif\u001b[0m \u001b[0mtype\u001b[0m\u001b[0;34m(\u001b[0m\u001b[0mreach\u001b[0m\u001b[0;34m)\u001b[0m \u001b[0;34m==\u001b[0m \u001b[0mreach_tools\u001b[0m\u001b[0;34m.\u001b[0m\u001b[0mReach\u001b[0m\u001b[0;34m:\u001b[0m\u001b[0;34m\u001b[0m\u001b[0m\n\u001b[0;32m----> 5\u001b[0;31m         \u001b[0mtrace_status\u001b[0m \u001b[0;34m=\u001b[0m \u001b[0mreach\u001b[0m\u001b[0;34m.\u001b[0m\u001b[0mupdate_putin_takeout_and_trace\u001b[0m\u001b[0;34m(\u001b[0m\u001b[0;34m)\u001b[0m\u001b[0;34m\u001b[0m\u001b[0m\n\u001b[0m\u001b[1;32m      6\u001b[0m         \u001b[0;32mif\u001b[0m \u001b[0mtrace_status\u001b[0m \u001b[0;34m==\u001b[0m \u001b[0;32mTrue\u001b[0m\u001b[0;34m:\u001b[0m\u001b[0;34m\u001b[0m\u001b[0m\n\u001b[1;32m      7\u001b[0m             \u001b[0mresp\u001b[0m \u001b[0;34m=\u001b[0m \u001b[0mreach\u001b[0m\u001b[0;34m.\u001b[0m\u001b[0mpublish\u001b[0m\u001b[0;34m(\u001b[0m\u001b[0mgis\u001b[0m\u001b[0;34m,\u001b[0m \u001b[0mreach_layer\u001b[0m\u001b[0;34m)\u001b[0m\u001b[0;34m\u001b[0m\u001b[0m\n",
      "\u001b[0;32m~/home/dev/nhdplus-reach-tracer/reach_tools.py\u001b[0m in \u001b[0;36mupdate_putin_takeout_and_trace\u001b[0;34m(self, gis)\u001b[0m\n\u001b[1;32m    588\u001b[0m \u001b[0;34m\u001b[0m\u001b[0m\n\u001b[1;32m    589\u001b[0m         \u001b[0;31m# get the snapped and corrected reach locations for the put-in\u001b[0m\u001b[0;34m\u001b[0m\u001b[0;34m\u001b[0m\u001b[0m\n\u001b[0;32m--> 590\u001b[0;31m         \u001b[0mself\u001b[0m\u001b[0;34m.\u001b[0m\u001b[0mputin\u001b[0m\u001b[0;34m.\u001b[0m\u001b[0msnap_to_nhdplus\u001b[0m\u001b[0;34m(\u001b[0m\u001b[0;34m)\u001b[0m\u001b[0;34m\u001b[0m\u001b[0m\n\u001b[0m\u001b[1;32m    591\u001b[0m \u001b[0;34m\u001b[0m\u001b[0m\n\u001b[1;32m    592\u001b[0m         \u001b[0;31m# use the EPA navigate service to trace downstream\u001b[0m\u001b[0;34m\u001b[0m\u001b[0;34m\u001b[0m\u001b[0m\n",
      "\u001b[0;32m~/home/dev/nhdplus-reach-tracer/reach_tools.py\u001b[0m in \u001b[0;36msnap_to_nhdplus\u001b[0;34m(self)\u001b[0m\n\u001b[1;32m    723\u001b[0m             \u001b[0mwaters\u001b[0m \u001b[0;34m=\u001b[0m \u001b[0mWATERS\u001b[0m\u001b[0;34m(\u001b[0m\u001b[0;34m)\u001b[0m\u001b[0;34m\u001b[0m\u001b[0m\n\u001b[1;32m    724\u001b[0m             \u001b[0mepa_point\u001b[0m \u001b[0;34m=\u001b[0m \u001b[0mwaters\u001b[0m\u001b[0;34m.\u001b[0m\u001b[0mget_epa_snap_point\u001b[0m\u001b[0;34m(\u001b[0m\u001b[0mself\u001b[0m\u001b[0;34m.\u001b[0m\u001b[0mgeometry\u001b[0m\u001b[0;34m.\u001b[0m\u001b[0mx\u001b[0m\u001b[0;34m,\u001b[0m \u001b[0mself\u001b[0m\u001b[0;34m.\u001b[0m\u001b[0mgeometry\u001b[0m\u001b[0;34m.\u001b[0m\u001b[0my\u001b[0m\u001b[0;34m)\u001b[0m\u001b[0;34m\u001b[0m\u001b[0m\n\u001b[0;32m--> 725\u001b[0;31m             \u001b[0mself\u001b[0m\u001b[0;34m.\u001b[0m\u001b[0mset_geometry\u001b[0m\u001b[0;34m(\u001b[0m\u001b[0mepa_point\u001b[0m\u001b[0;34m[\u001b[0m\u001b[0;34m'geometry'\u001b[0m\u001b[0;34m]\u001b[0m\u001b[0;34m)\u001b[0m\u001b[0;34m\u001b[0m\u001b[0m\n\u001b[0m\u001b[1;32m    726\u001b[0m             \u001b[0mself\u001b[0m\u001b[0;34m.\u001b[0m\u001b[0mnhdplus_measure\u001b[0m \u001b[0;34m=\u001b[0m \u001b[0mepa_point\u001b[0m\u001b[0;34m[\u001b[0m\u001b[0;34m'measure'\u001b[0m\u001b[0;34m]\u001b[0m\u001b[0;34m\u001b[0m\u001b[0m\n\u001b[1;32m    727\u001b[0m             \u001b[0mself\u001b[0m\u001b[0;34m.\u001b[0m\u001b[0mnhdplus_reach_id\u001b[0m \u001b[0;34m=\u001b[0m \u001b[0mepa_point\u001b[0m\u001b[0;34m[\u001b[0m\u001b[0;34m'id'\u001b[0m\u001b[0;34m]\u001b[0m\u001b[0;34m\u001b[0m\u001b[0m\n",
      "\u001b[0;31mTypeError\u001b[0m: 'bool' object is not subscriptable"
     ]
    }
   ],
   "source": [
    "for reach_id in range(0, 10000):\n",
    "    print('reach_id -', reach_id)\n",
    "    reach = reach_tools.Reach.get_from_aw(reach_id)\n",
    "    if type(reach) == reach_tools.Reach:\n",
    "        trace_status = reach.update_putin_takeout_and_trace()\n",
    "        if trace_status == True:\n",
    "            resp = reach.publish(gis, reach_layer)\n",
    "            print(resp)\n",
    "        else:\n",
    "            print('/no trace')\n",
    "    else:\n",
    "        print('\\tno reach')"
   ]
  },
  {
   "cell_type": "code",
   "execution_count": null,
   "metadata": {},
   "outputs": [],
   "source": []
  }
 ],
 "metadata": {
  "kernelspec": {
   "display_name": "Python 3",
   "language": "python",
   "name": "python3"
  },
  "language_info": {
   "codemirror_mode": {
    "name": "ipython",
    "version": 3
   },
   "file_extension": ".py",
   "mimetype": "text/x-python",
   "name": "python",
   "nbconvert_exporter": "python",
   "pygments_lexer": "ipython3",
   "version": "3.5.5"
  }
 },
 "nbformat": 4,
 "nbformat_minor": 2
}

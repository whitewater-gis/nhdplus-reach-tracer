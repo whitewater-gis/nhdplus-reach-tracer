{
 "cells": [
  {
   "cell_type": "code",
   "execution_count": 60,
   "metadata": {},
   "outputs": [],
   "source": [
    "import requests\n",
    "import itertools\n",
    "from arcgis.geometry import Geometry\n",
    "\n",
    "import pandas as pd\n",
    "from arcgis.features import SpatialDataFrame as SDF\n",
    "\n",
    "from arcgis.gis import GIS, Item\n",
    "\n",
    "import sys\n",
    "sys.path.append('..')\n",
    "\n",
    "import geometry_monkeypatch\n",
    "import reach_tools"
   ]
  },
  {
   "cell_type": "code",
   "execution_count": 135,
   "metadata": {},
   "outputs": [
    {
     "data": {
      "text/plain": [
       "<module 'geometry_monkeypatch' from '../geometry_monkeypatch.py'>"
      ]
     },
     "execution_count": 135,
     "metadata": {},
     "output_type": "execute_result"
    }
   ],
   "source": [
    "import importlib\n",
    "importlib.reload(reach_tools)\n",
    "importlib.reload(geometry_monkeypatch)"
   ]
  },
  {
   "cell_type": "code",
   "execution_count": 136,
   "metadata": {},
   "outputs": [],
   "source": [
    "waters = reach_tools.WATERS()\n",
    "gis = GIS()"
   ]
  },
  {
   "cell_type": "code",
   "execution_count": 137,
   "metadata": {},
   "outputs": [],
   "source": [
    "def update_trace_with_nhdplus(self):\n",
    "\n",
    "    # get the snapped and corrected reach locations for the put-in\n",
    "    self.putin.snap_to_nhdplus()\n",
    "\n",
    "    # use the EPA navigate service to trace downstream\n",
    "    trace_polyline = waters.get_downstream_trace_polyline(self.putin.nhdplus_reach_id, self.putin.nhdplus_measure)\n",
    "\n",
    "    # project the takeout geometry to the same spatial reference as the trace polyline\n",
    "    takeout_geom = self.takeout.geometry.match_spatial_reference(self.takeout.geometry)\n",
    "\n",
    "    # snap the takeout geometry to the hydroline\n",
    "    takeout_geom = takeout_geom.snap_to_line(trace_polyline)\n",
    "\n",
    "    # update the takeout in the reach\n",
    "    self.takeout.set_geometry(takeout_geom)\n",
    "\n",
    "    # trim off the tail below the takeout\n",
    "    self.geometry = trace_polyline.split_at_point(takeout_geom)[0]\n",
    "    \n",
    "    return True\n",
    "\n",
    "reach_tools.Reach.update_trace_with_nhdplus = update_trace_with_nhdplus"
   ]
  },
  {
   "cell_type": "code",
   "execution_count": 138,
   "metadata": {},
   "outputs": [
    {
     "data": {
      "text/plain": [
       "True"
      ]
     },
     "execution_count": 138,
     "metadata": {},
     "output_type": "execute_result"
    }
   ],
   "source": [
    "ldub = reach_tools.Reach.get_from_aw(2156)\n",
    "ldub.update_trace_with_nhdplus()"
   ]
  },
  {
   "cell_type": "code",
   "execution_count": 111,
   "metadata": {},
   "outputs": [
    {
     "ename": "SyntaxError",
     "evalue": "invalid syntax (<ipython-input-111-1e1c55e70fab>, line 5)",
     "output_type": "error",
     "traceback": [
      "\u001b[0;36m  File \u001b[0;32m\"<ipython-input-111-1e1c55e70fab>\"\u001b[0;36m, line \u001b[0;32m5\u001b[0m\n\u001b[0;31m    in_data = df[c for c in df.columns if c != geometry_field]\u001b[0m\n\u001b[0m                     ^\u001b[0m\n\u001b[0;31mSyntaxError\u001b[0m\u001b[0;31m:\u001b[0m invalid syntax\n"
     ]
    }
   ],
   "source": [
    "reach = ldub\n",
    "\n",
    "geometry_field = 'hydroline'\n",
    "df = pd.DataFrame(reach)\n",
    "in_data = df[c for c in df.columns if c != geometry_field]\n",
    "geometry = df[geometry_field]\n",
    "sdf = SDF(data=in_data, geometry=geometry)\n",
    "sdf.to_featureset()"
   ]
  },
  {
   "cell_type": "code",
   "execution_count": 116,
   "metadata": {},
   "outputs": [
    {
     "data": {
      "text/plain": [
       "Index(['Willard to Columbia River'], dtype='object')"
      ]
     },
     "execution_count": 116,
     "metadata": {},
     "output_type": "execute_result"
    }
   ],
   "source": [
    "df = pd.DataFrame(reach)\n",
    "df.columns"
   ]
  },
  {
   "cell_type": "code",
   "execution_count": 78,
   "metadata": {},
   "outputs": [
    {
     "data": {
      "text/plain": [
       "{'x': -121.633094507918,\n",
       " 'y': 45.7953236761081,\n",
       " 'spatialReference': {'wkid': 4326}}"
      ]
     },
     "execution_count": 78,
     "metadata": {},
     "output_type": "execute_result"
    }
   ],
   "source": [
    "ldub.putin.geometry"
   ]
  },
  {
   "cell_type": "code",
   "execution_count": 79,
   "metadata": {},
   "outputs": [
    {
     "data": {
      "text/plain": [
       "{'x': -121.645411521824,\n",
       " 'y': 45.7183001959982,\n",
       " 'spatialReference': {'wkid': 4326}}"
      ]
     },
     "execution_count": 79,
     "metadata": {},
     "output_type": "execute_result"
    }
   ],
   "source": [
    "ldub.takeout.geometry"
   ]
  },
  {
   "cell_type": "code",
   "execution_count": null,
   "metadata": {},
   "outputs": [],
   "source": []
  }
 ],
 "metadata": {
  "kernelspec": {
   "display_name": "Python 3",
   "language": "python",
   "name": "python3"
  },
  "language_info": {
   "codemirror_mode": {
    "name": "ipython",
    "version": 3
   },
   "file_extension": ".py",
   "mimetype": "text/x-python",
   "name": "python",
   "nbconvert_exporter": "python",
   "pygments_lexer": "ipython3",
   "version": "3.6.3"
  }
 },
 "nbformat": 4,
 "nbformat_minor": 2
}

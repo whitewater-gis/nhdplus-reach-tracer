{
 "cells": [
  {
   "cell_type": "code",
   "execution_count": 1,
   "metadata": {},
   "outputs": [],
   "source": [
    "import requests\n",
    "import itertools\n",
    "from arcgis.geometry import Geometry\n",
    "\n",
    "import pandas as pd\n",
    "from arcgis.features import SpatialDataFrame as SDF\n",
    "from arcgis.features import GeoAccessor, GeoSeriesAccessor, Feature\n",
    "\n",
    "from arcgis.gis import GIS, Item\n",
    "\n",
    "import sys\n",
    "sys.path.append('..')\n",
    "\n",
    "import geometry_monkeypatch\n",
    "import reach_tools"
   ]
  },
  {
   "cell_type": "code",
   "execution_count": 2,
   "metadata": {},
   "outputs": [],
   "source": [
    "reach_item_id = 'c72a6e88a67e4eafb7b291f17ec0cf18'\n",
    "reach_layer_url = 'https://services5.arcgis.com/12oODIpfxlRR11MF/arcgis/rest/services/Reach_Line/FeatureServer/0'\n",
    "reach_id_ldub = 2156\n",
    "reach_id_farmies = 2269\n",
    "reach_id_canyon = 3066"
   ]
  },
  {
   "cell_type": "code",
   "execution_count": 3,
   "metadata": {},
   "outputs": [
    {
     "name": "stdout",
     "output_type": "stream",
     "text": [
      "Enter password: ········\n"
     ]
    },
    {
     "data": {
      "text/html": [
       "GIS @ <a href=\"https://jdm1cc.maps.arcgis.com\">https://jdm1cc.maps.arcgis.com</a>"
      ],
      "text/plain": [
       "<arcgis.gis.GIS at 0x7f437845fcf8>"
      ]
     },
     "execution_count": 3,
     "metadata": {},
     "output_type": "execute_result"
    }
   ],
   "source": [
    "gis = GIS(username='joel_mccune')\n",
    "gis"
   ]
  },
  {
   "cell_type": "code",
   "execution_count": 4,
   "metadata": {},
   "outputs": [],
   "source": [
    "reach_layer = reach_tools.ReachFeatureLayer(reach_layer_url, gis)"
   ]
  },
  {
   "cell_type": "code",
   "execution_count": 5,
   "metadata": {},
   "outputs": [
    {
     "data": {
      "text/plain": [
       "<FeatureLayer url:\"https://services5.arcgis.com/12oODIpfxlRR11MF/arcgis/rest/services/Reach_Line/FeatureServer/0\">"
      ]
     },
     "execution_count": 5,
     "metadata": {},
     "output_type": "execute_result"
    }
   ],
   "source": [
    "from arcgis.features import FeatureLayer\n",
    "lyr = FeatureLayer(reach_layer_url, gis)\n",
    "lyr"
   ]
  },
  {
   "cell_type": "code",
   "execution_count": 89,
   "metadata": {},
   "outputs": [
    {
     "data": {
      "text/plain": [
       "{'addResults': [{'globalId': 'BDDD5543-9698-482A-BA3B-3A260EEEFCC7',\n",
       "   'objectId': 107,\n",
       "   'success': True,\n",
       "   'uniqueId': 107}],\n",
       " 'deleteResults': [],\n",
       " 'updateResults': []}"
      ]
     },
     "execution_count": 89,
     "metadata": {},
     "output_type": "execute_result"
    }
   ],
   "source": [
    "reach = reach_tools.Reach.get_from_aw(reach_id_ldub)\n",
    "reach.update_putin_takeout_and_trace()\n",
    "reach_layer.flush()\n",
    "reach.publish(gis, reach_layer)"
   ]
  },
  {
   "cell_type": "code",
   "execution_count": 81,
   "metadata": {},
   "outputs": [
    {
     "data": {
      "text/plain": [
       "<module 'reach_tools' from '../reach_tools.py'>"
      ]
     },
     "execution_count": 81,
     "metadata": {},
     "output_type": "execute_result"
    }
   ],
   "source": [
    "import importlib\n",
    "importlib.reload(reach_tools)"
   ]
  },
  {
   "cell_type": "code",
   "execution_count": 88,
   "metadata": {},
   "outputs": [],
   "source": [
    "reach_id = reach_id_ldub\n",
    "self = reach\n",
    "\n",
    "from arcgis.features import Feature\n",
    "\n",
    "def reach_update(reach_id, update_feature):\n",
    "    \n",
    "    # ensure the update feautre is, in fact a feature set\n",
    "    if not isinstance(update_feature, Feature):\n",
    "        raise Exception('update_feature does not appear to be an ArcGIS Feature object instance')\n",
    "\n",
    "    # build the sql query string once\n",
    "    sql = \"reach_id = '{}'\".format(reach_id)\n",
    "\n",
    "    # get a feature set to work with and modify\n",
    "    fs = reach_layer.query_by_reach_id(reach_id)\n",
    "\n",
    "    # delete the original\n",
    "    reach_layer.delete_features(where=sql)\n",
    "\n",
    "    # apply any modifications to the data\n",
    "    fs.features[0] = update_feature\n",
    "    \n",
    "    # push the updates\n",
    "    reach.publish(reach_layer, "
   ]
  },
  {
   "cell_type": "code",
   "execution_count": 92,
   "metadata": {},
   "outputs": [
    {
     "data": {
      "text/plain": [
       "arcgis.features.feature.Feature"
      ]
     },
     "execution_count": 92,
     "metadata": {},
     "output_type": "execute_result"
    }
   ],
   "source": [
    "type(reach.as_feature)"
   ]
  },
  {
   "cell_type": "code",
   "execution_count": 79,
   "metadata": {},
   "outputs": [],
   "source": [
    "reach_tools.Reach.get_from_arcgis(reach_layer, reach_id)"
   ]
  },
  {
   "cell_type": "code",
   "execution_count": 83,
   "metadata": {},
   "outputs": [
    {
     "data": {
      "text/plain": [
       "<FeatureSet> 2 features"
      ]
     },
     "execution_count": 83,
     "metadata": {},
     "output_type": "execute_result"
    }
   ],
   "source": [
    "reach_layer = reach_tools.ReachFeatureLayer(reach_layer_url, gis)\n",
    "feature_set = reach_layer.query_by_reach_id(reach_id)\n",
    "feature_set"
   ]
  },
  {
   "cell_type": "code",
   "execution_count": 85,
   "metadata": {},
   "outputs": [
    {
     "data": {
      "text/plain": [
       "GlobalID                             cd4fbc88-9fd5-4e14-a685-0ccbec8b1196\n",
       "OBJECTID                                                              105\n",
       "SHAPE                   {'spatialReference': {'latestWkid': 4326, 'wki...\n",
       "Shape__Length                                                    0.108831\n",
       "abstract                Washington's best known class V run flowing ye...\n",
       "collection_method                                                    None\n",
       "description             The Little White Salmon is a highlight of Paci...\n",
       "difficulty                                                              V\n",
       "difficulty_maximum                                                      V\n",
       "difficulty_minimum                                                   None\n",
       "difficulty_outlier                                                   None\n",
       "error                                                                None\n",
       "notes                                                                    \n",
       "reach_id                                                             2156\n",
       "reach_name                                      Willard to Columbia River\n",
       "reach_name_alternate                                                     \n",
       "river_name                                            Little White Salmon\n",
       "river_name_alternate                                                     \n",
       "update_arcgis                                                         NaT\n",
       "update_aw                                             2018-07-10 17:29:15\n",
       "validated                                                            None\n",
       "validated_by                                                             \n",
       "Name: 1, dtype: object"
      ]
     },
     "execution_count": 85,
     "metadata": {},
     "output_type": "execute_result"
    }
   ],
   "source": [
    "reach_s = reach_layer.query_by_reach_id(reach_id).sdf.iloc[1]\n",
    "reach_s"
   ]
  },
  {
   "cell_type": "code",
   "execution_count": null,
   "metadata": {},
   "outputs": [],
   "source": []
  }
 ],
 "metadata": {
  "kernelspec": {
   "display_name": "Python 3",
   "language": "python",
   "name": "python3"
  },
  "language_info": {
   "codemirror_mode": {
    "name": "ipython",
    "version": 3
   },
   "file_extension": ".py",
   "mimetype": "text/x-python",
   "name": "python",
   "nbconvert_exporter": "python",
   "pygments_lexer": "ipython3",
   "version": "3.6.6"
  }
 },
 "nbformat": 4,
 "nbformat_minor": 2
}

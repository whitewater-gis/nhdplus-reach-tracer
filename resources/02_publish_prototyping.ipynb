{
 "cells": [
  {
   "cell_type": "code",
   "execution_count": 1,
   "metadata": {},
   "outputs": [],
   "source": [
    "import requests\n",
    "import itertools\n",
    "from arcgis.geometry import Geometry\n",
    "\n",
    "import pandas as pd\n",
    "from arcgis.features import SpatialDataFrame as SDF\n",
    "from arcgis.features import GeoAccessor, GeoSeriesAccessor, Feature\n",
    "\n",
    "from arcgis.gis import GIS, Item\n",
    "\n",
    "import sys\n",
    "sys.path.append('..')\n",
    "\n",
    "import geometry_monkeypatch\n",
    "import reach_tools"
   ]
  },
  {
   "cell_type": "code",
   "execution_count": 2,
   "metadata": {},
   "outputs": [],
   "source": [
    "reach_item_id = 'c72a6e88a67e4eafb7b291f17ec0cf18'\n",
    "reach_layer_url = 'https://services5.arcgis.com/12oODIpfxlRR11MF/arcgis/rest/services/Reach_Line/FeatureServer/0'\n",
    "reach_id_ldub = 2156\n",
    "reach_id_farmies = 2269\n",
    "reach_id_canyon = 3066"
   ]
  },
  {
   "cell_type": "code",
   "execution_count": 3,
   "metadata": {},
   "outputs": [
    {
     "name": "stdout",
     "output_type": "stream",
     "text": [
      "Enter password: ········\n"
     ]
    },
    {
     "data": {
      "text/html": [
       "GIS @ <a href=\"https://jdm1cc.maps.arcgis.com\">https://jdm1cc.maps.arcgis.com</a>"
      ],
      "text/plain": [
       "<arcgis.gis.GIS at 0x7f437845fcf8>"
      ]
     },
     "execution_count": 3,
     "metadata": {},
     "output_type": "execute_result"
    }
   ],
   "source": [
    "gis = GIS(username='joel_mccune')\n",
    "gis"
   ]
  },
  {
   "cell_type": "code",
   "execution_count": 4,
   "metadata": {},
   "outputs": [],
   "source": [
    "reach_layer = reach_tools.ReachFeatureLayer(reach_layer_url, gis)"
   ]
  },
  {
   "cell_type": "code",
   "execution_count": 5,
   "metadata": {},
   "outputs": [
    {
     "data": {
      "text/plain": [
       "<FeatureLayer url:\"https://services5.arcgis.com/12oODIpfxlRR11MF/arcgis/rest/services/Reach_Line/FeatureServer/0\">"
      ]
     },
     "execution_count": 5,
     "metadata": {},
     "output_type": "execute_result"
    }
   ],
   "source": [
    "from arcgis.features import FeatureLayer\n",
    "lyr = FeatureLayer(reach_layer_url, gis)\n",
    "lyr"
   ]
  },
  {
   "cell_type": "code",
   "execution_count": 46,
   "metadata": {},
   "outputs": [
    {
     "data": {
      "text/plain": [
       "{'addResults': [{'globalId': 'E83ADCA7-347A-4F6B-803E-07BC4F3B1CBC',\n",
       "   'objectId': 104,\n",
       "   'success': True,\n",
       "   'uniqueId': 104}],\n",
       " 'deleteResults': [],\n",
       " 'updateResults': []}"
      ]
     },
     "execution_count": 46,
     "metadata": {},
     "output_type": "execute_result"
    }
   ],
   "source": [
    "reach = reach_tools.Reach.get_from_aw(reach_id_ldub)\n",
    "reach.update_putin_takeout_and_trace()\n",
    "reach_layer.flush()\n",
    "reach.publish(gis, reach_layer)"
   ]
  },
  {
   "cell_type": "code",
   "execution_count": 3,
   "metadata": {},
   "outputs": [
    {
     "data": {
      "text/plain": [
       "<reach_tools.Reach at 0x7fd10832cf60>"
      ]
     },
     "execution_count": 3,
     "metadata": {},
     "output_type": "execute_result"
    }
   ],
   "source": [
    "import importlib\n",
    "importlib.reload(reach_tools)"
   ]
  },
  {
   "cell_type": "code",
   "execution_count": 60,
   "metadata": {},
   "outputs": [
    {
     "ename": "TypeError",
     "evalue": "{\n  \"editable\": false,\n  \"defaultValue\": null,\n  \"type\": \"esriFieldTypeOID\",\n  \"nullable\": false,\n  \"alias\": \"OBJECTID\",\n  \"sqlType\": \"sqlTypeOther\",\n  \"domain\": null,\n  \"name\": \"OBJECTID\"\n} is not JSON serializable",
     "output_type": "error",
     "traceback": [
      "\u001b[0;31m---------------------------------------------------------------------------\u001b[0m",
      "\u001b[0;31mTypeError\u001b[0m                                 Traceback (most recent call last)",
      "\u001b[0;32m<ipython-input-60-945a9228d93d>\u001b[0m in \u001b[0;36m<module>\u001b[0;34m()\u001b[0m\n\u001b[1;32m     43\u001b[0m     \u001b[0medits\u001b[0m\u001b[0;34m=\u001b[0m\u001b[0mupdate_feature_collection\u001b[0m\u001b[0;34m,\u001b[0m\u001b[0;34m\u001b[0m\u001b[0m\n\u001b[1;32m     44\u001b[0m     \u001b[0mupsert\u001b[0m\u001b[0;34m=\u001b[0m\u001b[0;32mTrue\u001b[0m\u001b[0;34m,\u001b[0m\u001b[0;34m\u001b[0m\u001b[0m\n\u001b[0;32m---> 45\u001b[0;31m     \u001b[0mupsert_matching_field\u001b[0m\u001b[0;34m=\u001b[0m\u001b[0mreach_layer\u001b[0m\u001b[0;34m.\u001b[0m\u001b[0mproperties\u001b[0m\u001b[0;34m.\u001b[0m\u001b[0mobjectIdField\u001b[0m\u001b[0;34m\u001b[0m\u001b[0m\n\u001b[0m\u001b[1;32m     46\u001b[0m )\n",
      "\u001b[0;32m/opt/conda/lib/python3.5/site-packages/arcgis/features/layer.py\u001b[0m in \u001b[0;36mappend\u001b[0;34m(self, item_id, upload_format, source_table_name, field_mappings, edits, source_info, upsert, skip_updates, use_globalids, update_geometry, append_fields, rollback, skip_inserts, upsert_matching_field)\u001b[0m\n\u001b[1;32m    947\u001b[0m         \u001b[0;32mdel\u001b[0m \u001b[0mcparams\u001b[0m\u001b[0;34m\u001b[0m\u001b[0m\n\u001b[1;32m    948\u001b[0m         res = self._con.post(path=url,\n\u001b[0;32m--> 949\u001b[0;31m                              postdata=params)\n\u001b[0m\u001b[1;32m    950\u001b[0m         \u001b[0;32mif\u001b[0m \u001b[0;34m'statusUrl'\u001b[0m \u001b[0;32min\u001b[0m \u001b[0mres\u001b[0m\u001b[0;34m:\u001b[0m\u001b[0;34m\u001b[0m\u001b[0m\n\u001b[1;32m    951\u001b[0m             \u001b[0msurl\u001b[0m \u001b[0;34m=\u001b[0m \u001b[0mres\u001b[0m\u001b[0;34m[\u001b[0m\u001b[0;34m'statusUrl'\u001b[0m\u001b[0;34m]\u001b[0m\u001b[0;34m\u001b[0m\u001b[0m\n",
      "\u001b[0;32m/opt/conda/lib/python3.5/site-packages/arcgis/_impl/connection.py\u001b[0m in \u001b[0;36mpost\u001b[0;34m(self, path, postdata, files, ssl, compress, is_retry, use_ordered_dict, add_token, verify_cert, token, try_json, out_folder, file_name, force_bytes, add_headers)\u001b[0m\n\u001b[1;32m   1086\u001b[0m             \u001b[0mencoded_postdata\u001b[0m \u001b[0;34m=\u001b[0m \u001b[0;32mNone\u001b[0m\u001b[0;34m\u001b[0m\u001b[0m\n\u001b[1;32m   1087\u001b[0m             \u001b[0;32mif\u001b[0m \u001b[0mpostdata\u001b[0m\u001b[0;34m:\u001b[0m\u001b[0;34m\u001b[0m\u001b[0m\n\u001b[0;32m-> 1088\u001b[0;31m                 \u001b[0mpostdata\u001b[0m \u001b[0;34m=\u001b[0m \u001b[0;34m{\u001b[0m\u001b[0mk\u001b[0m\u001b[0;34m:\u001b[0m \u001b[0mjsonize_dict\u001b[0m\u001b[0;34m(\u001b[0m\u001b[0mv\u001b[0m\u001b[0;34m)\u001b[0m \u001b[0;32mfor\u001b[0m \u001b[0mk\u001b[0m\u001b[0;34m,\u001b[0m \u001b[0mv\u001b[0m \u001b[0;32min\u001b[0m \u001b[0mpostdata\u001b[0m\u001b[0;34m.\u001b[0m\u001b[0mitems\u001b[0m\u001b[0;34m(\u001b[0m\u001b[0;34m)\u001b[0m\u001b[0;34m}\u001b[0m\u001b[0;34m\u001b[0m\u001b[0m\n\u001b[0m\u001b[1;32m   1089\u001b[0m                 \u001b[0mencoded_postdata\u001b[0m \u001b[0;34m=\u001b[0m \u001b[0murlencode\u001b[0m\u001b[0;34m(\u001b[0m\u001b[0mpostdata\u001b[0m\u001b[0;34m)\u001b[0m\u001b[0;34m\u001b[0m\u001b[0m\n\u001b[1;32m   1090\u001b[0m             \u001b[0;32mif\u001b[0m \u001b[0mself\u001b[0m\u001b[0;34m.\u001b[0m\u001b[0m_referer\u001b[0m\u001b[0;34m:\u001b[0m\u001b[0;34m\u001b[0m\u001b[0m\n",
      "\u001b[0;32m/opt/conda/lib/python3.5/site-packages/arcgis/_impl/connection.py\u001b[0m in \u001b[0;36m<dictcomp>\u001b[0;34m(.0)\u001b[0m\n\u001b[1;32m   1086\u001b[0m             \u001b[0mencoded_postdata\u001b[0m \u001b[0;34m=\u001b[0m \u001b[0;32mNone\u001b[0m\u001b[0;34m\u001b[0m\u001b[0m\n\u001b[1;32m   1087\u001b[0m             \u001b[0;32mif\u001b[0m \u001b[0mpostdata\u001b[0m\u001b[0;34m:\u001b[0m\u001b[0;34m\u001b[0m\u001b[0m\n\u001b[0;32m-> 1088\u001b[0;31m                 \u001b[0mpostdata\u001b[0m \u001b[0;34m=\u001b[0m \u001b[0;34m{\u001b[0m\u001b[0mk\u001b[0m\u001b[0;34m:\u001b[0m \u001b[0mjsonize_dict\u001b[0m\u001b[0;34m(\u001b[0m\u001b[0mv\u001b[0m\u001b[0;34m)\u001b[0m \u001b[0;32mfor\u001b[0m \u001b[0mk\u001b[0m\u001b[0;34m,\u001b[0m \u001b[0mv\u001b[0m \u001b[0;32min\u001b[0m \u001b[0mpostdata\u001b[0m\u001b[0;34m.\u001b[0m\u001b[0mitems\u001b[0m\u001b[0;34m(\u001b[0m\u001b[0;34m)\u001b[0m\u001b[0;34m}\u001b[0m\u001b[0;34m\u001b[0m\u001b[0m\n\u001b[0m\u001b[1;32m   1089\u001b[0m                 \u001b[0mencoded_postdata\u001b[0m \u001b[0;34m=\u001b[0m \u001b[0murlencode\u001b[0m\u001b[0;34m(\u001b[0m\u001b[0mpostdata\u001b[0m\u001b[0;34m)\u001b[0m\u001b[0;34m\u001b[0m\u001b[0m\n\u001b[1;32m   1090\u001b[0m             \u001b[0;32mif\u001b[0m \u001b[0mself\u001b[0m\u001b[0;34m.\u001b[0m\u001b[0m_referer\u001b[0m\u001b[0;34m:\u001b[0m\u001b[0;34m\u001b[0m\u001b[0m\n",
      "\u001b[0;32m/opt/conda/lib/python3.5/site-packages/arcgis/_impl/connection.py\u001b[0m in \u001b[0;36mjsonize_dict\u001b[0;34m(val)\u001b[0m\n\u001b[1;32m    198\u001b[0m \u001b[0;32mdef\u001b[0m \u001b[0mjsonize_dict\u001b[0m\u001b[0;34m(\u001b[0m\u001b[0mval\u001b[0m\u001b[0;34m)\u001b[0m\u001b[0;34m:\u001b[0m\u001b[0;34m\u001b[0m\u001b[0m\n\u001b[1;32m    199\u001b[0m     \u001b[0;32mif\u001b[0m \u001b[0misinstance\u001b[0m\u001b[0;34m(\u001b[0m\u001b[0mval\u001b[0m\u001b[0;34m,\u001b[0m \u001b[0;34m(\u001b[0m\u001b[0mdict\u001b[0m\u001b[0;34m,\u001b[0m \u001b[0mlist\u001b[0m\u001b[0;34m)\u001b[0m\u001b[0;34m)\u001b[0m\u001b[0;34m:\u001b[0m\u001b[0;34m\u001b[0m\u001b[0m\n\u001b[0;32m--> 200\u001b[0;31m         \u001b[0;32mreturn\u001b[0m \u001b[0mjson\u001b[0m\u001b[0;34m.\u001b[0m\u001b[0mdumps\u001b[0m\u001b[0;34m(\u001b[0m\u001b[0mval\u001b[0m\u001b[0;34m)\u001b[0m\u001b[0;34m\u001b[0m\u001b[0m\n\u001b[0m\u001b[1;32m    201\u001b[0m     \u001b[0;32melse\u001b[0m\u001b[0;34m:\u001b[0m\u001b[0;34m\u001b[0m\u001b[0m\n\u001b[1;32m    202\u001b[0m         \u001b[0;32mreturn\u001b[0m \u001b[0mval\u001b[0m\u001b[0;34m\u001b[0m\u001b[0m\n",
      "\u001b[0;32m/opt/conda/lib/python3.5/json/__init__.py\u001b[0m in \u001b[0;36mdumps\u001b[0;34m(obj, skipkeys, ensure_ascii, check_circular, allow_nan, cls, indent, separators, default, sort_keys, **kw)\u001b[0m\n\u001b[1;32m    228\u001b[0m         \u001b[0mcls\u001b[0m \u001b[0;32mis\u001b[0m \u001b[0;32mNone\u001b[0m \u001b[0;32mand\u001b[0m \u001b[0mindent\u001b[0m \u001b[0;32mis\u001b[0m \u001b[0;32mNone\u001b[0m \u001b[0;32mand\u001b[0m \u001b[0mseparators\u001b[0m \u001b[0;32mis\u001b[0m \u001b[0;32mNone\u001b[0m \u001b[0;32mand\u001b[0m\u001b[0;34m\u001b[0m\u001b[0m\n\u001b[1;32m    229\u001b[0m         default is None and not sort_keys and not kw):\n\u001b[0;32m--> 230\u001b[0;31m         \u001b[0;32mreturn\u001b[0m \u001b[0m_default_encoder\u001b[0m\u001b[0;34m.\u001b[0m\u001b[0mencode\u001b[0m\u001b[0;34m(\u001b[0m\u001b[0mobj\u001b[0m\u001b[0;34m)\u001b[0m\u001b[0;34m\u001b[0m\u001b[0m\n\u001b[0m\u001b[1;32m    231\u001b[0m     \u001b[0;32mif\u001b[0m \u001b[0mcls\u001b[0m \u001b[0;32mis\u001b[0m \u001b[0;32mNone\u001b[0m\u001b[0;34m:\u001b[0m\u001b[0;34m\u001b[0m\u001b[0m\n\u001b[1;32m    232\u001b[0m         \u001b[0mcls\u001b[0m \u001b[0;34m=\u001b[0m \u001b[0mJSONEncoder\u001b[0m\u001b[0;34m\u001b[0m\u001b[0m\n",
      "\u001b[0;32m/opt/conda/lib/python3.5/json/encoder.py\u001b[0m in \u001b[0;36mencode\u001b[0;34m(self, o)\u001b[0m\n\u001b[1;32m    196\u001b[0m         \u001b[0;31m# exceptions aren't as detailed.  The list call should be roughly\u001b[0m\u001b[0;34m\u001b[0m\u001b[0;34m\u001b[0m\u001b[0m\n\u001b[1;32m    197\u001b[0m         \u001b[0;31m# equivalent to the PySequence_Fast that ''.join() would do.\u001b[0m\u001b[0;34m\u001b[0m\u001b[0;34m\u001b[0m\u001b[0m\n\u001b[0;32m--> 198\u001b[0;31m         \u001b[0mchunks\u001b[0m \u001b[0;34m=\u001b[0m \u001b[0mself\u001b[0m\u001b[0;34m.\u001b[0m\u001b[0miterencode\u001b[0m\u001b[0;34m(\u001b[0m\u001b[0mo\u001b[0m\u001b[0;34m,\u001b[0m \u001b[0m_one_shot\u001b[0m\u001b[0;34m=\u001b[0m\u001b[0;32mTrue\u001b[0m\u001b[0;34m)\u001b[0m\u001b[0;34m\u001b[0m\u001b[0m\n\u001b[0m\u001b[1;32m    199\u001b[0m         \u001b[0;32mif\u001b[0m \u001b[0;32mnot\u001b[0m \u001b[0misinstance\u001b[0m\u001b[0;34m(\u001b[0m\u001b[0mchunks\u001b[0m\u001b[0;34m,\u001b[0m \u001b[0;34m(\u001b[0m\u001b[0mlist\u001b[0m\u001b[0;34m,\u001b[0m \u001b[0mtuple\u001b[0m\u001b[0;34m)\u001b[0m\u001b[0;34m)\u001b[0m\u001b[0;34m:\u001b[0m\u001b[0;34m\u001b[0m\u001b[0m\n\u001b[1;32m    200\u001b[0m             \u001b[0mchunks\u001b[0m \u001b[0;34m=\u001b[0m \u001b[0mlist\u001b[0m\u001b[0;34m(\u001b[0m\u001b[0mchunks\u001b[0m\u001b[0;34m)\u001b[0m\u001b[0;34m\u001b[0m\u001b[0m\n",
      "\u001b[0;32m/opt/conda/lib/python3.5/json/encoder.py\u001b[0m in \u001b[0;36miterencode\u001b[0;34m(self, o, _one_shot)\u001b[0m\n\u001b[1;32m    254\u001b[0m                 \u001b[0mself\u001b[0m\u001b[0;34m.\u001b[0m\u001b[0mkey_separator\u001b[0m\u001b[0;34m,\u001b[0m \u001b[0mself\u001b[0m\u001b[0;34m.\u001b[0m\u001b[0mitem_separator\u001b[0m\u001b[0;34m,\u001b[0m \u001b[0mself\u001b[0m\u001b[0;34m.\u001b[0m\u001b[0msort_keys\u001b[0m\u001b[0;34m,\u001b[0m\u001b[0;34m\u001b[0m\u001b[0m\n\u001b[1;32m    255\u001b[0m                 self.skipkeys, _one_shot)\n\u001b[0;32m--> 256\u001b[0;31m         \u001b[0;32mreturn\u001b[0m \u001b[0m_iterencode\u001b[0m\u001b[0;34m(\u001b[0m\u001b[0mo\u001b[0m\u001b[0;34m,\u001b[0m \u001b[0;36m0\u001b[0m\u001b[0;34m)\u001b[0m\u001b[0;34m\u001b[0m\u001b[0m\n\u001b[0m\u001b[1;32m    257\u001b[0m \u001b[0;34m\u001b[0m\u001b[0m\n\u001b[1;32m    258\u001b[0m def _make_iterencode(markers, _default, _encoder, _indent, _floatstr,\n",
      "\u001b[0;32m/opt/conda/lib/python3.5/json/encoder.py\u001b[0m in \u001b[0;36mdefault\u001b[0;34m(self, o)\u001b[0m\n\u001b[1;32m    177\u001b[0m \u001b[0;34m\u001b[0m\u001b[0m\n\u001b[1;32m    178\u001b[0m         \"\"\"\n\u001b[0;32m--> 179\u001b[0;31m         \u001b[0;32mraise\u001b[0m \u001b[0mTypeError\u001b[0m\u001b[0;34m(\u001b[0m\u001b[0mrepr\u001b[0m\u001b[0;34m(\u001b[0m\u001b[0mo\u001b[0m\u001b[0;34m)\u001b[0m \u001b[0;34m+\u001b[0m \u001b[0;34m\" is not JSON serializable\"\u001b[0m\u001b[0;34m)\u001b[0m\u001b[0;34m\u001b[0m\u001b[0m\n\u001b[0m\u001b[1;32m    180\u001b[0m \u001b[0;34m\u001b[0m\u001b[0m\n\u001b[1;32m    181\u001b[0m     \u001b[0;32mdef\u001b[0m \u001b[0mencode\u001b[0m\u001b[0;34m(\u001b[0m\u001b[0mself\u001b[0m\u001b[0;34m,\u001b[0m \u001b[0mo\u001b[0m\u001b[0;34m)\u001b[0m\u001b[0;34m:\u001b[0m\u001b[0;34m\u001b[0m\u001b[0m\n",
      "\u001b[0;31mTypeError\u001b[0m: {\n  \"editable\": false,\n  \"defaultValue\": null,\n  \"type\": \"esriFieldTypeOID\",\n  \"nullable\": false,\n  \"alias\": \"OBJECTID\",\n  \"sqlType\": \"sqlTypeOther\",\n  \"domain\": null,\n  \"name\": \"OBJECTID\"\n} is not JSON serializable"
     ]
    }
   ],
   "source": [
    "reach_id = reach_id_ldub\n",
    "\n",
    "oid_lst = reach_layer.query(where=\"reach_id = '{}'\".format(reach_id), return_ids_only=True)['objectIds']\n",
    "\n",
    "if len(oid_lst):\n",
    "    oid = oid_lst[0]\n",
    "else:\n",
    "    oid = None\n",
    "\n",
    "update_feature_collection = {\n",
    "    'features': [\n",
    "        {\n",
    "            'attributes': {\n",
    "                'abstract': \"Washington's best known class V run flowing year around with dramatic drops in\\na pristine canyon and sparkling translucent blue water.\",\n",
    "                'collection_method': None,\n",
    "                'description': 'The Little White Salmon is a highlight of Pacific Northwest creeking. This\\nstunning run offers an incredible array of rapids, with everything from steep\\ncomplex boulder gardens to dramatic vertical drops, all set in a pristine\\ncanyon filled with sparkling translucent blue water. The Little White has an\\nincredible runnable season, and can be run at any time of year most years. Below the putin bridge, a short class II-III section leads quickly into\\nGettin\\' Busy, a half-mile long class V boulder slalom that becomes a pounding\\nhole-fest at higher water, but offers eddies at lower flows. At the end of\\nGettin\\' Busy, the tricky Boulder Sluice awaits. This ledge is best run far\\nleft. Some fun boulder gardens lead quickly into Island, a steep boulder jumble that\\ncan be run center or center-right, or portaged on the right. This drop gets\\nseriously manky at the lower limits of flows. After more fun boogie water, the\\nledges start to appear. First comes 10-foot Sacriledge, with a hazardous cave\\n(Dave\\'s Cave) under the left wall. Double Drop is next, a straightforward pair\\nof 5-foot ledges, with a lava tunnel on the right. The next major drop is S-Turn, a fantastic 14-foot falls into a soft pool with\\na small ledge as the exit. This drop can be scouted and portaged right or\\nleft, and is regularly run on the far left. This drops gets nasty at high\\nwater. Below S-Turn, more fun boogie water leads quickly into the Bowey Hotel,\\na 5-foot ledge that can pack a punch. Run right, and be on your toes: Wishbone\\nlurks just downstream. Wishbone is the second of the Little White\\'s signature big drops. This\\nfantastic 18-footer offers a great line on the left. From the pool below\\nWishbone, you must run a mini-gorge -- The Squeezes -- that ends in Stovepipe,\\na nasty lava bench. The entrance to the gorge is fun IV, but beware of\\nHorseshoe, a 6-foot ledge with a backed-up hydraulic. Stay to the sides (the\\nconventional line is far right) and out of that hydraulic. Stovepipe is\\nlurking immediately below. Getting out to scout or portage Stovepipe can be\\nchallenging. The portage has traditionally been on the right over the log, and\\nthe line a sketchy move through a pothole on the left. There is an alternate\\nroute using the far right channel if flows are not too low. A short boogie section leads to the unparalled Spirit Falls. This legendary\\n33-foot waterfall is spectacular from any angle. It has a straightforward\\nlead-in, plenty of room to scout or portage on the left (have a rope ready to\\nlower boats). That said, this is not a drop to be taken lightly. The right\\nwall has handed out its share of beatdowns over the years, and a swim out the\\npool may result in a very dangerous swim over Chaos, a ledge waiting in the\\noutflow from the pool. Chaos is a straightforward ledge on the left side, but\\nthe key is being in control and in your boat to avoid the nasty walled-in\\nhydraulic on the right side. This is a place to practice smart safety. The last major drop on the Little White is Master Blaster, another steep\\nboulder jumble that ends with a right hand bend. Stay right to avoid the huge\\nledge hole on the left. Two runnable low-head dams wait below Master Blaster,\\nalong with some class II-III boogie as you drift to the takeout. The Little White Salmon is one of the most popular class V day runs in the\\ncountry. The length of its runnable season, the wide range of flows that are\\nrunnable, and the high quality rapids keep even the best paddlers coming back\\nfor more.Â **Warning:** at high water, the combination of Spirit Falls and the next rapid, Chaos, can be very nasty! [Read the description](http://boatertalk.com/forum/BoaterTalk/140818) of a very close call that an expert boater had on March 4, 2002. Be smart, be safe, and have fun. check out the [Little White Salmon\\npage](http://www.kayaking.peak.org/public_html/creeks/littlewhite/littlewhit e.html) on [Jason Rackley\\'s site](http://www.kayaking.peak.org). He also has two stories from Little White Salmon trips: [ A Spiritual Experien\\nce](http://www.kayaking.peak.org/public_html/creeks/spirit/spirit.html) and [\\nLittle White Salmon at Low\\nFlow](http://www.kayaking.peak.org/public_html/creeks/littlewhitelow/little whitelow.html) This section of the Little White Salmon is actually two separate runs. The\\nstretch of Little White from the \"town\" of Willard to the fish hatchery is\\nreferred to as the Upper Little White. Lat/Longitude data are _very_ approximate.',\n",
    "                'difficulty': 'V',\n",
    "                'difficulty_maximum': 'V',\n",
    "                'difficulty_minimum': None,\n",
    "                'difficulty_outlier': None,\n",
    "                'error': None,\n",
    "                'notes': 'It works!',\n",
    "                'reach_id': '2156',\n",
    "                'reach_name': 'Willard to Columbia River',\n",
    "                'reach_name_alternate': '',\n",
    "                'river_name': 'Little White Salmon',\n",
    "                'river_name_alternate': '',\n",
    "                'update_arcgis': None,\n",
    "                'update_aw': 1531243755000,\n",
    "                'validated': None,\n",
    "                'validated_by': ''\n",
    "            }\n",
    "        }\n",
    "    ],\n",
    "    'fields': reach_layer.properties.fields,\n",
    "    'geometryType': reach_layer.properties.geometryType,\n",
    "    'globalIdFieldName': reach_layer.properties.globalIdField,\n",
    "    'objectIdFieldName': reach_layer.properties.objectIdField,\n",
    "    'spatialReference': reach_layer.properties.extent.spatialReference\n",
    "}\n",
    "\n",
    "reach_layer.append(\n",
    "    edits=update_feature_collection, \n",
    "    upsert=True, \n",
    "    upsert_matching_field=reach_layer.properties.objectIdField\n",
    ")"
   ]
  },
  {
   "cell_type": "code",
   "execution_count": 59,
   "metadata": {},
   "outputs": [
    {
     "data": {
      "text/plain": [
       "{'features': [{'attributes': {'GlobalID': 'e83adca7-347a-4f6b-803e-07bc4f3b1cbc',\n",
       "    'OBJECTID': 104,\n",
       "    'Shape__Length': 0.108831405931529,\n",
       "    'abstract': \"Washington's best known class V run flowing year around with dramatic drops in\\na pristine canyon and sparkling translucent blue water.\",\n",
       "    'collection_method': None,\n",
       "    'description': 'The Little White Salmon is a highlight of Pacific Northwest creeking. This\\nstunning run offers an incredible array of rapids, with everything from steep\\ncomplex boulder gardens to dramatic vertical drops, all set in a pristine\\ncanyon filled with sparkling translucent blue water. The Little White has an\\nincredible runnable season, and can be run at any time of year most years. Below the putin bridge, a short class II-III section leads quickly into\\nGettin\\' Busy, a half-mile long class V boulder slalom that becomes a pounding\\nhole-fest at higher water, but offers eddies at lower flows. At the end of\\nGettin\\' Busy, the tricky Boulder Sluice awaits. This ledge is best run far\\nleft. Some fun boulder gardens lead quickly into Island, a steep boulder jumble that\\ncan be run center or center-right, or portaged on the right. This drop gets\\nseriously manky at the lower limits of flows. After more fun boogie water, the\\nledges start to appear. First comes 10-foot Sacriledge, with a hazardous cave\\n(Dave\\'s Cave) under the left wall. Double Drop is next, a straightforward pair\\nof 5-foot ledges, with a lava tunnel on the right. The next major drop is S-Turn, a fantastic 14-foot falls into a soft pool with\\na small ledge as the exit. This drop can be scouted and portaged right or\\nleft, and is regularly run on the far left. This drops gets nasty at high\\nwater. Below S-Turn, more fun boogie water leads quickly into the Bowey Hotel,\\na 5-foot ledge that can pack a punch. Run right, and be on your toes: Wishbone\\nlurks just downstream. Wishbone is the second of the Little White\\'s signature big drops. This\\nfantastic 18-footer offers a great line on the left. From the pool below\\nWishbone, you must run a mini-gorge -- The Squeezes -- that ends in Stovepipe,\\na nasty lava bench. The entrance to the gorge is fun IV, but beware of\\nHorseshoe, a 6-foot ledge with a backed-up hydraulic. Stay to the sides (the\\nconventional line is far right) and out of that hydraulic. Stovepipe is\\nlurking immediately below. Getting out to scout or portage Stovepipe can be\\nchallenging. The portage has traditionally been on the right over the log, and\\nthe line a sketchy move through a pothole on the left. There is an alternate\\nroute using the far right channel if flows are not too low. A short boogie section leads to the unparalled Spirit Falls. This legendary\\n33-foot waterfall is spectacular from any angle. It has a straightforward\\nlead-in, plenty of room to scout or portage on the left (have a rope ready to\\nlower boats). That said, this is not a drop to be taken lightly. The right\\nwall has handed out its share of beatdowns over the years, and a swim out the\\npool may result in a very dangerous swim over Chaos, a ledge waiting in the\\noutflow from the pool. Chaos is a straightforward ledge on the left side, but\\nthe key is being in control and in your boat to avoid the nasty walled-in\\nhydraulic on the right side. This is a place to practice smart safety. The last major drop on the Little White is Master Blaster, another steep\\nboulder jumble that ends with a right hand bend. Stay right to avoid the huge\\nledge hole on the left. Two runnable low-head dams wait below Master Blaster,\\nalong with some class II-III boogie as you drift to the takeout. The Little White Salmon is one of the most popular class V day runs in the\\ncountry. The length of its runnable season, the wide range of flows that are\\nrunnable, and the high quality rapids keep even the best paddlers coming back\\nfor more.Â **Warning:** at high water, the combination of Spirit Falls and the next rapid, Chaos, can be very nasty! [Read the description](http://boatertalk.com/forum/BoaterTalk/140818) of a very close call that an expert boater had on March 4, 2002. Be smart, be safe, and have fun. check out the [Little White Salmon\\npage](http://www.kayaking.peak.org/public_html/creeks/littlewhite/littlewhit e.html) on [Jason Rackley\\'s site](http://www.kayaking.peak.org). He also has two stories from Little White Salmon trips: [ A Spiritual Experien\\nce](http://www.kayaking.peak.org/public_html/creeks/spirit/spirit.html) and [\\nLittle White Salmon at Low\\nFlow](http://www.kayaking.peak.org/public_html/creeks/littlewhitelow/little whitelow.html) This section of the Little White Salmon is actually two separate runs. The\\nstretch of Little White from the \"town\" of Willard to the fish hatchery is\\nreferred to as the Upper Little White. Lat/Longitude data are _very_ approximate.',\n",
       "    'difficulty': 'V',\n",
       "    'difficulty_maximum': 'V',\n",
       "    'difficulty_minimum': None,\n",
       "    'difficulty_outlier': None,\n",
       "    'error': None,\n",
       "    'notes': '',\n",
       "    'reach_id': '2156',\n",
       "    'reach_name': 'Willard to Columbia River',\n",
       "    'reach_name_alternate': '',\n",
       "    'river_name': 'Little White Salmon',\n",
       "    'river_name_alternate': '',\n",
       "    'update_arcgis': None,\n",
       "    'update_aw': 1531243755000,\n",
       "    'validated': None,\n",
       "    'validated_by': ''}}],\n",
       " 'fields': [{\n",
       "    \"editable\": false,\n",
       "    \"defaultValue\": null,\n",
       "    \"type\": \"esriFieldTypeOID\",\n",
       "    \"nullable\": false,\n",
       "    \"alias\": \"OBJECTID\",\n",
       "    \"sqlType\": \"sqlTypeOther\",\n",
       "    \"domain\": null,\n",
       "    \"name\": \"OBJECTID\"\n",
       "  }, {\n",
       "    \"length\": 255,\n",
       "    \"editable\": true,\n",
       "    \"defaultValue\": null,\n",
       "    \"type\": \"esriFieldTypeString\",\n",
       "    \"nullable\": false,\n",
       "    \"alias\": \"reach_name\",\n",
       "    \"sqlType\": \"sqlTypeOther\",\n",
       "    \"domain\": null,\n",
       "    \"name\": \"reach_name\"\n",
       "  }, {\n",
       "    \"length\": 255,\n",
       "    \"editable\": true,\n",
       "    \"defaultValue\": null,\n",
       "    \"type\": \"esriFieldTypeString\",\n",
       "    \"nullable\": true,\n",
       "    \"alias\": \"river_name\",\n",
       "    \"sqlType\": \"sqlTypeOther\",\n",
       "    \"domain\": null,\n",
       "    \"name\": \"river_name\"\n",
       "  }, {\n",
       "    \"length\": 255,\n",
       "    \"editable\": true,\n",
       "    \"defaultValue\": null,\n",
       "    \"type\": \"esriFieldTypeString\",\n",
       "    \"nullable\": false,\n",
       "    \"alias\": \"river_name_alternate\",\n",
       "    \"sqlType\": \"sqlTypeOther\",\n",
       "    \"domain\": null,\n",
       "    \"name\": \"river_name_alternate\"\n",
       "  }, {\n",
       "    \"length\": 255,\n",
       "    \"editable\": true,\n",
       "    \"defaultValue\": null,\n",
       "    \"type\": \"esriFieldTypeString\",\n",
       "    \"nullable\": true,\n",
       "    \"alias\": \"error\",\n",
       "    \"sqlType\": \"sqlTypeOther\",\n",
       "    \"domain\": null,\n",
       "    \"name\": \"error\"\n",
       "  }, {\n",
       "    \"length\": 255,\n",
       "    \"editable\": true,\n",
       "    \"defaultValue\": null,\n",
       "    \"type\": \"esriFieldTypeString\",\n",
       "    \"nullable\": true,\n",
       "    \"alias\": \"notes\",\n",
       "    \"sqlType\": \"sqlTypeOther\",\n",
       "    \"domain\": null,\n",
       "    \"name\": \"notes\"\n",
       "  }, {\n",
       "    \"length\": 255,\n",
       "    \"editable\": true,\n",
       "    \"defaultValue\": null,\n",
       "    \"type\": \"esriFieldTypeString\",\n",
       "    \"nullable\": true,\n",
       "    \"alias\": \"difficulty\",\n",
       "    \"sqlType\": \"sqlTypeOther\",\n",
       "    \"domain\": null,\n",
       "    \"name\": \"difficulty\"\n",
       "  }, {\n",
       "    \"length\": 255,\n",
       "    \"editable\": true,\n",
       "    \"defaultValue\": null,\n",
       "    \"type\": \"esriFieldTypeString\",\n",
       "    \"nullable\": true,\n",
       "    \"alias\": \"difficulty_minimum\",\n",
       "    \"sqlType\": \"sqlTypeOther\",\n",
       "    \"domain\": null,\n",
       "    \"name\": \"difficulty_minimum\"\n",
       "  }, {\n",
       "    \"length\": 255,\n",
       "    \"editable\": true,\n",
       "    \"defaultValue\": null,\n",
       "    \"type\": \"esriFieldTypeString\",\n",
       "    \"nullable\": true,\n",
       "    \"alias\": \"difficulty_maximum\",\n",
       "    \"sqlType\": \"sqlTypeOther\",\n",
       "    \"domain\": null,\n",
       "    \"name\": \"difficulty_maximum\"\n",
       "  }, {\n",
       "    \"length\": 255,\n",
       "    \"editable\": true,\n",
       "    \"defaultValue\": null,\n",
       "    \"type\": \"esriFieldTypeString\",\n",
       "    \"nullable\": true,\n",
       "    \"alias\": \"difficulty_outlier\",\n",
       "    \"sqlType\": \"sqlTypeOther\",\n",
       "    \"domain\": null,\n",
       "    \"name\": \"difficulty_outlier\"\n",
       "  }, {\n",
       "    \"length\": 255,\n",
       "    \"editable\": true,\n",
       "    \"defaultValue\": null,\n",
       "    \"type\": \"esriFieldTypeString\",\n",
       "    \"nullable\": false,\n",
       "    \"alias\": \"reach_name_alternate\",\n",
       "    \"sqlType\": \"sqlTypeOther\",\n",
       "    \"domain\": null,\n",
       "    \"name\": \"reach_name_alternate\"\n",
       "  }, {\n",
       "    \"length\": 10000,\n",
       "    \"editable\": true,\n",
       "    \"defaultValue\": null,\n",
       "    \"type\": \"esriFieldTypeString\",\n",
       "    \"nullable\": true,\n",
       "    \"alias\": \"abstract\",\n",
       "    \"sqlType\": \"sqlTypeOther\",\n",
       "    \"domain\": null,\n",
       "    \"name\": \"abstract\"\n",
       "  }, {\n",
       "    \"length\": 8,\n",
       "    \"editable\": true,\n",
       "    \"defaultValue\": null,\n",
       "    \"type\": \"esriFieldTypeDate\",\n",
       "    \"nullable\": true,\n",
       "    \"alias\": \"update_aw\",\n",
       "    \"sqlType\": \"sqlTypeOther\",\n",
       "    \"domain\": null,\n",
       "    \"name\": \"update_aw\"\n",
       "  }, {\n",
       "    \"length\": 8,\n",
       "    \"editable\": true,\n",
       "    \"defaultValue\": null,\n",
       "    \"type\": \"esriFieldTypeDate\",\n",
       "    \"nullable\": true,\n",
       "    \"alias\": \"update_arcgis\",\n",
       "    \"sqlType\": \"sqlTypeOther\",\n",
       "    \"domain\": null,\n",
       "    \"name\": \"update_arcgis\"\n",
       "  }, {\n",
       "    \"length\": 255,\n",
       "    \"editable\": true,\n",
       "    \"defaultValue\": null,\n",
       "    \"type\": \"esriFieldTypeString\",\n",
       "    \"nullable\": true,\n",
       "    \"alias\": \"validated\",\n",
       "    \"sqlType\": \"sqlTypeOther\",\n",
       "    \"domain\": null,\n",
       "    \"name\": \"validated\"\n",
       "  }, {\n",
       "    \"length\": 255,\n",
       "    \"editable\": true,\n",
       "    \"defaultValue\": null,\n",
       "    \"type\": \"esriFieldTypeString\",\n",
       "    \"nullable\": true,\n",
       "    \"alias\": \"validated_by\",\n",
       "    \"sqlType\": \"sqlTypeOther\",\n",
       "    \"domain\": null,\n",
       "    \"name\": \"validated_by\"\n",
       "  }, {\n",
       "    \"length\": 255,\n",
       "    \"editable\": true,\n",
       "    \"defaultValue\": null,\n",
       "    \"type\": \"esriFieldTypeString\",\n",
       "    \"nullable\": true,\n",
       "    \"alias\": \"collection_method\",\n",
       "    \"sqlType\": \"sqlTypeOther\",\n",
       "    \"domain\": null,\n",
       "    \"name\": \"collection_method\"\n",
       "  }, {\n",
       "    \"length\": 100000,\n",
       "    \"editable\": true,\n",
       "    \"defaultValue\": null,\n",
       "    \"type\": \"esriFieldTypeString\",\n",
       "    \"nullable\": true,\n",
       "    \"alias\": \"description\",\n",
       "    \"sqlType\": \"sqlTypeOther\",\n",
       "    \"domain\": null,\n",
       "    \"name\": \"description\"\n",
       "  }, {\n",
       "    \"length\": 38,\n",
       "    \"editable\": false,\n",
       "    \"defaultValue\": null,\n",
       "    \"type\": \"esriFieldTypeGlobalID\",\n",
       "    \"nullable\": false,\n",
       "    \"alias\": \"\",\n",
       "    \"sqlType\": \"sqlTypeOther\",\n",
       "    \"domain\": null,\n",
       "    \"name\": \"GlobalID\"\n",
       "  }, {\n",
       "    \"editable\": false,\n",
       "    \"defaultValue\": null,\n",
       "    \"type\": \"esriFieldTypeDouble\",\n",
       "    \"nullable\": true,\n",
       "    \"alias\": \"Shape__Length\",\n",
       "    \"sqlType\": \"sqlTypeDouble\",\n",
       "    \"domain\": null,\n",
       "    \"name\": \"Shape__Length\"\n",
       "  }, {\n",
       "    \"length\": 256,\n",
       "    \"editable\": true,\n",
       "    \"defaultValue\": null,\n",
       "    \"type\": \"esriFieldTypeString\",\n",
       "    \"nullable\": true,\n",
       "    \"alias\": \"\",\n",
       "    \"sqlType\": \"sqlTypeOther\",\n",
       "    \"domain\": null,\n",
       "    \"name\": \"reach_id\"\n",
       "  }],\n",
       " 'geometryType': 'esriGeometryPolyline',\n",
       " 'globalIdFieldName': 'GlobalID',\n",
       " 'objectIdFieldName': 'OBJECTID',\n",
       " 'spatialReference': {\n",
       "   \"latestWkid\": 4326,\n",
       "   \"wkid\": 4326\n",
       " }}"
      ]
     },
     "execution_count": 59,
     "metadata": {},
     "output_type": "execute_result"
    }
   ],
   "source": [
    "{\n",
    "    'features': [\n",
    "        {\n",
    "            'attributes': {\n",
    "                'abstract': \"Washington's best known class V run flowing year around with dramatic drops in\\na pristine canyon and sparkling translucent blue water.\",\n",
    "                'collection_method': None,\n",
    "                'description': 'The Little White Salmon is a highlight of Pacific Northwest creeking. This\\nstunning run offers an incredible array of rapids, with everything from steep\\ncomplex boulder gardens to dramatic vertical drops, all set in a pristine\\ncanyon filled with sparkling translucent blue water. The Little White has an\\nincredible runnable season, and can be run at any time of year most years. Below the putin bridge, a short class II-III section leads quickly into\\nGettin\\' Busy, a half-mile long class V boulder slalom that becomes a pounding\\nhole-fest at higher water, but offers eddies at lower flows. At the end of\\nGettin\\' Busy, the tricky Boulder Sluice awaits. This ledge is best run far\\nleft. Some fun boulder gardens lead quickly into Island, a steep boulder jumble that\\ncan be run center or center-right, or portaged on the right. This drop gets\\nseriously manky at the lower limits of flows. After more fun boogie water, the\\nledges start to appear. First comes 10-foot Sacriledge, with a hazardous cave\\n(Dave\\'s Cave) under the left wall. Double Drop is next, a straightforward pair\\nof 5-foot ledges, with a lava tunnel on the right. The next major drop is S-Turn, a fantastic 14-foot falls into a soft pool with\\na small ledge as the exit. This drop can be scouted and portaged right or\\nleft, and is regularly run on the far left. This drops gets nasty at high\\nwater. Below S-Turn, more fun boogie water leads quickly into the Bowey Hotel,\\na 5-foot ledge that can pack a punch. Run right, and be on your toes: Wishbone\\nlurks just downstream. Wishbone is the second of the Little White\\'s signature big drops. This\\nfantastic 18-footer offers a great line on the left. From the pool below\\nWishbone, you must run a mini-gorge -- The Squeezes -- that ends in Stovepipe,\\na nasty lava bench. The entrance to the gorge is fun IV, but beware of\\nHorseshoe, a 6-foot ledge with a backed-up hydraulic. Stay to the sides (the\\nconventional line is far right) and out of that hydraulic. Stovepipe is\\nlurking immediately below. Getting out to scout or portage Stovepipe can be\\nchallenging. The portage has traditionally been on the right over the log, and\\nthe line a sketchy move through a pothole on the left. There is an alternate\\nroute using the far right channel if flows are not too low. A short boogie section leads to the unparalled Spirit Falls. This legendary\\n33-foot waterfall is spectacular from any angle. It has a straightforward\\nlead-in, plenty of room to scout or portage on the left (have a rope ready to\\nlower boats). That said, this is not a drop to be taken lightly. The right\\nwall has handed out its share of beatdowns over the years, and a swim out the\\npool may result in a very dangerous swim over Chaos, a ledge waiting in the\\noutflow from the pool. Chaos is a straightforward ledge on the left side, but\\nthe key is being in control and in your boat to avoid the nasty walled-in\\nhydraulic on the right side. This is a place to practice smart safety. The last major drop on the Little White is Master Blaster, another steep\\nboulder jumble that ends with a right hand bend. Stay right to avoid the huge\\nledge hole on the left. Two runnable low-head dams wait below Master Blaster,\\nalong with some class II-III boogie as you drift to the takeout. The Little White Salmon is one of the most popular class V day runs in the\\ncountry. The length of its runnable season, the wide range of flows that are\\nrunnable, and the high quality rapids keep even the best paddlers coming back\\nfor more.Â **Warning:** at high water, the combination of Spirit Falls and the next rapid, Chaos, can be very nasty! [Read the description](http://boatertalk.com/forum/BoaterTalk/140818) of a very close call that an expert boater had on March 4, 2002. Be smart, be safe, and have fun. check out the [Little White Salmon\\npage](http://www.kayaking.peak.org/public_html/creeks/littlewhite/littlewhit e.html) on [Jason Rackley\\'s site](http://www.kayaking.peak.org). He also has two stories from Little White Salmon trips: [ A Spiritual Experien\\nce](http://www.kayaking.peak.org/public_html/creeks/spirit/spirit.html) and [\\nLittle White Salmon at Low\\nFlow](http://www.kayaking.peak.org/public_html/creeks/littlewhitelow/little whitelow.html) This section of the Little White Salmon is actually two separate runs. The\\nstretch of Little White from the \"town\" of Willard to the fish hatchery is\\nreferred to as the Upper Little White. Lat/Longitude data are _very_ approximate.',\n",
    "                'difficulty': 'V',\n",
    "                'difficulty_maximum': 'V',\n",
    "                'difficulty_minimum': None,\n",
    "                'difficulty_outlier': None,\n",
    "                'error': None,\n",
    "                'notes': 'It works!',\n",
    "                'reach_id': '2156',\n",
    "                'reach_name': 'Willard to Columbia River',\n",
    "                'reach_name_alternate': '',\n",
    "                'river_name': 'Little White Salmon',\n",
    "                'river_name_alternate': '',\n",
    "                'update_arcgis': None,\n",
    "                'update_aw': 1531243755000,\n",
    "                'validated': None,\n",
    "                'validated_by': ''\n",
    "            }\n",
    "        }\n",
    "    ],\n",
    "    'fields': reach_layer.properties.fields,\n",
    "    'geometryType': reach_layer.properties.geometryType,\n",
    "    'globalIdFieldName': reach_layer.properties.globalIdField,\n",
    "    'objectIdFieldName': reach_layer.properties.objectIdField,\n",
    "    'spatialReference': reach_layer.properties.extent.spatialReference\n",
    "}"
   ]
  },
  {
   "cell_type": "code",
   "execution_count": 12,
   "metadata": {},
   "outputs": [
    {
     "data": {
      "text/plain": [
       "{'layers': []}"
      ]
     },
     "execution_count": 12,
     "metadata": {},
     "output_type": "execute_result"
    }
   ],
   "source": [
    "r"
   ]
  },
  {
   "cell_type": "code",
   "execution_count": null,
   "metadata": {},
   "outputs": [],
   "source": []
  }
 ],
 "metadata": {
  "kernelspec": {
   "display_name": "Python 3",
   "language": "python",
   "name": "python3"
  },
  "language_info": {
   "codemirror_mode": {
    "name": "ipython",
    "version": 3
   },
   "file_extension": ".py",
   "mimetype": "text/x-python",
   "name": "python",
   "nbconvert_exporter": "python",
   "pygments_lexer": "ipython3",
   "version": "3.5.5"
  }
 },
 "nbformat": 4,
 "nbformat_minor": 2
}

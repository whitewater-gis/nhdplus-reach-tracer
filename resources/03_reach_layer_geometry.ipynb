{
 "cells": [
  {
   "cell_type": "code",
   "execution_count": 1,
   "metadata": {},
   "outputs": [],
   "source": [
    "from arcgis.gis import GIS, Item\n",
    "import pandas as pd\n",
    "\n",
    "import sys\n",
    "sys.path.append('../src')\n",
    "\n",
    "import reach_tools"
   ]
  },
  {
   "cell_type": "code",
   "execution_count": 2,
   "metadata": {},
   "outputs": [],
   "source": [
    "from arcgis.geometry import Geometry"
   ]
  },
  {
   "cell_type": "code",
   "execution_count": 3,
   "metadata": {},
   "outputs": [],
   "source": [
    "url_reach_line = r'https://services5.arcgis.com/12oODIpfxlRR11MF/arcgis/rest/services/Reach_Line/FeatureServer/0'\n",
    "url_reach_centroid = r'https://services5.arcgis.com/12oODIpfxlRR11MF/arcgis/rest/services/Reach_Centroid/FeatureServer/0'\n",
    "url_reach_points = r'https://services5.arcgis.com/12oODIpfxlRR11MF/arcgis/rest/services/reach_points/FeatureServer/0'\n",
    "\n",
    "user = 'joel_mccune'\n",
    "\n",
    "reach_id_ldub = 2156\n",
    "reach_id_farmies = 2269\n",
    "reach_id_truss = 2270\n",
    "reach_id_bz = 3064\n",
    "reach_id_canyon = 3066\n",
    "reach_id_opal = 5199\n",
    "\n",
    "lst_reach_id = [reach_id_ldub, reach_id_farmies, reach_id_truss, reach_id_bz, reach_id_canyon, reach_id_opal]"
   ]
  },
  {
   "cell_type": "code",
   "execution_count": 4,
   "metadata": {},
   "outputs": [
    {
     "name": "stdin",
     "output_type": "stream",
     "text": [
      "Enter password:  ········\n"
     ]
    },
    {
     "data": {
      "text/html": [
       "GIS @ <a href=\"https://jdm1cc.maps.arcgis.com\">https://jdm1cc.maps.arcgis.com</a>"
      ],
      "text/plain": [
       "GIS @ https://jdm1cc.maps.arcgis.com version:6.4"
      ]
     },
     "execution_count": 4,
     "metadata": {},
     "output_type": "execute_result"
    }
   ],
   "source": [
    "gis = GIS(username=user)\n",
    "gis"
   ]
  },
  {
   "cell_type": "code",
   "execution_count": 5,
   "metadata": {},
   "outputs": [
    {
     "data": {
      "text/plain": [
       "<module 'reach_tools' from '../src/reach_tools.py'>"
      ]
     },
     "execution_count": 5,
     "metadata": {},
     "output_type": "execute_result"
    }
   ],
   "source": [
    "import importlib\n",
    "importlib.reload(reach_tools)"
   ]
  },
  {
   "cell_type": "code",
   "execution_count": 6,
   "metadata": {},
   "outputs": [],
   "source": [
    "lyr_reach_line = reach_tools.ReachFeatureLayer(url_reach_line, gis)\n",
    "lyr_reach_centroid = reach_tools.ReachFeatureLayer(url_reach_centroid, gis)\n",
    "lyr_reach_points = reach_tools.ReachPointFeatureLayer(url_reach_points, gis)"
   ]
  },
  {
   "cell_type": "code",
   "execution_count": 7,
   "metadata": {},
   "outputs": [
    {
     "name": "stdout",
     "output_type": "stream",
     "text": [
      "published 2156 - Little White Salmon Willard to Columbia River\n",
      "published 2269 - White Salmon 2 - Trout Lake to Green Truss Bridge (Farmlands)\n",
      "published 2270 - White Salmon 3 - Green Truss Bridge to BZ Corners\n",
      "published 3064 - White Salmon 4 - BZ Corner to Buck Creek\n",
      "published 3066 - Canyon Creek (Lewis River trib.) 2 - Fly Creek to Merwin Reservoir\n",
      "published 5199 - Santiam, Little North (Classic Opal) 2\\. Gold Creek to Three Pools\n"
     ]
    }
   ],
   "source": [
    "lyr_reach_line.flush()\n",
    "lyr_reach_centroid.flush()\n",
    "lyr_reach_points.flush()\n",
    "\n",
    "for reach_id in lst_reach_id:\n",
    "    reach = reach_tools.Reach.get_from_aw(reach_id)\n",
    "    reach.update_putin_takeout_and_trace()\n",
    "    reach.publish(gis, lyr_reach_line, lyr_reach_centroid, lyr_reach_points)\n",
    "    print('published', reach.reach_id, '-', reach.river_name, reach.reach_name)"
   ]
  },
  {
   "cell_type": "code",
   "execution_count": 10,
   "metadata": {},
   "outputs": [
    {
     "data": {
      "application/vnd.jupyter.widget-view+json": {
       "model_id": "a531f9d4d48c450580130a7924d9b9b8",
       "version_major": 2,
       "version_minor": 0
      },
      "text/plain": [
       "MapView(layout=Layout(height='400px', width='100%'))"
      ]
     },
     "metadata": {},
     "output_type": "display_data"
    },
    {
     "data": {
      "text/html": [
       "<div class=\"map-static-img-preview-52f9e6e0-2046-4631-be64-ddf5a4aceb36\"><img src=\"\"></img></div>"
      ],
      "text/plain": [
       "<IPython.core.display.HTML object>"
      ]
     },
     "metadata": {},
     "output_type": "display_data"
    }
   ],
   "source": [
    "reach = reach_tools.Reach.get_from_aw(2270)\n",
    "reach.update_putin_takeout_and_trace(webmap=True)"
   ]
  },
  {
   "cell_type": "code",
   "execution_count": null,
   "metadata": {},
   "outputs": [],
   "source": []
  }
 ],
 "metadata": {
  "kernelspec": {
   "display_name": "Python 3",
   "language": "python",
   "name": "python3"
  },
  "language_info": {
   "codemirror_mode": {
    "name": "ipython",
    "version": 3
   },
   "file_extension": ".py",
   "mimetype": "text/x-python",
   "name": "python",
   "nbconvert_exporter": "python",
   "pygments_lexer": "ipython3",
   "version": "3.7.1"
  }
 },
 "nbformat": 4,
 "nbformat_minor": 2
}

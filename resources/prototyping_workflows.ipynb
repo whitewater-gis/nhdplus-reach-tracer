{
 "cells": [
  {
   "cell_type": "code",
   "execution_count": null,
   "metadata": {},
   "outputs": [],
   "source": [
    "url = \"https://ofmpub.epa.gov/waters10/UpstreamDownStream.Service\"\n",
    "\n",
    "queryString = {\n",
    "    \"pNavigationType\": \"DM\",  # Downstream Main\n",
    "    \"pStartComID\": putin_point[\"id\"],\n",
    "    \"pStartMeasure\": putin_point[\"measure\"],\n",
    "    \"pFlowlinelist\": True,\n",
    "    \"pTraversalSummary\": True,\n",
    "    \"pStopBottomOfPath\": True,\n",
    "    \"f\": \"json\"\n",
    "}\n",
    "\n",
    "resp = requests.get(url, queryString)\n",
    "\n",
    "return resp"
   ]
  },
  {
   "cell_type": "code",
   "execution_count": 16,
   "metadata": {},
   "outputs": [],
   "source": [
    "from arcgis.geometry import Geometry\n",
    "\n",
    "import pandas as pd\n",
    "from arcgis.features import SpatialDataFrame as SDF\n",
    "from arcgis.features import Feature\n",
    "\n",
    "from arcgis.gis import GIS, Item\n",
    "\n",
    "import reach_tools\n",
    "from importlib import reload"
   ]
  },
  {
   "cell_type": "code",
   "execution_count": 17,
   "metadata": {},
   "outputs": [],
   "source": [
    "validate_csv = r'./access_validate_test.csv'\n",
    "\n",
    "username = 'joel_mccune'\n",
    "access_item_id = '95c2eceb802c41d8b605b2d431c7547e'\n",
    "hydrolne_item_id = 'cddda6482e4540158aa705675b33371c'\n",
    "\n",
    "ldub_reach_id = 2156\n",
    "canyon_reach_id = 3066"
   ]
  },
  {
   "cell_type": "code",
   "execution_count": 18,
   "metadata": {},
   "outputs": [
    {
     "data": {
      "text/html": [
       "GIS @ <a href=\"https://jdm1cc.maps.arcgis.com\">https://jdm1cc.maps.arcgis.com</a>"
      ],
      "text/plain": [
       "<arcgis.gis.GIS at 0x7f7139349710>"
      ]
     },
     "execution_count": 18,
     "metadata": {},
     "output_type": "execute_result"
    }
   ],
   "source": [
    "gis = GIS(username=username)\n",
    "gis"
   ]
  },
  {
   "cell_type": "code",
   "execution_count": 29,
   "metadata": {},
   "outputs": [],
   "source": [
    "reload(reach_tools)\n",
    "access_lyr = reach_tools.AccessFeatureLayer.from_item_id(gis, access_item_id)"
   ]
  },
  {
   "cell_type": "code",
   "execution_count": 31,
   "metadata": {},
   "outputs": [
    {
     "data": {
      "text/plain": [
       "'3066_takeout_null'"
      ]
     },
     "execution_count": 31,
     "metadata": {},
     "output_type": "execute_result"
    }
   ],
   "source": [
    "takeout = access_lyr.get_takeout(canyon_reach_id)\n",
    "takeout.type_id"
   ]
  },
  {
   "cell_type": "code",
   "execution_count": 32,
   "metadata": {},
   "outputs": [
    {
     "data": {
      "text/plain": [
       "'Canyon_putin'"
      ]
     },
     "execution_count": 32,
     "metadata": {},
     "output_type": "execute_result"
    }
   ],
   "source": [
    "'_'.join(filter(None, ['Canyon', None, 'putin']))"
   ]
  },
  {
   "cell_type": "code",
   "execution_count": null,
   "metadata": {},
   "outputs": [],
   "source": []
  }
 ],
 "metadata": {
  "kernelspec": {
   "display_name": "Python 3",
   "language": "python",
   "name": "python3"
  },
  "language_info": {
   "codemirror_mode": {
    "name": "ipython",
    "version": 3
   },
   "file_extension": ".py",
   "mimetype": "text/x-python",
   "name": "python",
   "nbconvert_exporter": "python",
   "pygments_lexer": "ipython3",
   "version": "3.5.5"
  }
 },
 "nbformat": 4,
 "nbformat_minor": 2
}

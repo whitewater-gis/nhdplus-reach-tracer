{
 "cells": [
  {
   "cell_type": "code",
   "execution_count": 1,
   "metadata": {},
   "outputs": [],
   "source": [
    "from arcgis.gis import GIS, Item\n",
    "import pandas as pd\n",
    "\n",
    "import sys\n",
    "sys.path.append('..')\n",
    "\n",
    "import geometry_monkeypatch\n",
    "from reach_tools import *"
   ]
  },
  {
   "cell_type": "code",
   "execution_count": 2,
   "metadata": {},
   "outputs": [],
   "source": [
    "url_reach_line = r'https://services5.arcgis.com/12oODIpfxlRR11MF/arcgis/rest/services/Reach_Line/FeatureServer/0'\n",
    "url_reach_centroid = r'https://services5.arcgis.com/12oODIpfxlRR11MF/arcgis/rest/services/Reach_Centroid/FeatureServer/0'\n",
    "url_reach_points = r'https://services5.arcgis.com/12oODIpfxlRR11MF/arcgis/rest/services/reach_points/FeatureServer/0'\n",
    "\n",
    "user = 'joel_mccune'\n",
    "\n",
    "lst_reach_id_or = ['10386', '1482', '1484', '3037', '1485', '1483', '10402', '10721', '10390', '10391', '3662', '11033', \n",
    "                '1486', '10910', '10447', '1487', '2726', '2725', '10825', '1488', '10385', '10940', '1489', '3038', \n",
    "                '1490', '1491', '3039', '3078', '10950', '3756', '2728', '3193', '10919', '10401', '11031', '11030', \n",
    "                '10453', '3757', '10450', '10279', '3758', '3195', '10431', '3205', '642', '1492', '1493', '1494', \n",
    "                '4574', '1495', '1496', '3485', '2713', '1497', '3699', '10454', '10811', '10449', '10448', '1498', \n",
    "                '1499', '1500', '11004', '10415', '10416', '1501', '1502', '10921', '11038', '1503', '3759', '10952', \n",
    "                '1504', '3031', '3073', '3074', '10684', '1505', '3075', '10686', '11052', '1506', '4344', '4345', \n",
    "                '4346', '1507', '3084', '10434', '1508', '5782', '10442', '10441', '1509', '10437', '11035', '5426', \n",
    "                '10458', '10459', '10393', '1510', '3197', '10947', '10945', '10418', '1511', '2721', '10443', \n",
    "                '10398', '10445', '10399', '10388', '1512', '3079', '1523', '1513', '3080', '3081', '3082', '3083', \n",
    "                '2120', '1514', '10818', '10389', '3760', '4296', '2871', '10439', '10440', '10446', '1516', '1515', \n",
    "                '2870', '2868', '4312', '1517', '11057', '2539', '3199', '3200', '3175', '3035', '1519', '10432', \n",
    "                '1518', '3034', '10433', '1520', '4298', '10438', '1521', '1522', '3858', '3169', '10400', '1524', \n",
    "                '10959', '2727', '10948', '10995', '10819', '10812', '3210', '10946', '3211', '10396', '2714', \n",
    "                '11036', '10421', '3201', '1525', '10397', '10395', '1528', '4510', '4508', '10889', '10888', '1526', \n",
    "                '1527', '1529', '1530', '1531', '1532', '4784', '3762', '1534', '3763', '2712', '1533', '5021', \n",
    "                '10423', '10460', '10424', '3648', '3690', '10270', '1535', '1536', '1537', '10430', '10461', \n",
    "                '10817', '582', '580', '3764', '1538', '11096', '10810', '10435', '10462', '3204', '1539', '10464', \n",
    "                '10820', '3212', '10392', '3643', '10465', '3666', '10417', '3461', '5019', '3196', '4023', '10452', \n",
    "                '5068', '1540', '5069', '5070', '1541', '5071', '10411', '2724', '1542', '10824', '2716', '10457', \n",
    "                '3191', '10420', '10412', '3032', '1543', '1544', '1545', '1546', '5199', '5201', '5200', '3761', \n",
    "                '1547', '1548', '1549', '1550', '1551', '1552', '10427', '10429', '10467', '10456', '1554', '1553', \n",
    "                '10425', '10436', '3766', '10823', '10408', '10409', '1555', '10413', '3448', '3447', '10414', '1556',\n",
    "                '11045', '10816', '4509', '633', '634', '3449', '10813', '3646', '3033', '10394', '3208', '10826', \n",
    "                '1558', '1559', '3076', '3077', '10444', '4690', '1561', '1562', '10794', '10422', '10973', '10455', \n",
    "                '3767', '3771', '3770', '3768', '3769', '1560', '3772', '10821', '10822', '1563', '3036', '1564', \n",
    "                '3951', '3041', '1566', '1567', '1568', '5020', '1565', '2723', '10815', '10468', '11029', '1570', \n",
    "                '2709', '2711', '2708', '1569', '10273', '3209', '1571', '10387', '3773']"
   ]
  },
  {
   "cell_type": "code",
   "execution_count": 3,
   "metadata": {},
   "outputs": [
    {
     "name": "stdout",
     "output_type": "stream",
     "text": [
      "Enter password: ········\n"
     ]
    },
    {
     "data": {
      "text/html": [
       "GIS @ <a href=\"https://jdm1cc.maps.arcgis.com\">https://jdm1cc.maps.arcgis.com</a>"
      ],
      "text/plain": [
       "<arcgis.gis.GIS at 0x124c1ac88>"
      ]
     },
     "execution_count": 3,
     "metadata": {},
     "output_type": "execute_result"
    }
   ],
   "source": [
    "gis = GIS(username=user)\n",
    "gis"
   ]
  },
  {
   "cell_type": "code",
   "execution_count": 4,
   "metadata": {},
   "outputs": [],
   "source": [
    "lyr_reach_line = ReachFeatureLayer(url_reach_line, gis)\n",
    "lyr_reach_centroid = ReachFeatureLayer(url_reach_centroid, gis)\n",
    "lyr_reach_points = ReachPointFeatureLayer(url_reach_points, gis)"
   ]
  },
  {
   "cell_type": "code",
   "execution_count": 5,
   "metadata": {},
   "outputs": [
    {
     "name": "stdout",
     "output_type": "stream",
     "text": [
      "49\n",
      "330\n",
      "286\n"
     ]
    },
    {
     "name": "stderr",
     "output_type": "stream",
     "text": [
      "/anaconda3/envs/arcgis-dev/lib/python3.6/site-packages/arcgis/features/_data/geodataset/geodataframe.py:1879: FutureWarning: set_value is deprecated and will be removed in a future release. Please use .at[] or .iat[] accessors instead\n",
      "  frame.set_value(index=idx, col=self._geometry_column_name, value=g)\n"
     ]
    }
   ],
   "source": [
    "lyr_fs = lyr_reach_centroid.query(out_fields='reach_id', return_geometry=False, return_distinct_values=True)\n",
    "lst_existing_reach_id = list(lyr_fs.df['reach_id'].values)\n",
    "\n",
    "print(len(lst_existing_reach_id))\n",
    "print(len(lst_reach_id_or))\n",
    "lst_upload_reach_id = [reach_id for reach_id in lst_reach_id_or if reach_id not in lst_existing_reach_id]\n",
    "print(len(lst_upload_reach_id))"
   ]
  },
  {
   "cell_type": "code",
   "execution_count": 6,
   "metadata": {},
   "outputs": [
    {
     "name": "stdout",
     "output_type": "stream",
     "text": [
      "reach_id 3205\n",
      "retrieved 3205 - Clackamas, Oak Grove Fork Lower Five Miles to Clackamas River\n"
     ]
    },
    {
     "ename": "TypeError",
     "evalue": "'NoneType' object is not subscriptable",
     "output_type": "error",
     "traceback": [
      "\u001b[0;31m---------------------------------------------------------------------------\u001b[0m",
      "\u001b[0;31mTypeError\u001b[0m                                 Traceback (most recent call last)",
      "\u001b[0;32m<ipython-input-6-02be94925847>\u001b[0m in \u001b[0;36m<module>\u001b[0;34m\u001b[0m\n\u001b[1;32m      3\u001b[0m     \u001b[0mreach\u001b[0m \u001b[0;34m=\u001b[0m \u001b[0mReach\u001b[0m\u001b[0;34m.\u001b[0m\u001b[0mget_from_aw\u001b[0m\u001b[0;34m(\u001b[0m\u001b[0mreach_id\u001b[0m\u001b[0;34m)\u001b[0m\u001b[0;34m\u001b[0m\u001b[0m\n\u001b[1;32m      4\u001b[0m     \u001b[0mprint\u001b[0m\u001b[0;34m(\u001b[0m\u001b[0;34m'retrieved'\u001b[0m\u001b[0;34m,\u001b[0m \u001b[0mreach\u001b[0m\u001b[0;34m.\u001b[0m\u001b[0mreach_id\u001b[0m\u001b[0;34m,\u001b[0m \u001b[0;34m'-'\u001b[0m\u001b[0;34m,\u001b[0m \u001b[0mreach\u001b[0m\u001b[0;34m.\u001b[0m\u001b[0mriver_name\u001b[0m\u001b[0;34m,\u001b[0m \u001b[0mreach\u001b[0m\u001b[0;34m.\u001b[0m\u001b[0mreach_name\u001b[0m\u001b[0;34m)\u001b[0m\u001b[0;34m\u001b[0m\u001b[0m\n\u001b[0;32m----> 5\u001b[0;31m     \u001b[0mreach\u001b[0m\u001b[0;34m.\u001b[0m\u001b[0mupdate_putin_takeout_and_trace\u001b[0m\u001b[0;34m(\u001b[0m\u001b[0;34m)\u001b[0m\u001b[0;34m\u001b[0m\u001b[0m\n\u001b[0m\u001b[1;32m      6\u001b[0m     \u001b[0mprint\u001b[0m\u001b[0;34m(\u001b[0m\u001b[0;34m'\\ttraced'\u001b[0m\u001b[0;34m,\u001b[0m \u001b[0mreach\u001b[0m\u001b[0;34m.\u001b[0m\u001b[0mreach_id\u001b[0m\u001b[0;34m)\u001b[0m\u001b[0;34m\u001b[0m\u001b[0m\n\u001b[1;32m      7\u001b[0m     \u001b[0mreach\u001b[0m\u001b[0;34m.\u001b[0m\u001b[0mpublish\u001b[0m\u001b[0;34m(\u001b[0m\u001b[0mgis\u001b[0m\u001b[0;34m,\u001b[0m \u001b[0mlyr_reach_line\u001b[0m\u001b[0;34m,\u001b[0m \u001b[0mlyr_reach_centroid\u001b[0m\u001b[0;34m,\u001b[0m \u001b[0mlyr_reach_points\u001b[0m\u001b[0;34m)\u001b[0m\u001b[0;34m\u001b[0m\u001b[0m\n",
      "\u001b[0;32m~/dev/nhdplus-reach-tracer/reach_tools.py\u001b[0m in \u001b[0;36mupdate_putin_takeout_and_trace\u001b[0;34m(self, webmap)\u001b[0m\n\u001b[1;32m    637\u001b[0m         \u001b[0mwaters\u001b[0m \u001b[0;34m=\u001b[0m \u001b[0mWATERS\u001b[0m\u001b[0;34m(\u001b[0m\u001b[0;34m)\u001b[0m\u001b[0;34m\u001b[0m\u001b[0m\n\u001b[1;32m    638\u001b[0m         trace_polyline = waters.get_downstream_navigation_polyline(self.putin.nhdplus_reach_id,\n\u001b[0;32m--> 639\u001b[0;31m                                                                    self.putin.nhdplus_measure)\n\u001b[0m\u001b[1;32m    640\u001b[0m \u001b[0;34m\u001b[0m\u001b[0m\n\u001b[1;32m    641\u001b[0m         \u001b[0;31m# project the takeout geometry to the same spatial reference as the trace polyline\u001b[0m\u001b[0;34m\u001b[0m\u001b[0;34m\u001b[0m\u001b[0m\n",
      "\u001b[0;32m~/dev/nhdplus-reach-tracer/reach_tools.py\u001b[0m in \u001b[0;36mget_downstream_navigation_polyline\u001b[0;34m(self, putin_epa_reach_id, putin_epa_measure)\u001b[0m\n\u001b[1;32m    258\u001b[0m         \"\"\"\n\u001b[1;32m    259\u001b[0m         \u001b[0mresp\u001b[0m \u001b[0;34m=\u001b[0m \u001b[0mself\u001b[0m\u001b[0;34m.\u001b[0m\u001b[0m_get_epa_downstream_navigation_response\u001b[0m\u001b[0;34m(\u001b[0m\u001b[0mputin_epa_reach_id\u001b[0m\u001b[0;34m,\u001b[0m \u001b[0mputin_epa_measure\u001b[0m\u001b[0;34m)\u001b[0m\u001b[0;34m\u001b[0m\u001b[0m\n\u001b[0;32m--> 260\u001b[0;31m         \u001b[0;32mreturn\u001b[0m \u001b[0mself\u001b[0m\u001b[0;34m.\u001b[0m\u001b[0m_epa_navigation_response_to_esri_polyline\u001b[0m\u001b[0;34m(\u001b[0m\u001b[0mresp\u001b[0m\u001b[0;34m)\u001b[0m\u001b[0;34m\u001b[0m\u001b[0m\n\u001b[0m\u001b[1;32m    261\u001b[0m \u001b[0;34m\u001b[0m\u001b[0m\n\u001b[1;32m    262\u001b[0m     \u001b[0;32mdef\u001b[0m \u001b[0mget_updown_ptp_polyline\u001b[0m\u001b[0;34m(\u001b[0m\u001b[0mself\u001b[0m\u001b[0;34m,\u001b[0m \u001b[0mputin_epa_reach_id\u001b[0m\u001b[0;34m,\u001b[0m \u001b[0mputin_epa_measure\u001b[0m\u001b[0;34m,\u001b[0m \u001b[0mtakeout_epa_reach_id\u001b[0m\u001b[0;34m,\u001b[0m \u001b[0mtakeout_epa_measure\u001b[0m\u001b[0;34m)\u001b[0m\u001b[0;34m:\u001b[0m\u001b[0;34m\u001b[0m\u001b[0m\n",
      "\u001b[0;32m~/dev/nhdplus-reach-tracer/reach_tools.py\u001b[0m in \u001b[0;36m_epa_navigation_response_to_esri_polyline\u001b[0;34m(navigation_response)\u001b[0m\n\u001b[1;32m    205\u001b[0m \u001b[0;34m\u001b[0m\u001b[0m\n\u001b[1;32m    206\u001b[0m         \u001b[0;31m# if any flowlines were found, combine all the coordinate pairs into a single continuous line\u001b[0m\u001b[0;34m\u001b[0m\u001b[0;34m\u001b[0m\u001b[0m\n\u001b[0;32m--> 207\u001b[0;31m         \u001b[0;32mif\u001b[0m \u001b[0mresp_json\u001b[0m\u001b[0;34m[\u001b[0m\u001b[0;34m'output'\u001b[0m\u001b[0;34m]\u001b[0m\u001b[0;34m[\u001b[0m\u001b[0;34m'ntNavResultsStandard'\u001b[0m\u001b[0;34m]\u001b[0m\u001b[0;34m:\u001b[0m\u001b[0;34m\u001b[0m\u001b[0m\n\u001b[0m\u001b[1;32m    208\u001b[0m \u001b[0;34m\u001b[0m\u001b[0m\n\u001b[1;32m    209\u001b[0m             \u001b[0;31m# extract the dict descriptions of the geometries and convert to Shapely geometries\u001b[0m\u001b[0;34m\u001b[0m\u001b[0;34m\u001b[0m\u001b[0m\n",
      "\u001b[0;31mTypeError\u001b[0m: 'NoneType' object is not subscriptable"
     ]
    }
   ],
   "source": [
    "for reach_id in lst_upload_reach_id:\n",
    "    print('reach_id', reach_id)\n",
    "    reach = Reach.get_from_aw(reach_id)\n",
    "    print('retrieved', reach.reach_id, '-', reach.river_name, reach.reach_name)\n",
    "    reach.update_putin_takeout_and_trace()\n",
    "    print('\\ttraced', reach.reach_id)\n",
    "    reach.publish(gis, lyr_reach_line, lyr_reach_centroid, lyr_reach_points)\n",
    "    print('\\tpublished', reach.reach_id)"
   ]
  },
  {
   "cell_type": "code",
   "execution_count": 11,
   "metadata": {},
   "outputs": [],
   "source": [
    "reach = Reach.get_from_aw(3205)"
   ]
  },
  {
   "cell_type": "code",
   "execution_count": 12,
   "metadata": {},
   "outputs": [],
   "source": [
    "reach.agency"
   ]
  },
  {
   "cell_type": "code",
   "execution_count": 11,
   "metadata": {},
   "outputs": [],
   "source": [
    "raw_json = reach._download_raw_json_from_aw()"
   ]
  },
  {
   "cell_type": "code",
   "execution_count": 14,
   "metadata": {},
   "outputs": [
    {
     "data": {
      "text/plain": [
       "True"
      ]
     },
     "execution_count": 14,
     "metadata": {},
     "output_type": "execute_result"
    }
   ],
   "source": [
    "raw_json['CContainerViewJSON_view']['CRiverMainGadgetJSON_main']['info']['agency'] == None"
   ]
  },
  {
   "cell_type": "code",
   "execution_count": 9,
   "metadata": {},
   "outputs": [
    {
     "data": {
      "text/plain": [
       "{'CContainerViewJSON_view': {'CRiverMainGadgetJSON_main': {'info': {'id': 3205,\n",
       "    'river': 'Clackamas, Oak Grove Fork',\n",
       "    'section': 'Lower Five Miles to Clackamas River',\n",
       "    'altname': None,\n",
       "    'county': 'Clackamas',\n",
       "    'zipcode': '260',\n",
       "    'length': '5',\n",
       "    'avggradient': 132,\n",
       "    'maxgradient': 160,\n",
       "    'agency': None,\n",
       "    'gaugeinfo': None,\n",
       "    'description': '<p>\\n\\tGradient, mile-by-mile: 160, 140, 160, 100, 100. See the description of a flow study, conducted 10/24/01, on Jason Rackley&#39;s excellent <a href=\"http://www.oregonkayaking.net/rivers/oakgrove/\\noakgrove.html\">Oregon Kayaking</a> site.</p>\\n<p>\\n\\t&nbsp;</p>\\n<p>\\n\\t&nbsp;</p>\\n',\n",
       "    'photoid': 0,\n",
       "    'permitid': None,\n",
       "    'huc': '17090011',\n",
       "    'plat': '45.0750007629395',\n",
       "    'plon': '-121.96900177002',\n",
       "    'prrn': None,\n",
       "    'tlat': '45.0746994018555',\n",
       "    'tlon': '-122.051002502441',\n",
       "    'trrn': None,\n",
       "    'skid': 152640,\n",
       "    'status': 'u',\n",
       "    'edited': '2015-04-08 00:30:26',\n",
       "    'is_final': True,\n",
       "    'revision': 1204492,\n",
       "    'class': 'III-V(V+)',\n",
       "    'ploc': '0101000020E6100000BC749318047E5EC09A99999999894640',\n",
       "    'tloc': '0101000020E61000002506819543835EC06F8104C58F894640',\n",
       "    'was_final': False,\n",
       "    'thumboverride': False,\n",
       "    'shuttledetails': None,\n",
       "    'abstract': '',\n",
       "    'direction_default': 1,\n",
       "    'custom_destination': None,\n",
       "    'revision_comment': 'updated gauge and description',\n",
       "    'permiturl': '',\n",
       "    'permitinfo': '',\n",
       "    'states': ['USA-ORE'],\n",
       "    'gaugeid': 1},\n",
       "   'photo': None,\n",
       "   'guagesummary': {'gauges': {'4254': {'dhid': 4254,\n",
       "      'id': 666724,\n",
       "      'did': 666724,\n",
       "      'gauge_name': 'OAK GROVE FORK AT RIPPLEBROOK CAMPGROUND, OR',\n",
       "      'updated': '4863.53134',\n",
       "      'epoch': '4863.53134',\n",
       "      'reading': '104',\n",
       "      'gauge_metric': 2,\n",
       "      'gauge_min': '250.0000',\n",
       "      'gauge_max': '500.0000',\n",
       "      'obs_id': 215053499934917,\n",
       "      'gauge_id': 50071,\n",
       "      'gauge_reading': '104',\n",
       "      'last_gauge_reading': '104',\n",
       "      'last_gauge_updated': '3584',\n",
       "      'gauge_comment': '',\n",
       "      'gauge_data': None,\n",
       "      'range_comment': '',\n",
       "      'gauge_perfect': False,\n",
       "      'gauge_estimated': False,\n",
       "      'gauge_important': False,\n",
       "      'range_min': 'R0',\n",
       "      'range_max': 'R9',\n",
       "      'adjusted_reach_class': None,\n",
       "      'targetid': 40395,\n",
       "      'sourceid': 50071,\n",
       "      'metricid': 2,\n",
       "      'min': '250.0000',\n",
       "      'max': '500.0000',\n",
       "      'source': 'usgs',\n",
       "      'source_id': '14209250',\n",
       "      'time_adjustment': 0,\n",
       "      'url': '/content/Gauge2/detail/id/50071/',\n",
       "      'class': 'low',\n",
       "      'rc': -0.584,\n",
       "      'excluded': False,\n",
       "      'rmin': '250.0000',\n",
       "      'rmax': '500.0000'}},\n",
       "    'metrics': {'2': {'shortkey': 'flow',\n",
       "      'unit': 'cfs',\n",
       "      'name': 'Flow',\n",
       "      'id': 2,\n",
       "      'format': '%4.0f',\n",
       "      'sortorder': 10},\n",
       "     '8': {'shortkey': 'stage',\n",
       "      'unit': 'ft',\n",
       "      'name': 'Feet Stage',\n",
       "      'id': 8,\n",
       "      'format': '%3.2f',\n",
       "      'sortorder': 20},\n",
       "     '15': {'shortkey': 'in',\n",
       "      'unit': 'inches',\n",
       "      'name': 'Inches Stage',\n",
       "      'id': 15,\n",
       "      'format': '%4.0f',\n",
       "      'sortorder': 25},\n",
       "     '14': {'shortkey': 'perc',\n",
       "      'unit': '%',\n",
       "      'name': 'Percent',\n",
       "      'id': 14,\n",
       "      'format': '%3.1f',\n",
       "      'sortorder': 30},\n",
       "     '13': {'shortkey': 'mflow',\n",
       "      'unit': 'cm/s',\n",
       "      'name': 'Metric Volumentric Flow ',\n",
       "      'id': 13,\n",
       "      'format': '%3.1f',\n",
       "      'sortorder': 40},\n",
       "     '12': {'shortkey': 'mstag',\n",
       "      'unit': 'm',\n",
       "      'name': 'Meters Stage',\n",
       "      'id': 12,\n",
       "      'format': '%3.2f',\n",
       "      'sortorder': 50},\n",
       "     '10': {'shortkey': 'bflow',\n",
       "      'unit': 'cfs',\n",
       "      'name': 'Alt. Flow',\n",
       "      'id': 10,\n",
       "      'format': '%4.0f',\n",
       "      'sortorder': 60},\n",
       "     '11': {'shortkey': 'bstag',\n",
       "      'unit': 'ft',\n",
       "      'name': 'Alt. Stage in Feet',\n",
       "      'id': 11,\n",
       "      'format': '%3.2f',\n",
       "      'sortorder': 65},\n",
       "     '9': {'shortkey': 'temp',\n",
       "      'unit': '? F',\n",
       "      'name': 'Temperature',\n",
       "      'id': 9,\n",
       "      'format': '%3.0f',\n",
       "      'sortorder': 75},\n",
       "     '4': {'shortkey': 'pc15m',\n",
       "      'unit': 'in/15min',\n",
       "      'name': 'Precip. in 15m',\n",
       "      'id': 4,\n",
       "      'format': '%2.2f',\n",
       "      'sortorder': 80},\n",
       "     '6': {'shortkey': 'pc6h',\n",
       "      'unit': 'in/6h',\n",
       "      'name': 'Precip. in 6h',\n",
       "      'id': 6,\n",
       "      'format': '%2.1f',\n",
       "      'sortorder': 83},\n",
       "     '3': {'shortkey': 'pc12h',\n",
       "      'unit': 'in/12h',\n",
       "      'name': 'Precip. in 12h',\n",
       "      'id': 3,\n",
       "      'format': '%2.1f',\n",
       "      'sortorder': 86},\n",
       "     '5': {'shortkey': 'pc24h',\n",
       "      'unit': 'in/24h',\n",
       "      'name': 'Precip. in 24h',\n",
       "      'id': 5,\n",
       "      'format': '%2.1f',\n",
       "      'sortorder': 89},\n",
       "     '7': {'shortkey': 'pccum',\n",
       "      'unit': 'in/yr',\n",
       "      'name': 'Yearly Precip.',\n",
       "      'id': 7,\n",
       "      'format': '%3.1f',\n",
       "      'sortorder': 93},\n",
       "     '1': {'shortkey': 'corr',\n",
       "      'unit': 'r.c.',\n",
       "      'name': 'Status',\n",
       "      'id': 1,\n",
       "      'format': '%1.1f',\n",
       "      'sortorder': 99}},\n",
       "    'ranges': [{'dhid': 4254,\n",
       "      'id': 666724,\n",
       "      'did': 666724,\n",
       "      'gauge_name': 'OAK GROVE FORK AT RIPPLEBROOK CAMPGROUND, OR',\n",
       "      'updated': '4863.53134',\n",
       "      'epoch': '4863.53134',\n",
       "      'reading': '104',\n",
       "      'gauge_metric': 2,\n",
       "      'gauge_min': '250.0000',\n",
       "      'gauge_max': '500.0000',\n",
       "      'obs_id': 215053499934917,\n",
       "      'gauge_id': 50071,\n",
       "      'gauge_reading': '104',\n",
       "      'last_gauge_reading': '104',\n",
       "      'last_gauge_updated': '3584',\n",
       "      'gauge_comment': '',\n",
       "      'gauge_data': None,\n",
       "      'range_comment': '',\n",
       "      'gauge_perfect': False,\n",
       "      'gauge_estimated': False,\n",
       "      'gauge_important': False,\n",
       "      'range_min': 'R0',\n",
       "      'range_max': 'R9',\n",
       "      'adjusted_reach_class': None,\n",
       "      'targetid': 40395,\n",
       "      'sourceid': 50071,\n",
       "      'metricid': 2,\n",
       "      'min': '250.0000',\n",
       "      'max': '500.0000',\n",
       "      'source': 'usgs',\n",
       "      'source_id': '14209250',\n",
       "      'time_adjustment': 0}],\n",
       "    'default_class': 'III-V(V+)'},\n",
       "   'gauges': [{'dhid': 4254,\n",
       "     'id': 666724,\n",
       "     'did': 666724,\n",
       "     'gauge_name': 'OAK GROVE FORK AT RIPPLEBROOK CAMPGROUND, OR',\n",
       "     'updated': '4863.53134',\n",
       "     'epoch': '4863.53134',\n",
       "     'reading': '104',\n",
       "     'gauge_metric': 2,\n",
       "     'gauge_min': '250.0000',\n",
       "     'gauge_max': '500.0000',\n",
       "     'obs_id': 215053499934917,\n",
       "     'gauge_id': 50071,\n",
       "     'gauge_reading': '104',\n",
       "     'last_gauge_reading': '104',\n",
       "     'last_gauge_updated': '3584',\n",
       "     'gauge_comment': '',\n",
       "     'gauge_data': None,\n",
       "     'range_comment': '',\n",
       "     'gauge_perfect': False,\n",
       "     'gauge_estimated': False,\n",
       "     'gauge_important': False,\n",
       "     'range_min': 'R0',\n",
       "     'range_max': 'R9',\n",
       "     'adjusted_reach_class': None,\n",
       "     'targetid': 40395,\n",
       "     'sourceid': 50071,\n",
       "     'metricid': 2,\n",
       "     'min': '250.0000',\n",
       "     'max': '500.0000',\n",
       "     'source': 'usgs',\n",
       "     'source_id': '14209250',\n",
       "     'time_adjustment': 0}]},\n",
       "  'CRiverRapidsGadgetJSON_view-rapids': {'rapids': []}}}"
      ]
     },
     "execution_count": 9,
     "metadata": {},
     "output_type": "execute_result"
    }
   ],
   "source": [
    "reach."
   ]
  },
  {
   "cell_type": "code",
   "execution_count": 19,
   "metadata": {},
   "outputs": [
    {
     "data": {
      "text/plain": [
       "'An easy float not far from Cottage Grove with convenient access. There are a\\nnumber of fun bedrock rapids, and a couple trees to watch out for. The riparian area is thick in tree diversity, and these trees lean out over\\nthe stream creating an intimate scene. For a shorter run, use one of the roadside pull-outs just upstream of Martin\\nCreek. To gauge flows, go to this site:\\n<http://www.nwp.usace.army.mil/Missions/Water.aspx> At the bottom is \"flood and risk management\". This will take you to a map of\\nWillamette Valley gauges. The gauge for this creek is the Coast Fork\\nWillamette near London Springs, the furthest south gauge on the map. <http://www.nwp.usace.army.mil/Water.aspx> 3/23/18 was a nice, friendly medium flow. The stream could handle a lot more\\nwater.'"
      ]
     },
     "execution_count": 19,
     "metadata": {},
     "output_type": "execute_result"
    }
   ],
   "source": []
  },
  {
   "cell_type": "code",
   "execution_count": null,
   "metadata": {},
   "outputs": [],
   "source": []
  }
 ],
 "metadata": {
  "kernelspec": {
   "display_name": "Python 3",
   "language": "python",
   "name": "python3"
  },
  "language_info": {
   "codemirror_mode": {
    "name": "ipython",
    "version": 3
   },
   "file_extension": ".py",
   "mimetype": "text/x-python",
   "name": "python",
   "nbconvert_exporter": "python",
   "pygments_lexer": "ipython3",
   "version": "3.6.6"
  }
 },
 "nbformat": 4,
 "nbformat_minor": 2
}

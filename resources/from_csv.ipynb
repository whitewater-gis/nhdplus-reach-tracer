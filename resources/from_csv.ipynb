{
 "cells": [
  {
   "cell_type": "code",
   "execution_count": 10,
   "metadata": {},
   "outputs": [],
   "source": [
    "from arcgis.features import GeoAccessor, GeoSeriesAccessor\n",
    "from arcgis.geometry import Geometry\n",
    "import pandas as pd\n",
    "from pandas.io.parsers import read_table"
   ]
  },
  {
   "cell_type": "code",
   "execution_count": 23,
   "metadata": {},
   "outputs": [],
   "source": [
    "csv_path = './access_raw20180612.csv'\n",
    "geometry_column = 'SHAPE'\n",
    "spatial_reference = {'wkid': 4326}  # WGS84"
   ]
  },
  {
   "cell_type": "code",
   "execution_count": 45,
   "metadata": {},
   "outputs": [],
   "source": [
    "# read data in using read_csv parser\n",
    "df = pd.io.parsers.read_table(csv_path, header=0, sep=',', index_col=0)\n",
    "\n",
    "# convert geomery from string to dictionary\n",
    "df[geometry_column] = df[geometry_column].apply(lambda geom: Geometry(eval(geom)))\n",
    "    \n",
    "# set the geometry\n",
    "df.spatial.set_geometry(geometry_column)"
   ]
  },
  {
   "cell_type": "code",
   "execution_count": 49,
   "metadata": {},
   "outputs": [
    {
     "name": "stdout",
     "output_type": "stream",
     "text": [
      "<class 'pandas.core.frame.DataFrame'>\n",
      "Int64Index: 9820 entries, 0 to 9819\n",
      "Data columns (total 20 columns):\n",
      "OBJECTID              9820 non-null int64\n",
      "collection_method     0 non-null float64\n",
      "created_date          0 non-null float64\n",
      "created_user          0 non-null float64\n",
      "difficulty            9814 non-null object\n",
      "difficulty_max        9814 non-null object\n",
      "difficulty_min        6271 non-null object\n",
      "difficulty_outlier    1654 non-null object\n",
      "last_edited_date      0 non-null float64\n",
      "last_edited_user      0 non-null float64\n",
      "name                  513 non-null object\n",
      "name_common           1811 non-null object\n",
      "name_river            9814 non-null object\n",
      "name_section          9812 non-null object\n",
      "nav_link_aw           9820 non-null object\n",
      "notes                 7 non-null object\n",
      "reach_id              9820 non-null int64\n",
      "side_of_river         0 non-null float64\n",
      "type                  9820 non-null object\n",
      "SHAPE                 9820 non-null geometry\n",
      "dtypes: float64(6), geometry(1), int64(2), object(11)\n",
      "memory usage: 1.9+ MB\n"
     ]
    }
   ],
   "source": [
    "new_df = pd.DataFrame(df)"
   ]
  },
  {
   "cell_type": "code",
   "execution_count": null,
   "metadata": {},
   "outputs": [],
   "source": [
    "class ReachAccessesSDF(pd.DataFrame):\n",
    "\n",
    "    @classmethod\n",
    "    def from_csv(cls, path, header=0, sep=',', index_col=0,\n",
    "                 parse_dates=True, encoding=None, tupleize_cols=None,\n",
    "                 infer_datetime_format=False, geometry_column='SHAPE'):\n",
    "        \"\"\"\n",
    "        Read a CSV file and create a ReachAccessesSDF object instance. This table must\n",
    "            contain a field named \"reach_id\" and another containing the geometry for\n",
    "            the accesses.\n",
    "        :param path: string file path or file handle / StringIO\n",
    "        :param header: int, default 0\n",
    "            Row to use as header (skip prior rows)\n",
    "        :param sep: string, default ','\n",
    "            Field delimiter\n",
    "        :param index_col: int or sequence, default 0\n",
    "            Column to use for index. If a sequence is given, a MultiIndex\n",
    "            is used. Different default from read_table\n",
    "        :param parse_dates: boolean, default True\n",
    "            Parse dates. Different default from read_table\n",
    "        :param encoding:\n",
    "        :param tupleize_cols: boolean, default False\n",
    "            write multi_index columns as a list of tuples (if True)\n",
    "            or new (expanded format) if False)\n",
    "        :param infer_datetime_format: boolean, default False\n",
    "            If True and `parse_dates` is True for a column, try to infer the\n",
    "            datetime format based on the first datetime string. If the format\n",
    "            can be inferred, there often will be a large parsing speed-up.\n",
    "        :param geometry_column: string, default 'SHAPE'\n",
    "            Column containing the geometry.\n",
    "        :return: ReachesSDF\n",
    "        \"\"\"\n",
    "        from pandas.io.parsers import read_table\n",
    "\n",
    "        df = read_table(path, header=header, sep=sep, parse_dates=parse_dates, index_col=index_col, encoding=encoding,\n",
    "                        tupleize_cols=tupleize_cols, infer_datetime_format=infer_datetime_format)\n",
    "\n",
    "        reach_id_field = 'reach_id'\n",
    "\n",
    "        # check for necessary fields\n",
    "        if reach_id_field not in df.columns:\n",
    "            raise Exception('input table must contain the {} field'.format(reach_id_field))\n",
    "        if geometry_column not in df.columns:\n",
    "            raise Exception('input table does not contain a geometry column named {}'.format(geometry_column))\n",
    "\n",
    "        # ensure the reach_id field is a string\n",
    "        if df[reach_id_field].dtype != object:\n",
    "            df[reach_id_field] = df[reach_id_field].astype(str)\n",
    "            \n",
    "        # create \n",
    "\n",
    "        # return a copy of this class with the data populated\n",
    "        return cls(\n",
    "            data=df[[col for col in df.columns if col != geometry_column]],\n",
    "            geometry=df[geometry_column].apply(lambda value: Geometry(eval(value)))\n",
    "        )"
   ]
  }
 ],
 "metadata": {
  "kernelspec": {
   "display_name": "Python 3",
   "language": "python",
   "name": "python3"
  },
  "language_info": {
   "codemirror_mode": {
    "name": "ipython",
    "version": 3
   },
   "file_extension": ".py",
   "mimetype": "text/x-python",
   "name": "python",
   "nbconvert_exporter": "python",
   "pygments_lexer": "ipython3",
   "version": "3.5.5"
  }
 },
 "nbformat": 4,
 "nbformat_minor": 2
}

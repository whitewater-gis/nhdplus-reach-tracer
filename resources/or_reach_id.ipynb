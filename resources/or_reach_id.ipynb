{
 "cells": [
  {
   "cell_type": "code",
   "execution_count": 1,
   "metadata": {},
   "outputs": [],
   "source": [
    "import pandas as pd\n",
    "import re"
   ]
  },
  {
   "cell_type": "code",
   "execution_count": 5,
   "metadata": {},
   "outputs": [],
   "source": [
    "file_path = './aw_or_links.csv'"
   ]
  },
  {
   "cell_type": "code",
   "execution_count": 6,
   "metadata": {},
   "outputs": [],
   "source": [
    "regex = re.compile('\\/content\\/River\\/detail\\/id\\/(?P<reach_id>\\d+)\\/')"
   ]
  },
  {
   "cell_type": "code",
   "execution_count": 16,
   "metadata": {},
   "outputs": [
    {
     "data": {
      "text/html": [
       "<div>\n",
       "<style scoped>\n",
       "    .dataframe tbody tr th:only-of-type {\n",
       "        vertical-align: middle;\n",
       "    }\n",
       "\n",
       "    .dataframe tbody tr th {\n",
       "        vertical-align: top;\n",
       "    }\n",
       "\n",
       "    .dataframe thead th {\n",
       "        text-align: right;\n",
       "    }\n",
       "</style>\n",
       "<table border=\"1\" class=\"dataframe\">\n",
       "  <thead>\n",
       "    <tr style=\"text-align: right;\">\n",
       "      <th></th>\n",
       "      <th>URL</th>\n",
       "      <th>Text</th>\n",
       "    </tr>\n",
       "  </thead>\n",
       "  <tbody>\n",
       "    <tr>\n",
       "      <th>0</th>\n",
       "      <td>/</td>\n",
       "      <td>NaN</td>\n",
       "    </tr>\n",
       "    <tr>\n",
       "      <th>1</th>\n",
       "      <td>/content/Membership/get-password/**cir3c80bMx</td>\n",
       "      <td>Forgot your password?</td>\n",
       "    </tr>\n",
       "    <tr>\n",
       "      <th>2</th>\n",
       "      <td>/content/Membership/view/</td>\n",
       "      <td>Sign Up</td>\n",
       "    </tr>\n",
       "    <tr>\n",
       "      <th>3</th>\n",
       "      <td>/content/Welcome/view/</td>\n",
       "      <td>Our Organization</td>\n",
       "    </tr>\n",
       "    <tr>\n",
       "      <th>4</th>\n",
       "      <td>/content/Wiki/aw:about/</td>\n",
       "      <td>About AW</td>\n",
       "    </tr>\n",
       "  </tbody>\n",
       "</table>\n",
       "</div>"
      ],
      "text/plain": [
       "                                             URL                   Text\n",
       "0                                              /                    NaN\n",
       "1  /content/Membership/get-password/**cir3c80bMx  Forgot your password?\n",
       "2                      /content/Membership/view/                Sign Up\n",
       "3                         /content/Welcome/view/       Our Organization\n",
       "4                        /content/Wiki/aw:about/               About AW"
      ]
     },
     "execution_count": 16,
     "metadata": {},
     "output_type": "execute_result"
    }
   ],
   "source": [
    "df = pd.read_csv(file_path)\n",
    "df.head()"
   ]
  },
  {
   "cell_type": "code",
   "execution_count": 17,
   "metadata": {},
   "outputs": [
    {
     "data": {
      "text/html": [
       "<div>\n",
       "<style scoped>\n",
       "    .dataframe tbody tr th:only-of-type {\n",
       "        vertical-align: middle;\n",
       "    }\n",
       "\n",
       "    .dataframe tbody tr th {\n",
       "        vertical-align: top;\n",
       "    }\n",
       "\n",
       "    .dataframe thead th {\n",
       "        text-align: right;\n",
       "    }\n",
       "</style>\n",
       "<table border=\"1\" class=\"dataframe\">\n",
       "  <thead>\n",
       "    <tr style=\"text-align: right;\">\n",
       "      <th></th>\n",
       "      <th>URL</th>\n",
       "      <th>Text</th>\n",
       "    </tr>\n",
       "  </thead>\n",
       "  <tbody>\n",
       "    <tr>\n",
       "      <th>47</th>\n",
       "      <td>/content/River/detail/id/10386/</td>\n",
       "      <td>Abiqua Creek</td>\n",
       "    </tr>\n",
       "    <tr>\n",
       "      <th>48</th>\n",
       "      <td>/content/River/detail/id/10386/</td>\n",
       "      <td>1. Crooked Finder Spur Road to Abiqua Falls</td>\n",
       "    </tr>\n",
       "    <tr>\n",
       "      <th>52</th>\n",
       "      <td>/content/River/detail/id/1482/</td>\n",
       "      <td>Abiqua Creek</td>\n",
       "    </tr>\n",
       "    <tr>\n",
       "      <th>53</th>\n",
       "      <td>/content/River/detail/id/1482/</td>\n",
       "      <td>2. Abiqua Falls to Abiqua Road</td>\n",
       "    </tr>\n",
       "    <tr>\n",
       "      <th>57</th>\n",
       "      <td>/content/River/detail/id/1484/</td>\n",
       "      <td>Alsea, N. Fork</td>\n",
       "    </tr>\n",
       "  </tbody>\n",
       "</table>\n",
       "</div>"
      ],
      "text/plain": [
       "                                URL  \\\n",
       "47  /content/River/detail/id/10386/   \n",
       "48  /content/River/detail/id/10386/   \n",
       "52   /content/River/detail/id/1482/   \n",
       "53   /content/River/detail/id/1482/   \n",
       "57   /content/River/detail/id/1484/   \n",
       "\n",
       "                                           Text  \n",
       "47                                 Abiqua Creek  \n",
       "48  1. Crooked Finder Spur Road to Abiqua Falls  \n",
       "52                                 Abiqua Creek  \n",
       "53               2. Abiqua Falls to Abiqua Road  \n",
       "57                               Alsea, N. Fork  "
      ]
     },
     "execution_count": 17,
     "metadata": {},
     "output_type": "execute_result"
    }
   ],
   "source": [
    "df = df[df.URL.apply(lambda val: regex.match(val) is not None)].copy()\n",
    "df.head()"
   ]
  },
  {
   "cell_type": "code",
   "execution_count": 24,
   "metadata": {},
   "outputs": [
    {
     "name": "stdout",
     "output_type": "stream",
     "text": [
      "['10386', '1482', '1484', '3037', '1485', '1483', '10402', '10721', '10390', '10391', '3662', '11033', '1486', '10910', '10447', '1487', '2726', '2725', '10825', '1488', '10385', '10940', '1489', '3038', '1490', '1491', '3039', '3078', '10950', '3756', '2728', '3193', '10919', '10401', '11031', '11030', '10453', '3757', '10450', '10279', '3758', '3195', '10431', '3205', '642', '1492', '1493', '1494', '4574', '1495', '1496', '3485', '2713', '1497', '3699', '10454', '10811', '10449', '10448', '1498', '1499', '1500', '11004', '10415', '10416', '1501', '1502', '10921', '11038', '1503', '3759', '10952', '1504', '3031', '3073', '3074', '10684', '1505', '3075', '10686', '11052', '1506', '4344', '4345', '4346', '1507', '3084', '10434', '1508', '5782', '10442', '10441', '1509', '10437', '11035', '5426', '10458', '10459', '10393', '1510', '3197', '10947', '10945', '10418', '1511', '2721', '10443', '10398', '10445', '10399', '10388', '1512', '3079', '1523', '1513', '3080', '3081', '3082', '3083', '2120', '1514', '10818', '10389', '3760', '4296', '2871', '10439', '10440', '10446', '1516', '1515', '2870', '2868', '4312', '1517', '11057', '2539', '3199', '3200', '3175', '3035', '1519', '10432', '1518', '3034', '10433', '1520', '4298', '10438', '1521', '1522', '3858', '3169', '10400', '1524', '10959', '2727', '10948', '10995', '10819', '10812', '3210', '10946', '3211', '10396', '2714', '11036', '10421', '3201', '1525', '10397', '10395', '1528', '4510', '4508', '10889', '10888', '1526', '1527', '1529', '1530', '1531', '1532', '4784', '3762', '1534', '3763', '2712', '1533', '5021', '10423', '10460', '10424', '3648', '3690', '10270', '1535', '1536', '1537', '10430', '10461', '10817', '582', '580', '3764', '1538', '11096', '10810', '10435', '10462', '3204', '1539', '10464', '10820', '3212', '10392', '3643', '10465', '3666', '10417', '3461', '5019', '3196', '4023', '10452', '5068', '1540', '5069', '5070', '1541', '5071', '10411', '2724', '1542', '10824', '2716', '10457', '3191', '10420', '10412', '3032', '1543', '1544', '1545', '1546', '5199', '5201', '5200', '3761', '1547', '1548', '1549', '1550', '1551', '1552', '10427', '10429', '10467', '10456', '1554', '1553', '10425', '10436', '3766', '10823', '10408', '10409', '1555', '10413', '3448', '3447', '10414', '1556', '11045', '10816', '4509', '633', '634', '3449', '10813', '3646', '3033', '10394', '3208', '10826', '1558', '1559', '3076', '3077', '10444', '4690', '1561', '1562', '10794', '10422', '10973', '10455', '3767', '3771', '3770', '3768', '3769', '1560', '3772', '10821', '10822', '1563', '3036', '1564', '3951', '3041', '1566', '1567', '1568', '5020', '1565', '2723', '10815', '10468', '11029', '1570', '2709', '2711', '2708', '1569', '10273', '3209', '1571', '10387', '3773']\n"
     ]
    }
   ],
   "source": [
    "print(list(df.URL.apply(lambda val: regex.match(val).group(1)).unique()))"
   ]
  },
  {
   "cell_type": "code",
   "execution_count": null,
   "metadata": {},
   "outputs": [],
   "source": []
  }
 ],
 "metadata": {
  "kernelspec": {
   "display_name": "Python 3",
   "language": "python",
   "name": "python3"
  },
  "language_info": {
   "codemirror_mode": {
    "name": "ipython",
    "version": 3
   },
   "file_extension": ".py",
   "mimetype": "text/x-python",
   "name": "python",
   "nbconvert_exporter": "python",
   "pygments_lexer": "ipython3",
   "version": "3.6.6"
  }
 },
 "nbformat": 4,
 "nbformat_minor": 2
}

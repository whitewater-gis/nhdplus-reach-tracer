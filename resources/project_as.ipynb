{
 "cells": [
  {
   "cell_type": "code",
   "execution_count": 10,
   "metadata": {},
   "outputs": [],
   "source": [
    "from arcgis.geometry import Geometry, SpatialReference, find_transformation, project\n",
    "from arcgis.gis import GIS\n",
    "\n",
    "import sys\n",
    "sys.path.append('..')\n",
    "\n",
    "from reach_tools import *\n",
    "import geometry_monkeypatch"
   ]
  },
  {
   "cell_type": "code",
   "execution_count": 11,
   "metadata": {},
   "outputs": [],
   "source": [
    "putin_wgs84 = Geometry(y=45.794848, x=-121.634402, spatialReference={'wkid': 4326})\n",
    "putin_nad83 = Geometry({'x': -121.63438762571307, 'y': 45.79484241172796, 'spatialReference': {'wkid': 4269}})\n",
    "wkid_nad83 = 4269\n",
    "sr_nad83 = SpatialReference(wkid=wkid_nad83)"
   ]
  },
  {
   "cell_type": "code",
   "execution_count": 12,
   "metadata": {},
   "outputs": [
    {
     "data": {
      "text/html": [
       "GIS @ <a href=\"https://www.arcgis.com\">https://www.arcgis.com</a>"
      ],
      "text/plain": [
       "<arcgis.gis.GIS at 0x7fc27ebaf320>"
      ]
     },
     "execution_count": 12,
     "metadata": {},
     "output_type": "execute_result"
    }
   ],
   "source": [
    "gis = GIS()\n",
    "gis"
   ]
  },
  {
   "cell_type": "code",
   "execution_count": 13,
   "metadata": {},
   "outputs": [
    {
     "data": {
      "text/plain": [
       "{'y': 45.794848, 'x': -121.634402, 'spatialReference': {'wkid': 4326}}"
      ]
     },
     "execution_count": 13,
     "metadata": {},
     "output_type": "execute_result"
    }
   ],
   "source": [
    "putin_wgs84"
   ]
  },
  {
   "cell_type": "code",
   "execution_count": 14,
   "metadata": {},
   "outputs": [
    {
     "data": {
      "text/plain": [
       "{'x': -121.63438762571307,\n",
       " 'y': 45.79484241172796,\n",
       " 'spatialReference': {'wkid': 4269}}"
      ]
     },
     "execution_count": 14,
     "metadata": {},
     "output_type": "execute_result"
    }
   ],
   "source": [
    "putin_wgs84.match_spatial_reference(putin_nad83)"
   ]
  },
  {
   "cell_type": "code",
   "execution_count": null,
   "metadata": {},
   "outputs": [],
   "source": []
  }
 ],
 "metadata": {
  "kernelspec": {
   "display_name": "Python 3",
   "language": "python",
   "name": "python3"
  },
  "language_info": {
   "codemirror_mode": {
    "name": "ipython",
    "version": 3
   },
   "file_extension": ".py",
   "mimetype": "text/x-python",
   "name": "python",
   "nbconvert_exporter": "python",
   "pygments_lexer": "ipython3",
   "version": "3.6.3"
  }
 },
 "nbformat": 4,
 "nbformat_minor": 2
}

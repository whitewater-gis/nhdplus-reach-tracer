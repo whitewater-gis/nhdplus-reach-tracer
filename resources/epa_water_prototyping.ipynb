{
 "cells": [
  {
   "cell_type": "code",
   "execution_count": 1,
   "metadata": {},
   "outputs": [
    {
     "name": "stderr",
     "output_type": "stream",
     "text": [
      "/opt/conda/lib/python3.6/importlib/_bootstrap.py:219: RuntimeWarning: numpy.dtype size changed, may indicate binary incompatibility. Expected 96, got 88\n",
      "  return f(*args, **kwds)\n",
      "/opt/conda/lib/python3.6/importlib/_bootstrap.py:219: RuntimeWarning: numpy.dtype size changed, may indicate binary incompatibility. Expected 96, got 88\n",
      "  return f(*args, **kwds)\n"
     ]
    }
   ],
   "source": [
    "import requests\n",
    "import itertools\n",
    "from arcgis.geometry import Geometry\n",
    "\n",
    "import pandas as pd\n",
    "from arcgis.features import SpatialDataFrame as SDF\n",
    "\n",
    "from arcgis.gis import GIS, Item"
   ]
  },
  {
   "cell_type": "code",
   "execution_count": 2,
   "metadata": {},
   "outputs": [],
   "source": [
    "validate_csv = r'./access_validate_test.csv'\n",
    "\n",
    "username = 'joel_mccune'\n",
    "access_item_id = '95c2eceb802c41d8b605b2d431c7547e'\n",
    "\n",
    "putin_symbol = {\"angle\":0,\"xoffset\":12,\"yoffset\":12,\"type\":\"esriPMS\",\"url\":\"http://static.arcgis.com/images/Symbols/Basic/GreenFlag.png\",\"contentType\":\"image/png\",\"width\":24,\"height\":24}\n",
    "takeout_symbol = {\"angle\":0,\"xoffset\":12,\"yoffset\":12,\"type\":\"esriPMS\",\"url\":\"http://static.arcgis.com/images/Symbols/Basic/RedFlag.png\",\"contentType\":\"image/png\",\"width\":24,\"height\":24}\n",
    "line_symbol = {\"type\":\"esriSLS\",\"style\":\"esriSLSSolid\",\"color\":[0,0,255,255],\"width\":3}\n",
    "\n",
    "ldub_reach_id = 2156"
   ]
  },
  {
   "cell_type": "code",
   "execution_count": 4,
   "metadata": {},
   "outputs": [],
   "source": [
    "class TraceException(Exception):\n",
    "    pass\n",
    "\n",
    "def get_epa_point_indexing(x, y, search_distance=5, return_geometry=False):\n",
    "    \n",
    "    url = \"https://ofmpub.epa.gov/waters10/PointIndexing.Service\"\n",
    "    \n",
    "    queryString = {\n",
    "        \"pGeometry\": \"POINT({} {})\".format(x, y),\n",
    "        \"pGeometryMod\": \"WKT,SRSNAME=urn:ogc:def:crs:OGC::CRS84\",\n",
    "        \"pPointIndexingMethod\": \"DISTANCE\",\n",
    "        \"pPointIndexingMaxDist\": search_distance,\n",
    "        \"pOutputPathFlag\": True,\n",
    "        \"pReturnFlowlineGeomFlag\": return_geometry,\n",
    "        \"optOutCS\": \"SRSNAME=urn:ogc:def:crs:OGC::CRS84\",\n",
    "        \"optOutPrettyPrint\": 0,\n",
    "        \"f\": \"json\"\n",
    "    }\n",
    "\n",
    "    r = requests.get( \n",
    "        url=url, \n",
    "        params=queryString\n",
    "    )\n",
    "    \n",
    "    return r.json()\n",
    "\n",
    "def get_epa_snap_point(x, y):\n",
    "    \n",
    "    rjson = get_epa_point_indexing(x, y)\n",
    "    \n",
    "    coords = rjson['output']['end_point']['coordinates']\n",
    "    \n",
    "    return {\n",
    "        \"geometry\": Geometry(x=coords[0], y=coords[1], spatialReference={\"wkid\": 4326}),\n",
    "        \"measure\": rjson[\"output\"][\"ary_flowlines\"][0][\"fmeasure\"],\n",
    "        \"id\": rjson[\"output\"][\"ary_flowlines\"][0][\"comid\"]\n",
    "    }\n",
    "\n",
    "def get_epa_trace_response(putin_point, takeout_point):\n",
    "\n",
    "    url = \"https://ofmpub.epa.gov/waters10/UpstreamDownStream.Service\"\n",
    "\n",
    "    queryString = {\n",
    "        \"pNavigationType\": \"PP\",\n",
    "        \"pStartComID\": putin_point[\"id\"],\n",
    "        \"pStartMeasure\": putin_point[\"measure\"],\n",
    "        \"pStopComid\": takeout_point[\"id\"],\n",
    "        \"pStopMeasure\": takeout_point[\"measure\"],\n",
    "        \"pFlowlinelist\": True,\n",
    "        \"pTraversalSummary\": True,\n",
    "        \"f\": \"json\"\n",
    "    }\n",
    "\n",
    "    attempts = 0\n",
    "    status_code = 0\n",
    "\n",
    "    while attempts < 10 and status_code != 200:\n",
    "        resp = requests.get(url, queryString)\n",
    "        attempts = attempts + 1\n",
    "        status_code = r.status_code\n",
    "        if status_code != 200:\n",
    "            print('Attempt {:02d} failed with status code {}'.format(attempts, status_code))\n",
    "\n",
    "    return resp\n",
    "\n",
    "def epa_trace_resp_to_esri_geom(trace_response):\n",
    "    if trace_response.json()['output']['flowlines_traversed']:\n",
    "        geom_lists = [feature['shape']['coordinates'] for feature in trace_response.json()['output']['flowlines_traversed']]\n",
    "        geom_list = list(itertools.chain.from_iterable(geom_lists))\n",
    "        geom = Geometry({\n",
    "          \"paths\" : [geom_list],\n",
    "          \"spatialReference\" : {\"wkid\" : 4326}\n",
    "        })\n",
    "        return geom\n",
    "    else:\n",
    "        return None\n",
    "    \n",
    "def _get_access_from_sdf(sdf, reach_id, access_type):\n",
    "    \n",
    "    # just in case the reach_id is provided as an integer\n",
    "    reach_id = str(reach_id)\n",
    "    \n",
    "    # a little error catching\n",
    "    if access_type != 'putin' and access_type != 'takeout':\n",
    "        raise TraceException('access_type must be either putin or takeout')\n",
    "    if type(reach_id) != str:\n",
    "        raise TraceException('reach_id must be a string representation of an integer')\n",
    "    \n",
    "    # get the putin for the reach_id as a SpatialDataFrame\n",
    "    access_sdf = sdf[(sdf.reach_id == reach_id) & (sdf.type == access_type)]\n",
    "    \n",
    "    # if only one record exists, return it - otherwise start breaking stuff\n",
    "    if len(access_sdf) == 1:\n",
    "        return access_sdf.iloc[0]\n",
    "    \n",
    "    # if there is more than one putin or takeout, blow up\n",
    "    elif len(access_sdf) > 1:\n",
    "        raise TraceException('more than one {} exists'.format(access_type, reach_id))\n",
    "        \n",
    "    # if no putin or takeout exists, that's bad too\n",
    "    else:\n",
    "        raise TraceException('does not have a {}'.format(reach_id, access_type))\n",
    "    \n",
    "def get_putin_from_sdf(sdf, reach_id):\n",
    "    return _get_access_from_sdf(sdf, reach_id, 'putin')\n",
    "\n",
    "def get_takeout_from_sdf(sdf, reach_id):\n",
    "    return _get_access_from_sdf(sdf, reach_id, 'takeout')\n",
    "\n",
    "def get_geometries_from_sdf_by_reach_id(sdf, reach_id):\n",
    "    \n",
    "    geom_dict = {\n",
    "        \"putin_point\": None,\n",
    "        \"takeout_point\": None,\n",
    "        \"reach_line\": None\n",
    "    }\n",
    "    putin = get_putin_from_sdf(sdf, reach_id)\n",
    "    takeout = get_takeout_from_sdf(sdf, reach_id)\n",
    "    \n",
    "    if not epa_putin:\n",
    "        raise TraceException('putin cannot be snapped to a hydroline')\n",
    "    if not epa_takeout:\n",
    "        raise TraceException('takeout cannot be snapped to a hydroline')\n",
    "\n",
    "    epa_putin = get_epa_snap_point(putin.SHAPE.x, putin.SHAPE.y)\n",
    "    epa_takeout = get_epa_snap_point(takeout.SHAPE.x, takeout.SHAPE.y)\n",
    "    \n",
    "    geom_dict['putin_point'] = epa_putin['geometry']\n",
    "    geom_dict['takeout_point'] = epa_takeout['geometry']\n",
    "    \n",
    "    epa_trace = get_epa_trace_response(epa_putin, epa_takeout)\n",
    "    geom_dict['reach_line'] = epa_trace_resp_to_esri_geom(epa_trace)\n",
    "    \n",
    "    return geom_dict\n",
    "\n",
    "def zoom_map_to_geometry(webmap, geom):\n",
    "    webmap.extent = {\n",
    "        'type': 'extent',\n",
    "         'xmin': geom.extent[0],\n",
    "         'ymin': geom.extent[1],\n",
    "         'xmax': geom.extent[2],\n",
    "         'ymax': geom.extent[3],\n",
    "         'spatialReference': geom.spatial_reference\n",
    "    }"
   ]
  },
  {
   "cell_type": "code",
   "execution_count": 4,
   "metadata": {},
   "outputs": [
    {
     "name": "stdout",
     "output_type": "stream",
     "text": [
      "Enter password: ········\n"
     ]
    },
    {
     "data": {
      "text/html": [
       "GIS @ <a href=\"https://jdm1cc.maps.arcgis.com\">https://jdm1cc.maps.arcgis.com</a>"
      ],
      "text/plain": [
       "<arcgis.gis.GIS at 0x7f4e2f7b74e0>"
      ]
     },
     "execution_count": 4,
     "metadata": {},
     "output_type": "execute_result"
    }
   ],
   "source": [
    "gis = GIS(username=username)\n",
    "gis"
   ]
  },
  {
   "cell_type": "code",
   "execution_count": 5,
   "metadata": {},
   "outputs": [
    {
     "ename": "NameError",
     "evalue": "name 'r' is not defined",
     "output_type": "error",
     "traceback": [
      "\u001b[0;31m---------------------------------------------------------------------------\u001b[0m",
      "\u001b[0;31mNameError\u001b[0m                                 Traceback (most recent call last)",
      "\u001b[0;32m<ipython-input-5-e958987bdc59>\u001b[0m in \u001b[0;36m<module>\u001b[0;34m()\u001b[0m\n\u001b[1;32m     20\u001b[0m \u001b[0mgeom_dict\u001b[0m\u001b[0;34m[\u001b[0m\u001b[0;34m'takeout_point'\u001b[0m\u001b[0;34m]\u001b[0m \u001b[0;34m=\u001b[0m \u001b[0mepa_takeout\u001b[0m\u001b[0;34m[\u001b[0m\u001b[0;34m'geometry'\u001b[0m\u001b[0;34m]\u001b[0m\u001b[0;34m\u001b[0m\u001b[0m\n\u001b[1;32m     21\u001b[0m \u001b[0;34m\u001b[0m\u001b[0m\n\u001b[0;32m---> 22\u001b[0;31m \u001b[0mepa_trace\u001b[0m \u001b[0;34m=\u001b[0m \u001b[0mget_epa_trace_response\u001b[0m\u001b[0;34m(\u001b[0m\u001b[0mepa_putin\u001b[0m\u001b[0;34m,\u001b[0m \u001b[0mepa_takeout\u001b[0m\u001b[0;34m)\u001b[0m\u001b[0;34m\u001b[0m\u001b[0m\n\u001b[0m\u001b[1;32m     23\u001b[0m \u001b[0mgeom_dict\u001b[0m\u001b[0;34m[\u001b[0m\u001b[0;34m'reach_line'\u001b[0m\u001b[0;34m]\u001b[0m \u001b[0;34m=\u001b[0m \u001b[0mepa_trace_resp_to_esri_geom\u001b[0m\u001b[0;34m(\u001b[0m\u001b[0mepa_trace\u001b[0m\u001b[0;34m)\u001b[0m\u001b[0;34m\u001b[0m\u001b[0m\n\u001b[1;32m     24\u001b[0m \u001b[0;34m\u001b[0m\u001b[0m\n",
      "\u001b[0;32m<ipython-input-4-c425f4c5be8e>\u001b[0m in \u001b[0;36mget_epa_trace_response\u001b[0;34m(putin_point, takeout_point)\u001b[0m\n\u001b[1;32m     58\u001b[0m         \u001b[0mresp\u001b[0m \u001b[0;34m=\u001b[0m \u001b[0mrequests\u001b[0m\u001b[0;34m.\u001b[0m\u001b[0mget\u001b[0m\u001b[0;34m(\u001b[0m\u001b[0murl\u001b[0m\u001b[0;34m,\u001b[0m \u001b[0mqueryString\u001b[0m\u001b[0;34m)\u001b[0m\u001b[0;34m\u001b[0m\u001b[0m\n\u001b[1;32m     59\u001b[0m         \u001b[0mattempts\u001b[0m \u001b[0;34m=\u001b[0m \u001b[0mattempts\u001b[0m \u001b[0;34m+\u001b[0m \u001b[0;36m1\u001b[0m\u001b[0;34m\u001b[0m\u001b[0m\n\u001b[0;32m---> 60\u001b[0;31m         \u001b[0mstatus_code\u001b[0m \u001b[0;34m=\u001b[0m \u001b[0mr\u001b[0m\u001b[0;34m.\u001b[0m\u001b[0mstatus_code\u001b[0m\u001b[0;34m\u001b[0m\u001b[0m\n\u001b[0m\u001b[1;32m     61\u001b[0m         \u001b[0;32mif\u001b[0m \u001b[0mstatus_code\u001b[0m \u001b[0;34m!=\u001b[0m \u001b[0;36m200\u001b[0m\u001b[0;34m:\u001b[0m\u001b[0;34m\u001b[0m\u001b[0m\n\u001b[1;32m     62\u001b[0m             \u001b[0mprint\u001b[0m\u001b[0;34m(\u001b[0m\u001b[0;34m'Attempt {:02d} failed with status code {}'\u001b[0m\u001b[0;34m.\u001b[0m\u001b[0mformat\u001b[0m\u001b[0;34m(\u001b[0m\u001b[0mattempts\u001b[0m\u001b[0;34m,\u001b[0m \u001b[0mstatus_code\u001b[0m\u001b[0;34m)\u001b[0m\u001b[0;34m)\u001b[0m\u001b[0;34m\u001b[0m\u001b[0m\n",
      "\u001b[0;31mNameError\u001b[0m: name 'r' is not defined"
     ]
    }
   ],
   "source": [
    "putin_geom = Geometry(y=45.794848, x=-121.634402, spatialReference={'wkid': 4326})\n",
    "takeout_geom = Geometry(y=45.718817, x=-121.645582, spatialReference={'wkid': 4326})\n",
    "\n",
    "geom_dict = {\n",
    "    \"error\": None,\n",
    "    \"putin_point\": None,\n",
    "    \"takeout_point\": None,\n",
    "    \"reach_line\": None\n",
    "}\n",
    "\n",
    "epa_putin = get_epa_snap_point(putin_geom.x, putin_geom.y)\n",
    "epa_takeout = get_epa_snap_point(takeout_geom.x, takeout_geom.y)\n",
    "\n",
    "if not epa_putin:\n",
    "    raise TraceException('putin cannot be snapped to a hydroline')\n",
    "if not epa_takeout:\n",
    "    raise TraceException('takeout cannot be snapped to a hydroline')\n",
    "\n",
    "geom_dict['putin_point'] = epa_putin['geometry']\n",
    "geom_dict['takeout_point'] = epa_takeout['geometry']\n",
    "\n",
    "epa_trace = get_epa_trace_response(epa_putin, epa_takeout)\n",
    "geom_dict['reach_line'] = epa_trace_resp_to_esri_geom(epa_trace)\n",
    "\n",
    "geom_dict"
   ]
  },
  {
   "cell_type": "code",
   "execution_count": 88,
   "metadata": {
    "scrolled": false
   },
   "outputs": [
    {
     "data": {
      "application/vnd.jupyter.widget-view+json": {
       "model_id": "7d1555609937467fab38a7fa84d81f11",
       "version_major": 2,
       "version_minor": 0
      },
      "text/plain": [
       "MapView(basemaps=['dark-gray', 'dark-gray-vector', 'gray', 'gray-vector', 'hybrid', 'national-geographic', 'oc…"
      ]
     },
     "metadata": {},
     "output_type": "display_data"
    }
   ],
   "source": [
    "webmap = gis.map()\n",
    "webmap.basemap = 'national-geographic'\n",
    "webmap"
   ]
  },
  {
   "cell_type": "code",
   "execution_count": 89,
   "metadata": {},
   "outputs": [],
   "source": [
    "geometries = geom_dict\n",
    "zoom_map_to_geometry(webmap, geometries['reach_line'])\n",
    "webmap.clear_graphics()\n",
    "webmap.draw(geometries['reach_line'], symbol=line_symbol)\n",
    "webmap.draw(geometries['putin_point'], symbol=putin_symbol)\n",
    "webmap.draw(geometries['takeout_point'], symbol=takeout_symbol)"
   ]
  },
  {
   "cell_type": "code",
   "execution_count": null,
   "metadata": {},
   "outputs": [],
   "source": []
  }
 ],
 "metadata": {
  "kernelspec": {
   "display_name": "Python 3",
   "language": "python",
   "name": "python3"
  },
  "language_info": {
   "codemirror_mode": {
    "name": "ipython",
    "version": 3
   },
   "file_extension": ".py",
   "mimetype": "text/x-python",
   "name": "python",
   "nbconvert_exporter": "python",
   "pygments_lexer": "ipython3",
   "version": "3.6.3"
  }
 },
 "nbformat": 4,
 "nbformat_minor": 2
}

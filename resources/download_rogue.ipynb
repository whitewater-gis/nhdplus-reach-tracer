{
 "cells": [
  {
   "cell_type": "code",
   "execution_count": 1,
   "metadata": {},
   "outputs": [],
   "source": [
    "import pandas as pd\n",
    "from arcgis.features import GeoAccessor, GeoSeriesAccessor\n",
    "\n",
    "import sys\n",
    "sys.path.append('..')\n",
    "\n",
    "import geometry_monkeypatch\n",
    "from reach_tools import *"
   ]
  },
  {
   "cell_type": "code",
   "execution_count": 2,
   "metadata": {
    "collapsed": true
   },
   "outputs": [],
   "source": [
    "rogue = Reach.get_from_aw(1541)"
   ]
  },
  {
   "cell_type": "code",
   "execution_count": 24,
   "metadata": {},
   "outputs": [
    {
     "data": {
      "text/html": [
       "<div>\n",
       "<style scoped>\n",
       "    .dataframe tbody tr th:only-of-type {\n",
       "        vertical-align: middle;\n",
       "    }\n",
       "\n",
       "    .dataframe tbody tr th {\n",
       "        vertical-align: top;\n",
       "    }\n",
       "\n",
       "    .dataframe thead th {\n",
       "        text-align: right;\n",
       "    }\n",
       "</style>\n",
       "<table border=\"1\" class=\"dataframe\">\n",
       "  <thead>\n",
       "    <tr style=\"text-align: right;\">\n",
       "      <th></th>\n",
       "      <th>approximate</th>\n",
       "      <th>deleted</th>\n",
       "      <th>description</th>\n",
       "      <th>difficulty</th>\n",
       "      <th>distance</th>\n",
       "      <th>isaccess</th>\n",
       "      <th>ishazard</th>\n",
       "      <th>isplayspot</th>\n",
       "      <th>isportage</th>\n",
       "      <th>isputin</th>\n",
       "      <th>istakeout</th>\n",
       "      <th>iswaterfall</th>\n",
       "      <th>name</th>\n",
       "      <th>photoid</th>\n",
       "      <th>rapidid</th>\n",
       "      <th>reachid</th>\n",
       "      <th>rlat</th>\n",
       "      <th>rloc</th>\n",
       "      <th>rlon</th>\n",
       "      <th>videoid</th>\n",
       "    </tr>\n",
       "  </thead>\n",
       "  <tbody>\n",
       "    <tr>\n",
       "      <th>0</th>\n",
       "      <td>False</td>\n",
       "      <td>False</td>\n",
       "      <td>&lt;p&gt;\\n\\tJust downstream of the Grave Creek boat...</td>\n",
       "      <td>III</td>\n",
       "      <td>0.2</td>\n",
       "      <td>NaN</td>\n",
       "      <td>NaN</td>\n",
       "      <td>NaN</td>\n",
       "      <td>NaN</td>\n",
       "      <td>NaN</td>\n",
       "      <td>NaN</td>\n",
       "      <td>NaN</td>\n",
       "      <td>Grave Creek Riffle</td>\n",
       "      <td>887925</td>\n",
       "      <td>106035</td>\n",
       "      <td>1541</td>\n",
       "      <td>42.6500015258789</td>\n",
       "      <td>0101000020E610000021B0726891E55EC0333333333353...</td>\n",
       "      <td>-123.58699798584</td>\n",
       "      <td>0</td>\n",
       "    </tr>\n",
       "    <tr>\n",
       "      <th>1</th>\n",
       "      <td>False</td>\n",
       "      <td>False</td>\n",
       "      <td>&lt;p&gt;\\n\\tA vertical drop formed by a ledge. Foll...</td>\n",
       "      <td>III</td>\n",
       "      <td>0.4</td>\n",
       "      <td>NaN</td>\n",
       "      <td>NaN</td>\n",
       "      <td>NaN</td>\n",
       "      <td>NaN</td>\n",
       "      <td>NaN</td>\n",
       "      <td>NaN</td>\n",
       "      <td>NaN</td>\n",
       "      <td>Grave Creek Falls</td>\n",
       "      <td>889736</td>\n",
       "      <td>106036</td>\n",
       "      <td>1541</td>\n",
       "      <td>42.650002</td>\n",
       "      <td>0101000020E61000005531957EC2E55EC0D42AFA433353...</td>\n",
       "      <td>-123.589996</td>\n",
       "      <td>0</td>\n",
       "    </tr>\n",
       "    <tr>\n",
       "      <th>2</th>\n",
       "      <td>False</td>\n",
       "      <td>False</td>\n",
       "      <td>&lt;p&gt;\\n\\tA wide bedrock ledge blocks the river c...</td>\n",
       "      <td>IV+</td>\n",
       "      <td>1.8</td>\n",
       "      <td>NaN</td>\n",
       "      <td>NaN</td>\n",
       "      <td>NaN</td>\n",
       "      <td>NaN</td>\n",
       "      <td>NaN</td>\n",
       "      <td>NaN</td>\n",
       "      <td>NaN</td>\n",
       "      <td>Rainie Falls</td>\n",
       "      <td>16551</td>\n",
       "      <td>100131</td>\n",
       "      <td>1541</td>\n",
       "      <td>42.6500015258789</td>\n",
       "      <td>0101000020E61000008FC2F5285CE75EC0333333333353...</td>\n",
       "      <td>-123.61499786377</td>\n",
       "      <td>0</td>\n",
       "    </tr>\n",
       "    <tr>\n",
       "      <th>3</th>\n",
       "      <td>False</td>\n",
       "      <td>False</td>\n",
       "      <td>&lt;p&gt;\\n\\tNamed for Chinese miners who worked in ...</td>\n",
       "      <td>II</td>\n",
       "      <td>2.2</td>\n",
       "      <td>NaN</td>\n",
       "      <td>NaN</td>\n",
       "      <td>NaN</td>\n",
       "      <td>NaN</td>\n",
       "      <td>NaN</td>\n",
       "      <td>NaN</td>\n",
       "      <td>NaN</td>\n",
       "      <td>China Gulch Rapids</td>\n",
       "      <td>0</td>\n",
       "      <td>106037</td>\n",
       "      <td>1541</td>\n",
       "      <td>42.6529998779297</td>\n",
       "      <td>0101000020E61000002B8716D9CEE75EC0DD2406819553...</td>\n",
       "      <td>-123.622001647949</td>\n",
       "      <td>0</td>\n",
       "    </tr>\n",
       "    <tr>\n",
       "      <th>4</th>\n",
       "      <td>False</td>\n",
       "      <td>False</td>\n",
       "      <td>&lt;p&gt;\\n\\tA long and wide gravel bar on the left ...</td>\n",
       "      <td>III+</td>\n",
       "      <td>4.3</td>\n",
       "      <td>NaN</td>\n",
       "      <td>NaN</td>\n",
       "      <td>NaN</td>\n",
       "      <td>NaN</td>\n",
       "      <td>NaN</td>\n",
       "      <td>NaN</td>\n",
       "      <td>NaN</td>\n",
       "      <td>Tyee Rapid</td>\n",
       "      <td>883978</td>\n",
       "      <td>100132</td>\n",
       "      <td>1541</td>\n",
       "      <td>42.6570014953613</td>\n",
       "      <td>0101000020E61000000AD7A3703DEA5EC06ABC74931854...</td>\n",
       "      <td>-123.660003662109</td>\n",
       "      <td>0</td>\n",
       "    </tr>\n",
       "  </tbody>\n",
       "</table>\n",
       "</div>"
      ],
      "text/plain": [
       "   approximate  deleted                                        description  \\\n",
       "0        False    False  <p>\\n\\tJust downstream of the Grave Creek boat...   \n",
       "1        False    False  <p>\\n\\tA vertical drop formed by a ledge. Foll...   \n",
       "2        False    False  <p>\\n\\tA wide bedrock ledge blocks the river c...   \n",
       "3        False    False  <p>\\n\\tNamed for Chinese miners who worked in ...   \n",
       "4        False    False  <p>\\n\\tA long and wide gravel bar on the left ...   \n",
       "\n",
       "  difficulty distance  isaccess  ishazard  isplayspot  isportage  isputin  \\\n",
       "0        III      0.2       NaN       NaN         NaN        NaN      NaN   \n",
       "1        III      0.4       NaN       NaN         NaN        NaN      NaN   \n",
       "2        IV+      1.8       NaN       NaN         NaN        NaN      NaN   \n",
       "3         II      2.2       NaN       NaN         NaN        NaN      NaN   \n",
       "4       III+      4.3       NaN       NaN         NaN        NaN      NaN   \n",
       "\n",
       "   istakeout  iswaterfall                name  photoid  rapidid  reachid  \\\n",
       "0        NaN          NaN  Grave Creek Riffle   887925   106035     1541   \n",
       "1        NaN          NaN   Grave Creek Falls   889736   106036     1541   \n",
       "2        NaN          NaN        Rainie Falls    16551   100131     1541   \n",
       "3        NaN          NaN  China Gulch Rapids        0   106037     1541   \n",
       "4        NaN          NaN          Tyee Rapid   883978   100132     1541   \n",
       "\n",
       "               rlat                                               rloc  \\\n",
       "0  42.6500015258789  0101000020E610000021B0726891E55EC0333333333353...   \n",
       "1         42.650002  0101000020E61000005531957EC2E55EC0D42AFA433353...   \n",
       "2  42.6500015258789  0101000020E61000008FC2F5285CE75EC0333333333353...   \n",
       "3  42.6529998779297  0101000020E61000002B8716D9CEE75EC0DD2406819553...   \n",
       "4  42.6570014953613  0101000020E61000000AD7A3703DEA5EC06ABC74931854...   \n",
       "\n",
       "                rlon  videoid  \n",
       "0   -123.58699798584        0  \n",
       "1        -123.589996        0  \n",
       "2   -123.61499786377        0  \n",
       "3  -123.622001647949        0  \n",
       "4  -123.660003662109        0  "
      ]
     },
     "execution_count": 24,
     "metadata": {},
     "output_type": "execute_result"
    }
   ],
   "source": [
    "json = rogue._download_raw_json_from_aw()\n",
    "rapid_df = pd.DataFrame(json['CContainerViewJSON_view']['CRiverRapidsGadgetJSON_view-rapids']['rapids'])\n",
    "rapid_df.head()"
   ]
  },
  {
   "cell_type": "code",
   "execution_count": 25,
   "metadata": {},
   "outputs": [
    {
     "data": {
      "text/plain": [
       "Index(['approximate', 'deleted', 'description', 'difficulty', 'distance',\n",
       "       'isaccess', 'ishazard', 'isplayspot', 'isportage', 'isputin',\n",
       "       'istakeout', 'iswaterfall', 'name', 'photoid', 'rapidid', 'reachid',\n",
       "       'rlat', 'rloc', 'rlon', 'videoid'],\n",
       "      dtype='object')"
      ]
     },
     "execution_count": 25,
     "metadata": {},
     "output_type": "execute_result"
    }
   ],
   "source": [
    "rapid_df.columns"
   ]
  },
  {
   "cell_type": "code",
   "execution_count": 28,
   "metadata": {},
   "outputs": [],
   "source": [
    "rapid_df = rapid_df[['name', 'difficulty', 'distance', 'rlat', 'rlon']].copy()"
   ]
  },
  {
   "cell_type": "code",
   "execution_count": 62,
   "metadata": {},
   "outputs": [
    {
     "data": {
      "text/plain": [
       "{'spatialReference': {'wkid': 4326},\n",
       " 'x': -123.587026702054,\n",
       " 'y': 42.6502221162582}"
      ]
     },
     "execution_count": 62,
     "metadata": {},
     "output_type": "execute_result"
    }
   ],
   "source": [
    "waters = WATERS()\n",
    "\n",
    "def get_waters_geometry(x, y):\n",
    "    item = waters.get_epa_snap_point(x, y)\n",
    "    return item['geometry']\n",
    "\n",
    "r = rapid_df.iloc[0]\n",
    "get_waters_geometry(r.rlon, r.rlat)"
   ]
  },
  {
   "cell_type": "code",
   "execution_count": 70,
   "metadata": {},
   "outputs": [],
   "source": [
    "rapid_df.rlat = rapid_df.rlat.astype('float64')\n",
    "rapid_df.rlon = rapid_df.rlon.astype('float64')"
   ]
  },
  {
   "cell_type": "code",
   "execution_count": 73,
   "metadata": {},
   "outputs": [],
   "source": [
    "rapid_df = rapid_df[rapid_df['rlat'] != 0].copy()"
   ]
  },
  {
   "cell_type": "code",
   "execution_count": 74,
   "metadata": {},
   "outputs": [
    {
     "data": {
      "text/plain": [
       "0     {'x': -123.587026702054, 'y': 42.6502221162582...\n",
       "1     {'x': -123.590003764581, 'y': 42.6502966233287...\n",
       "2     {'x': -123.615115370523, 'y': 42.6495826749051...\n",
       "3     {'x': -123.62159363936, 'y': 42.6532986485857,...\n",
       "4     {'x': -123.66013656485, 'y': 42.6571397256334,...\n",
       "5     {'x': -123.666145088017, 'y': 42.6556455686817...\n",
       "6     {'x': -123.675817427613, 'y': 42.6548059909584...\n",
       "7     {'x': -123.678957476996, 'y': 42.6509672661847...\n",
       "8     {'x': -123.685373847964, 'y': 42.647276458614,...\n",
       "9     {'x': -123.703058529269, 'y': 42.6458846147827...\n",
       "10    {'x': -123.706795119526, 'y': 42.6464120020166...\n",
       "11    {'x': -123.71478469595, 'y': 42.6513666169945,...\n",
       "12    {'x': -123.720996018647, 'y': 42.6529364552313...\n",
       "13    {'x': -123.728943480337, 'y': 42.6522713638309...\n",
       "14    {'x': -123.73063071901, 'y': 42.6530775294398,...\n",
       "15    {'x': -123.733884593504, 'y': 42.6629918820222...\n",
       "16    {'x': -123.735613949727, 'y': 42.6806939491507...\n",
       "17    {'x': -123.744042870678, 'y': 42.6859309969404...\n",
       "18    {'x': -123.758062866676, 'y': 42.6906562176177...\n",
       "19    {'x': -123.769634227724, 'y': 42.6962798431091...\n",
       "20    {'x': -123.791682648299, 'y': 42.7076404729053...\n",
       "21    {'x': -123.806941179442, 'y': 42.7001535837204...\n",
       "22    {'x': -123.845939085184, 'y': 42.7110511155863...\n",
       "23    {'x': -123.84896319334, 'y': 42.7130398317868,...\n",
       "24    {'x': -123.851995707286, 'y': 42.7147625490389...\n",
       "25    {'x': -123.856192670068, 'y': 42.7169185282485...\n",
       "26    {'x': -123.864865014686, 'y': 42.7178850884138...\n",
       "27    {'x': -123.877000951932, 'y': 42.7160022529149...\n",
       "28    {'x': -123.895775099097, 'y': 42.7029046407885...\n",
       "29    {'x': -123.898719224055, 'y': 42.6988736430042...\n",
       "30    {'x': -123.916013056619, 'y': 42.7040593079495...\n",
       "31    {'x': -123.920939086526, 'y': 42.7024485500367...\n",
       "32    {'x': -123.951248329591, 'y': 42.6770893985968...\n",
       "33    {'x': -123.954398704884, 'y': 42.6731705152986...\n",
       "34    {'x': -123.975991480705, 'y': 42.6699803847672...\n",
       "35    {'x': -123.982144472799, 'y': 42.6681935726831...\n",
       "36    {'x': -124.012165733464, 'y': 42.6521620582737...\n",
       "37    {'x': -124.023676476699, 'y': 42.6451626195416...\n",
       "38    {'x': -124.035172932188, 'y': 42.6429638077812...\n",
       "dtype: object"
      ]
     },
     "execution_count": 74,
     "metadata": {},
     "output_type": "execute_result"
    }
   ],
   "source": [
    "rapid_waters = rapid_df.apply(lambda r: get_waters_geometry(r.rlon, r.rlat), axis=1)\n",
    "rapid_waters"
   ]
  },
  {
   "cell_type": "code",
   "execution_count": 75,
   "metadata": {},
   "outputs": [],
   "source": [
    "rapid_df['SHAPE'] = rapid_waters"
   ]
  },
  {
   "cell_type": "code",
   "execution_count": 81,
   "metadata": {},
   "outputs": [],
   "source": [
    "rapid_df.spatial.set_geometry('SHAPE')"
   ]
  },
  {
   "cell_type": "code",
   "execution_count": 87,
   "metadata": {},
   "outputs": [
    {
     "data": {
      "text/plain": [
       "'./rapids.shp'"
      ]
     },
     "execution_count": 87,
     "metadata": {},
     "output_type": "execute_result"
    }
   ],
   "source": [
    "rapid_df.spatial.to_featureclass('./rapids.shp')"
   ]
  },
  {
   "cell_type": "code",
   "execution_count": 91,
   "metadata": {},
   "outputs": [
    {
     "name": "stdout",
     "output_type": "stream",
     "text": [
      "{'x': -124.049003601074, 'y': 42.6329002380371, 'spatialReference': {'wkid': 4326}}\n"
     ]
    }
   ],
   "source": [
    "print(rogue.takeout._geometry)"
   ]
  },
  {
   "cell_type": "code",
   "execution_count": null,
   "metadata": {},
   "outputs": [],
   "source": []
  }
 ],
 "metadata": {
  "kernelspec": {
   "display_name": "Python 3",
   "language": "python",
   "name": "python3"
  },
  "language_info": {
   "codemirror_mode": {
    "name": "ipython",
    "version": 3
   },
   "file_extension": ".py",
   "mimetype": "text/x-python",
   "name": "python",
   "nbconvert_exporter": "python",
   "pygments_lexer": "ipython3",
   "version": "3.6.3"
  }
 },
 "nbformat": 4,
 "nbformat_minor": 2
}
